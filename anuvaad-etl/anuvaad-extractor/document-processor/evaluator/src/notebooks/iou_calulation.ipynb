{
 "cells": [
  {
   "cell_type": "code",
   "execution_count": 1,
   "metadata": {},
   "outputs": [],
   "source": [
    "import os\n",
    "import sys\n",
    "import numpy as np\n",
    "import time"
   ]
  },
  {
   "cell_type": "code",
   "execution_count": 2,
   "metadata": {},
   "outputs": [],
   "source": [
    "nb_dir = '/home/dhiraj/Documents/anuvaad/anuvaad-etl/anuvaad-extractor/document-processor/word-detector/craft/src'\n",
    "sys.path.append(nb_dir)\n",
    "sys.path.append(os.path.split(nb_dir)[0])\n",
    "\n",
    "import config\n",
    "import src.utilities.app_context as app_context\n",
    "app_context.init()\n",
    "\n",
    "#path to craft model, weight can be pulled form the production bracnh of repo\n",
    "config.CRAFT_MODEL_PATH= nb_dir + '/utilities/craft_pytorch/model/craft_mlt_25k.pth'\n",
    "config.CRAFT_REFINE_MODEL_PATH = nb_dir + '/utilities/craft_pytorch/model/craft_refiner_CTW1500.pth'"
   ]
  },
  {
   "cell_type": "code",
   "execution_count": 3,
   "metadata": {},
   "outputs": [
    {
     "name": "stdout",
     "output_type": "stream",
     "text": [
      "Loading weights of refiner from checkpoint (./model/craft_refiner_CTW1500.pth)\n"
     ]
    }
   ],
   "source": [
    "from src.services.main import TextDetection"
   ]
  },
  {
   "cell_type": "code",
   "execution_count": 4,
   "metadata": {},
   "outputs": [],
   "source": [
    "base_dir = '/home/dhiraj/Documents/Anuwad/anuvaad/anuvaad-etl/anuvaad-extractor/block-merger/src/notebooks/sample-data/input'\n",
    "\n",
    "#filename    = 'hamlet_1.pdf'\n",
    "#filename     = '35977.pdf'\n",
    "filename      = 'yolo_1.pdf'\n",
    "file_format = 'PDF'\n",
    "language    =  'en'"
   ]
  },
  {
   "cell_type": "code",
   "execution_count": 5,
   "metadata": {},
   "outputs": [],
   "source": [
    "app_context.application_context = {\n",
    "  \"inputs\": [\n",
    "    {\n",
    "      \"file\": {\n",
    "        \"identifier\": \"string\",\n",
    "        \"name\": filename,\n",
    "        \"format\": file_format\n",
    "      },\n",
    "      \"config\": {\n",
    "        \"OCR\": {\n",
    "          \"option\": \"HIGH_ACCURACY\",\n",
    "          \"language\": language\n",
    "        }\n",
    "      }\n",
    "    }\n",
    "  ]\n",
    "}"
   ]
  },
  {
   "cell_type": "code",
   "execution_count": 6,
   "metadata": {},
   "outputs": [
    {
     "name": "stdout",
     "output_type": "stream",
     "text": [
      "[2020-11-24 17:33:21,690] {loghandler.py:49} MainThread DEBUG in loghandler: Block merger starting processing {'inputs': [{'file': {'identifier': 'string', 'name': 'yolo_1.pdf', 'format': 'PDF'}, 'config': {'OCR': {'option': 'HIGH_ACCURACY', 'language': 'en'}}}]}\n",
      "[2020-11-24 17:33:21,697] {loghandler.py:21} MainThread INFO in loghandler: created processing directories successfully /home/dhiraj/Documents/Anuwad/anuvaad/anuvaad-etl/anuvaad-extractor/block-merger/src/notebooks/sample-data/input/yolo_1_0c331bf6-2e4d-11eb-8183-eb0c018101c7\n",
      "[2020-11-24 17:33:21,698] {loghandler.py:21} MainThread INFO in loghandler: filepath /home/dhiraj/Documents/Anuwad/anuvaad/anuvaad-etl/anuvaad-extractor/block-merger/src/notebooks/sample-data/input/yolo_1.pdf, working_dir /home/dhiraj/Documents/Anuwad/anuvaad/anuvaad-etl/anuvaad-extractor/block-merger/src/notebooks/sample-data/input/yolo_1_0c331bf6-2e4d-11eb-8183-eb0c018101c7\n",
      "[2020-11-24 17:33:22,019] {loghandler.py:21} MainThread INFO in loghandler: Extracting images of /home/dhiraj/Documents/Anuwad/anuvaad/anuvaad-etl/anuvaad-extractor/block-merger/src/notebooks/sample-data/input/yolo_1.pdf\n",
      "[2020-11-24 17:33:22,020] {loghandler.py:21} MainThread INFO in loghandler: Extraction of /home/dhiraj/Documents/Anuwad/anuvaad/anuvaad-etl/anuvaad-extractor/block-merger/src/notebooks/sample-data/input/yolo_1.pdf completed in 0.32431507110595703\n",
      "[2020-11-24 17:33:33,388] {loghandler.py:21} MainThread INFO in loghandler: Time taken for text detection is 11.36686086654663/1time per page : 11.36686086654663\n",
      "[2020-11-24 17:33:49,178] {loghandler.py:21} MainThread INFO in loghandler: Time taken for text detection is 15.784972429275513/1time per page : 15.784972429275513\n"
     ]
    }
   ],
   "source": [
    "resp = TextDetection(app_context,base_dir)"
   ]
  },
  {
   "cell_type": "code",
   "execution_count": 9,
   "metadata": {},
   "outputs": [
    {
     "name": "stdout",
     "output_type": "stream",
     "text": [
      "688\n"
     ]
    }
   ],
   "source": [
    "file_index = 0\n",
    "page_index = 0\n",
    "to_check  = 'words'\n",
    "\n",
    "page_1 = resp['rsp']['outputs'][file_index]['pages'][page_index][to_check]\n",
    "print(len(page_1))"
   ]
  },
  {
   "cell_type": "code",
   "execution_count": 11,
   "metadata": {},
   "outputs": [
    {
     "name": "stdout",
     "output_type": "stream",
     "text": [
      "688\n"
     ]
    }
   ],
   "source": [
    "file_index = 0\n",
    "page_index =0\n",
    "to_check  = 'words'\n",
    "\n",
    "page_2 = resp['rsp']['outputs'][file_index]['pages'][page_index][to_check]\n",
    "print(len(page_2))"
   ]
  },
  {
   "cell_type": "markdown",
   "metadata": {},
   "source": [
    "# Panda based query\n"
   ]
  },
  {
   "cell_type": "code",
   "execution_count": 12,
   "metadata": {},
   "outputs": [
    {
     "name": "stdout",
     "output_type": "stream",
     "text": [
      "[2020-11-24 17:35:24,912] {geos.py:73} MainThread DEBUG in geos: Found GEOS DLL: <CDLL '/home/dhiraj/py_envs/Anuvaad/lib/python3.6/site-packages/shapely/.libs/libgeos_c-a68605fd.so.1.13.1', handle e41ec40 at 0x7ff50c212eb8>, using it.\n",
      "[2020-11-24 17:35:25,008] {geos.py:38} MainThread DEBUG in geos: Trying `CDLL(libc.so.6)`\n",
      "[2020-11-24 17:35:25,010] {geos.py:55} MainThread DEBUG in geos: Library path: 'libc.so.6'\n",
      "[2020-11-24 17:35:25,013] {geos.py:56} MainThread DEBUG in geos: DLL: <CDLL 'libc.so.6', handle 7ff59d68a000 at 0x7ff50c212e80>\n"
     ]
    }
   ],
   "source": [
    "import numpy as np\n",
    "import pandas as pd\n",
    "from shapely.geometry import Polygon\n",
    "\n",
    "\n",
    "def get_mid_point(region):\n",
    "    x = (region['vertices'][0]['x']  + region['vertices'][1]['x']) *0.5\n",
    "    y = (region['vertices'][0]['y'] + region['vertices'][3]['y']) * 0.5\n",
    "    return [x, y]\n",
    "\n",
    "def check_if_inside(region, point):\n",
    "    x, y = point\n",
    "    if (x >= region[0]['x']) and (x <= region[1]['x']) and (y >= region[0]['y']) and (y <= region[3]['y']):\n",
    "        return True\n",
    "    else:\n",
    "        return False\n",
    "\n",
    "def get_polygon(vertices):\n",
    "    points = []\n",
    "    for point in vertices:\n",
    "        points.append((point['x'], point['y']))\n",
    "    poly = Polygon(points)\n",
    "    return poly\n",
    "\n",
    "def compare_regions(gt_regions, predicted_regions):\n",
    "    gt_exists   =  len(gt_regions) > 0\n",
    "    pred_exists =  len(predicted_regions)>0\n",
    "    page_iou    = []\n",
    "    page_ious   = []\n",
    "\n",
    "    if gt_exists :\n",
    "        if pred_exists:\n",
    "            df_predicted =  pd.DataFrame(predicted_regions)\n",
    "            df_predicted['mid_point'] = df_predicted['boundingBox'].apply(lambda x: get_mid_point(x))\n",
    "\n",
    "            for gt_region in gt_regions :\n",
    "                region_vertices = gt_region['boundingBox']['vertices']\n",
    "                region_filter   = df_predicted['mid_point'].apply(lambda x: check_if_inside(region_vertices, x))\n",
    "                region_index = np.where(region_filter)[0]\n",
    "\n",
    "                gt_poly = get_polygon(region_vertices)\n",
    "                if len(region_index) > 0:\n",
    "                    ious = []\n",
    "                    for index in region_index:\n",
    "                        predicted_region = predicted_regions[index]['boundingBox']['vertices']\n",
    "                        predicted_poly = get_polygon(predicted_region)\n",
    "                        region_iou = gt_poly.intersection(predicted_poly).area / gt_poly.union(predicted_poly).area\n",
    "                        ious.append(region_iou)\n",
    "\n",
    "                    iou = max(ious)\n",
    "                    page_iou.append(iou)\n",
    "                    page_ious.append(ious)\n",
    "                else:\n",
    "                    page_iou.append(0)\n",
    "                    page_ious.append([0]) \n",
    "        else :\n",
    "            page_iou = [0] * len(gt_regions)\n",
    "            page_ious = [[0]] * len(gt_regions)\n",
    "        \n",
    "        return page_iou ,page_ious\n",
    "\n",
    "    else :\n",
    "        return [] , []\n",
    "\n",
    "\n",
    "\n"
   ]
  },
  {
   "cell_type": "code",
   "execution_count": 17,
   "metadata": {},
   "outputs": [
    {
     "name": "stdout",
     "output_type": "stream",
     "text": [
      "526 ms ± 22 ms per loop (mean ± std. dev. of 7 runs, 1 loop each)\n"
     ]
    }
   ],
   "source": [
    "%%timeit\n",
    "iou ,ious = compare_regions(page_1,page_2)\n",
    "\n"
   ]
  },
  {
   "cell_type": "code",
   "execution_count": 256,
   "metadata": {},
   "outputs": [],
   "source": [
    "iou ,ious = compare_regions(page_1,page_2)"
   ]
  },
  {
   "cell_type": "code",
   "execution_count": 248,
   "metadata": {
    "scrolled": true
   },
   "outputs": [
    {
     "data": {
      "text/plain": [
       "[1.0, 1.0, 1.0, 1.0, 1.0]"
      ]
     },
     "execution_count": 248,
     "metadata": {},
     "output_type": "execute_result"
    }
   ],
   "source": [
    "iou[:5]"
   ]
  },
  {
   "cell_type": "code",
   "execution_count": 18,
   "metadata": {},
   "outputs": [],
   "source": [
    "#time\n",
    "df_predicted =  pd.DataFrame(page_2)\n"
   ]
  },
  {
   "cell_type": "code",
   "execution_count": 21,
   "metadata": {},
   "outputs": [
    {
     "name": "stdout",
     "output_type": "stream",
     "text": [
      "854 µs ± 13.8 µs per loop (mean ± std. dev. of 7 runs, 1000 loops each)\n"
     ]
    }
   ],
   "source": [
    "%%timeit\n",
    "df_predicted['mid_point'] = df_predicted['boundingBox'].apply(lambda x: get_mid_point(x))"
   ]
  },
  {
   "cell_type": "code",
   "execution_count": 22,
   "metadata": {},
   "outputs": [],
   "source": [
    "region_gt = page_1[3]"
   ]
  },
  {
   "cell_type": "code",
   "execution_count": 24,
   "metadata": {},
   "outputs": [],
   "source": [
    "region_vertices = region_gt['boundingBox']['vertices']"
   ]
  },
  {
   "cell_type": "code",
   "execution_count": 27,
   "metadata": {},
   "outputs": [
    {
     "name": "stdout",
     "output_type": "stream",
     "text": [
      "478 µs ± 16.1 µs per loop (mean ± std. dev. of 7 runs, 1000 loops each)\n"
     ]
    }
   ],
   "source": [
    "%%timeit\n",
    "region_filter = df_predicted['mid_point'].apply( lambda x : check_if_inside(region_vertices,x) )\n",
    "\n"
   ]
  },
  {
   "cell_type": "code",
   "execution_count": null,
   "metadata": {},
   "outputs": [],
   "source": [
    "region_index = np.where(region_filter)[0]"
   ]
  },
  {
   "cell_type": "code",
   "execution_count": 195,
   "metadata": {},
   "outputs": [
    {
     "name": "stdout",
     "output_type": "stream",
     "text": [
      "8.14 µs ± 139 ns per loop (mean ± std. dev. of 7 runs, 100000 loops each)\n"
     ]
    }
   ],
   "source": [
    "%%timeit\n",
    "gt_poly = get_polygon(region_gt['boundingBox']['vertices'])"
   ]
  },
  {
   "cell_type": "code",
   "execution_count": null,
   "metadata": {},
   "outputs": [],
   "source": [
    "%%timeit\n",
    "ious = []\n",
    "if len(region_index) > 0 :\n",
    "    for index in region_index:\n",
    "        predicted_region = page_2[index]['boundingBox']['vertices']\n",
    "        predicted_poly  = get_polygon(predicted_region)\n",
    "        \n",
    "        iou = gt_poly.intersection(predicted_poly).area / gt_poly.union(predicted_poly).area\n",
    "        ious.append(iou)\n",
    "        print(iou)"
   ]
  },
  {
   "cell_type": "code",
   "execution_count": null,
   "metadata": {},
   "outputs": [],
   "source": []
  },
  {
   "cell_type": "markdown",
   "metadata": {},
   "source": [
    "# Shapely based query"
   ]
  },
  {
   "cell_type": "code",
   "execution_count": 28,
   "metadata": {},
   "outputs": [],
   "source": [
    "from shapely.ops import cascaded_union\n",
    "from rtree import index\n",
    "\n",
    "    \n",
    "def index_tree(poly_index,poly,idx):\n",
    "    idx.insert(poly_index, poly.bounds)\n",
    "    \n",
    "    \n",
    "    \n",
    "def get_polygon(region):\n",
    "    points = []\n",
    "    vertices  = region['vertices']\n",
    "    for point in vertices:\n",
    "        points.append((point['x'], point['y']))\n",
    "    poly = Polygon(points)\n",
    "    return poly\n",
    "\n",
    "\n",
    "\n",
    "def compare_regions(gt_regions, predicted_regions):\n",
    "    gt_exists   =  len(gt_regions) > 0\n",
    "    pred_exists =  len(predicted_regions)>0\n",
    "    idx = index.Index()\n",
    "    page_iou    = []\n",
    "    page_ious   = []\n",
    "\n",
    "    if gt_exists :\n",
    "        \n",
    "        if pred_exists:\n",
    "            perd_polys=[]\n",
    "            \n",
    "            for region_idx, region in enumerate(predicted_regions) :\n",
    "                poly = get_polygon(region['boundingBox'])\n",
    "                perd_polys.append(poly)\n",
    "                idx.insert(region_idx, poly.bounds)\n",
    "            \n",
    "            for gt_region in gt_regions :\n",
    "                gt_poly = get_polygon(gt_region['boundingBox'])\n",
    "                region_index = list(idx.intersection(gt_poly.bounds))\n",
    "                \n",
    "                if len(region_index) > 0 :\n",
    "                    ious = []\n",
    "                    \n",
    "                    for intr_index in region_index:\n",
    "                        predicted_poly = perd_polys[intr_index]\n",
    "                        region_iou = gt_poly.intersection(predicted_poly).area / gt_poly.union(predicted_poly).area\n",
    "                        ious.append(region_iou)\n",
    "                    iou = max(ious)\n",
    "                    page_iou.append(iou)\n",
    "                    page_ious.append(ious)\n",
    "                    \n",
    "        else :\n",
    "            page_iou = [0] * len(gt_regions)\n",
    "            page_ious = [[0]] * len(gt_regions)\n",
    "        \n",
    "        return page_iou ,page_ious\n",
    "\n",
    "    else :\n",
    "        return [] , []\n",
    "\n",
    "\n",
    "\n",
    "\n"
   ]
  },
  {
   "cell_type": "code",
   "execution_count": 31,
   "metadata": {},
   "outputs": [
    {
     "name": "stdout",
     "output_type": "stream",
     "text": [
      "264 ms ± 9.39 ms per loop (mean ± std. dev. of 7 runs, 1 loop each)\n"
     ]
    }
   ],
   "source": [
    "%%timeit \n",
    "iou ,ious = compare_regions(page_1,page_2)"
   ]
  },
  {
   "cell_type": "code",
   "execution_count": 322,
   "metadata": {},
   "outputs": [
    {
     "data": {
      "text/plain": [
       "[0.0, 0.15547377124410836, 0.10113960113960115, 0.0, 0.0]"
      ]
     },
     "execution_count": 322,
     "metadata": {},
     "output_type": "execute_result"
    }
   ],
   "source": [
    "iou ,ious = compare_regions(page_1,page_2)\n",
    "iou[:5]"
   ]
  },
  {
   "cell_type": "code",
   "execution_count": 323,
   "metadata": {},
   "outputs": [],
   "source": [
    "df_predicted =  pd.DataFrame(page_2)"
   ]
  },
  {
   "cell_type": "code",
   "execution_count": 325,
   "metadata": {},
   "outputs": [
    {
     "name": "stdout",
     "output_type": "stream",
     "text": [
      "799 µs ± 22.3 µs per loop (mean ± std. dev. of 7 runs, 1000 loops each)\n"
     ]
    }
   ],
   "source": [
    "%%timeit\n",
    "df_predicted['polygon'] = df_predicted['boundingBox'].apply(get_polygon)"
   ]
  },
  {
   "cell_type": "code",
   "execution_count": 33,
   "metadata": {},
   "outputs": [
    {
     "name": "stdout",
     "output_type": "stream",
     "text": [
      "6.41 ms ± 613 µs per loop (mean ± std. dev. of 7 runs, 100 loops each)\n"
     ]
    }
   ],
   "source": [
    "%%timeit\n",
    "polygons=[]\n",
    "for region in page_2 :\n",
    "    polygons.append(get_polygon(region['boundingBox']))"
   ]
  },
  {
   "cell_type": "code",
   "execution_count": 328,
   "metadata": {},
   "outputs": [
    {
     "data": {
      "text/html": [
       "<div>\n",
       "<style scoped>\n",
       "    .dataframe tbody tr th:only-of-type {\n",
       "        vertical-align: middle;\n",
       "    }\n",
       "\n",
       "    .dataframe tbody tr th {\n",
       "        vertical-align: top;\n",
       "    }\n",
       "\n",
       "    .dataframe thead th {\n",
       "        text-align: right;\n",
       "    }\n",
       "</style>\n",
       "<table border=\"1\" class=\"dataframe\">\n",
       "  <thead>\n",
       "    <tr style=\"text-align: right;\">\n",
       "      <th></th>\n",
       "      <th>boundingBox</th>\n",
       "      <th>identifier</th>\n",
       "      <th>class</th>\n",
       "      <th>font</th>\n",
       "      <th>polygon</th>\n",
       "    </tr>\n",
       "  </thead>\n",
       "  <tbody>\n",
       "    <tr>\n",
       "      <th>0</th>\n",
       "      <td>{'vertices': [{'x': 2055, 'y': 317}, {'x': 207...</td>\n",
       "      <td>698bba8656d14e11bb699b604786d22e</td>\n",
       "      <td>TEXT</td>\n",
       "      <td>{'family': 'Arial Unicode MS', 'size': 33, 'st...</td>\n",
       "      <td>POLYGON ((2055 317, 2077 317, 2077 350, 2055 3...</td>\n",
       "    </tr>\n",
       "    <tr>\n",
       "      <th>1</th>\n",
       "      <td>{'vertices': [{'x': 1139, 'y': 526}, {'x': 208...</td>\n",
       "      <td>c0bc09ab1f734ac0aff329268b896687</td>\n",
       "      <td>TEXT</td>\n",
       "      <td>{'family': 'Arial Unicode MS', 'size': 54, 'st...</td>\n",
       "      <td>POLYGON ((1139 526, 2088 519, 2088 573, 1140 5...</td>\n",
       "    </tr>\n",
       "    <tr>\n",
       "      <th>2</th>\n",
       "      <td>{'vertices': [{'x': 361, 'y': 520}, {'x': 1063...</td>\n",
       "      <td>3df5346527b940edaf69abcbac5c8117</td>\n",
       "      <td>TEXT</td>\n",
       "      <td>{'family': 'Arial Unicode MS', 'size': 50, 'st...</td>\n",
       "      <td>POLYGON ((361 520, 1063 520, 1063 570, 361 570...</td>\n",
       "    </tr>\n",
       "    <tr>\n",
       "      <th>3</th>\n",
       "      <td>{'vertices': [{'x': 361, 'y': 646}, {'x': 2115...</td>\n",
       "      <td>669c276ed03b4997a1c3f056cd05d214</td>\n",
       "      <td>TEXT</td>\n",
       "      <td>{'family': 'Arial Unicode MS', 'size': 61, 'st...</td>\n",
       "      <td>POLYGON ((361 646, 2115 646, 2115 707, 361 707...</td>\n",
       "    </tr>\n",
       "    <tr>\n",
       "      <th>4</th>\n",
       "      <td>{'vertices': [{'x': 361, 'y': 772}, {'x': 2110...</td>\n",
       "      <td>95257535dc3c47c8bdc769822f30c5ba</td>\n",
       "      <td>TEXT</td>\n",
       "      <td>{'family': 'Arial Unicode MS', 'size': 61, 'st...</td>\n",
       "      <td>POLYGON ((361 772, 2110 772, 2110 833, 361 833...</td>\n",
       "    </tr>\n",
       "  </tbody>\n",
       "</table>\n",
       "</div>"
      ],
      "text/plain": [
       "                                         boundingBox  \\\n",
       "0  {'vertices': [{'x': 2055, 'y': 317}, {'x': 207...   \n",
       "1  {'vertices': [{'x': 1139, 'y': 526}, {'x': 208...   \n",
       "2  {'vertices': [{'x': 361, 'y': 520}, {'x': 1063...   \n",
       "3  {'vertices': [{'x': 361, 'y': 646}, {'x': 2115...   \n",
       "4  {'vertices': [{'x': 361, 'y': 772}, {'x': 2110...   \n",
       "\n",
       "                         identifier class  \\\n",
       "0  698bba8656d14e11bb699b604786d22e  TEXT   \n",
       "1  c0bc09ab1f734ac0aff329268b896687  TEXT   \n",
       "2  3df5346527b940edaf69abcbac5c8117  TEXT   \n",
       "3  669c276ed03b4997a1c3f056cd05d214  TEXT   \n",
       "4  95257535dc3c47c8bdc769822f30c5ba  TEXT   \n",
       "\n",
       "                                                font  \\\n",
       "0  {'family': 'Arial Unicode MS', 'size': 33, 'st...   \n",
       "1  {'family': 'Arial Unicode MS', 'size': 54, 'st...   \n",
       "2  {'family': 'Arial Unicode MS', 'size': 50, 'st...   \n",
       "3  {'family': 'Arial Unicode MS', 'size': 61, 'st...   \n",
       "4  {'family': 'Arial Unicode MS', 'size': 61, 'st...   \n",
       "\n",
       "                                             polygon  \n",
       "0  POLYGON ((2055 317, 2077 317, 2077 350, 2055 3...  \n",
       "1  POLYGON ((1139 526, 2088 519, 2088 573, 1140 5...  \n",
       "2  POLYGON ((361 520, 1063 520, 1063 570, 361 570...  \n",
       "3  POLYGON ((361 646, 2115 646, 2115 707, 361 707...  \n",
       "4  POLYGON ((361 772, 2110 772, 2110 833, 361 833...  "
      ]
     },
     "execution_count": 328,
     "metadata": {},
     "output_type": "execute_result"
    }
   ],
   "source": [
    "df_predicted.head()"
   ]
  },
  {
   "cell_type": "code",
   "execution_count": 38,
   "metadata": {},
   "outputs": [],
   "source": [
    "idx = index.Index()"
   ]
  },
  {
   "cell_type": "code",
   "execution_count": 232,
   "metadata": {},
   "outputs": [
    {
     "name": "stdout",
     "output_type": "stream",
     "text": [
      "26.8 ms ± 1.86 ms per loop (mean ± std. dev. of 7 runs, 10 loops each)\n"
     ]
    }
   ],
   "source": [
    "%%timeit\n",
    "df_predicted.apply(lambda x: index_tree(x.name,x.polygon,idx) ,axis=1)"
   ]
  },
  {
   "cell_type": "code",
   "execution_count": 39,
   "metadata": {},
   "outputs": [],
   "source": [
    "#%%timeit\n",
    "for poly_index ,poly in enumerate(polygons):\n",
    "    idx.insert(poly_index, poly.bounds)"
   ]
  },
  {
   "cell_type": "code",
   "execution_count": 236,
   "metadata": {},
   "outputs": [],
   "source": [
    "# def generator_function(somedata):\n",
    "#     for i, obj in enumerate(somedata):\n",
    "#         print(ob)\n",
    "#         xmin = obj['boundingBox']['vertices'][0]['x']\n",
    "#         xmax= obj['boundingBox']['vertices'][1]['x']\n",
    "#         ymin = obj['boundingBox']['vertices'][0]['y']\n",
    "#         ymin = obj['boundingBox']['vertices'][3]['y']\n",
    "#         yield (i, (xmin, ymin, xmax, ymax), obj)\n"
   ]
  },
  {
   "cell_type": "code",
   "execution_count": 239,
   "metadata": {},
   "outputs": [],
   "source": [
    "# def generator_function(somedata):\n",
    "#     for i, obj in enumerate(somedata):\n",
    "#         yield (i, (obj.xmin, obj.ymin, obj.xmax, obj.ymax), obj)"
   ]
  },
  {
   "cell_type": "code",
   "execution_count": 241,
   "metadata": {},
   "outputs": [],
   "source": [
    "# r = index.Index(generator_function(polygons))"
   ]
  },
  {
   "cell_type": "code",
   "execution_count": 379,
   "metadata": {},
   "outputs": [
    {
     "data": {
      "text/plain": [
       "rtree.index.Index(bounds=[359.0, 317.0, 2115.0, 2956.0], size=188)"
      ]
     },
     "execution_count": 379,
     "metadata": {},
     "output_type": "execute_result"
    }
   ],
   "source": [
    "idx"
   ]
  },
  {
   "cell_type": "code",
   "execution_count": null,
   "metadata": {},
   "outputs": [],
   "source": []
  },
  {
   "cell_type": "code",
   "execution_count": 40,
   "metadata": {},
   "outputs": [],
   "source": [
    "region_gt = page_1[0]['boundingBox']\n",
    "\n",
    "gt_poly = get_polygon(region_gt)"
   ]
  },
  {
   "cell_type": "code",
   "execution_count": 41,
   "metadata": {},
   "outputs": [
    {
     "data": {
      "image/svg+xml": [
       "<svg xmlns=\"http://www.w3.org/2000/svg\" xmlns:xlink=\"http://www.w3.org/1999/xlink\" width=\"112.32000000000005\" height=\"100.0\" viewBox=\"926.84 455.84 112.32000000000005 63.31999999999999\" preserveAspectRatio=\"xMinYMin meet\"><g transform=\"matrix(1,0,0,-1,0,975.0)\"><path fill-rule=\"evenodd\" fill=\"#66cc99\" stroke=\"#555555\" stroke-width=\"2.0\" opacity=\"0.6\" d=\"M 931.0,460.0 L 1035.0,460.0 L 1035.0,515.0 L 931.0,515.0 L 931.0,460.0 z\" /></g></svg>"
      ],
      "text/plain": [
       "<shapely.geometry.polygon.Polygon at 0x7ff4fccf52e8>"
      ]
     },
     "execution_count": 41,
     "metadata": {},
     "output_type": "execute_result"
    }
   ],
   "source": [
    "gt_poly"
   ]
  },
  {
   "cell_type": "code",
   "execution_count": 43,
   "metadata": {},
   "outputs": [
    {
     "name": "stdout",
     "output_type": "stream",
     "text": [
      "75.9 µs ± 1.92 µs per loop (mean ± std. dev. of 7 runs, 10000 loops each)\n"
     ]
    }
   ],
   "source": [
    "%%timeit \n",
    "idx.intersection(gt_poly.bounds)"
   ]
  },
  {
   "cell_type": "code",
   "execution_count": 180,
   "metadata": {},
   "outputs": [
    {
     "data": {
      "text/plain": [
       "rtree.index.Index(bounds=[360.0, 515.0, 2117.0, 3020.0], size=102)"
      ]
     },
     "execution_count": 180,
     "metadata": {},
     "output_type": "execute_result"
    }
   ],
   "source": [
    "idx"
   ]
  },
  {
   "cell_type": "code",
   "execution_count": 181,
   "metadata": {},
   "outputs": [
    {
     "data": {
      "text/plain": [
       "[]"
      ]
     },
     "execution_count": 181,
     "metadata": {},
     "output_type": "execute_result"
    }
   ],
   "source": [
    "list(idx.intersection(gt_poly.bounds))"
   ]
  },
  {
   "cell_type": "code",
   "execution_count": null,
   "metadata": {},
   "outputs": [],
   "source": []
  }
 ],
 "metadata": {
  "kernelspec": {
   "display_name": "Anuvaad",
   "language": "python",
   "name": "anuvaad"
  },
  "language_info": {
   "codemirror_mode": {
    "name": "ipython",
    "version": 3
   },
   "file_extension": ".py",
   "mimetype": "text/x-python",
   "name": "python",
   "nbconvert_exporter": "python",
   "pygments_lexer": "ipython3",
   "version": "3.6.12"
  }
 },
 "nbformat": 4,
 "nbformat_minor": 4
}
