{
 "cells": [
  {
   "cell_type": "code",
   "execution_count": 10,
   "metadata": {},
   "outputs": [],
   "source": [
    "import os\n",
    "import sys\n",
    "import numpy as np\n",
    "import time"
   ]
  },
  {
   "cell_type": "code",
   "execution_count": 11,
   "metadata": {},
   "outputs": [],
   "source": [
    "nb_dir = '/home/dhiraj/Documents/anuvaad/anuvaad-etl/anuvaad-extractor/document-processor/word-detector/craft/src'\n",
    "sys.path.append(nb_dir)\n",
    "sys.path.append(os.path.split(nb_dir)[0])\n",
    "\n",
    "import config\n",
    "import src.utilities.app_context as app_context\n",
    "app_context.init()\n",
    "\n",
    "#path to craft model, weight can be pulled form the production bracnh of repo\n",
    "config.CRAFT_MODEL_PATH= nb_dir + '/utilities/craft_pytorch/model/craft_mlt_25k.pth'\n",
    "config.CRAFT_REFINE_MODEL_PATH = nb_dir + '/utilities/craft_pytorch/model/craft_refiner_CTW1500.pth'"
   ]
  },
  {
   "cell_type": "code",
   "execution_count": 12,
   "metadata": {},
   "outputs": [],
   "source": [
    "from src.services.main import TextDetection"
   ]
  },
  {
   "cell_type": "code",
   "execution_count": 13,
   "metadata": {},
   "outputs": [],
   "source": [
    "base_dir = '/home/dhiraj/Documents/Anuwad/anuvaad/anuvaad-etl/anuvaad-extractor/block-merger/src/notebooks/sample-data/input'\n",
    "\n",
    "filename    = 'hamlet_1.pdf'\n",
    "#filename     = '35977.pdf'\n",
    "#filename      = 'yolo_1.pdf'\n",
    "file_format = 'PDF'\n",
    "language    =  'en'"
   ]
  },
  {
   "cell_type": "code",
   "execution_count": 16,
   "metadata": {},
   "outputs": [],
   "source": [
    "app_context.application_context = {\n",
    "  \"input\": {'inputs': [\n",
    "    {\n",
    "      \"file\": {\n",
    "        \"identifier\": \"string\",\n",
    "        \"name\": filename,\n",
    "        \"type\": file_format\n",
    "      },\n",
    "      \"config\": {\n",
    "        \"OCR\": {\n",
    "          \"option\": \"HIGH_ACCURACY\",\n",
    "          \"language\": language\n",
    "        }\n",
    "      }\n",
    "    }\n",
    "  ]}\n",
    "}"
   ]
  },
  {
   "cell_type": "code",
   "execution_count": 17,
   "metadata": {},
   "outputs": [
    {
     "name": "stdout",
     "output_type": "stream",
     "text": [
      "[2020-12-21 17:20:27,630] {loghandler.py:49} MainThread DEBUG in loghandler: Block merger starting processing {'input': {'inputs': [{'file': {'identifier': 'string', 'name': 'hamlet_1.pdf', 'type': 'PDF'}, 'config': {'OCR': {'option': 'HIGH_ACCURACY', 'language': 'en'}}}]}}\n",
      "[2020-12-21 17:20:27,636] {loghandler.py:21} MainThread INFO in loghandler: created processing directories successfully /home/dhiraj/Documents/Anuwad/anuvaad/anuvaad-etl/anuvaad-extractor/block-merger/src/notebooks/sample-data/input/hamlet_1_fb8efe30-a54d-4e34-b0ad-b0bf23c1c4d8\n",
      "[2020-12-21 17:20:27,637] {loghandler.py:21} MainThread INFO in loghandler: filepath /home/dhiraj/Documents/Anuwad/anuvaad/anuvaad-etl/anuvaad-extractor/block-merger/src/notebooks/sample-data/input/hamlet_1.pdf, working_dir /home/dhiraj/Documents/Anuwad/anuvaad/anuvaad-etl/anuvaad-extractor/block-merger/src/notebooks/sample-data/input/hamlet_1_fb8efe30-a54d-4e34-b0ad-b0bf23c1c4d8\n",
      "[2020-12-21 17:20:27,774] {loghandler.py:21} MainThread INFO in loghandler: Extracting images of /home/dhiraj/Documents/Anuwad/anuvaad/anuvaad-etl/anuvaad-extractor/block-merger/src/notebooks/sample-data/input/hamlet_1.pdf\n",
      "[2020-12-21 17:20:27,775] {loghandler.py:21} MainThread INFO in loghandler: Extraction of /home/dhiraj/Documents/Anuwad/anuvaad/anuvaad-etl/anuvaad-extractor/block-merger/src/notebooks/sample-data/input/hamlet_1.pdf completed in 0.1419665813446045\n",
      "[2020-12-21 17:20:45,906] {loghandler.py:21} MainThread INFO in loghandler: Time taken for text detection is 18.13021945953369/1time per page : 18.13021945953369\n",
      "[2020-12-21 17:21:14,094] {loghandler.py:21} MainThread INFO in loghandler: Time taken for text detection is 28.18714141845703/1time per page : 28.18714141845703\n"
     ]
    }
   ],
   "source": [
    "resp = TextDetection(app_context,base_dir)"
   ]
  },
  {
   "cell_type": "code",
   "execution_count": 18,
   "metadata": {},
   "outputs": [
    {
     "name": "stdout",
     "output_type": "stream",
     "text": [
      "69\n"
     ]
    }
   ],
   "source": [
    "file_index = 0\n",
    "page_index = 0\n",
    "to_check  = 'words'\n",
    "\n",
    "page_1 = resp['rsp']['outputs'][file_index]['pages'][page_index][to_check]\n",
    "print(len(page_1))"
   ]
  },
  {
   "cell_type": "code",
   "execution_count": 19,
   "metadata": {},
   "outputs": [
    {
     "name": "stdout",
     "output_type": "stream",
     "text": [
      "69\n"
     ]
    }
   ],
   "source": [
    "file_index = 0\n",
    "page_index =0\n",
    "to_check  = 'words'\n",
    "\n",
    "page_2 = resp['rsp']['outputs'][file_index]['pages'][page_index][to_check]\n",
    "print(len(page_2))"
   ]
  },
  {
   "cell_type": "markdown",
   "metadata": {},
   "source": [
    "# Panda based query\n"
   ]
  },
  {
   "cell_type": "code",
   "execution_count": 24,
   "metadata": {},
   "outputs": [],
   "source": [
    "import numpy as np\n",
    "import pandas as pd\n",
    "from shapely.geometry import Polygon\n",
    "\n",
    "\n",
    "def get_mid_point(region):\n",
    "    x = (region['vertices'][0]['x']  + region['vertices'][1]['x']) *0.5\n",
    "    y = (region['vertices'][0]['y'] + region['vertices'][3]['y']) * 0.5\n",
    "    return [x, y]\n",
    "\n",
    "def check_if_inside(region, point):\n",
    "    x, y = point\n",
    "    if (x >= region[0]['x']) and (x <= region[1]['x']) and (y >= region[0]['y']) and (y <= region[3]['y']):\n",
    "        return True\n",
    "    else:\n",
    "        return False\n",
    "\n",
    "def get_polygon(vertices):\n",
    "    points = []\n",
    "    for point in vertices:\n",
    "        points.append((point['x'], point['y']))\n",
    "    poly = Polygon(points)\n",
    "    return poly\n",
    "\n",
    "def compare_regions(gt_regions, predicted_regions):\n",
    "    gt_exists   =  len(gt_regions) > 0\n",
    "    pred_exists =  len(predicted_regions)>0\n",
    "    page_iou    = []\n",
    "    page_ious   = []\n",
    "\n",
    "    if gt_exists :\n",
    "        if pred_exists:\n",
    "            df_predicted =  pd.DataFrame(predicted_regions)\n",
    "            df_predicted['mid_point'] = df_predicted['boundingBox'].apply(lambda x: get_mid_point(x))\n",
    "\n",
    "            for gt_region in gt_regions :\n",
    "                region_vertices = gt_region['boundingBox']['vertices']\n",
    "                region_filter   = df_predicted['mid_point'].apply(lambda x: check_if_inside(region_vertices, x))\n",
    "                region_index = np.where(region_filter)[0]\n",
    "\n",
    "                gt_poly = get_polygon(region_vertices)\n",
    "                if len(region_index) > 0:\n",
    "                    ious = []\n",
    "                    for index in region_index:\n",
    "                        predicted_region = predicted_regions[index]['boundingBox']['vertices']\n",
    "                        predicted_poly = get_polygon(predicted_region)\n",
    "                        region_iou = gt_poly.intersection(predicted_poly).area / gt_poly.union(predicted_poly).area\n",
    "                        ious.append(region_iou)\n",
    "\n",
    "                    iou = max(ious)\n",
    "                    page_iou.append(iou)\n",
    "                    page_ious.append(ious)\n",
    "                else:\n",
    "                    page_iou.append(0)\n",
    "                    page_ious.append([0]) \n",
    "        else :\n",
    "            page_iou = [0] * len(gt_regions)\n",
    "            page_ious = [[0]] * len(gt_regions)\n",
    "        \n",
    "        return page_iou ,page_ious\n",
    "\n",
    "    else :\n",
    "        return [] , []\n",
    "\n",
    "\n",
    "\n"
   ]
  },
  {
   "cell_type": "code",
   "execution_count": 17,
   "metadata": {},
   "outputs": [
    {
     "name": "stdout",
     "output_type": "stream",
     "text": [
      "526 ms ± 22 ms per loop (mean ± std. dev. of 7 runs, 1 loop each)\n"
     ]
    }
   ],
   "source": [
    "%%timeit\n",
    "iou ,ious = compare_regions(page_1,page_2)\n",
    "\n"
   ]
  },
  {
   "cell_type": "code",
   "execution_count": 256,
   "metadata": {},
   "outputs": [],
   "source": [
    "iou ,ious = compare_regions(page_1,page_2)"
   ]
  },
  {
   "cell_type": "code",
   "execution_count": 248,
   "metadata": {
    "scrolled": true
   },
   "outputs": [
    {
     "data": {
      "text/plain": [
       "[1.0, 1.0, 1.0, 1.0, 1.0]"
      ]
     },
     "execution_count": 248,
     "metadata": {},
     "output_type": "execute_result"
    }
   ],
   "source": [
    "iou[:5]"
   ]
  },
  {
   "cell_type": "code",
   "execution_count": 18,
   "metadata": {},
   "outputs": [],
   "source": [
    "#time\n",
    "df_predicted =  pd.DataFrame(page_2)\n"
   ]
  },
  {
   "cell_type": "code",
   "execution_count": 21,
   "metadata": {},
   "outputs": [
    {
     "name": "stdout",
     "output_type": "stream",
     "text": [
      "854 µs ± 13.8 µs per loop (mean ± std. dev. of 7 runs, 1000 loops each)\n"
     ]
    }
   ],
   "source": [
    "%%timeit\n",
    "df_predicted['mid_point'] = df_predicted['boundingBox'].apply(lambda x: get_mid_point(x))"
   ]
  },
  {
   "cell_type": "code",
   "execution_count": 22,
   "metadata": {},
   "outputs": [],
   "source": [
    "region_gt = page_1[3]"
   ]
  },
  {
   "cell_type": "code",
   "execution_count": 24,
   "metadata": {},
   "outputs": [],
   "source": [
    "region_vertices = region_gt['boundingBox']['vertices']"
   ]
  },
  {
   "cell_type": "code",
   "execution_count": 27,
   "metadata": {},
   "outputs": [
    {
     "name": "stdout",
     "output_type": "stream",
     "text": [
      "478 µs ± 16.1 µs per loop (mean ± std. dev. of 7 runs, 1000 loops each)\n"
     ]
    }
   ],
   "source": [
    "%%timeit\n",
    "region_filter = df_predicted['mid_point'].apply( lambda x : check_if_inside(region_vertices,x) )\n",
    "\n"
   ]
  },
  {
   "cell_type": "code",
   "execution_count": null,
   "metadata": {},
   "outputs": [],
   "source": [
    "region_index = np.where(region_filter)[0]"
   ]
  },
  {
   "cell_type": "code",
   "execution_count": 195,
   "metadata": {},
   "outputs": [
    {
     "name": "stdout",
     "output_type": "stream",
     "text": [
      "8.14 µs ± 139 ns per loop (mean ± std. dev. of 7 runs, 100000 loops each)\n"
     ]
    }
   ],
   "source": [
    "%%timeit\n",
    "gt_poly = get_polygon(region_gt['boundingBox']['vertices'])"
   ]
  },
  {
   "cell_type": "code",
   "execution_count": null,
   "metadata": {},
   "outputs": [],
   "source": [
    "%%timeit\n",
    "ious = []\n",
    "if len(region_index) > 0 :\n",
    "    for index in region_index:\n",
    "        predicted_region = page_2[index]['boundingBox']['vertices']\n",
    "        predicted_poly  = get_polygon(predicted_region)\n",
    "        \n",
    "        iou = gt_poly.intersection(predicted_poly).area / gt_poly.union(predicted_poly).area\n",
    "        ious.append(iou)\n",
    "        print(iou)"
   ]
  },
  {
   "cell_type": "code",
   "execution_count": null,
   "metadata": {},
   "outputs": [],
   "source": []
  },
  {
   "cell_type": "markdown",
   "metadata": {},
   "source": [
    "# Shapely based query"
   ]
  },
  {
   "cell_type": "code",
   "execution_count": 22,
   "metadata": {},
   "outputs": [],
   "source": [
    "from shapely.ops import cascaded_union\n",
    "from rtree import index\n",
    "\n",
    "    \n",
    "def index_tree(poly_index,poly,idx):\n",
    "    idx.insert(poly_index, poly.bounds)\n",
    "    \n",
    "    \n",
    "    \n",
    "def get_polygon(region):\n",
    "    points = []\n",
    "    vertices  = region['vertices']\n",
    "    for point in vertices:\n",
    "        points.append((point['x'], point['y']))\n",
    "    poly = Polygon(points)\n",
    "    return poly\n",
    "\n",
    "\n",
    "\n",
    "def compare_regions(gt_regions, predicted_regions):\n",
    "    gt_exists   =  len(gt_regions) > 0\n",
    "    pred_exists =  len(predicted_regions)>0\n",
    "    idx = index.Index()\n",
    "    page_iou    = []\n",
    "    page_ious   = []\n",
    "\n",
    "    if gt_exists :\n",
    "        \n",
    "        if pred_exists:\n",
    "            perd_polys=[]\n",
    "            \n",
    "            for region_idx, region in enumerate(predicted_regions) :\n",
    "                poly = get_polygon(region['boundingBox'])\n",
    "                perd_polys.append(poly)\n",
    "                idx.insert(region_idx, poly.bounds)\n",
    "            \n",
    "            for gt_region in gt_regions :\n",
    "                gt_poly = get_polygon(gt_region['boundingBox'])\n",
    "                region_index = list(idx.intersection(gt_poly.bounds))\n",
    "                \n",
    "                if len(region_index) > 0 :\n",
    "                    ious = []\n",
    "                    \n",
    "                    for intr_index in region_index:\n",
    "                        predicted_poly = perd_polys[intr_index]\n",
    "                        region_iou = gt_poly.intersection(predicted_poly).area / gt_poly.union(predicted_poly).area\n",
    "                        ious.append(region_iou)\n",
    "                    iou = max(ious)\n",
    "                    page_iou.append(iou)\n",
    "                    page_ious.append(ious)\n",
    "                    \n",
    "        else :\n",
    "            page_iou = [0] * len(gt_regions)\n",
    "            page_ious = [[0]] * len(gt_regions)\n",
    "        \n",
    "        return page_iou ,page_ious\n",
    "\n",
    "    else :\n",
    "        return [] , []\n",
    "\n",
    "\n",
    "\n",
    "\n"
   ]
  },
  {
   "cell_type": "code",
   "execution_count": 31,
   "metadata": {},
   "outputs": [
    {
     "name": "stdout",
     "output_type": "stream",
     "text": [
      "264 ms ± 9.39 ms per loop (mean ± std. dev. of 7 runs, 1 loop each)\n"
     ]
    }
   ],
   "source": [
    "%%timeit \n",
    "iou ,ious = compare_regions(page_1,page_2)"
   ]
  },
  {
   "cell_type": "code",
   "execution_count": 322,
   "metadata": {},
   "outputs": [
    {
     "data": {
      "text/plain": [
       "[0.0, 0.15547377124410836, 0.10113960113960115, 0.0, 0.0]"
      ]
     },
     "execution_count": 322,
     "metadata": {},
     "output_type": "execute_result"
    }
   ],
   "source": [
    "iou ,ious = compare_regions(page_1,page_2)\n",
    "iou[:5]"
   ]
  },
  {
   "cell_type": "code",
   "execution_count": 323,
   "metadata": {},
   "outputs": [],
   "source": [
    "df_predicted =  pd.DataFrame(page_2)"
   ]
  },
  {
   "cell_type": "code",
   "execution_count": 325,
   "metadata": {},
   "outputs": [
    {
     "name": "stdout",
     "output_type": "stream",
     "text": [
      "799 µs ± 22.3 µs per loop (mean ± std. dev. of 7 runs, 1000 loops each)\n"
     ]
    }
   ],
   "source": [
    "%%timeit\n",
    "df_predicted['polygon'] = df_predicted['boundingBox'].apply(get_polygon)"
   ]
  },
  {
   "cell_type": "code",
   "execution_count": 33,
   "metadata": {},
   "outputs": [
    {
     "name": "stdout",
     "output_type": "stream",
     "text": [
      "6.41 ms ± 613 µs per loop (mean ± std. dev. of 7 runs, 100 loops each)\n"
     ]
    }
   ],
   "source": [
    "%%timeit\n",
    "polygons=[]\n",
    "for region in page_2 :\n",
    "    polygons.append(get_polygon(region['boundingBox']))"
   ]
  },
  {
   "cell_type": "code",
   "execution_count": 328,
   "metadata": {},
   "outputs": [
    {
     "data": {
      "text/html": [
       "<div>\n",
       "<style scoped>\n",
       "    .dataframe tbody tr th:only-of-type {\n",
       "        vertical-align: middle;\n",
       "    }\n",
       "\n",
       "    .dataframe tbody tr th {\n",
       "        vertical-align: top;\n",
       "    }\n",
       "\n",
       "    .dataframe thead th {\n",
       "        text-align: right;\n",
       "    }\n",
       "</style>\n",
       "<table border=\"1\" class=\"dataframe\">\n",
       "  <thead>\n",
       "    <tr style=\"text-align: right;\">\n",
       "      <th></th>\n",
       "      <th>boundingBox</th>\n",
       "      <th>identifier</th>\n",
       "      <th>class</th>\n",
       "      <th>font</th>\n",
       "      <th>polygon</th>\n",
       "    </tr>\n",
       "  </thead>\n",
       "  <tbody>\n",
       "    <tr>\n",
       "      <th>0</th>\n",
       "      <td>{'vertices': [{'x': 2055, 'y': 317}, {'x': 207...</td>\n",
       "      <td>698bba8656d14e11bb699b604786d22e</td>\n",
       "      <td>TEXT</td>\n",
       "      <td>{'family': 'Arial Unicode MS', 'size': 33, 'st...</td>\n",
       "      <td>POLYGON ((2055 317, 2077 317, 2077 350, 2055 3...</td>\n",
       "    </tr>\n",
       "    <tr>\n",
       "      <th>1</th>\n",
       "      <td>{'vertices': [{'x': 1139, 'y': 526}, {'x': 208...</td>\n",
       "      <td>c0bc09ab1f734ac0aff329268b896687</td>\n",
       "      <td>TEXT</td>\n",
       "      <td>{'family': 'Arial Unicode MS', 'size': 54, 'st...</td>\n",
       "      <td>POLYGON ((1139 526, 2088 519, 2088 573, 1140 5...</td>\n",
       "    </tr>\n",
       "    <tr>\n",
       "      <th>2</th>\n",
       "      <td>{'vertices': [{'x': 361, 'y': 520}, {'x': 1063...</td>\n",
       "      <td>3df5346527b940edaf69abcbac5c8117</td>\n",
       "      <td>TEXT</td>\n",
       "      <td>{'family': 'Arial Unicode MS', 'size': 50, 'st...</td>\n",
       "      <td>POLYGON ((361 520, 1063 520, 1063 570, 361 570...</td>\n",
       "    </tr>\n",
       "    <tr>\n",
       "      <th>3</th>\n",
       "      <td>{'vertices': [{'x': 361, 'y': 646}, {'x': 2115...</td>\n",
       "      <td>669c276ed03b4997a1c3f056cd05d214</td>\n",
       "      <td>TEXT</td>\n",
       "      <td>{'family': 'Arial Unicode MS', 'size': 61, 'st...</td>\n",
       "      <td>POLYGON ((361 646, 2115 646, 2115 707, 361 707...</td>\n",
       "    </tr>\n",
       "    <tr>\n",
       "      <th>4</th>\n",
       "      <td>{'vertices': [{'x': 361, 'y': 772}, {'x': 2110...</td>\n",
       "      <td>95257535dc3c47c8bdc769822f30c5ba</td>\n",
       "      <td>TEXT</td>\n",
       "      <td>{'family': 'Arial Unicode MS', 'size': 61, 'st...</td>\n",
       "      <td>POLYGON ((361 772, 2110 772, 2110 833, 361 833...</td>\n",
       "    </tr>\n",
       "  </tbody>\n",
       "</table>\n",
       "</div>"
      ],
      "text/plain": [
       "                                         boundingBox  \\\n",
       "0  {'vertices': [{'x': 2055, 'y': 317}, {'x': 207...   \n",
       "1  {'vertices': [{'x': 1139, 'y': 526}, {'x': 208...   \n",
       "2  {'vertices': [{'x': 361, 'y': 520}, {'x': 1063...   \n",
       "3  {'vertices': [{'x': 361, 'y': 646}, {'x': 2115...   \n",
       "4  {'vertices': [{'x': 361, 'y': 772}, {'x': 2110...   \n",
       "\n",
       "                         identifier class  \\\n",
       "0  698bba8656d14e11bb699b604786d22e  TEXT   \n",
       "1  c0bc09ab1f734ac0aff329268b896687  TEXT   \n",
       "2  3df5346527b940edaf69abcbac5c8117  TEXT   \n",
       "3  669c276ed03b4997a1c3f056cd05d214  TEXT   \n",
       "4  95257535dc3c47c8bdc769822f30c5ba  TEXT   \n",
       "\n",
       "                                                font  \\\n",
       "0  {'family': 'Arial Unicode MS', 'size': 33, 'st...   \n",
       "1  {'family': 'Arial Unicode MS', 'size': 54, 'st...   \n",
       "2  {'family': 'Arial Unicode MS', 'size': 50, 'st...   \n",
       "3  {'family': 'Arial Unicode MS', 'size': 61, 'st...   \n",
       "4  {'family': 'Arial Unicode MS', 'size': 61, 'st...   \n",
       "\n",
       "                                             polygon  \n",
       "0  POLYGON ((2055 317, 2077 317, 2077 350, 2055 3...  \n",
       "1  POLYGON ((1139 526, 2088 519, 2088 573, 1140 5...  \n",
       "2  POLYGON ((361 520, 1063 520, 1063 570, 361 570...  \n",
       "3  POLYGON ((361 646, 2115 646, 2115 707, 361 707...  \n",
       "4  POLYGON ((361 772, 2110 772, 2110 833, 361 833...  "
      ]
     },
     "execution_count": 328,
     "metadata": {},
     "output_type": "execute_result"
    }
   ],
   "source": [
    "df_predicted.head()"
   ]
  },
  {
   "cell_type": "code",
   "execution_count": 38,
   "metadata": {},
   "outputs": [],
   "source": [
    "idx = index.Index()"
   ]
  },
  {
   "cell_type": "code",
   "execution_count": 232,
   "metadata": {},
   "outputs": [
    {
     "name": "stdout",
     "output_type": "stream",
     "text": [
      "26.8 ms ± 1.86 ms per loop (mean ± std. dev. of 7 runs, 10 loops each)\n"
     ]
    }
   ],
   "source": [
    "%%timeit\n",
    "df_predicted.apply(lambda x: index_tree(x.name,x.polygon,idx) ,axis=1)"
   ]
  },
  {
   "cell_type": "code",
   "execution_count": 39,
   "metadata": {},
   "outputs": [],
   "source": [
    "#%%timeit\n",
    "for poly_index ,poly in enumerate(polygons):\n",
    "    idx.insert(poly_index, poly.bounds)"
   ]
  },
  {
   "cell_type": "code",
   "execution_count": 236,
   "metadata": {},
   "outputs": [],
   "source": [
    "# def generator_function(somedata):\n",
    "#     for i, obj in enumerate(somedata):\n",
    "#         print(ob)\n",
    "#         xmin = obj['boundingBox']['vertices'][0]['x']\n",
    "#         xmax= obj['boundingBox']['vertices'][1]['x']\n",
    "#         ymin = obj['boundingBox']['vertices'][0]['y']\n",
    "#         ymin = obj['boundingBox']['vertices'][3]['y']\n",
    "#         yield (i, (xmin, ymin, xmax, ymax), obj)\n"
   ]
  },
  {
   "cell_type": "code",
   "execution_count": 239,
   "metadata": {},
   "outputs": [],
   "source": [
    "# def generator_function(somedata):\n",
    "#     for i, obj in enumerate(somedata):\n",
    "#         yield (i, (obj.xmin, obj.ymin, obj.xmax, obj.ymax), obj)"
   ]
  },
  {
   "cell_type": "code",
   "execution_count": 241,
   "metadata": {},
   "outputs": [],
   "source": [
    "# r = index.Index(generator_function(polygons))"
   ]
  },
  {
   "cell_type": "code",
   "execution_count": 379,
   "metadata": {},
   "outputs": [
    {
     "data": {
      "text/plain": [
       "rtree.index.Index(bounds=[359.0, 317.0, 2115.0, 2956.0], size=188)"
      ]
     },
     "execution_count": 379,
     "metadata": {},
     "output_type": "execute_result"
    }
   ],
   "source": [
    "idx"
   ]
  },
  {
   "cell_type": "code",
   "execution_count": null,
   "metadata": {},
   "outputs": [],
   "source": []
  },
  {
   "cell_type": "code",
   "execution_count": 40,
   "metadata": {},
   "outputs": [],
   "source": [
    "region_gt = page_1[0]['boundingBox']\n",
    "\n",
    "gt_poly = get_polygon(region_gt)"
   ]
  },
  {
   "cell_type": "code",
   "execution_count": 41,
   "metadata": {},
   "outputs": [
    {
     "data": {
      "image/svg+xml": [
       "<svg xmlns=\"http://www.w3.org/2000/svg\" xmlns:xlink=\"http://www.w3.org/1999/xlink\" width=\"112.32000000000005\" height=\"100.0\" viewBox=\"926.84 455.84 112.32000000000005 63.31999999999999\" preserveAspectRatio=\"xMinYMin meet\"><g transform=\"matrix(1,0,0,-1,0,975.0)\"><path fill-rule=\"evenodd\" fill=\"#66cc99\" stroke=\"#555555\" stroke-width=\"2.0\" opacity=\"0.6\" d=\"M 931.0,460.0 L 1035.0,460.0 L 1035.0,515.0 L 931.0,515.0 L 931.0,460.0 z\" /></g></svg>"
      ],
      "text/plain": [
       "<shapely.geometry.polygon.Polygon at 0x7ff4fccf52e8>"
      ]
     },
     "execution_count": 41,
     "metadata": {},
     "output_type": "execute_result"
    }
   ],
   "source": [
    "gt_poly"
   ]
  },
  {
   "cell_type": "code",
   "execution_count": 43,
   "metadata": {},
   "outputs": [
    {
     "name": "stdout",
     "output_type": "stream",
     "text": [
      "75.9 µs ± 1.92 µs per loop (mean ± std. dev. of 7 runs, 10000 loops each)\n"
     ]
    }
   ],
   "source": [
    "%%timeit \n",
    "idx.intersection(gt_poly.bounds)"
   ]
  },
  {
   "cell_type": "code",
   "execution_count": 180,
   "metadata": {},
   "outputs": [
    {
     "data": {
      "text/plain": [
       "rtree.index.Index(bounds=[360.0, 515.0, 2117.0, 3020.0], size=102)"
      ]
     },
     "execution_count": 180,
     "metadata": {},
     "output_type": "execute_result"
    }
   ],
   "source": [
    "idx"
   ]
  },
  {
   "cell_type": "code",
   "execution_count": 181,
   "metadata": {},
   "outputs": [
    {
     "data": {
      "text/plain": [
       "[]"
      ]
     },
     "execution_count": 181,
     "metadata": {},
     "output_type": "execute_result"
    }
   ],
   "source": [
    "list(idx.intersection(gt_poly.bounds))"
   ]
  },
  {
   "cell_type": "code",
   "execution_count": 20,
   "metadata": {
    "scrolled": false
   },
   "outputs": [
    {
     "name": "stdout",
     "output_type": "stream",
     "text": [
      "[2020-12-21 17:22:26,555] {geos.py:73} MainThread DEBUG in geos: Found GEOS DLL: <CDLL '/home/dhiraj/py_envs/Anuvaad/lib/python3.6/site-packages/shapely/.libs/libgeos_c-a68605fd.so.1.13.1', handle 924c020 at 0x7fc5d2d8d9b0>, using it.\n",
      "[2020-12-21 17:22:26,694] {geos.py:38} MainThread DEBUG in geos: Trying `CDLL(libc.so.6)`\n",
      "[2020-12-21 17:22:26,699] {geos.py:55} MainThread DEBUG in geos: Library path: 'libc.so.6'\n",
      "[2020-12-21 17:22:26,700] {geos.py:56} MainThread DEBUG in geos: DLL: <CDLL 'libc.so.6', handle 7fc66395f000 at 0x7fc5d2d8dc18>\n"
     ]
    }
   ],
   "source": [
    "from shapely.strtree import STRtree"
   ]
  },
  {
   "cell_type": "code",
   "execution_count": 30,
   "metadata": {},
   "outputs": [],
   "source": [
    "\n",
    "def get_polygon(vertices):\n",
    "    points = []\n",
    "\n",
    "    for point in vertices:\n",
    "        print(point)\n",
    "        points.append((point['x'], point['y']))\n",
    "    poly = Polygon(points)\n",
    "    return poly\n"
   ]
  },
  {
   "cell_type": "code",
   "execution_count": null,
   "metadata": {},
   "outputs": [],
   "source": []
  },
  {
   "cell_type": "code",
   "execution_count": null,
   "metadata": {},
   "outputs": [],
   "source": []
  },
  {
   "cell_type": "code",
   "execution_count": 27,
   "metadata": {},
   "outputs": [
    {
     "data": {
      "text/plain": [
       "[{'boundingBox': {'vertices': [{'x': 1200, 'y': 347},\n",
       "    {'x': 1639, 'y': 359},\n",
       "    {'x': 1635, 'y': 489},\n",
       "    {'x': 1197, 'y': 476}]},\n",
       "  'identifier': '7d978dc6-3995-4583-afbf-50634512820a',\n",
       "  'text': '',\n",
       "  'class': 'TEXT',\n",
       "  'font': {'family': 'Arial Unicode MS', 'size': 129, 'style': 'REGULAR'}},\n",
       " {'boundingBox': {'vertices': [{'x': 1664, 'y': 352},\n",
       "    {'x': 2028, 'y': 352},\n",
       "    {'x': 2028, 'y': 480},\n",
       "    {'x': 1664, 'y': 480}]},\n",
       "  'identifier': '5588ffba-8cef-470c-a4f5-dbc661f46881',\n",
       "  'text': '',\n",
       "  'class': 'TEXT',\n",
       "  'font': {'family': 'Arial Unicode MS', 'size': 128, 'style': 'REGULAR'}},\n",
       " {'boundingBox': {'vertices': [{'x': 320, 'y': 356},\n",
       "    {'x': 544, 'y': 356},\n",
       "    {'x': 544, 'y': 480},\n",
       "    {'x': 320, 'y': 480}]},\n",
       "  'identifier': 'f7ba34ac-f8f5-4893-8cc2-357d968cbf8d',\n",
       "  'text': '',\n",
       "  'class': 'TEXT',\n",
       "  'font': {'family': 'Arial Unicode MS', 'size': 124, 'style': 'REGULAR'}},\n",
       " {'boundingBox': {'vertices': [{'x': 564, 'y': 356},\n",
       "    {'x': 1036, 'y': 356},\n",
       "    {'x': 1036, 'y': 512},\n",
       "    {'x': 564, 'y': 512}]},\n",
       "  'identifier': '34d9b4a1-f50f-477c-9f0c-464d7df859c1',\n",
       "  'text': '',\n",
       "  'class': 'TEXT',\n",
       "  'font': {'family': 'Arial Unicode MS', 'size': 156, 'style': 'REGULAR'}},\n",
       " {'boundingBox': {'vertices': [{'x': 1056, 'y': 360},\n",
       "    {'x': 1176, 'y': 360},\n",
       "    {'x': 1176, 'y': 476},\n",
       "    {'x': 1056, 'y': 476}]},\n",
       "  'identifier': 'd976515f-f6c2-46f6-8b41-4dfdf8be06c9',\n",
       "  'text': '',\n",
       "  'class': 'TEXT',\n",
       "  'font': {'family': 'Arial Unicode MS', 'size': 116, 'style': 'REGULAR'}},\n",
       " {'boundingBox': {'vertices': [{'x': 2048, 'y': 360},\n",
       "    {'x': 2168, 'y': 360},\n",
       "    {'x': 2168, 'y': 476},\n",
       "    {'x': 2048, 'y': 476}]},\n",
       "  'identifier': 'e4674ae8-a23b-493e-963b-9349ae44de8d',\n",
       "  'text': '',\n",
       "  'class': 'TEXT',\n",
       "  'font': {'family': 'Arial Unicode MS', 'size': 116, 'style': 'REGULAR'}},\n",
       " {'boundingBox': {'vertices': [{'x': 988, 'y': 490},\n",
       "    {'x': 1509, 'y': 500},\n",
       "    {'x': 1507, 'y': 627},\n",
       "    {'x': 986, 'y': 617}]},\n",
       "  'identifier': '5f2886ad-267c-44de-a263-6ee580eb518e',\n",
       "  'text': '',\n",
       "  'class': 'TEXT',\n",
       "  'font': {'family': 'Arial Unicode MS', 'size': 127, 'style': 'REGULAR'}},\n",
       " {'boundingBox': {'vertices': [{'x': 336, 'y': 800},\n",
       "    {'x': 456, 'y': 800},\n",
       "    {'x': 456, 'y': 852},\n",
       "    {'x': 336, 'y': 852}]},\n",
       "  'identifier': '0605d9db-1418-486b-8956-00bdb49b0c9c',\n",
       "  'text': '',\n",
       "  'class': 'TEXT',\n",
       "  'font': {'family': 'Arial Unicode MS', 'size': 52, 'style': 'REGULAR'}},\n",
       " {'boundingBox': {'vertices': [{'x': 1360, 'y': 800},\n",
       "    {'x': 1480, 'y': 800},\n",
       "    {'x': 1480, 'y': 848},\n",
       "    {'x': 1360, 'y': 848}]},\n",
       "  'identifier': '7a3cc6e0-423f-4963-b10d-4b867c4b4ad5',\n",
       "  'text': '',\n",
       "  'class': 'TEXT',\n",
       "  'font': {'family': 'Arial Unicode MS', 'size': 48, 'style': 'REGULAR'}},\n",
       " {'boundingBox': {'vertices': [{'x': 1596, 'y': 800},\n",
       "    {'x': 1724, 'y': 800},\n",
       "    {'x': 1724, 'y': 852},\n",
       "    {'x': 1596, 'y': 852}]},\n",
       "  'identifier': '53754a64-78bb-472e-8b2d-84da64cb2ad4',\n",
       "  'text': '',\n",
       "  'class': 'TEXT',\n",
       "  'font': {'family': 'Arial Unicode MS', 'size': 52, 'style': 'REGULAR'}},\n",
       " {'boundingBox': {'vertices': [{'x': 452, 'y': 804},\n",
       "    {'x': 528, 'y': 804},\n",
       "    {'x': 528, 'y': 848},\n",
       "    {'x': 452, 'y': 848}]},\n",
       "  'identifier': '8a2aa997-289c-4e8c-a25f-8d6d1b107d00',\n",
       "  'text': '',\n",
       "  'class': 'TEXT',\n",
       "  'font': {'family': 'Arial Unicode MS', 'size': 44, 'style': 'REGULAR'}},\n",
       " {'boundingBox': {'vertices': [{'x': 532, 'y': 804},\n",
       "    {'x': 668, 'y': 804},\n",
       "    {'x': 668, 'y': 856},\n",
       "    {'x': 532, 'y': 856}]},\n",
       "  'identifier': 'bc3f3598-bf45-40a7-8ffb-2642243c2a26',\n",
       "  'text': '',\n",
       "  'class': 'TEXT',\n",
       "  'font': {'family': 'Arial Unicode MS', 'size': 52, 'style': 'REGULAR'}},\n",
       " {'boundingBox': {'vertices': [{'x': 664, 'y': 804},\n",
       "    {'x': 708, 'y': 804},\n",
       "    {'x': 708, 'y': 848},\n",
       "    {'x': 664, 'y': 848}]},\n",
       "  'identifier': '7adf5e6a-bcea-405e-9a1a-afcbc3ae89bf',\n",
       "  'text': '',\n",
       "  'class': 'TEXT',\n",
       "  'font': {'family': 'Arial Unicode MS', 'size': 44, 'style': 'REGULAR'}},\n",
       " {'boundingBox': {'vertices': [{'x': 708, 'y': 804},\n",
       "    {'x': 776, 'y': 804},\n",
       "    {'x': 776, 'y': 848},\n",
       "    {'x': 708, 'y': 848}]},\n",
       "  'identifier': '4552cc3b-ff7d-4e1b-a3e7-d6101099aadb',\n",
       "  'text': '',\n",
       "  'class': 'TEXT',\n",
       "  'font': {'family': 'Arial Unicode MS', 'size': 44, 'style': 'REGULAR'}},\n",
       " {'boundingBox': {'vertices': [{'x': 777, 'y': 806},\n",
       "    {'x': 895, 'y': 800},\n",
       "    {'x': 897, 'y': 847},\n",
       "    {'x': 780, 'y': 853}]},\n",
       "  'identifier': '2b692925-f42b-4431-85d7-88b88aa019be',\n",
       "  'text': '',\n",
       "  'class': 'TEXT',\n",
       "  'font': {'family': 'Arial Unicode MS', 'size': 47, 'style': 'REGULAR'}},\n",
       " {'boundingBox': {'vertices': [{'x': 900, 'y': 804},\n",
       "    {'x': 1048, 'y': 804},\n",
       "    {'x': 1048, 'y': 852},\n",
       "    {'x': 900, 'y': 852}]},\n",
       "  'identifier': '0502c693-e4bf-4dfd-a9be-a59020daeaca',\n",
       "  'text': '',\n",
       "  'class': 'TEXT',\n",
       "  'font': {'family': 'Arial Unicode MS', 'size': 48, 'style': 'REGULAR'}},\n",
       " {'boundingBox': {'vertices': [{'x': 1048, 'y': 804},\n",
       "    {'x': 1104, 'y': 804},\n",
       "    {'x': 1104, 'y': 856},\n",
       "    {'x': 1048, 'y': 856}]},\n",
       "  'identifier': 'd2f3680e-cd16-4688-b09d-7a7a4a661904',\n",
       "  'text': '',\n",
       "  'class': 'TEXT',\n",
       "  'font': {'family': 'Arial Unicode MS', 'size': 52, 'style': 'REGULAR'}},\n",
       " {'boundingBox': {'vertices': [{'x': 1104, 'y': 804},\n",
       "    {'x': 1216, 'y': 804},\n",
       "    {'x': 1216, 'y': 856},\n",
       "    {'x': 1104, 'y': 856}]},\n",
       "  'identifier': 'dee8736d-3908-44a8-a66c-04451c0a2c38',\n",
       "  'text': '',\n",
       "  'class': 'TEXT',\n",
       "  'font': {'family': 'Arial Unicode MS', 'size': 52, 'style': 'REGULAR'}},\n",
       " {'boundingBox': {'vertices': [{'x': 1216, 'y': 804},\n",
       "    {'x': 1356, 'y': 804},\n",
       "    {'x': 1356, 'y': 848},\n",
       "    {'x': 1216, 'y': 848}]},\n",
       "  'identifier': '2c3ee922-c53c-402a-a041-7f6104f44ada',\n",
       "  'text': '',\n",
       "  'class': 'TEXT',\n",
       "  'font': {'family': 'Arial Unicode MS', 'size': 44, 'style': 'REGULAR'}},\n",
       " {'boundingBox': {'vertices': [{'x': 1484, 'y': 804},\n",
       "    {'x': 1588, 'y': 804},\n",
       "    {'x': 1588, 'y': 852},\n",
       "    {'x': 1484, 'y': 852}]},\n",
       "  'identifier': 'cbcf53ba-f916-43da-808d-d84e8f83b664',\n",
       "  'text': '',\n",
       "  'class': 'TEXT',\n",
       "  'font': {'family': 'Arial Unicode MS', 'size': 48, 'style': 'REGULAR'}},\n",
       " {'boundingBox': {'vertices': [{'x': 1728, 'y': 800},\n",
       "    {'x': 1877, 'y': 805},\n",
       "    {'x': 1875, 'y': 853},\n",
       "    {'x': 1726, 'y': 847}]},\n",
       "  'identifier': '74f93b21-cd89-4db5-a65a-0f2442502341',\n",
       "  'text': '',\n",
       "  'class': 'TEXT',\n",
       "  'font': {'family': 'Arial Unicode MS', 'size': 47, 'style': 'REGULAR'}},\n",
       " {'boundingBox': {'vertices': [{'x': 1876, 'y': 804},\n",
       "    {'x': 1932, 'y': 804},\n",
       "    {'x': 1932, 'y': 856},\n",
       "    {'x': 1876, 'y': 856}]},\n",
       "  'identifier': 'ed79c76e-382c-4b67-8d0c-fec57a784974',\n",
       "  'text': '',\n",
       "  'class': 'TEXT',\n",
       "  'font': {'family': 'Arial Unicode MS', 'size': 52, 'style': 'REGULAR'}},\n",
       " {'boundingBox': {'vertices': [{'x': 1932, 'y': 804},\n",
       "    {'x': 2008, 'y': 804},\n",
       "    {'x': 2008, 'y': 848},\n",
       "    {'x': 1932, 'y': 848}]},\n",
       "  'identifier': '6bd26380-c350-4d0d-a1c6-b56afe10c6d0',\n",
       "  'text': '',\n",
       "  'class': 'TEXT',\n",
       "  'font': {'family': 'Arial Unicode MS', 'size': 44, 'style': 'REGULAR'}},\n",
       " {'boundingBox': {'vertices': [{'x': 2012, 'y': 804},\n",
       "    {'x': 2144, 'y': 804},\n",
       "    {'x': 2144, 'y': 848},\n",
       "    {'x': 2012, 'y': 848}]},\n",
       "  'identifier': 'e2157da8-4b02-4a89-8c1c-ade99357e4a0',\n",
       "  'text': '',\n",
       "  'class': 'TEXT',\n",
       "  'font': {'family': 'Arial Unicode MS', 'size': 44, 'style': 'REGULAR'}},\n",
       " {'boundingBox': {'vertices': [{'x': 256, 'y': 848},\n",
       "    {'x': 464, 'y': 848},\n",
       "    {'x': 464, 'y': 892},\n",
       "    {'x': 256, 'y': 892}]},\n",
       "  'identifier': '6d8050bd-f2f2-4481-af07-636e59f58268',\n",
       "  'text': '',\n",
       "  'class': 'TEXT',\n",
       "  'font': {'family': 'Arial Unicode MS', 'size': 44, 'style': 'REGULAR'}},\n",
       " {'boundingBox': {'vertices': [{'x': 480, 'y': 848},\n",
       "    {'x': 568, 'y': 848},\n",
       "    {'x': 568, 'y': 892},\n",
       "    {'x': 480, 'y': 892}]},\n",
       "  'identifier': '84a1de32-74b0-40c1-9a3a-78e75f8bccb6',\n",
       "  'text': '',\n",
       "  'class': 'TEXT',\n",
       "  'font': {'family': 'Arial Unicode MS', 'size': 44, 'style': 'REGULAR'}},\n",
       " {'boundingBox': {'vertices': [{'x': 576, 'y': 848},\n",
       "    {'x': 716, 'y': 848},\n",
       "    {'x': 716, 'y': 892},\n",
       "    {'x': 576, 'y': 892}]},\n",
       "  'identifier': 'ce322bf3-0be4-46f3-b92e-dbac06d45aae',\n",
       "  'text': '',\n",
       "  'class': 'TEXT',\n",
       "  'font': {'family': 'Arial Unicode MS', 'size': 44, 'style': 'REGULAR'}},\n",
       " {'boundingBox': {'vertices': [{'x': 776, 'y': 848},\n",
       "    {'x': 852, 'y': 848},\n",
       "    {'x': 852, 'y': 892},\n",
       "    {'x': 776, 'y': 892}]},\n",
       "  'identifier': '36da01dd-f2ad-4d3f-a78c-8a951c90ce34',\n",
       "  'text': '',\n",
       "  'class': 'TEXT',\n",
       "  'font': {'family': 'Arial Unicode MS', 'size': 44, 'style': 'REGULAR'}},\n",
       " {'boundingBox': {'vertices': [{'x': 856, 'y': 846},\n",
       "    {'x': 989, 'y': 852},\n",
       "    {'x': 987, 'y': 898},\n",
       "    {'x': 854, 'y': 892}]},\n",
       "  'identifier': '6f68eb85-c923-4316-9b87-80a382a393a0',\n",
       "  'text': '',\n",
       "  'class': 'TEXT',\n",
       "  'font': {'family': 'Arial Unicode MS', 'size': 46, 'style': 'REGULAR'}},\n",
       " {'boundingBox': {'vertices': [{'x': 996, 'y': 848},\n",
       "    {'x': 1128, 'y': 848},\n",
       "    {'x': 1128, 'y': 892},\n",
       "    {'x': 996, 'y': 892}]},\n",
       "  'identifier': '40a9bb22-fb8c-4fd5-8ad2-e77257f8f469',\n",
       "  'text': '',\n",
       "  'class': 'TEXT',\n",
       "  'font': {'family': 'Arial Unicode MS', 'size': 44, 'style': 'REGULAR'}},\n",
       " {'boundingBox': {'vertices': [{'x': 1124, 'y': 848},\n",
       "    {'x': 1208, 'y': 848},\n",
       "    {'x': 1208, 'y': 896},\n",
       "    {'x': 1124, 'y': 896}]},\n",
       "  'identifier': '550c0d19-b37b-4363-97c2-0174b0c2283d',\n",
       "  'text': '',\n",
       "  'class': 'TEXT',\n",
       "  'font': {'family': 'Arial Unicode MS', 'size': 48, 'style': 'REGULAR'}},\n",
       " {'boundingBox': {'vertices': [{'x': 1216, 'y': 848},\n",
       "    {'x': 1408, 'y': 848},\n",
       "    {'x': 1408, 'y': 904},\n",
       "    {'x': 1216, 'y': 904}]},\n",
       "  'identifier': '3b88e263-62d0-4fcd-b73b-2ca2ea8c0304',\n",
       "  'text': '',\n",
       "  'class': 'TEXT',\n",
       "  'font': {'family': 'Arial Unicode MS', 'size': 56, 'style': 'REGULAR'}},\n",
       " {'boundingBox': {'vertices': [{'x': 1408, 'y': 848},\n",
       "    {'x': 1500, 'y': 848},\n",
       "    {'x': 1500, 'y': 892},\n",
       "    {'x': 1408, 'y': 892}]},\n",
       "  'identifier': '0bfd0ab5-51ef-4ec7-b50b-aa3dfeb23f27',\n",
       "  'text': '',\n",
       "  'class': 'TEXT',\n",
       "  'font': {'family': 'Arial Unicode MS', 'size': 44, 'style': 'REGULAR'}},\n",
       " {'boundingBox': {'vertices': [{'x': 1504, 'y': 848},\n",
       "    {'x': 1644, 'y': 848},\n",
       "    {'x': 1644, 'y': 892},\n",
       "    {'x': 1504, 'y': 892}]},\n",
       "  'identifier': '6771bf18-2ec4-4bdd-ba67-c7566c46b446',\n",
       "  'text': '',\n",
       "  'class': 'TEXT',\n",
       "  'font': {'family': 'Arial Unicode MS', 'size': 44, 'style': 'REGULAR'}},\n",
       " {'boundingBox': {'vertices': [{'x': 1796, 'y': 847},\n",
       "    {'x': 2024, 'y': 851},\n",
       "    {'x': 2023, 'y': 896},\n",
       "    {'x': 1795, 'y': 891}]},\n",
       "  'identifier': 'b8b267b3-ef38-493b-9182-602df22d415b',\n",
       "  'text': '',\n",
       "  'class': 'TEXT',\n",
       "  'font': {'family': 'Arial Unicode MS', 'size': 44, 'style': 'REGULAR'}},\n",
       " {'boundingBox': {'vertices': [{'x': 2028, 'y': 848},\n",
       "    {'x': 2140, 'y': 848},\n",
       "    {'x': 2140, 'y': 892},\n",
       "    {'x': 2028, 'y': 892}]},\n",
       "  'identifier': '6a3c56c5-320b-47d6-a33a-95a86dcc9c4d',\n",
       "  'text': '',\n",
       "  'class': 'TEXT',\n",
       "  'font': {'family': 'Arial Unicode MS', 'size': 44, 'style': 'REGULAR'}},\n",
       " {'boundingBox': {'vertices': [{'x': 2148, 'y': 848},\n",
       "    {'x': 2228, 'y': 848},\n",
       "    {'x': 2228, 'y': 896},\n",
       "    {'x': 2148, 'y': 896}]},\n",
       "  'identifier': '6f8b26a9-be78-48e4-b3db-0798e361c4d4',\n",
       "  'text': '',\n",
       "  'class': 'TEXT',\n",
       "  'font': {'family': 'Arial Unicode MS', 'size': 48, 'style': 'REGULAR'}},\n",
       " {'boundingBox': {'vertices': [{'x': 720, 'y': 852},\n",
       "    {'x': 776, 'y': 852},\n",
       "    {'x': 776, 'y': 904},\n",
       "    {'x': 720, 'y': 904}]},\n",
       "  'identifier': '6fbd95e5-047c-41a9-81e4-e07620a52f60',\n",
       "  'text': '',\n",
       "  'class': 'TEXT',\n",
       "  'font': {'family': 'Arial Unicode MS', 'size': 52, 'style': 'REGULAR'}},\n",
       " {'boundingBox': {'vertices': [{'x': 1652, 'y': 852},\n",
       "    {'x': 1704, 'y': 852},\n",
       "    {'x': 1704, 'y': 904},\n",
       "    {'x': 1652, 'y': 904}]},\n",
       "  'identifier': '33b8d7db-77fe-4c13-a766-8ad40d32c338',\n",
       "  'text': '',\n",
       "  'class': 'TEXT',\n",
       "  'font': {'family': 'Arial Unicode MS', 'size': 52, 'style': 'REGULAR'}},\n",
       " {'boundingBox': {'vertices': [{'x': 1704, 'y': 852},\n",
       "    {'x': 1792, 'y': 852},\n",
       "    {'x': 1792, 'y': 892},\n",
       "    {'x': 1704, 'y': 892}]},\n",
       "  'identifier': 'bce84c44-f0cd-4fbf-8b93-cb155a75b18c',\n",
       "  'text': '',\n",
       "  'class': 'TEXT',\n",
       "  'font': {'family': 'Arial Unicode MS', 'size': 40, 'style': 'REGULAR'}},\n",
       " {'boundingBox': {'vertices': [{'x': 244, 'y': 896},\n",
       "    {'x': 336, 'y': 896},\n",
       "    {'x': 336, 'y': 944},\n",
       "    {'x': 244, 'y': 944}]},\n",
       "  'identifier': '2b0fbace-98bb-42ec-98f1-e0bb9c67572c',\n",
       "  'text': '',\n",
       "  'class': 'TEXT',\n",
       "  'font': {'family': 'Arial Unicode MS', 'size': 48, 'style': 'REGULAR'}},\n",
       " {'boundingBox': {'vertices': [{'x': 532, 'y': 896},\n",
       "    {'x': 608, 'y': 896},\n",
       "    {'x': 608, 'y': 944},\n",
       "    {'x': 532, 'y': 944}]},\n",
       "  'identifier': 'f6aa5cb8-efd6-4e5a-9976-6b483bb4d779',\n",
       "  'text': '',\n",
       "  'class': 'TEXT',\n",
       "  'font': {'family': 'Arial Unicode MS', 'size': 48, 'style': 'REGULAR'}},\n",
       " {'boundingBox': {'vertices': [{'x': 612, 'y': 896},\n",
       "    {'x': 752, 'y': 896},\n",
       "    {'x': 752, 'y': 940},\n",
       "    {'x': 612, 'y': 940}]},\n",
       "  'identifier': '34e8d5de-8e69-4924-8e63-b43b9276101c',\n",
       "  'text': '',\n",
       "  'class': 'TEXT',\n",
       "  'font': {'family': 'Arial Unicode MS', 'size': 44, 'style': 'REGULAR'}},\n",
       " {'boundingBox': {'vertices': [{'x': 752, 'y': 896},\n",
       "    {'x': 792, 'y': 896},\n",
       "    {'x': 792, 'y': 940},\n",
       "    {'x': 752, 'y': 940}]},\n",
       "  'identifier': '329efc3b-a210-4b48-815e-10905bd224f2',\n",
       "  'text': '',\n",
       "  'class': 'TEXT',\n",
       "  'font': {'family': 'Arial Unicode MS', 'size': 44, 'style': 'REGULAR'}},\n",
       " {'boundingBox': {'vertices': [{'x': 800, 'y': 896},\n",
       "    {'x': 992, 'y': 896},\n",
       "    {'x': 992, 'y': 952},\n",
       "    {'x': 800, 'y': 952}]},\n",
       "  'identifier': 'd7378bb1-0b38-4595-a4b3-315b2ec80ca9',\n",
       "  'text': '',\n",
       "  'class': 'TEXT',\n",
       "  'font': {'family': 'Arial Unicode MS', 'size': 56, 'style': 'REGULAR'}},\n",
       " {'boundingBox': {'vertices': [{'x': 1032, 'y': 896},\n",
       "    {'x': 1132, 'y': 896},\n",
       "    {'x': 1132, 'y': 944},\n",
       "    {'x': 1032, 'y': 944}]},\n",
       "  'identifier': '4413eae1-edd9-444c-ad39-56eaea5c5b7e',\n",
       "  'text': '',\n",
       "  'class': 'TEXT',\n",
       "  'font': {'family': 'Arial Unicode MS', 'size': 48, 'style': 'REGULAR'}},\n",
       " {'boundingBox': {'vertices': [{'x': 1132, 'y': 896},\n",
       "    {'x': 1208, 'y': 896},\n",
       "    {'x': 1208, 'y': 940},\n",
       "    {'x': 1132, 'y': 940}]},\n",
       "  'identifier': '303e84fc-be7a-4b30-8afa-916dea911e2f',\n",
       "  'text': '',\n",
       "  'class': 'TEXT',\n",
       "  'font': {'family': 'Arial Unicode MS', 'size': 44, 'style': 'REGULAR'}},\n",
       " {'boundingBox': {'vertices': [{'x': 1216, 'y': 896},\n",
       "    {'x': 1344, 'y': 896},\n",
       "    {'x': 1344, 'y': 940},\n",
       "    {'x': 1216, 'y': 940}]},\n",
       "  'identifier': '58ae7360-e17e-4b9f-92c7-b7c3beac23f3',\n",
       "  'text': '',\n",
       "  'class': 'TEXT',\n",
       "  'font': {'family': 'Arial Unicode MS', 'size': 44, 'style': 'REGULAR'}},\n",
       " {'boundingBox': {'vertices': [{'x': 1352, 'y': 896},\n",
       "    {'x': 1440, 'y': 896},\n",
       "    {'x': 1440, 'y': 944},\n",
       "    {'x': 1352, 'y': 944}]},\n",
       "  'identifier': '24cab02d-a1e8-4540-91f9-4f330d8cfc9e',\n",
       "  'text': '',\n",
       "  'class': 'TEXT',\n",
       "  'font': {'family': 'Arial Unicode MS', 'size': 48, 'style': 'REGULAR'}},\n",
       " {'boundingBox': {'vertices': [{'x': 1628, 'y': 894},\n",
       "    {'x': 1741, 'y': 901},\n",
       "    {'x': 1738, 'y': 949},\n",
       "    {'x': 1625, 'y': 942}]},\n",
       "  'identifier': '3ec8dcdd-8487-48d9-adbd-106666f9a8da',\n",
       "  'text': '',\n",
       "  'class': 'TEXT',\n",
       "  'font': {'family': 'Arial Unicode MS', 'size': 48, 'style': 'REGULAR'}},\n",
       " {'boundingBox': {'vertices': [{'x': 1744, 'y': 896},\n",
       "    {'x': 1800, 'y': 896},\n",
       "    {'x': 1800, 'y': 944},\n",
       "    {'x': 1744, 'y': 944}]},\n",
       "  'identifier': '32a08a60-9663-4fa7-a537-77fae62c49ea',\n",
       "  'text': '',\n",
       "  'class': 'TEXT',\n",
       "  'font': {'family': 'Arial Unicode MS', 'size': 48, 'style': 'REGULAR'}},\n",
       " {'boundingBox': {'vertices': [{'x': 1800, 'y': 896},\n",
       "    {'x': 2004, 'y': 896},\n",
       "    {'x': 2004, 'y': 944},\n",
       "    {'x': 1800, 'y': 944}]},\n",
       "  'identifier': 'fe229b5c-be2e-4683-8540-95d41d93b635',\n",
       "  'text': '',\n",
       "  'class': 'TEXT',\n",
       "  'font': {'family': 'Arial Unicode MS', 'size': 48, 'style': 'REGULAR'}},\n",
       " {'boundingBox': {'vertices': [{'x': 2063, 'y': 896},\n",
       "    {'x': 2235, 'y': 896},\n",
       "    {'x': 2235, 'y': 940},\n",
       "    {'x': 2063, 'y': 940}]},\n",
       "  'identifier': '99ed837e-d9d5-48d8-a767-d696ae730e25',\n",
       "  'text': '',\n",
       "  'class': 'TEXT',\n",
       "  'font': {'family': 'Arial Unicode MS', 'size': 44, 'style': 'REGULAR'}},\n",
       " {'boundingBox': {'vertices': [{'x': 340, 'y': 900},\n",
       "    {'x': 488, 'y': 900},\n",
       "    {'x': 488, 'y': 944},\n",
       "    {'x': 340, 'y': 944}]},\n",
       "  'identifier': 'cacd1fb8-7f46-4940-8361-1f5daf82c7b5',\n",
       "  'text': '',\n",
       "  'class': 'TEXT',\n",
       "  'font': {'family': 'Arial Unicode MS', 'size': 44, 'style': 'REGULAR'}},\n",
       " {'boundingBox': {'vertices': [{'x': 488, 'y': 900},\n",
       "    {'x': 532, 'y': 900},\n",
       "    {'x': 532, 'y': 940},\n",
       "    {'x': 488, 'y': 940}]},\n",
       "  'identifier': '4db503a8-b6aa-4e21-9998-3b1a8f8008d3',\n",
       "  'text': '',\n",
       "  'class': 'TEXT',\n",
       "  'font': {'family': 'Arial Unicode MS', 'size': 40, 'style': 'REGULAR'}},\n",
       " {'boundingBox': {'vertices': [{'x': 984, 'y': 900},\n",
       "    {'x': 1028, 'y': 900},\n",
       "    {'x': 1028, 'y': 936},\n",
       "    {'x': 984, 'y': 936}]},\n",
       "  'identifier': '2519d414-a588-462b-b97c-3b6a8b881619',\n",
       "  'text': '',\n",
       "  'class': 'TEXT',\n",
       "  'font': {'family': 'Arial Unicode MS', 'size': 36, 'style': 'REGULAR'}},\n",
       " {'boundingBox': {'vertices': [{'x': 1440, 'y': 900},\n",
       "    {'x': 1536, 'y': 900},\n",
       "    {'x': 1536, 'y': 940},\n",
       "    {'x': 1440, 'y': 940}]},\n",
       "  'identifier': 'f0876862-3fef-43c9-8dfa-d26fa110dc8b',\n",
       "  'text': '',\n",
       "  'class': 'TEXT',\n",
       "  'font': {'family': 'Arial Unicode MS', 'size': 40, 'style': 'REGULAR'}},\n",
       " {'boundingBox': {'vertices': [{'x': 1540, 'y': 900},\n",
       "    {'x': 1628, 'y': 900},\n",
       "    {'x': 1628, 'y': 944},\n",
       "    {'x': 1540, 'y': 944}]},\n",
       "  'identifier': '459ab3d6-5d6d-49d4-bf7c-c250c94d7d90',\n",
       "  'text': '',\n",
       "  'class': 'TEXT',\n",
       "  'font': {'family': 'Arial Unicode MS', 'size': 44, 'style': 'REGULAR'}},\n",
       " {'boundingBox': {'vertices': [{'x': 2004, 'y': 900},\n",
       "    {'x': 2060, 'y': 900},\n",
       "    {'x': 2060, 'y': 940},\n",
       "    {'x': 2004, 'y': 940}]},\n",
       "  'identifier': 'f35a3050-c105-4d04-b792-244c4ebedfdc',\n",
       "  'text': '',\n",
       "  'class': 'TEXT',\n",
       "  'font': {'family': 'Arial Unicode MS', 'size': 40, 'style': 'REGULAR'}},\n",
       " {'boundingBox': {'vertices': [{'x': 828, 'y': 944},\n",
       "    {'x': 908, 'y': 944},\n",
       "    {'x': 908, 'y': 988},\n",
       "    {'x': 828, 'y': 988}]},\n",
       "  'identifier': 'f97cb46d-61a6-47c6-8d68-fc100ac61535',\n",
       "  'text': '',\n",
       "  'class': 'TEXT',\n",
       "  'font': {'family': 'Arial Unicode MS', 'size': 44, 'style': 'REGULAR'}},\n",
       " {'boundingBox': {'vertices': [{'x': 908, 'y': 944},\n",
       "    {'x': 940, 'y': 944},\n",
       "    {'x': 940, 'y': 984},\n",
       "    {'x': 908, 'y': 984}]},\n",
       "  'identifier': '8de53a80-bb61-47c6-8545-eb40b1fb6b2e',\n",
       "  'text': '',\n",
       "  'class': 'TEXT',\n",
       "  'font': {'family': 'Arial Unicode MS', 'size': 40, 'style': 'REGULAR'}},\n",
       " {'boundingBox': {'vertices': [{'x': 944, 'y': 944},\n",
       "    {'x': 1008, 'y': 944},\n",
       "    {'x': 1008, 'y': 988},\n",
       "    {'x': 944, 'y': 988}]},\n",
       "  'identifier': '6653df43-2d81-4a6b-9ae0-57743acf6698',\n",
       "  'text': '',\n",
       "  'class': 'TEXT',\n",
       "  'font': {'family': 'Arial Unicode MS', 'size': 44, 'style': 'REGULAR'}},\n",
       " {'boundingBox': {'vertices': [{'x': 1012, 'y': 944},\n",
       "    {'x': 1064, 'y': 944},\n",
       "    {'x': 1064, 'y': 988},\n",
       "    {'x': 1012, 'y': 988}]},\n",
       "  'identifier': 'f9aec423-29f3-4235-8737-80eb208c8cd2',\n",
       "  'text': '',\n",
       "  'class': 'TEXT',\n",
       "  'font': {'family': 'Arial Unicode MS', 'size': 44, 'style': 'REGULAR'}},\n",
       " {'boundingBox': {'vertices': [{'x': 1068, 'y': 944},\n",
       "    {'x': 1236, 'y': 944},\n",
       "    {'x': 1236, 'y': 992},\n",
       "    {'x': 1068, 'y': 992}]},\n",
       "  'identifier': '01b09ea8-8aed-4ef7-ab48-126174c489ee',\n",
       "  'text': '',\n",
       "  'class': 'TEXT',\n",
       "  'font': {'family': 'Arial Unicode MS', 'size': 48, 'style': 'REGULAR'}},\n",
       " {'boundingBox': {'vertices': [{'x': 1284, 'y': 944},\n",
       "    {'x': 1420, 'y': 944},\n",
       "    {'x': 1420, 'y': 988},\n",
       "    {'x': 1284, 'y': 988}]},\n",
       "  'identifier': 'e676183b-2a4c-44dd-a394-6512738c05b0',\n",
       "  'text': '',\n",
       "  'class': 'TEXT',\n",
       "  'font': {'family': 'Arial Unicode MS', 'size': 44, 'style': 'REGULAR'}},\n",
       " {'boundingBox': {'vertices': [{'x': 1424, 'y': 944},\n",
       "    {'x': 1464, 'y': 944},\n",
       "    {'x': 1464, 'y': 988},\n",
       "    {'x': 1424, 'y': 988}]},\n",
       "  'identifier': '7e70977c-abfe-4704-8356-499186d851aa',\n",
       "  'text': '',\n",
       "  'class': 'TEXT',\n",
       "  'font': {'family': 'Arial Unicode MS', 'size': 44, 'style': 'REGULAR'}},\n",
       " {'boundingBox': {'vertices': [{'x': 1236, 'y': 948},\n",
       "    {'x': 1284, 'y': 948},\n",
       "    {'x': 1284, 'y': 988},\n",
       "    {'x': 1236, 'y': 988}]},\n",
       "  'identifier': '5548aa39-ffe8-4f63-b3ae-48e1b28b101d',\n",
       "  'text': '',\n",
       "  'class': 'TEXT',\n",
       "  'font': {'family': 'Arial Unicode MS', 'size': 40, 'style': 'REGULAR'}},\n",
       " {'boundingBox': {'vertices': [{'x': 1468, 'y': 948},\n",
       "    {'x': 1544, 'y': 948},\n",
       "    {'x': 1544, 'y': 992},\n",
       "    {'x': 1468, 'y': 992}]},\n",
       "  'identifier': 'ffa16728-bf2c-4ab4-959d-657cff1de13e',\n",
       "  'text': '',\n",
       "  'class': 'TEXT',\n",
       "  'font': {'family': 'Arial Unicode MS', 'size': 44, 'style': 'REGULAR'}},\n",
       " {'boundingBox': {'vertices': [{'x': 1548, 'y': 948},\n",
       "    {'x': 1640, 'y': 948},\n",
       "    {'x': 1640, 'y': 992},\n",
       "    {'x': 1548, 'y': 992}]},\n",
       "  'identifier': 'd8c55d07-0ff0-4b85-bfe3-b072dc88f727',\n",
       "  'text': '',\n",
       "  'class': 'TEXT',\n",
       "  'font': {'family': 'Arial Unicode MS', 'size': 44, 'style': 'REGULAR'}}]"
      ]
     },
     "execution_count": 27,
     "metadata": {},
     "output_type": "execute_result"
    }
   ],
   "source": [
    "page_2"
   ]
  },
  {
   "cell_type": "code",
   "execution_count": 29,
   "metadata": {},
   "outputs": [
    {
     "ename": "TypeError",
     "evalue": "string indices must be integers",
     "output_type": "error",
     "traceback": [
      "\u001b[0;31m---------------------------------------------------------------------------\u001b[0m",
      "\u001b[0;31mTypeError\u001b[0m                                 Traceback (most recent call last)",
      "\u001b[0;32m<ipython-input-29-d555fe70b603>\u001b[0m in \u001b[0;36m<module>\u001b[0;34m\u001b[0m\n\u001b[1;32m      1\u001b[0m \u001b[0mpolygons\u001b[0m\u001b[0;34m=\u001b[0m\u001b[0;34m[\u001b[0m\u001b[0;34m]\u001b[0m\u001b[0;34m\u001b[0m\u001b[0;34m\u001b[0m\u001b[0m\n\u001b[1;32m      2\u001b[0m \u001b[0;32mfor\u001b[0m \u001b[0mregion\u001b[0m \u001b[0;32min\u001b[0m \u001b[0mpage_2\u001b[0m \u001b[0;34m:\u001b[0m\u001b[0;34m\u001b[0m\u001b[0;34m\u001b[0m\u001b[0m\n\u001b[0;32m----> 3\u001b[0;31m     \u001b[0mpolygons\u001b[0m\u001b[0;34m.\u001b[0m\u001b[0mappend\u001b[0m\u001b[0;34m(\u001b[0m\u001b[0mget_polygon\u001b[0m\u001b[0;34m(\u001b[0m\u001b[0mregion\u001b[0m\u001b[0;34m[\u001b[0m\u001b[0;34m'boundingBox'\u001b[0m\u001b[0;34m]\u001b[0m\u001b[0;34m)\u001b[0m\u001b[0;34m)\u001b[0m\u001b[0;34m\u001b[0m\u001b[0;34m\u001b[0m\u001b[0m\n\u001b[0m",
      "\u001b[0;32m<ipython-input-28-ce7c002861f8>\u001b[0m in \u001b[0;36mget_polygon\u001b[0;34m(vertices)\u001b[0m\n\u001b[1;32m      2\u001b[0m     \u001b[0mpoints\u001b[0m \u001b[0;34m=\u001b[0m \u001b[0;34m[\u001b[0m\u001b[0;34m]\u001b[0m\u001b[0;34m\u001b[0m\u001b[0;34m\u001b[0m\u001b[0m\n\u001b[1;32m      3\u001b[0m     \u001b[0;32mfor\u001b[0m \u001b[0mpoint\u001b[0m \u001b[0;32min\u001b[0m \u001b[0mvertices\u001b[0m\u001b[0;34m:\u001b[0m\u001b[0;34m\u001b[0m\u001b[0;34m\u001b[0m\u001b[0m\n\u001b[0;32m----> 4\u001b[0;31m         \u001b[0mpoints\u001b[0m\u001b[0;34m.\u001b[0m\u001b[0mappend\u001b[0m\u001b[0;34m(\u001b[0m\u001b[0;34m(\u001b[0m\u001b[0mpoint\u001b[0m\u001b[0;34m[\u001b[0m\u001b[0;34m'x'\u001b[0m\u001b[0;34m]\u001b[0m\u001b[0;34m,\u001b[0m \u001b[0mpoint\u001b[0m\u001b[0;34m[\u001b[0m\u001b[0;34m'y'\u001b[0m\u001b[0;34m]\u001b[0m\u001b[0;34m)\u001b[0m\u001b[0;34m)\u001b[0m\u001b[0;34m\u001b[0m\u001b[0;34m\u001b[0m\u001b[0m\n\u001b[0m\u001b[1;32m      5\u001b[0m     \u001b[0mpoly\u001b[0m \u001b[0;34m=\u001b[0m \u001b[0mPolygon\u001b[0m\u001b[0;34m(\u001b[0m\u001b[0mpoints\u001b[0m\u001b[0;34m)\u001b[0m\u001b[0;34m\u001b[0m\u001b[0;34m\u001b[0m\u001b[0m\n\u001b[1;32m      6\u001b[0m     \u001b[0;32mreturn\u001b[0m \u001b[0mpoly\u001b[0m\u001b[0;34m\u001b[0m\u001b[0;34m\u001b[0m\u001b[0m\n",
      "\u001b[0;31mTypeError\u001b[0m: string indices must be integers"
     ]
    }
   ],
   "source": [
    "polygons=[]\n",
    "for region in page_2 :\n",
    "    polygons.append(get_polygon(region['boundingBox']))"
   ]
  },
  {
   "cell_type": "code",
   "execution_count": null,
   "metadata": {},
   "outputs": [],
   "source": [
    "for poly_index ,poly in enumerate(polygons):\n",
    "    idx.insert(poly_index, poly.bounds)"
   ]
  },
  {
   "cell_type": "code",
   "execution_count": null,
   "metadata": {},
   "outputs": [],
   "source": [
    "STRtree"
   ]
  }
 ],
 "metadata": {
  "kernelspec": {
   "display_name": "Anuvaad",
   "language": "python",
   "name": "anuvaad"
  },
  "language_info": {
   "codemirror_mode": {
    "name": "ipython",
    "version": 3
   },
   "file_extension": ".py",
   "mimetype": "text/x-python",
   "name": "python",
   "nbconvert_exporter": "python",
   "pygments_lexer": "ipython3",
   "version": "3.6.12"
  }
 },
 "nbformat": 4,
 "nbformat_minor": 4
}
