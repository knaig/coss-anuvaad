{
 "cells": [
  {
   "cell_type": "code",
   "execution_count": 1,
   "metadata": {},
   "outputs": [],
   "source": [
    "import json\n",
    "from PIL import Image, ImageDraw\n",
    "import requests\n",
    "from io import BytesIO\n",
    "import pandas as pd\n",
    "import uuid\n",
    "import numpy as np\n",
    "import cv2"
   ]
  },
  {
   "cell_type": "code",
   "execution_count": 2,
   "metadata": {},
   "outputs": [],
   "source": [
    "class Page:\n",
    "    def __init__(self,input_file,local=False):\n",
    "        self.file = input_file\n",
    "        self.local = local\n",
    "        self.get_json()\n",
    "        \n",
    "    def get_json(self):\n",
    "        if self.local :\n",
    "            with open(self.file) as f :\n",
    "                self.json = json.load(f)\n",
    "        else :\n",
    "            file_name = self.file['input']['name']\n",
    "            r = requests.get('https://auth.anuvaad.org/download/' + file_name)\n",
    "            self.json = r.json()\n",
    "        \n",
    "    def get_page(self,page_index):\n",
    "        page_path = self.json['rsp']['outputs'][0]['page_info'][page_index]\n",
    "        page_path = '/'.join(page_path.split('/')[1:])\n",
    "        page_request = requests.get('https://auth.anuvaad.org/download/' + page_path)\n",
    "        return page_request.content\n",
    "    \n",
    "#     def get_page_path(self,page_index):\n",
    "#         return self.json['rsp']['outputs'][0]['page_info'][page_index]\n",
    "        \n",
    "        \n",
    "        "
   ]
  },
  {
   "cell_type": "code",
   "execution_count": 8,
   "metadata": {},
   "outputs": [],
   "source": [
    "def draw_box(page_image,compare_corrds, save=False):\n",
    "    \n",
    "    #image = Image.open(BytesIO(page_image))\n",
    "    image = Image.open(page_image)\n",
    "   \n",
    "    draw   = ImageDraw.Draw(image)\n",
    "    \n",
    "    for region in compare_corrds :\n",
    "        if region['ground'] != None :\n",
    "            ground = region['ground']['boundingBox']['vertices']\n",
    "            draw.rectangle(((ground[2]['x'],  ground[2]['y']), (ground[0]['x'],ground[0]['y'])), outline= 'red',width=5)\n",
    "\n",
    "        if region['input'] != None:\n",
    "            inpu_t = region['input']['boundingBox']['vertices']\n",
    "            draw.rectangle(((inpu_t[2]['x'],  inpu_t[2]['y']), (inpu_t[0]['x'],inpu_t[0]['y'])), outline= 'blue',width=5)\n",
    "\n",
    "    #save_filepath = os.path.join(os.path.dirname(filepath), 'processed_' + os.path.basename(filepath))\n",
    "    if save:\n",
    "        image.save(str(uuid.uuid1()) + '.png')\n",
    "    \n",
    "    return image\n",
    "\n",
    "\n",
    "\n",
    "def draw_region(page_image,corrds,color='red',  save=False):\n",
    "    \n",
    "    #image = Image.open(BytesIO(page_image))\n",
    "    image = Image.open(page_image)\n",
    "   \n",
    "    draw   = ImageDraw.Draw(image)\n",
    "    \n",
    "    for region in corrds :\n",
    "       \n",
    "            ground = region['boundingBox']['vertices']\n",
    "            draw.rectangle(((ground[2]['x'],  ground[2]['y']), (ground[0]['x'],ground[0]['y'])), outline= color,width=5)\n",
    "\n",
    "    if save:\n",
    "        image.save(str(uuid.uuid1()) + '.png')\n",
    "    \n",
    "    return image"
   ]
  },
  {
   "cell_type": "code",
   "execution_count": null,
   "metadata": {},
   "outputs": [],
   "source": []
  },
  {
   "cell_type": "code",
   "execution_count": 48,
   "metadata": {},
   "outputs": [],
   "source": [
    "#eval_path = '/home/dhiraj/Documents/anuvaad/anuvaad-etl/anuvaad-extractor/document-processor/evaluator/upload/0-1606481427232606.json'\n",
    "image_base_path = '/home/naresh/anuvaad/anuvaad-etl/anuvaad-extractor/document-processor/word-detector/craft/'\n",
    "\n",
    "input_path = '/home/naresh/anuvaad/anuvaad-etl/anuvaad-extractor/document-processor/word-detector/craft/upload/dict_craft.json'\n",
    "ground_path = '/home/naresh/anuvaad/anuvaad-etl/anuvaad-extractor/document-processor/ocr/google/upload/dict_vision.json'\n",
    "\n",
    "#eval_path = '/home/dhiraj/Documents/anuvaad/anuvaad-etl/anuvaad-extractor/document-processor/evaluator/upload/0-1606746943858071.json'"
   ]
  },
  {
   "cell_type": "code",
   "execution_count": 49,
   "metadata": {},
   "outputs": [],
   "source": [
    "\n",
    "#with open(eval_path) as f :\n",
    "    #eval_data = json.load(f)\n",
    " "
   ]
  },
  {
   "cell_type": "code",
   "execution_count": 50,
   "metadata": {},
   "outputs": [],
   "source": [
    "with open(input_path) as f :\n",
    "    input_data = json.load(f)\n"
   ]
  },
  {
   "cell_type": "code",
   "execution_count": 51,
   "metadata": {},
   "outputs": [],
   "source": [
    "with open(ground_path) as f :\n",
    "    ground_data = json.load(f)\n",
    "\n",
    "\n"
   ]
  },
  {
   "cell_type": "code",
   "execution_count": 52,
   "metadata": {},
   "outputs": [],
   "source": [
    "file_index = 0\n",
    "page_index = 0\n",
    "\n",
    "#input_file  = eval_data['rsp']['inputs'][0]\n",
    "#page_data = Page(input_file,local=True)\n",
    "#page_image = page_data.get_page(page_index)\n",
    "\n",
    "page_image = input_data['rsp']['outputs'][file_index]['page_info'][page_index]\n",
    "#compare_corrds =   eval_data['rsp']['outputs'][file_index][page_index]"
   ]
  },
  {
   "cell_type": "code",
   "execution_count": null,
   "metadata": {},
   "outputs": [],
   "source": []
  },
  {
   "cell_type": "code",
   "execution_count": 53,
   "metadata": {},
   "outputs": [
    {
     "data": {
      "text/plain": [
       "True"
      ]
     },
     "execution_count": 53,
     "metadata": {},
     "output_type": "execute_result"
    }
   ],
   "source": [
    "iou_stats = []\n",
    "\n",
    "#for file_index in range(len(eval_data['rsp']['outputs'])) :\n",
    "    #for page_index in range(len(eval_data['rsp']['outputs'][file_index]['pages'])):\n",
    "page_image = input_data['rsp']['outputs'][file_index]['page_info'][page_index]\n",
    "#compare_corrds =   eval_data['rsp']['outputs'][file_index]['pages'][page_index]\n",
    "\n",
    "gt_image = draw_region(image_base_path + page_image,ground_data['rsp']['outputs'][file_index]['pages'][page_index]['lines'])\n",
    "craft_image = draw_region(image_base_path + page_image,input_data['rsp']['outputs'][file_index]['pages'][page_index]['lines'] ,color='blue')\n",
    "#comapre_image = draw_box(image_base_path + page_image,compare_corrds)\n",
    "#compare_df = pd.DataFrame(compare_corrds)\n",
    "#print(compare_df['iou'].mean())\n",
    "#iou_stats.append(compare_df['iou'].mean())\n",
    "stiched_image = np.hstack([np.array(gt_image) ,np.array(craft_image)])\n",
    "\n",
    "cv2.imwrite(\"/home/naresh/line_compare/\"+page_image.split(\"/\")[-1], stiched_image)"
   ]
  },
  {
   "cell_type": "code",
   "execution_count": 16,
   "metadata": {},
   "outputs": [],
   "source": [
    "#comapre_image"
   ]
  },
  {
   "cell_type": "code",
   "execution_count": 17,
   "metadata": {},
   "outputs": [
    {
     "ename": "NameError",
     "evalue": "name 'compare_corrds' is not defined",
     "output_type": "error",
     "traceback": [
      "\u001b[0;31m---------------------------------------------------------------------------\u001b[0m",
      "\u001b[0;31mNameError\u001b[0m                                 Traceback (most recent call last)",
      "\u001b[0;32m<ipython-input-17-385dd048bc86>\u001b[0m in \u001b[0;36m<module>\u001b[0;34m\u001b[0m\n\u001b[0;32m----> 1\u001b[0;31m \u001b[0mcompare_df\u001b[0m \u001b[0;34m=\u001b[0m \u001b[0mpd\u001b[0m\u001b[0;34m.\u001b[0m\u001b[0mDataFrame\u001b[0m\u001b[0;34m(\u001b[0m\u001b[0mcompare_corrds\u001b[0m\u001b[0;34m)\u001b[0m\u001b[0;34m\u001b[0m\u001b[0;34m\u001b[0m\u001b[0m\n\u001b[0m",
      "\u001b[0;31mNameError\u001b[0m: name 'compare_corrds' is not defined"
     ]
    }
   ],
   "source": [
    "\n",
    "compare_df = pd.DataFrame(compare_corrds)"
   ]
  },
  {
   "cell_type": "code",
   "execution_count": 27,
   "metadata": {},
   "outputs": [
    {
     "data": {
      "text/plain": [
       "0.6512537552823257"
      ]
     },
     "execution_count": 27,
     "metadata": {},
     "output_type": "execute_result"
    }
   ],
   "source": [
    "compare_df['iou'].mean()"
   ]
  },
  {
   "cell_type": "code",
   "execution_count": 45,
   "metadata": {},
   "outputs": [
    {
     "data": {
      "text/plain": [
       "1"
      ]
     },
     "execution_count": 45,
     "metadata": {},
     "output_type": "execute_result"
    }
   ],
   "source": [
    "len(eval_data['rsp']['outputs']) #[file_index]"
   ]
  },
  {
   "cell_type": "code",
   "execution_count": 50,
   "metadata": {},
   "outputs": [
    {
     "data": {
      "text/plain": [
       "dict_keys(['inputs', 'jobID', 'state', 'status', 'stepOrder', 'workflowCode', 'taskID', 'tool', 'message', 'metadata', 'outputs'])"
      ]
     },
     "execution_count": 50,
     "metadata": {},
     "output_type": "execute_result"
    }
   ],
   "source": [
    "eval_data['rsp'].keys()"
   ]
  },
  {
   "cell_type": "code",
   "execution_count": 12,
   "metadata": {},
   "outputs": [
    {
     "data": {
      "text/plain": [
       "0.7381587559505468"
      ]
     },
     "execution_count": 12,
     "metadata": {},
     "output_type": "execute_result"
    }
   ],
   "source": [
    "y =0.5849854404676739\n",
    "\n",
    "2* y /( 1  +y)"
   ]
  },
  {
   "cell_type": "code",
   "execution_count": 13,
   "metadata": {},
   "outputs": [
    {
     "data": {
      "text/plain": [
       "0.5849854404676739"
      ]
     },
     "execution_count": 13,
     "metadata": {},
     "output_type": "execute_result"
    }
   ],
   "source": [
    "np.mean(iou_stats)"
   ]
  },
  {
   "cell_type": "code",
   "execution_count": 11,
   "metadata": {},
   "outputs": [
    {
     "data": {
      "text/plain": [
       "0.5849854404676739"
      ]
     },
     "execution_count": 11,
     "metadata": {},
     "output_type": "execute_result"
    }
   ],
   "source": [
    "np.mean(iou_stats)"
   ]
  },
  {
   "cell_type": "code",
   "execution_count": 10,
   "metadata": {},
   "outputs": [
    {
     "data": {
      "text/plain": [
       "0.6809534628249947"
      ]
     },
     "execution_count": 10,
     "metadata": {},
     "output_type": "execute_result"
    }
   ],
   "source": [
    "8,2,4\n",
    "\n",
    "0.5331896355570389\n",
    "0.5911757986732217\n",
    "0.6203633723763122\n",
    "0.5620582149400676\n",
    "0.5488797296908341\n",
    "0.535142327697838\n",
    "0.6078407486631073\n",
    "0.6884819741198223\n",
    "0.5666216307191195\n",
    "0.5940801542905321\n",
    "0.6866600642338573\n",
    "0.7034852042635412\n",
    "0.5347262928269113\n",
    "0.6035566594439823\n",
    "0.5596672386558638\n",
    "0.4062571461792611\n",
    "0.5422557423269335\n",
    "0.6512537552823257\n",
    "\n",
    "0.5036370285005956\n",
    "0.596914331076525\n",
    "0.6246971532915176\n",
    "0.5424381227153756\n",
    "0.5575604059387527\n",
    "0.5485543730261239\n",
    "0.5943804339737555\n",
    "0.6731481219035321\n",
    "0.5769426378134691\n",
    "0.5839788432017801\n",
    "0.6676718033712223\n",
    "0.6879190446933335\n",
    "0.5731670231767895\n",
    "0.5801987258267257\n",
    "0.5901110920900879\n",
    "0.38902491717860144\n",
    "0.5584404078149451\n",
    "0.6809534628249947\n"
   ]
  },
  {
   "cell_type": "code",
   "execution_count": null,
   "metadata": {},
   "outputs": [],
   "source": []
  },
  {
   "cell_type": "code",
   "execution_count": null,
   "metadata": {},
   "outputs": [],
   "source": []
  }
 ],
 "metadata": {
  "kernelspec": {
   "display_name": "ds-env2",
   "language": "python",
   "name": "ds-env2"
  },
  "language_info": {
   "codemirror_mode": {
    "name": "ipython",
    "version": 3
   },
   "file_extension": ".py",
   "mimetype": "text/x-python",
   "name": "python",
   "nbconvert_exporter": "python",
   "pygments_lexer": "ipython3",
   "version": "3.6.9"
  }
 },
 "nbformat": 4,
 "nbformat_minor": 4
}
