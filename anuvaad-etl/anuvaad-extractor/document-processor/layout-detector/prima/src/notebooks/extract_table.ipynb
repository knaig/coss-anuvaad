{
 "cells": [
  {
   "cell_type": "code",
   "execution_count": 29,
   "metadata": {},
   "outputs": [],
   "source": [
    "import time\n",
    "import glob\n",
    "import sys\n",
    "import os\n",
    "import uuid\n",
    "import numpy as np\n",
    "from PIL import Image, ImageDraw\n",
    "import cv2\n",
    "import pandas as pd\n",
    "pd.set_option('display.max_rows', None)\n",
    "pd.options.mode.chained_assignment = None"
   ]
  },
  {
   "cell_type": "code",
   "execution_count": 37,
   "metadata": {},
   "outputs": [],
   "source": [
    "nb_dir = '/home/dhiraj/Documents/anuvaad/anuvaad-etl/anuvaad-extractor/document-processor/layout-detector/prima/src'\n",
    "sys.path.append(nb_dir)\n",
    "sys.path.append(os.path.split(nb_dir)[0])\n",
    "\n",
    "import config\n",
    "from services.get_table_cells import mask_tables \n",
    "\n",
    "import src.utilities.app_context as app_context\n",
    "app_context.init()\n",
    "app_context.application_context = dict({'task_id': 'BM-DUMMY'})\n",
    "\n",
    "\n",
    "\n"
   ]
  },
  {
   "cell_type": "code",
   "execution_count": 44,
   "metadata": {},
   "outputs": [],
   "source": [
    "def draw_region(image_path,coords,save_dir,color=(255,125,0), thickness=3):\n",
    "    \n",
    "    image = cv2.imread(image_path)\n",
    "    for region in coords :\n",
    "            ground = region['boundingBox']['vertices']\n",
    "            pts = []\n",
    "            for pt in ground:\n",
    "                pts.append([int(pt['x']) ,int(pt['y'])])\n",
    "            cv2.polylines(image, [np.array(pts)],True, color, thickness)\n",
    "#             cv2.putText(image, str(region['class']), (pts[0][0],pts[0][1]), font,  \n",
    "#            2, (0,125,255), 3, cv2.LINE_AA)\n",
    "\n",
    "    image_path = os.path.join(save_dir ,  '{}.png'.format(uuid.uuid4()))            \n",
    "    cv2.imwrite(image_path , image)\n"
   ]
  },
  {
   "cell_type": "code",
   "execution_count": 45,
   "metadata": {},
   "outputs": [],
   "source": [
    "save_dir = '/home/dhiraj/Documents/anuvaad/anuvaad-etl/anuvaad-extractor/document-processor/layout-detector/prima/src/notebooks/samples'"
   ]
  },
  {
   "cell_type": "code",
   "execution_count": 46,
   "metadata": {},
   "outputs": [],
   "source": [
    "image_dir = '/home/dhiraj/Documents/Anuwad/testing/Word_detector/data/table'\n",
    "\n",
    "image = glob.glob(image_dir + '/*')"
   ]
  },
  {
   "cell_type": "code",
   "execution_count": null,
   "metadata": {},
   "outputs": [],
   "source": []
  },
  {
   "cell_type": "code",
   "execution_count": 56,
   "metadata": {},
   "outputs": [],
   "source": [
    "image_path = image[3]"
   ]
  },
  {
   "cell_type": "code",
   "execution_count": 57,
   "metadata": {},
   "outputs": [],
   "source": [
    "masked_image, line_tables_regions  = mask_tables(image_path, check=False)"
   ]
  },
  {
   "cell_type": "code",
   "execution_count": 58,
   "metadata": {},
   "outputs": [],
   "source": [
    "draw_region(image_path,line_tables_regions,save_dir)"
   ]
  },
  {
   "cell_type": "code",
   "execution_count": null,
   "metadata": {},
   "outputs": [],
   "source": []
  },
  {
   "cell_type": "code",
   "execution_count": null,
   "metadata": {},
   "outputs": [],
   "source": []
  }
 ],
 "metadata": {
  "kernelspec": {
   "display_name": "Anuvaad",
   "language": "python",
   "name": "anuvaad"
  },
  "language_info": {
   "codemirror_mode": {
    "name": "ipython",
    "version": 3
   },
   "file_extension": ".py",
   "mimetype": "text/x-python",
   "name": "python",
   "nbconvert_exporter": "python",
   "pygments_lexer": "ipython3",
   "version": "3.6.12"
  }
 },
 "nbformat": 4,
 "nbformat_minor": 4
}
