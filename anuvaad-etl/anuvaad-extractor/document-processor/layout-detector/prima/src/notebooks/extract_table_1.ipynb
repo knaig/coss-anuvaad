{
 "cells": [
  {
   "cell_type": "code",
   "execution_count": 1,
   "metadata": {},
   "outputs": [],
   "source": [
    "import time\n",
    "import glob\n",
    "import sys\n",
    "import os\n",
    "import uuid\n",
    "import numpy as np\n",
    "from PIL import Image, ImageDraw\n",
    "import cv2\n",
    "import pandas as pd\n",
    "pd.set_option('display.max_rows', None)\n",
    "pd.options.mode.chained_assignment = None"
   ]
  },
  {
   "cell_type": "code",
   "execution_count": null,
   "metadata": {},
   "outputs": [],
   "source": [
    "import copy\n",
    "import numpy as np\n",
    "xml_path = \"/home/naresh/Tarento/primalaynet/layout-model-training/tools/table_tagging/p1/*.xml\"\n",
    "new_path = \"/home/naresh/Tarento/primalaynet/layout-model-training/tools/table_tagging/p1/\"\n",
    "def update_xml(xml_path):\n",
    "    for i in sorted(glob.glob(xml_path)):\n",
    "        name = i.split('.xml')[0]+'.jpg'\n",
    "        tree2 = ET.parse(i)\n",
    "        root2 = tree2.getroot()\n",
    "        servlets2 = tree2.findall('object')\n",
    "        flag=False\n",
    "        for servlets in servlets2:\n",
    "            if servlets[0].text=='table':\n",
    "                flag=True\n",
    "        if flag==True:\n",
    "            #xml_path = new_path+i.split('/')[-1]\n",
    "            xml_path = i\n",
    "            img_path = i.split('.xml')[0]+'.jpg'\n",
    "            \n",
    "            check=False;f1=False;f2=False;f3=False;f4=False\n",
    "            val=None\n",
    "            image = cv2.imread(name)\n",
    "            blank_image = np.zeros(image.shape, dtype=np.uint8)\n",
    "            #cv2.fillPoly(mask, pts=[contours], color=(255,255,255))\n",
    "            blank_image[:,0:image.shape[1]//2] = (255,255,255)      # (B, G, R)\n",
    "            blank_image[:,image.shape[1]//2:image.shape[1]] = (255,255,255)\n",
    "            m_xmin = 15000;m_ymin = 15000;m_xmax = -1;m_ymax = -1\n",
    "            for servlets in servlets2:\n",
    "#                 if servlets[0].text!='table':\n",
    "                    \n",
    "#                     xmin = int(servlets[4][0].text)\n",
    "#                     ymin = int(servlets[4][1].text)\n",
    "#                     xmax = int(servlets[4][2].text)\n",
    "#                     ymax = int(servlets[4][3].text)\n",
    "#                     root2.remove(servlets)\n",
    "#                     ET.dump(root2)\n",
    "#                     tree2.write(xml_path)\n",
    "                if servlets[0].text=='table':\n",
    "                    servlets[0].text = \"cell\"\n",
    "#                     xmin = int(servlets[4][0].text)\n",
    "#                     ymin = int(servlets[4][1].text)\n",
    "#                     xmax = int(servlets[4][2].text)\n",
    "#                     ymax = int(servlets[4][3].text)\n",
    "#                     img = cv2.imread(img_path)\n",
    "#                     crop_img = img[ymin:ymax,xmin:xmax,:]\n",
    "#                     blank_image[ymin:ymax,xmin:xmax] = crop_img\n",
    "#                     servlets[4][0].text = str(xmin-30)\n",
    "#                     servlets[4][1].text= str(xmax-30)\n",
    "#                     servlets[4][2].text = str(ymin-30)\n",
    "#                     servlets[4][3].text = str(ymax-30)\n",
    "                    ET.dump(root2)\n",
    "                    tree2.write(xml_path)\n",
    "                    \n",
    "                              \n",
    "            #cv2.imwrite(name,blank_image)\n",
    "#             if val!=None:\n",
    "#                 root2.remove(val)\n",
    "#                 ET.dump(root2)\n",
    "#                 tree2.write(xml_path)\n",
    "\n",
    "update_xml(xml_path)"
   ]
  },
  {
   "cell_type": "code",
   "execution_count": 2,
   "metadata": {},
   "outputs": [],
   "source": [
    "nb_dir = '/home/naresh/Tarento/primalaynet/layout-model-training/tools/table/'\n",
    "#sys.path.append(nb_dir)\n",
    "#sys.path.append(os.path.split(nb_dir)[0])\n",
    "\n",
    "#import config\n",
    "from src.services.get_table_cells import mask_tables \n",
    "\n",
    "import src.utilities.app_context as app_context\n",
    "app_context.init()\n",
    "app_context.application_context = dict({'task_id': 'BM-DUMMY'})\n",
    "\n",
    "\n",
    "\n"
   ]
  },
  {
   "cell_type": "code",
   "execution_count": 3,
   "metadata": {},
   "outputs": [],
   "source": [
    "def draw_region(image_path,coords,save_dir,color=(255,125,0), thickness=3):\n",
    "    \n",
    "    image = cv2.imread(image_path)\n",
    "    for region in coords :\n",
    "            ground = region['boundingBox']['vertices']\n",
    "            pts = []\n",
    "            for pt in ground:\n",
    "                pts.append([int(pt['x']) ,int(pt['y'])])\n",
    "            cv2.polylines(image, [np.array(pts)],True, color, thickness)\n",
    "#             cv2.putText(image, str(region['class']), (pts[0][0],pts[0][1]), font,  \n",
    "#            2, (0,125,255), 3, cv2.LINE_AA)\n",
    "\n",
    "    image_path = os.path.join(save_dir ,  '{}.png'.format(uuid.uuid4()))            \n",
    "    cv2.imwrite(image_path , image)\n"
   ]
  },
  {
   "cell_type": "code",
   "execution_count": 6,
   "metadata": {},
   "outputs": [
    {
     "name": "stdout",
     "output_type": "stream",
     "text": [
      "/home/naresh/Tarento/primalaynet/layout-model-training/tools/generate_table_data/tmp_data/double_colourfont_100_0.5_0.5_1.5_300-converted-7.jpg\n",
      "/home/naresh/Tarento/primalaynet/layout-model-training/tools/generate_table_data/tmp_data/double_colourfont_100_0.5_0.5_1.5_300-converted-2.jpg\n",
      "/home/naresh/Tarento/primalaynet/layout-model-training/tools/generate_table_data/tmp_data/double_colourfont_100_0.5_0.5_1.5_300-converted-8.jpg\n",
      "/home/naresh/Tarento/primalaynet/layout-model-training/tools/generate_table_data/tmp_data/double_colourfont_100_0.5_0.5_1.5_300-converted-6.jpg\n",
      "/home/naresh/Tarento/primalaynet/layout-model-training/tools/generate_table_data/tmp_data/double_colourfont_100_0.5_0.5_1.5_300-converted-4.jpg\n",
      "/home/naresh/Tarento/primalaynet/layout-model-training/tools/generate_table_data/tmp_data/double_colourfont_100_0.5_0.5_1.5_300-converted-3.jpg\n",
      "/home/naresh/Tarento/primalaynet/layout-model-training/tools/generate_table_data/tmp_data/double_colourfont_100_0.5_0.5_1.5_300-converted-1.jpg\n",
      "/home/naresh/Tarento/primalaynet/layout-model-training/tools/generate_table_data/tmp_data/double_colourfont_100_0.5_0.5_1.5_300-converted-5.jpg\n"
     ]
    }
   ],
   "source": [
    "df = pd.DataFrame(columns = ['ID', 'Label']);\n",
    "ids =[]\n",
    "label =[]\n",
    "index =0\n",
    "image_dir = '/home/naresh/Tarento/primalaynet/layout-model-training/tools/generate_table_data/tmp_data'\n",
    "\n",
    "image = glob.glob(image_dir + '/*.jpg')\n",
    "for page_path in image:\n",
    "    #path_to_text_file = save_dir+ page_path.split('/')[-1].split('.jpg')[0]+'.txt'\n",
    "    #print(page_path)\n",
    "#     if 'prima_double_column' not in page_path:\n",
    "#         print(page_path)\n",
    "    masked_image, reg  = mask_tables(page_path, check=False)\n",
    "    #cv2.imwrite(image_path , image)\n",
    "    #text_file = open(path_to_text_file, \"w+\")\n",
    "    reg_str =''\n",
    "    for idx,region in enumerate(reg):\n",
    "        #cls = region['class'].lower()\n",
    "\n",
    "        #if cls in ['footer','header','image','others','text','table']:\n",
    "            #text_file.write(str(idx))\n",
    "        reg_str = reg_str + str(region['boundingBox']['vertices'][0]['x'])+\" \"+str(region['boundingBox']['vertices'][0]['y'])+\" \"+str(region['boundingBox']['vertices'][2]['x'])+\" \"+str(region['boundingBox']['vertices'][2]['y'])+\" \"+'table'+' ' \n",
    "#                 text_file.write(str(cls_map[cls]))\n",
    "#                 text_file.write(\" \"+str(region['boundingBox']['vertices'][0]['x']))\n",
    "#                 text_file.write(\" \"+str(region['boundingBox']['vertices'][0]['y']))\n",
    "#                 text_file.write(\" \"+str(region['boundingBox']['vertices'][2]['x']))\n",
    "#                 text_file.write(\" \"+str(region['boundingBox']['vertices'][2]['y'])+\"\\n\")\n",
    "        #img = cv2.imread(page_path)\n",
    "        #img2 = img[region['boundingBox']['vertices'][0]['y']:region['boundingBox']['vertices'][2]['y'],region['boundingBox']['vertices'][0]['x']:region['boundingBox']['vertices'][2]['x']]\n",
    "        #print(img2)\n",
    "        #cv2.imwrite(page_path.split('.jpg')[0]+str(idx)+'.jpg',img2)\n",
    "    \n",
    "    if len(reg_str)>0:\n",
    "        print(page_path)\n",
    "        #ids.append(page_path.split('/')[-1]+str(idx)+'.jpg')\n",
    "        ids.append(page_path.split('/chunk_data/')[-1])\n",
    "        label.append(reg_str)\n",
    "\n",
    "        index = index+1\n"
   ]
  },
  {
   "cell_type": "code",
   "execution_count": 7,
   "metadata": {},
   "outputs": [],
   "source": [
    "df['ID']=ids\n",
    "df['Label']=label"
   ]
  },
  {
   "cell_type": "code",
   "execution_count": 8,
   "metadata": {},
   "outputs": [],
   "source": [
    "df.to_csv(\"/home/naresh/Tarento/primalaynet/layout-model-training/tools/generate_table_data/tmp_data/table.csv\")"
   ]
  },
  {
   "cell_type": "code",
   "execution_count": null,
   "metadata": {},
   "outputs": [],
   "source": [
    "df2 = df.dropna(axis=1)"
   ]
  },
  {
   "cell_type": "code",
   "execution_count": 30,
   "metadata": {},
   "outputs": [
    {
     "data": {
      "text/plain": [
       "'/home/naresh/Tarento/primalaynet/layout-model-training/tools/generate_table_data/generated_data_labels/vis_w_3.5_0.2_0.5_200.jpg'"
      ]
     },
     "execution_count": 30,
     "metadata": {},
     "output_type": "execute_result"
    }
   ],
   "source": [
    "df['ID'][0]"
   ]
  },
  {
   "cell_type": "code",
   "execution_count": null,
   "metadata": {},
   "outputs": [],
   "source": [
    "save_dir = '/home/naresh/Tarento/primalaynet/layout-model-training/tools/table_extraction_tool/samples'"
   ]
  },
  {
   "cell_type": "code",
   "execution_count": null,
   "metadata": {},
   "outputs": [],
   "source": []
  },
  {
   "cell_type": "code",
   "execution_count": null,
   "metadata": {},
   "outputs": [],
   "source": []
  },
  {
   "cell_type": "code",
   "execution_count": null,
   "metadata": {},
   "outputs": [],
   "source": [
    "image_path = '/home/naresh/Tarento/primalaynet/layout-model-training/tools/Images/LAFEAS_LS-pdf-45_judgement_single_column_.jpg'"
   ]
  },
  {
   "cell_type": "code",
   "execution_count": null,
   "metadata": {},
   "outputs": [],
   "source": [
    "masked_image, line_tables_regions  = mask_tables(image_path, check=False)"
   ]
  },
  {
   "cell_type": "code",
   "execution_count": null,
   "metadata": {},
   "outputs": [],
   "source": [
    "draw_region(image_path,line_tables_regions,save_dir)"
   ]
  },
  {
   "cell_type": "code",
   "execution_count": null,
   "metadata": {},
   "outputs": [],
   "source": []
  },
  {
   "cell_type": "code",
   "execution_count": null,
   "metadata": {},
   "outputs": [],
   "source": []
  },
  {
   "cell_type": "code",
   "execution_count": null,
   "metadata": {},
   "outputs": [],
   "source": [
    "import glob\n",
    "xml_path = \"/home/naresh/Tarento/primalaynet/layout-model-training/tools/table_tagging/Annotations_updated/*.xml\"\n",
    "image_path = \"/home/naresh/Tarento/primalaynet/layout-model-training/tools/table_tagging/Annotations_updated/*.jpg\"\n",
    "text_file_path =\"/home/naresh/Tarento/primalaynet/layout-model-training/tools/table_tagging/annpaths_list.txt\"\n",
    "text_file = open(text_file_path,'w+')\n",
    "def rename_path(image_path,xml_path,by):\n",
    "    for i,j in zip(sorted(glob.glob(image_path)),sorted(glob.glob(xml_path))):\n",
    "        text_file.write(j+\"\\n\")\n",
    "        #os.rename(i, i.split('.jpg')[0]+'_'+by+'_'+'.jpg')\n",
    "        #os.rename(j, j.split('.xml')[0]+'_'+by+'_'+'.xml')\n",
    "rename_path(image_path,xml_path,'prima_double_column')"
   ]
  },
  {
   "cell_type": "code",
   "execution_count": null,
   "metadata": {},
   "outputs": [],
   "source": []
  },
  {
   "cell_type": "code",
   "execution_count": null,
   "metadata": {},
   "outputs": [],
   "source": []
  }
 ],
 "metadata": {
  "kernelspec": {
   "display_name": "ds-env2",
   "language": "python",
   "name": "ds-env2"
  },
  "language_info": {
   "codemirror_mode": {
    "name": "ipython",
    "version": 3
   },
   "file_extension": ".py",
   "mimetype": "text/x-python",
   "name": "python",
   "nbconvert_exporter": "python",
   "pygments_lexer": "ipython3",
   "version": "3.6.9"
  }
 },
 "nbformat": 4,
 "nbformat_minor": 4
}
