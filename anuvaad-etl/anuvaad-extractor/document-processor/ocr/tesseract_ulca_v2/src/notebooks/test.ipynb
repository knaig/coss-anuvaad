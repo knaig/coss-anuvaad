{
 "cells": [
  {
   "cell_type": "code",
   "execution_count": 1,
   "id": "dff6b21f",
   "metadata": {},
   "outputs": [],
   "source": [
    "import os\n",
    "import sys\n",
    "import uuid\n",
    "import cv2\n",
    "import numpy as np\n",
    "import matplotlib.pyplot as plt\n",
    "plt.rcParams['figure.dpi'] = 300\n",
    "\n",
    "import glob\n",
    "import json\n",
    "import requests\n",
    "import copy\n",
    "from time import sleep\n",
    "\n",
    "import pyperclip\n"
   ]
  },
  {
   "cell_type": "code",
   "execution_count": 2,
   "id": "179244d7",
   "metadata": {},
   "outputs": [
    {
     "name": "stdout",
     "output_type": "stream",
     "text": [
      "[2022-02-20 08:45:49,625] {geos.py:73} MainThread DEBUG in geos: Found GEOS DLL: <CDLL '/home/ubuntu/eval/lib/python3.8/site-packages/shapely/.libs/libgeos_c-a68605fd.so.1.13.1', handle 4db3260 at 0x7f7916a48610>, using it.\n",
      "[2022-02-20 08:45:49,636] {geos.py:38} MainThread DEBUG in geos: Trying `CDLL(libc.so.6)`\n",
      "[2022-02-20 08:45:49,638] {geos.py:55} MainThread DEBUG in geos: Library path: 'libc.so.6'\n",
      "[2022-02-20 08:45:49,638] {geos.py:56} MainThread DEBUG in geos: DLL: <CDLL 'libc.so.6', handle 7f79dc2bf000 at 0x7f7916a48eb0>\n",
      "model line layout /home/ubuntu/layout-model-training/outputs_scene_text_images/prima/mask_rcnn_R_50_FPN_3x/model_0199999.pth\n",
      "config line layout /home/ubuntu/layout-model-training/outputs_scene_text_images/prima/mask_rcnn_R_50_FPN_3x/config.yaml\n",
      "threshold line layout 0.5\n",
      "[2022-02-20 08:45:50,741] {checkpoint.py:138} MainThread INFO in checkpoint: [Checkpointer] Loading from /home/ubuntu/layout-model-training/outputs_scene_text_images/prima/mask_rcnn_R_50_FPN_3x/model_0199999.pth ...\n"
     ]
    }
   ],
   "source": [
    "nb_dir = '/'.join(os.getcwd().split('/')[:-1])\n",
    "sys.path.append(nb_dir)\n",
    "sys.path.append(os.path.split(nb_dir)[0])\n",
    "\n",
    "import config\n",
    "import src.utilities.app_context as app_context\n",
    "app_context.init()\n",
    "\n",
    "config.CRAFT_MODEL_PATH =  \"/home/ubuntu/tesseract_ulca_v2/src/utilities/craft_pytorch/model/craft_mlt_25k.pth\"\n",
    "config.CRAFT_REFINE_MODEL_PATH = '/home/ubuntu/tesseract_ulca_v2/src/utilities/craft_pytorch/model/craft_refiner_CTW1500.pth'\n",
    "\n",
    "config.LINE_LAYOUT_MODEL_PATH = \"/home/ubuntu/layout-model-training/outputs_scene_text_images/prima/mask_rcnn_R_50_FPN_3x/model_0199999.pth\"\n",
    "config.LINE_LAYOUT_CONFIG_PATH = \"/home/ubuntu/layout-model-training/outputs_scene_text_images/prima/mask_rcnn_R_50_FPN_3x/config.yaml\"\n",
    "config.EAST_MODEL = \"/home/ubuntu/tesseract_ulca_v2/src/utilities/east/frozen_east_text_detection.pb\"\n",
    "\n",
    "\n",
    "from src.services.main import OCR"
   ]
  },
  {
   "cell_type": "code",
   "execution_count": null,
   "id": "8945aee9",
   "metadata": {},
   "outputs": [],
   "source": []
  },
  {
   "cell_type": "code",
   "execution_count": 3,
   "id": "52e7d601",
   "metadata": {},
   "outputs": [],
   "source": [
    "def get_app_context():\n",
    "\n",
    "    app_context.application_context = {  \n",
    "    \"config\": {\n",
    "        \"language\": {\n",
    "            \"sourceLanguage\": \"te\"\n",
    "        }\n",
    "        \n",
    "    },\n",
    "    \"image\":[{\n",
    "    \"local_path\": \"/home/ubuntu/passport_parsing_v1/input/kd2.jpeg\"}],\n",
    "    \"dev_key\" : \"a861ff34-62cd-4dd5-b9f9-dd4733249a4\"\n",
    "}\n",
    "\n",
    "    return app_context"
   ]
  },
  {
   "cell_type": "code",
   "execution_count": 4,
   "id": "50e9947f",
   "metadata": {
    "scrolled": true
   },
   "outputs": [
    {
     "name": "stdout",
     "output_type": "stream",
     "text": [
      "[2022-02-20 08:45:51,464] {loghandler.py:49} MainThread DEBUG in loghandler: process starting  for request {'config': {'language': {'sourceLanguage': 'te'}}, 'image': [{'local_path': '/home/ubuntu/passport_parsing_v1/input/kd2.jpeg'}], 'dev_key': 'a861ff34-62cd-4dd5-b9f9-dd4733249a4'}\n"
     ]
    },
    {
     "name": "stderr",
     "output_type": "stream",
     "text": [
      "  % Total    % Received % Xferd  Average Speed   Time    Time     Time  Current\n",
      "                                 Dload  Upload   Total   Spent    Left  Speed\n",
      "  0     0    0     0    0     0      0      0 --:--:-- --:--:-- --:--:--     0Warning: Failed to create the file \n",
      "Warning: /usr/share/tesseract-ocr/4.00/tessdata/tel.traineddata: Permission \n",
      "Warning: denied\n",
      "100   640    0   640    0     0   1904      0 --:--:-- --:--:-- --:--:--  1904\n",
      "curl: (23) Failed writing body (0 != 640)\n",
      "/home/ubuntu/eval/lib/python3.8/site-packages/torch/_tensor.py:575: UserWarning: floor_divide is deprecated, and will be removed in a future version of pytorch. It currently rounds toward 0 (like the 'trunc' function NOT 'floor'). This results in incorrect rounding for negative values.\n",
      "To keep the current behavior, use torch.div(a, b, rounding_mode='trunc'), or for actual floor division, use torch.div(a, b, rounding_mode='floor'). (Triggered internally at  /pytorch/aten/src/ATen/native/BinaryOps.cpp:467.)\n",
      "  return torch.floor_divide(self, other)\n",
      "/home/ubuntu/eval/lib/python3.8/site-packages/torch/nn/functional.py:718: UserWarning: Named tensors and all their associated APIs are an experimental feature and subject to change. Please do not use them for anything important until they are released as stable. (Triggered internally at  /pytorch/c10/core/TensorImpl.h:1156.)\n",
      "  return torch.max_pool2d(input, kernel_size, stride, padding, dilation, ceil_mode)\n"
     ]
    },
    {
     "name": "stdout",
     "output_type": "stream",
     "text": [
      "Line  detection started:<module 'src.utilities.app_context' from '/home/ubuntu/tesseract_ulca_v2/src/utilities/app_context.py'>\n",
      "lines present in image 25\n",
      "Line  detection successfully completed:<module 'src.utilities.app_context' from '/home/ubuntu/tesseract_ulca_v2/src/utilities/app_context.py'>\n",
      "Tesseract process started---->>>>>\n",
      "Tesseract process successfully completed---->>>>>\n",
      "[2022-02-20 08:46:19,561] {loghandler.py:21} MainThread INFO in loghandler:  Completed ocr process\n"
     ]
    }
   ],
   "source": [
    "resp = OCR(get_app_context())"
   ]
  },
  {
   "cell_type": "code",
   "execution_count": null,
   "id": "f3decc25",
   "metadata": {},
   "outputs": [],
   "source": [
    "resp = OCR(get_app_context())"
   ]
  },
  {
   "cell_type": "code",
   "execution_count": null,
   "id": "d84553df",
   "metadata": {},
   "outputs": [],
   "source": [
    "resp"
   ]
  },
  {
   "cell_type": "code",
   "execution_count": null,
   "id": "8c527815",
   "metadata": {},
   "outputs": [],
   "source": [
    "resp"
   ]
  },
  {
   "cell_type": "code",
   "execution_count": null,
   "id": "d3cb76c7",
   "metadata": {},
   "outputs": [],
   "source": [
    "resp"
   ]
  },
  {
   "cell_type": "code",
   "execution_count": null,
   "id": "4d2ed806",
   "metadata": {},
   "outputs": [],
   "source": [
    "tamil_image=[\"https://4.imimg.com/data4/PD/HE/NO/NSDMERP-31895448/31895448product11536052869-500x500.jpg\",\n",
    "            \"https://4.imimg.com/data4/NG/SC/NSDMERP-7025795/trafficrootboard-500x500.png\",\n",
    "             \"https://i.pinimg.com/originals/e8/88/67/e88867082f23aba9fe721ac2549c4335.jpg\"\n",
    "             \"https://media.gettyimages.com/photos/station-name-board-at-a-railroad-station-kanchipuram-tamil-nadu-india-picture-id140831311?s=612x612\"\n",
    "            \n",
    "            ]\n"
   ]
  },
  {
   "cell_type": "code",
   "execution_count": null,
   "id": "419c1caa",
   "metadata": {},
   "outputs": [],
   "source": []
  },
  {
   "cell_type": "code",
   "execution_count": null,
   "id": "36182370",
   "metadata": {},
   "outputs": [],
   "source": [
    "import cv2,pytesseract\n",
    "from pytesseract import Output"
   ]
  },
  {
   "cell_type": "code",
   "execution_count": null,
   "id": "f7b76738",
   "metadata": {},
   "outputs": [],
   "source": [
    "path = \"/home/ubuntu/passport_parsing_v1/input/31.jpg\""
   ]
  },
  {
   "cell_type": "code",
   "execution_count": null,
   "id": "d5eb396b",
   "metadata": {},
   "outputs": [],
   "source": [
    "img = cv2.imread(path)"
   ]
  },
  {
   "cell_type": "code",
   "execution_count": null,
   "id": "c1c8bb34",
   "metadata": {},
   "outputs": [],
   "source": [
    "text = str(((pytesseract.image_to_data(img, config='--psm 7',lang='Devanagari+anuvaad_hin',output_type=Output.DATAFRAME))))"
   ]
  },
  {
   "cell_type": "code",
   "execution_count": null,
   "id": "cccb5585",
   "metadata": {},
   "outputs": [],
   "source": [
    "text"
   ]
  },
  {
   "cell_type": "code",
   "execution_count": null,
   "id": "f1b5518f",
   "metadata": {},
   "outputs": [],
   "source": [
    "#### write image related issues\n",
    "img_id = \"https://thumbs.dreamstime.com/b/roadside-board-warning-written-hindi-india-which-translates-do-not-drink-drive-traffic-police-dehradun-238307104.jpg\""
   ]
  },
  {
   "cell_type": "code",
   "execution_count": null,
   "id": "85901f0b",
   "metadata": {},
   "outputs": [],
   "source": [
    "save_path=\"/home/ubuntu/tesseract_ulca_v2/draw_sample/1.jpg\""
   ]
  },
  {
   "cell_type": "code",
   "execution_count": null,
   "id": "f57f0f39",
   "metadata": {},
   "outputs": [],
   "source": [
    "cv2.imwrite(save_path,img)"
   ]
  },
  {
   "cell_type": "code",
   "execution_count": null,
   "id": "9c185774",
   "metadata": {},
   "outputs": [],
   "source": []
  }
 ],
 "metadata": {
  "kernelspec": {
   "display_name": "eval",
   "language": "python",
   "name": "eval"
  },
  "language_info": {
   "codemirror_mode": {
    "name": "ipython",
    "version": 3
   },
   "file_extension": ".py",
   "mimetype": "text/x-python",
   "name": "python",
   "nbconvert_exporter": "python",
   "pygments_lexer": "ipython3",
   "version": "3.8.10"
  }
 },
 "nbformat": 4,
 "nbformat_minor": 5
}
