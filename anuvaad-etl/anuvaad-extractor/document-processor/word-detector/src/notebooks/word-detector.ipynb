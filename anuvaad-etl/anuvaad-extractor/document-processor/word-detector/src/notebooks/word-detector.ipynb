{
 "cells": [
  {
   "cell_type": "code",
   "execution_count": 1,
   "metadata": {},
   "outputs": [],
   "source": [
    "import os\n",
    "import sys"
   ]
  },
  {
   "cell_type": "code",
   "execution_count": 2,
   "metadata": {},
   "outputs": [],
   "source": [
    "nb_dir = '/'.join(os.getcwd().split('/')[:-1])\n",
    "sys.path.append(nb_dir)\n",
    "sys.path.append(os.path.split(nb_dir)[0])\n",
    "\n",
    "import config\n",
    "import src.utilities.app_context as app_context\n",
    "app_context.init()\n",
    "\n",
    "#path to craft model, weight can be pulled form the production bracnh of repo\n",
    "config.CRAFT_MODEL_PATH= nb_dir + '/utilities/craft_pytorch/model/craft_mlt_25k.pth'\n",
    "config.CRAFT_REFINE_MODEL_PATH = nb_dir + '/utilities/craft_pytorch/model/craft_refiner_CTW1500.pth'"
   ]
  },
  {
   "cell_type": "code",
   "execution_count": 3,
   "metadata": {},
   "outputs": [
    {
     "name": "stdout",
     "output_type": "stream",
     "text": [
      "Loading weights of refiner from checkpoint (./model/craft_refiner_CTW1500.pth)\n"
     ]
    }
   ],
   "source": [
    "from src.services.main import TextDetection"
   ]
  },
  {
   "cell_type": "code",
   "execution_count": 4,
   "metadata": {},
   "outputs": [],
   "source": [
    "base_dir = '/home/dhiraj/Documents/Anuwad/anuvaad/anuvaad-etl/anuvaad-extractor/block-merger/src/notebooks/sample-data/input'\n",
    "\n",
    "filename    = 'hamlet_1.pdf'\n",
    "file_format = 'PDF'\n",
    "language    =  'en'"
   ]
  },
  {
   "cell_type": "code",
   "execution_count": 5,
   "metadata": {},
   "outputs": [],
   "source": [
    "app_context.application_context = {\n",
    "  \"inputs\": [\n",
    "    {\n",
    "      \"file\": {\n",
    "        \"identifier\": \"string\",\n",
    "        \"name\": filename,\n",
    "        \"format\": file_format\n",
    "      },\n",
    "      \"config\": {\n",
    "        \"OCR\": {\n",
    "          \"option\": \"HIGH_ACCURACY\",\n",
    "          \"language\": language\n",
    "        }\n",
    "      }\n",
    "    }\n",
    "  ]\n",
    "}"
   ]
  },
  {
   "cell_type": "code",
   "execution_count": 6,
   "metadata": {},
   "outputs": [
    {
     "name": "stdout",
     "output_type": "stream",
     "text": [
      "[2020-11-12 15:21:44,485] {loghandler.py:49} MainThread DEBUG in loghandler: Block merger starting processing {'inputs': [{'file': {'identifier': 'string', 'name': 'hamlet_1.pdf', 'format': 'PDF'}, 'config': {'OCR': {'option': 'HIGH_ACCURACY', 'language': 'en'}}}]}\n",
      "[2020-11-12 15:21:44,490] {loghandler.py:21} MainThread INFO in loghandler: created processing directories successfully /home/dhiraj/Documents/Anuwad/anuvaad/anuvaad-etl/anuvaad-extractor/block-merger/src/notebooks/sample-data/input/hamlet_1_ac23971a-24cc-11eb-8007-1f78f5ad5a03\n",
      "[2020-11-12 15:21:44,491] {loghandler.py:21} MainThread INFO in loghandler: filepath /home/dhiraj/Documents/Anuwad/anuvaad/anuvaad-etl/anuvaad-extractor/block-merger/src/notebooks/sample-data/input/hamlet_1.pdf, working_dir /home/dhiraj/Documents/Anuwad/anuvaad/anuvaad-etl/anuvaad-extractor/block-merger/src/notebooks/sample-data/input/hamlet_1_ac23971a-24cc-11eb-8007-1f78f5ad5a03\n",
      "[2020-11-12 15:21:44,630] {loghandler.py:21} MainThread INFO in loghandler: Extracting images of /home/dhiraj/Documents/Anuwad/anuvaad/anuvaad-etl/anuvaad-extractor/block-merger/src/notebooks/sample-data/input/hamlet_1.pdf\n",
      "[2020-11-12 15:21:44,632] {loghandler.py:21} MainThread INFO in loghandler: Extraction of /home/dhiraj/Documents/Anuwad/anuvaad/anuvaad-etl/anuvaad-extractor/block-merger/src/notebooks/sample-data/input/hamlet_1.pdf completed in 0.14484786987304688\n",
      "[2020-11-12 15:21:54,348] {loghandler.py:21} MainThread INFO in loghandler: Time taken for text detection is 9.715935230255127/1time per page : 9.715935230255127\n",
      "[2020-11-12 15:22:09,856] {loghandler.py:21} MainThread INFO in loghandler: Time taken for text detection is 15.506891965866089/1time per page : 15.506891965866089\n"
     ]
    }
   ],
   "source": [
    "resp = TextDetection(app_context,base_dir)"
   ]
  },
  {
   "cell_type": "code",
   "execution_count": 7,
   "metadata": {},
   "outputs": [
    {
     "data": {
      "text/plain": [
       "{'code': 200,\n",
       " 'message': 'request completed',\n",
       " 'rsp': [[[     xml_index  text_top  text_left  text_width  text_height text  font_size  \\\n",
       "    1          NaN       361        317          99          110             110   \n",
       "    2          NaN       367        405          77          104             104   \n",
       "    3          NaN       367        471          71          104             104   \n",
       "    4          NaN       367        575          82          115             115   \n",
       "    21         NaN       378        646          55           98              98   \n",
       "    ..         ...       ...        ...         ...          ...  ...        ...   \n",
       "    180        NaN       948       1392          27           38              38   \n",
       "    189        NaN       953       1425          43           33              33   \n",
       "    190        NaN       953       1474          27           39              39   \n",
       "    191        NaN       953       1496          49           39              39   \n",
       "    192        NaN       953       1551          82           39              39   \n",
       "    \n",
       "              font_family  font_color attrib font_family_updated  \\\n",
       "    1    Arial Unicode MS         NaN   None    Arial Unicode MS   \n",
       "    2    Arial Unicode MS         NaN   None    Arial Unicode MS   \n",
       "    3    Arial Unicode MS         NaN   None    Arial Unicode MS   \n",
       "    4    Arial Unicode MS         NaN   None    Arial Unicode MS   \n",
       "    21   Arial Unicode MS         NaN   None    Arial Unicode MS   \n",
       "    ..                ...         ...    ...                 ...   \n",
       "    180  Arial Unicode MS         NaN   None    Arial Unicode MS   \n",
       "    189  Arial Unicode MS         NaN   None    Arial Unicode MS   \n",
       "    190  Arial Unicode MS         NaN   None    Arial Unicode MS   \n",
       "    191  Arial Unicode MS         NaN   None    Arial Unicode MS   \n",
       "    192  Arial Unicode MS         NaN   None    Arial Unicode MS   \n",
       "    \n",
       "         font_size_updated  \n",
       "    1                  110  \n",
       "    2                  104  \n",
       "    3                  104  \n",
       "    4                  115  \n",
       "    21                  98  \n",
       "    ..                 ...  \n",
       "    180                 38  \n",
       "    189                 33  \n",
       "    190                 39  \n",
       "    191                 39  \n",
       "    192                 39  \n",
       "    \n",
       "    [193 rows x 12 columns]]],\n",
       "  [[     xml_index  text_top  text_left  text_width  text_height text  font_size  \\\n",
       "    1          NaN       361        317          99          110             110   \n",
       "    2          NaN       361        400         142          110             110   \n",
       "    3          NaN       361        570         608          137             137   \n",
       "    4          NaN       351       1201         435          119             119   \n",
       "    0          NaN       356       1671         351          115             115   \n",
       "    ..         ...       ...        ...         ...          ...  ...        ...   \n",
       "    142        NaN       953        866          27           33              33   \n",
       "    140        NaN       948        909          28           38              38   \n",
       "    143        NaN       953        948          60           33              33   \n",
       "    141        NaN       943       1014         532           43              43   \n",
       "    144        NaN       953       1551          82           39              39   \n",
       "    \n",
       "              font_family  font_color attrib font_family_updated  \\\n",
       "    1    Arial Unicode MS         NaN   None    Arial Unicode MS   \n",
       "    2    Arial Unicode MS         NaN   None    Arial Unicode MS   \n",
       "    3    Arial Unicode MS         NaN   None    Arial Unicode MS   \n",
       "    4    Arial Unicode MS         NaN   None    Arial Unicode MS   \n",
       "    0    Arial Unicode MS         NaN   None    Arial Unicode MS   \n",
       "    ..                ...         ...    ...                 ...   \n",
       "    142  Arial Unicode MS         NaN   None    Arial Unicode MS   \n",
       "    140  Arial Unicode MS         NaN   None    Arial Unicode MS   \n",
       "    143  Arial Unicode MS         NaN   None    Arial Unicode MS   \n",
       "    141  Arial Unicode MS         NaN   None    Arial Unicode MS   \n",
       "    144  Arial Unicode MS         NaN   None    Arial Unicode MS   \n",
       "    \n",
       "         font_size_updated  \n",
       "    1                  110  \n",
       "    2                  110  \n",
       "    3                  137  \n",
       "    4                  119  \n",
       "    0                  115  \n",
       "    ..                 ...  \n",
       "    142                 33  \n",
       "    140                 38  \n",
       "    143                 33  \n",
       "    141                 43  \n",
       "    144                 39  \n",
       "    \n",
       "    [145 rows x 12 columns]]],\n",
       "  [['/home/dhiraj/Documents/Anuwad/anuvaad/anuvaad-etl/anuvaad-extractor/block-merger/src/notebooks/sample-data/input/hamlet_1_ac23971a-24cc-11eb-8007-1f78f5ad5a03/images/hamlet_10001-1.jpg']]]}"
      ]
     },
     "execution_count": 7,
     "metadata": {},
     "output_type": "execute_result"
    }
   ],
   "source": [
    "resp"
   ]
  },
  {
   "cell_type": "code",
   "execution_count": null,
   "metadata": {},
   "outputs": [],
   "source": []
  },
  {
   "cell_type": "code",
   "execution_count": null,
   "metadata": {},
   "outputs": [],
   "source": []
  },
  {
   "cell_type": "code",
   "execution_count": null,
   "metadata": {},
   "outputs": [],
   "source": []
  },
  {
   "cell_type": "code",
   "execution_count": null,
   "metadata": {},
   "outputs": [],
   "source": []
  }
 ],
 "metadata": {
  "kernelspec": {
   "display_name": "Anuvaad",
   "language": "python",
   "name": "anuvaad"
  },
  "language_info": {
   "codemirror_mode": {
    "name": "ipython",
    "version": 3
   },
   "file_extension": ".py",
   "mimetype": "text/x-python",
   "name": "python",
   "nbconvert_exporter": "python",
   "pygments_lexer": "ipython3",
   "version": "3.6.12"
  }
 },
 "nbformat": 4,
 "nbformat_minor": 4
}
