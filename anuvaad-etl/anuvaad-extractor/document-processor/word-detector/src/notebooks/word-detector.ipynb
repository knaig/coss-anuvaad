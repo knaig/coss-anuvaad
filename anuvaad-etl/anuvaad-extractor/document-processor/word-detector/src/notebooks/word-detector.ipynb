{
 "cells": [
  {
   "cell_type": "code",
   "execution_count": 9,
   "metadata": {},
   "outputs": [],
   "source": [
    "import os\n",
    "import sys"
   ]
  },
  {
   "cell_type": "code",
   "execution_count": 10,
   "metadata": {},
   "outputs": [],
   "source": [
    "nb_dir = '/'.join(os.getcwd().split('/')[:-1])\n",
    "sys.path.append(nb_dir)\n",
    "sys.path.append(os.path.split(nb_dir)[0])\n",
    "\n",
    "import config\n",
    "import src.utilities.app_context as app_context\n",
    "app_context.init()\n",
    "\n",
    "#path to craft model, weight can be pulled form the production bracnh of repo\n",
    "config.CRAFT_MODEL_PATH= nb_dir + '/utilities/craft_pytorch/model/craft_mlt_25k.pth'\n",
    "config.CRAFT_REFINE_MODEL_PATH = nb_dir + '/utilities/craft_pytorch/model/craft_refiner_CTW1500.pth'"
   ]
  },
  {
   "cell_type": "code",
   "execution_count": 3,
   "metadata": {},
   "outputs": [
    {
     "ename": "IndentationError",
     "evalue": "unexpected indent (extract_images.py, line 53)",
     "output_type": "error",
     "traceback": [
      "Traceback \u001b[0;36m(most recent call last)\u001b[0m:\n",
      "  File \u001b[1;32m\"/home/dhiraj/py_envs/Anuvaad/lib/python3.6/site-packages/IPython/core/interactiveshell.py\"\u001b[0m, line \u001b[1;32m3343\u001b[0m, in \u001b[1;35mrun_code\u001b[0m\n    exec(code_obj, self.user_global_ns, self.user_ns)\n",
      "  File \u001b[1;32m\"<ipython-input-3-79482bfb27ab>\"\u001b[0m, line \u001b[1;32m1\u001b[0m, in \u001b[1;35m<module>\u001b[0m\n    from src.services.main import TextDetection\n",
      "\u001b[0;36m  File \u001b[0;32m\"/home/dhiraj/Documents/anuvaad/anuvaad-etl/anuvaad-extractor/document-processor/word-detector/src/services/main.py\"\u001b[0;36m, line \u001b[0;32m1\u001b[0;36m, in \u001b[0;35m<module>\u001b[0;36m\u001b[0m\n\u001b[0;31m    from src.services import extract_images\u001b[0m\n",
      "\u001b[0;36m  File \u001b[0;32m\"/home/dhiraj/Documents/anuvaad/anuvaad-etl/anuvaad-extractor/document-processor/word-detector/src/services/extract_images.py\"\u001b[0;36m, line \u001b[0;32m53\u001b[0m\n\u001b[0;31m    get_wrds(file,page_index)\u001b[0m\n\u001b[0m    ^\u001b[0m\n\u001b[0;31mIndentationError\u001b[0m\u001b[0;31m:\u001b[0m unexpected indent\n"
     ]
    }
   ],
   "source": [
    "from src.services.main import TextDetection"
   ]
  },
  {
   "cell_type": "code",
   "execution_count": 17,
   "metadata": {},
   "outputs": [],
   "source": [
    "base_dir = '/home/dhiraj/Documents/Anuwad/anuvaad/anuvaad-etl/anuvaad-extractor/block-merger/src/notebooks/sample-data/input'\n",
    "\n",
    "filename    = '1.pdf'\n",
    "file_format = 'PDF'\n",
    "language    =  'en'"
   ]
  },
  {
   "cell_type": "code",
   "execution_count": 18,
   "metadata": {},
   "outputs": [],
   "source": [
    "app_context.application_context = {\n",
    "  \"inputs\": [\n",
    "    {\n",
    "      \"file\": {\n",
    "        \"identifier\": \"string\",\n",
    "        \"name\": filename,\n",
    "        \"format\": file_format\n",
    "      },\n",
    "      \"config\": {\n",
    "        \"OCR\": {\n",
    "          \"option\": \"HIGH_ACCURACY\",\n",
    "          \"language\": language\n",
    "        }\n",
    "      }\n",
    "    }\n",
    "  ]\n",
    "}"
   ]
  },
  {
   "cell_type": "code",
   "execution_count": 11,
   "metadata": {},
   "outputs": [
    {
     "data": {
      "text/plain": [
       "{'inputs': [{'file': {'identifier': 'string',\n",
       "    'name': '1.pdf',\n",
       "    'format': 'PDF'},\n",
       "   'config': {'OCR': {'option': 'HIGH_ACCURACY', 'language': 'en'}}}]}"
      ]
     },
     "execution_count": 11,
     "metadata": {},
     "output_type": "execute_result"
    }
   ],
   "source": [
    "app_context.application_context"
   ]
  },
  {
   "cell_type": "code",
   "execution_count": 19,
   "metadata": {},
   "outputs": [],
   "source": [
    "#import src.utilities.app_context as app_context\n",
    "from anuvaad_auditor.loghandler import log_exception\n",
    "\n",
    "from functools import wraps\n",
    "\n",
    "\n",
    "def get_files(application_context):\n",
    "    files = application_context['inputs']\n",
    "    return files\n",
    "\n",
    "\n",
    "###############\n",
    "class log_errorrrr(object):\n",
    "\n",
    "    _logfile = 'out.log'\n",
    "\n",
    "    def __init__(self, func):\n",
    "        self.func = func\n",
    "\n",
    "    def __call__(self, *args):\n",
    "        log_string = self.func.__name__ + \" was called\"\n",
    "        print(log_string)\n",
    "        # Open the logfile and append\n",
    "        with open(self._logfile, 'a') as opened_file:\n",
    "            # Now we log to the specified logfile\n",
    "            opened_file.write(log_string + '\\n')\n",
    "        # Now, send a notification\n",
    "        self.notify()\n",
    "\n",
    "        # return base func\n",
    "        return self.func(*args)\n",
    "\n",
    "\n",
    "\n",
    "    def notify(self):\n",
    "        # logit only logs, no more\n",
    "        pass\n",
    "\n",
    "##########\n",
    "\n",
    "def log_error(method):\n",
    "    def wrapper(*args,**kwargs):\n",
    "        try :\n",
    "            output = method(*args,**kwargs)\n",
    "            return output\n",
    "        except Exception as e:\n",
    "            log_exception('Invalid request, required key missing of {}'.format(e), app_context.application_context, e)\n",
    "            return None\n",
    "    return wrapper\n",
    "    \n",
    "\n",
    "    \n",
    "    \n",
    "    \n",
    "\n",
    "class File:\n",
    "    \n",
    "    def __init__(self,file):\n",
    "        self.file = file\n",
    "\n",
    "    @log_error\n",
    "    def get_format(self):\n",
    "        return self.file['file']['format']\n",
    "\n",
    "    @log_error\n",
    "    def get_name(self):\n",
    "        return self.file['file']['name']\n",
    "\n",
    "    @log_error\n",
    "    def get_pages(self):\n",
    "        return self.file['page_info']\n",
    "\n",
    "    @log_error\n",
    "    def get_wodrs(self,page_index):\n",
    "        return self.file['pages'][page_index]['words']\n",
    "\n",
    "    @log_error\n",
    "    def get_lines(self,page_index):\n",
    "        return self.file['pages'][page_index]['lines']\n",
    "\n",
    "    @log_error\n",
    "    def get_regions(self,page_index):\n",
    "        return self.file['pages'][page_index]['regions']\n",
    "\n",
    "\n",
    "\n",
    "\n",
    "\n",
    "#get_format ,get_name"
   ]
  },
  {
   "cell_type": "code",
   "execution_count": 34,
   "metadata": {},
   "outputs": [],
   "source": [
    "f1 = {'file': {'name':'gdgdgdg'}}\n",
    "f2 = {'pages':[{'words':1},{'words':2}]}"
   ]
  },
  {
   "cell_type": "code",
   "execution_count": 35,
   "metadata": {},
   "outputs": [],
   "source": [
    "test = File(f2)"
   ]
  },
  {
   "cell_type": "code",
   "execution_count": 43,
   "metadata": {},
   "outputs": [
    {
     "name": "stdout",
     "output_type": "stream",
     "text": [
      "[2020-11-11 19:27:12,117] {loghandler.py:78} MainThread ERROR in loghandler: Invalid request of list index out of range\n",
      "Traceback (most recent call last):\n",
      "  File \"<ipython-input-19-1b5cf50f9169>\", line 45, in wrapper\n",
      "    output = method(*args,**kwargs)\n",
      "  File \"<ipython-input-19-1b5cf50f9169>\", line 76, in get_wodrs\n",
      "    return self.file['pages'][page_index]['words']\n",
      "IndexError: list index out of range\n",
      "sgsgs\n"
     ]
    }
   ],
   "source": [
    "test.get_wodrs(3)\n",
    "print('sgsgs')"
   ]
  },
  {
   "cell_type": "code",
   "execution_count": null,
   "metadata": {},
   "outputs": [],
   "source": []
  }
 ],
 "metadata": {
  "kernelspec": {
   "display_name": "Anuvaad",
   "language": "python",
   "name": "anuvaad"
  },
  "language_info": {
   "codemirror_mode": {
    "name": "ipython",
    "version": 3
   },
   "file_extension": ".py",
   "mimetype": "text/x-python",
   "name": "python",
   "nbconvert_exporter": "python",
   "pygments_lexer": "ipython3",
   "version": "3.6.12"
  }
 },
 "nbformat": 4,
 "nbformat_minor": 4
}
