{
 "cells": [
  {
   "cell_type": "code",
   "execution_count": 1,
   "metadata": {},
   "outputs": [],
   "source": [
    "import os\n",
    "import sys"
   ]
  },
  {
   "cell_type": "code",
   "execution_count": 2,
   "metadata": {},
   "outputs": [],
   "source": [
    "nb_dir = '/'.join(os.getcwd().split('/')[:-1])\n",
    "sys.path.append(nb_dir)\n",
    "sys.path.append(os.path.split(nb_dir)[0])\n",
    "\n",
    "import config\n",
    "import src.utilities.app_context as app_context\n",
    "app_context.init()\n",
    "\n",
    "#path to craft model, weight can be pulled form the production bracnh of repo\n",
    "config.CRAFT_MODEL_PATH= nb_dir + '/utilities/craft_pytorch/model/craft_mlt_25k.pth'\n",
    "config.CRAFT_REFINE_MODEL_PATH = nb_dir + '/utilities/craft_pytorch/model/craft_refiner_CTW1500.pth'"
   ]
  },
  {
   "cell_type": "code",
   "execution_count": 3,
   "metadata": {},
   "outputs": [
    {
     "name": "stdout",
     "output_type": "stream",
     "text": [
      "Loading weights of refiner from checkpoint (./model/craft_refiner_CTW1500.pth)\n"
     ]
    }
   ],
   "source": [
    "from src.services.main import TextDetection"
   ]
  },
  {
   "cell_type": "code",
   "execution_count": 4,
   "metadata": {},
   "outputs": [],
   "source": [
    "base_dir = '/home/dhiraj/Documents/Anuwad/anuvaad/anuvaad-etl/anuvaad-extractor/block-merger/src/notebooks/sample-data/input'\n",
    "\n",
    "filename    = 'hamlet_1.pdf'\n",
    "file_format = 'PDF'\n",
    "language    =  'en'"
   ]
  },
  {
   "cell_type": "code",
   "execution_count": 5,
   "metadata": {},
   "outputs": [],
   "source": [
    "app_context.application_context = {\n",
    "  \"inputs\": [\n",
    "    {\n",
    "      \"file\": {\n",
    "        \"identifier\": \"string\",\n",
    "        \"name\": filename,\n",
    "        \"format\": file_format\n",
    "      },\n",
    "      \"config\": {\n",
    "        \"OCR\": {\n",
    "          \"option\": \"HIGH_ACCURACY\",\n",
    "          \"language\": language\n",
    "        }\n",
    "      }\n",
    "    }\n",
    "  ]\n",
    "}"
   ]
  },
  {
   "cell_type": "code",
   "execution_count": 6,
   "metadata": {},
   "outputs": [
    {
     "name": "stdout",
     "output_type": "stream",
     "text": [
      "[2020-11-12 17:07:58,877] {loghandler.py:49} MainThread DEBUG in loghandler: Block merger starting processing {'inputs': [{'file': {'identifier': 'string', 'name': 'hamlet_1.pdf', 'format': 'PDF'}, 'config': {'OCR': {'option': 'HIGH_ACCURACY', 'language': 'en'}}}]}\n",
      "[2020-11-12 17:07:58,884] {loghandler.py:21} MainThread INFO in loghandler: created processing directories successfully /home/dhiraj/Documents/Anuwad/anuvaad/anuvaad-etl/anuvaad-extractor/block-merger/src/notebooks/sample-data/input/hamlet_1_839331c0-24db-11eb-8007-1f78f5ad5a03\n",
      "[2020-11-12 17:07:58,887] {loghandler.py:21} MainThread INFO in loghandler: filepath /home/dhiraj/Documents/Anuwad/anuvaad/anuvaad-etl/anuvaad-extractor/block-merger/src/notebooks/sample-data/input/hamlet_1.pdf, working_dir /home/dhiraj/Documents/Anuwad/anuvaad/anuvaad-etl/anuvaad-extractor/block-merger/src/notebooks/sample-data/input/hamlet_1_839331c0-24db-11eb-8007-1f78f5ad5a03\n",
      "[2020-11-12 17:07:59,069] {loghandler.py:21} MainThread INFO in loghandler: Extracting images of /home/dhiraj/Documents/Anuwad/anuvaad/anuvaad-etl/anuvaad-extractor/block-merger/src/notebooks/sample-data/input/hamlet_1.pdf\n",
      "[2020-11-12 17:07:59,071] {loghandler.py:21} MainThread INFO in loghandler: Extraction of /home/dhiraj/Documents/Anuwad/anuvaad/anuvaad-etl/anuvaad-extractor/block-merger/src/notebooks/sample-data/input/hamlet_1.pdf completed in 0.1888728141784668\n",
      "[2020-11-12 17:08:10,584] {loghandler.py:21} MainThread INFO in loghandler: Time taken for text detection is 11.50969123840332/1time per page : 11.50969123840332\n",
      "[2020-11-12 17:08:25,121] {loghandler.py:21} MainThread INFO in loghandler: Time taken for text detection is 14.535526990890503/1time per page : 14.535526990890503\n"
     ]
    }
   ],
   "source": [
    "resp = TextDetection(app_context,base_dir)"
   ]
  },
  {
   "cell_type": "code",
   "execution_count": 7,
   "metadata": {},
   "outputs": [
    {
     "data": {
      "text/plain": [
       "{'code': 200,\n",
       " 'message': 'request completed',\n",
       " 'rsp': [[[       x1   y1    x4   y4    x2   y2    x3   y3\n",
       "    0    1677  361  1677  471  1759  361  1759  471\n",
       "    1     317  361   317  471   416  361   416  471\n",
       "    2     405  367   405  471   482  367   482  471\n",
       "    3     471  367   471  471   542  367   542  471\n",
       "    4     575  367   575  482   657  367   657  482\n",
       "    ..    ...  ...   ...  ...   ...  ...   ...  ...\n",
       "    188  1353  953  1353  986  1397  953  1397  986\n",
       "    189  1425  953  1425  986  1468  953  1468  986\n",
       "    190  1474  953  1474  992  1501  953  1501  992\n",
       "    191  1496  953  1496  992  1545  953  1545  992\n",
       "    192  1551  953  1551  992  1633  953  1633  992\n",
       "    \n",
       "    [193 rows x 8 columns]]],\n",
       "  [[       x1   y1    x4   y4    x2   y2    x3   y3\n",
       "    0    1671  356  1671  471  2022  356  2022  471\n",
       "    1     317  361   317  471   416  361   416  471\n",
       "    2     400  361   400  471   542  361   542  471\n",
       "    3     570  361   570  498  1178  361  1178  498\n",
       "    4    1201  351  1198  470  1636  364  1633  483\n",
       "    ..    ...  ...   ...  ...   ...  ...   ...  ...\n",
       "    140   909  948   909  986   937  948   937  986\n",
       "    141  1014  943  1013  986  1546  949  1545  992\n",
       "    142   866  953   866  986   893  953   893  986\n",
       "    143   948  953   948  986  1008  953  1008  986\n",
       "    144  1551  953  1551  992  1633  953  1633  992\n",
       "    \n",
       "    [145 rows x 8 columns]]],\n",
       "  [['/home/dhiraj/Documents/Anuwad/anuvaad/anuvaad-etl/anuvaad-extractor/block-merger/src/notebooks/sample-data/input/hamlet_1_839331c0-24db-11eb-8007-1f78f5ad5a03/images/hamlet_10001-1.jpg']]]}"
      ]
     },
     "execution_count": 7,
     "metadata": {},
     "output_type": "execute_result"
    }
   ],
   "source": [
    "words ,lines,images = resp"
   ]
  },
  {
   "cell_type": "code",
   "execution_count": 8,
   "metadata": {},
   "outputs": [],
   "source": [
    "import uuid"
   ]
  },
  {
   "cell_type": "code",
   "execution_count": 9,
   "metadata": {},
   "outputs": [
    {
     "data": {
      "text/plain": [
       "'f084f552e0ea40c485f6d700a10f4b3c'"
      ]
     },
     "execution_count": 9,
     "metadata": {},
     "output_type": "execute_result"
    }
   ],
   "source": [
    " uuid.uuid4().hex"
   ]
  },
  {
   "cell_type": "code",
   "execution_count": 10,
   "metadata": {},
   "outputs": [
    {
     "ename": "NameError",
     "evalue": "name 'true' is not defined",
     "output_type": "error",
     "traceback": [
      "\u001b[0;31m---------------------------------------------------------------------------\u001b[0m",
      "\u001b[0;31mNameError\u001b[0m                                 Traceback (most recent call last)",
      "\u001b[0;32m<ipython-input-10-dc9e7377711e>\u001b[0m in \u001b[0;36m<module>\u001b[0;34m\u001b[0m\n\u001b[1;32m      1\u001b[0m {\n\u001b[0;32m----> 2\u001b[0;31m   \u001b[0;34m\"ok\"\u001b[0m\u001b[0;34m:\u001b[0m \u001b[0mtrue\u001b[0m\u001b[0;34m,\u001b[0m\u001b[0;34m\u001b[0m\u001b[0;34m\u001b[0m\u001b[0m\n\u001b[0m\u001b[1;32m      3\u001b[0m   \u001b[0;34m\"why\"\u001b[0m\u001b[0;34m:\u001b[0m \u001b[0;34m\"string\"\u001b[0m\u001b[0;34m,\u001b[0m\u001b[0;34m\u001b[0m\u001b[0;34m\u001b[0m\u001b[0m\n\u001b[1;32m      4\u001b[0m   \u001b[0;34m\"status\"\u001b[0m\u001b[0;34m:\u001b[0m \u001b[0;34m{\u001b[0m\u001b[0;34m}\u001b[0m\u001b[0;34m,\u001b[0m\u001b[0;34m\u001b[0m\u001b[0;34m\u001b[0m\u001b[0m\n\u001b[1;32m      5\u001b[0m   \"data\": {\n",
      "\u001b[0;31mNameError\u001b[0m: name 'true' is not defined"
     ]
    }
   ],
   "source": [
    "{\n",
    "  \"ok\": true,\n",
    "  \"why\": \"string\",\n",
    "  \"status\": {},\n",
    "  \"data\": {\n",
    "    \"inputs\": [\n",
    "      {\n",
    "        \"file\": {\n",
    "          \"identifier\": \"string\",\n",
    "          \"name\": \"string\",\n",
    "          \"format\": \"PDF\"\n",
    "        },\n",
    "        \"config\": {\n",
    "          \"OCR\": {\n",
    "            \"option\": \"HIGH_ACCURACY\",\n",
    "            \"language\": \"hi\"\n",
    "          }\n",
    "        }\n",
    "      }\n",
    "    ],\n",
    "    \"outputs\": [\n",
    "      {\n",
    "        \"file\": {\n",
    "          \"identifier\": \"string\",\n",
    "          \"name\": \"string\",\n",
    "          \"format\": \"PDF\"\n",
    "        },\n",
    "        \"pages\": [\n",
    "          {\n",
    "            \"identifier\": \"3fa85f64-5717-4562-b3fc-2c963f66afa6\",\n",
    "            \"vertices\": {\n",
    "              \"vertices\": [\n",
    "                {\n",
    "                  \"x\": 0,\n",
    "                  \"y\": 0,\n",
    "                  \"confidence\": 0\n",
    "                }\n",
    "              ]\n",
    "            },\n",
    "            \"resolution\": 0,\n",
    "            \"regions\": [\n",
    "              {\n",
    "                \"identifier\": \"3fa85f64-5717-4562-b3fc-2c963f66afa6\",\n",
    "                \"boundingBox\": {\n",
    "                  \"vertices\": [\n",
    "                    {\n",
    "                      \"x\": 0,\n",
    "                      \"y\": 0,\n",
    "                      \"confidence\": 0\n",
    "                    }\n",
    "                  ]\n",
    "                },\n",
    "                \"class\": \"LINE\"\n",
    "              }\n",
    "            ],\n",
    "            \"lines\": [\n",
    "              {\n",
    "                \"identifier\": \"3fa85f64-5717-4562-b3fc-2c963f66afa6\",\n",
    "                \"boundingBox\": {\n",
    "                  \"vertices\": [\n",
    "                    {\n",
    "                      \"x\": 0,\n",
    "                      \"y\": 0,\n",
    "                      \"confidence\": 0\n",
    "                    }\n",
    "                  ]\n",
    "                },\n",
    "                \"font\": {\n",
    "                  \"family\": \"string\",\n",
    "                  \"size\": 0,\n",
    "                  \"style\": \"BOLD\"\n",
    "                }\n",
    "              }\n",
    "            ],\n",
    "            \"words\": [\n",
    "              {\n",
    "                \"identifier\": \"3fa85f64-5717-4562-b3fc-2c963f66afa6\",\n",
    "                \"boundingBox\": {\n",
    "                  \"vertices\": [\n",
    "                    {\n",
    "                      \"x\": 0,\n",
    "                      \"y\": 0,\n",
    "                      \"confidence\": 0\n",
    "                    }\n",
    "                  ]\n",
    "                },\n",
    "                \"class\": \"SUPERSCRIPT\",\n",
    "                \"text\": \"string\",\n",
    "                \"language\": \"hi\",\n",
    "                \"confidence\": 0\n",
    "              }\n",
    "            ]\n",
    "          }\n",
    "        ],\n",
    "        \"page_info\": [\n",
    "          \"string\"\n",
    "        ],\n",
    "        \"status\": {\n",
    "          \"code\": 0,\n",
    "          \"message\": \"string\"\n",
    "        }\n",
    "      }\n",
    "    ]\n",
    "  }\n",
    "}"
   ]
  },
  {
   "cell_type": "code",
   "execution_count": null,
   "metadata": {},
   "outputs": [],
   "source": []
  },
  {
   "cell_type": "code",
   "execution_count": null,
   "metadata": {},
   "outputs": [],
   "source": []
  }
 ],
 "metadata": {
  "kernelspec": {
   "display_name": "Anuvaad",
   "language": "python",
   "name": "anuvaad"
  },
  "language_info": {
   "codemirror_mode": {
    "name": "ipython",
    "version": 3
   },
   "file_extension": ".py",
   "mimetype": "text/x-python",
   "name": "python",
   "nbconvert_exporter": "python",
   "pygments_lexer": "ipython3",
   "version": "3.6.12"
  }
 },
 "nbformat": 4,
 "nbformat_minor": 4
}
