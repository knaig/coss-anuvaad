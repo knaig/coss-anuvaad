{
 "cells": [
  {
   "cell_type": "code",
   "execution_count": 1,
   "metadata": {},
   "outputs": [],
   "source": [
    "import os\n",
    "import sys\n",
    "import uuid\n",
    "import cv2\n",
    "import numpy as np\n",
    "import matplotlib.pyplot as plt\n",
    "plt.rcParams['figure.dpi'] = 300"
   ]
  },
  {
   "cell_type": "code",
   "execution_count": null,
   "metadata": {},
   "outputs": [],
   "source": []
  },
  {
   "cell_type": "code",
   "execution_count": 2,
   "metadata": {},
   "outputs": [
    {
     "name": "stderr",
     "output_type": "stream",
     "text": [
      "/home/naresh/ds-env2/lib/python3.6/site-packages/torch/cuda/__init__.py:52: UserWarning: CUDA initialization: Found no NVIDIA driver on your system. Please check that you have an NVIDIA GPU and installed a driver from http://www.nvidia.com/Download/index.aspx (Triggered internally at  /pytorch/c10/cuda/CUDAFunctions.cpp:100.)\n",
      "  return torch._C._cuda_getDeviceCount() > 0\n"
     ]
    },
    {
     "name": "stdout",
     "output_type": "stream",
     "text": [
      "Loading weights of refiner from checkpoint (./model/craft_refiner_CTW1500.pth)\n",
      "[2021-07-20 12:05:18,717] {geos.py:73} MainThread DEBUG in geos: Found GEOS DLL: <CDLL '/home/naresh/ds-env2/lib/python3.6/site-packages/shapely/.libs/libgeos_c-a68605fd.so.1.13.1', handle a8586f0 at 0x7fae37f3bba8>, using it.\n",
      "[2021-07-20 12:05:18,777] {geos.py:38} MainThread DEBUG in geos: Trying `CDLL(libc.so.6)`\n",
      "[2021-07-20 12:05:18,782] {geos.py:55} MainThread DEBUG in geos: Library path: 'libc.so.6'\n",
      "[2021-07-20 12:05:18,785] {geos.py:56} MainThread DEBUG in geos: DLL: <CDLL 'libc.so.6', handle 7faed0887000 at 0x7fae37f3be10>\n"
     ]
    }
   ],
   "source": [
    "nb_dir = '/'.join(os.getcwd().split('/')[:-1])\n",
    "sys.path.append(nb_dir)\n",
    "sys.path.append(os.path.split(nb_dir)[0])\n",
    "\n",
    "import config\n",
    "import src.utilities.app_context as app_context\n",
    "app_context.init()\n",
    "\n",
    "#path to craft model, weight can be pulled form the production bracnh of repo\n",
    "config.CRAFT_MODEL_PATH= nb_dir + '/utilities/craft_pytorch/model/craft_mlt_25k.pth'\n",
    "config.CRAFT_REFINE_MODEL_PATH = nb_dir + '/utilities/craft_pytorch/model/craft_refiner_CTW1500.pth'\n",
    "\n",
    "from src.services.main import TextDetection"
   ]
  },
  {
   "cell_type": "code",
   "execution_count": 3,
   "metadata": {},
   "outputs": [],
   "source": [
    "def draw_region(page_path,corrds,color= (255,0,0),thickness=5, save=False):\n",
    "    \n",
    "    if type(page_path) == str :  \n",
    "        image = cv2.imread(page_path) \n",
    "    else :\n",
    "        image = page_path\n",
    "    for region in corrds :\n",
    "            ground = region['boundingBox']['vertices']\n",
    "            #start_point  = (ground[0]['x'],ground[0]['y'])\n",
    "            #end_point = (ground[2]['x'],  ground[2]['y'])\n",
    "            #cv2.rectangle(image, start_point, end_point, color,thickness)\n",
    "            pts = []\n",
    "            for pt in ground:\n",
    "                pts.append([pt['x'] ,pt['y']])\n",
    "            \n",
    "            cv2.polylines(image, [np.array(pts)],True, color, thickness)\n",
    "    plt.imshow(image)\n",
    "    if save:\n",
    "        cv2.imwrite(str(uuid.uuid1()) + '.png' , image)\n",
    "        \n",
    "    #return image\n"
   ]
  },
  {
   "cell_type": "code",
   "execution_count": null,
   "metadata": {},
   "outputs": [],
   "source": []
  },
  {
   "cell_type": "code",
   "execution_count": null,
   "metadata": {},
   "outputs": [],
   "source": [
    "base_dir = '/home/dhiraj/Documents/Anuwad/anuvaad/anuvaad-etl/anuvaad-extractor/block-merger/src/notebooks/sample-data/input'\n",
    "\n",
    "filename    = 'ncert.pdf'\n",
    "file_format = 'PDF'\n",
    "language    =  'en'"
   ]
  },
  {
   "cell_type": "code",
   "execution_count": null,
   "metadata": {},
   "outputs": [],
   "source": [
    "app_context.application_context = {\n",
    "  \"inputs\": [\n",
    "    {\n",
    "      \"file\": {\n",
    "        \"identifier\": \"string\",\n",
    "        \"name\": filename,\n",
    "        \"format\": file_format\n",
    "      },\n",
    "      \"config\": {\n",
    "        \"OCR\": {\n",
    "          \"option\": \"HIGH_ACCURACY\",\n",
    "          \"language\": language\n",
    "        }\n",
    "      }\n",
    "    }\n",
    "  ]\n",
    "}"
   ]
  },
  {
   "cell_type": "code",
   "execution_count": null,
   "metadata": {},
   "outputs": [],
   "source": [
    "resp = TextDetection(app_context,base_dir)"
   ]
  },
  {
   "cell_type": "code",
   "execution_count": null,
   "metadata": {},
   "outputs": [],
   "source": [
    "file_index = 0\n",
    "page_index =0\n",
    "to_check  = 'lines'\n",
    "\n",
    "resp['rsp']['outputs'][file_index]['page_info']#[page_index][to_check]"
   ]
  },
  {
   "cell_type": "code",
   "execution_count": null,
   "metadata": {},
   "outputs": [],
   "source": [
    "file_index = 0\n",
    "page_index =0\n",
    "to_check  = 'words'\n",
    "\n",
    "regions    = resp['rsp']['outputs'][file_index]['pages'][page_index][to_check]\n",
    "page_path = resp['rsp']['outputs'][file_index]['page_info'][page_index]\n",
    "\n",
    "\n",
    "draw_region(page_path,regions)"
   ]
  },
  {
   "cell_type": "code",
   "execution_count": null,
   "metadata": {},
   "outputs": [],
   "source": [
    "page_path"
   ]
  },
  {
   "cell_type": "code",
   "execution_count": null,
   "metadata": {},
   "outputs": [],
   "source": [
    "page_image"
   ]
  },
  {
   "cell_type": "code",
   "execution_count": null,
   "metadata": {},
   "outputs": [],
   "source": []
  },
  {
   "cell_type": "code",
   "execution_count": null,
   "metadata": {},
   "outputs": [],
   "source": []
  }
 ],
 "metadata": {
  "kernelspec": {
   "display_name": "ds-env2",
   "language": "python",
   "name": "ds-env2"
  },
  "language_info": {
   "codemirror_mode": {
    "name": "ipython",
    "version": 3
   },
   "file_extension": ".py",
   "mimetype": "text/x-python",
   "name": "python",
   "nbconvert_exporter": "python",
   "pygments_lexer": "ipython3",
   "version": "3.6.9"
  }
 },
 "nbformat": 4,
 "nbformat_minor": 4
}
