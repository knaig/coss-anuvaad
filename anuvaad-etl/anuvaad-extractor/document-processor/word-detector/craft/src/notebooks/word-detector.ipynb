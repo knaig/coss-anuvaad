{
 "cells": [
  {
   "cell_type": "code",
   "execution_count": 3,
   "metadata": {},
   "outputs": [],
   "source": [
    "import os\n",
    "import sys\n",
    "import cv2\n",
    "import pytesseract\n",
    "from PIL import Image, ImageDraw,ImageFont\n",
    "from pytesseract import Output"
   ]
  },
  {
   "cell_type": "code",
   "execution_count": 4,
   "metadata": {},
   "outputs": [],
   "source": [
    "nb_dir = '/'.join(os.getcwd().split('/')[:-1])\n",
    "sys.path.append(nb_dir)\n",
    "sys.path.append(os.path.split(nb_dir)[0])\n",
    "\n",
    "import config\n",
    "import src.utilities.app_context as app_context\n",
    "app_context.init()\n",
    "\n",
    "#path to craft model, weight can be pulled form the production bracnh of repo\n",
    "config.CRAFT_MODEL_PATH= nb_dir + '/utilities/craft_pytorch/model/craft_mlt_25k.pth'\n",
    "config.CRAFT_REFINE_MODEL_PATH = nb_dir + '/utilities/craft_pytorch/model/craft_refiner_CTW1500.pth'\n"
   ]
  },
  {
   "cell_type": "code",
   "execution_count": 6,
   "metadata": {},
   "outputs": [],
   "source": [
    "from src.services.main import TextDetection"
   ]
  },
  {
   "cell_type": "code",
   "execution_count": 4,
   "metadata": {},
   "outputs": [],
   "source": [
    "#base_dir = '/home/dhiraj/Documents/Anuwad/anuvaad/anuvaad-etl/anuvaad-extractor/block-merger/src/notebooks/sample-data/input'\n",
    "base_dir = '/home/naresh/anuvaad/anuvaad-etl/anuvaad-extractor/document-processor/word-detector/craft/upload/'\n",
    "filename    = 'good.pdf'\n",
    "\n",
    "#filename    = 'hamlet_1.pdf'\n",
    "file_format = 'pdf'\n",
    "language    =  'hi'"
   ]
  },
  {
   "cell_type": "code",
   "execution_count": 5,
   "metadata": {},
   "outputs": [],
   "source": [
    "app_context.application_context = {\n",
    "  \"input\":{\n",
    "  \"inputs\": [\n",
    "    {\n",
    "      \"file\": {\n",
    "        \"identifier\": \"string\",\n",
    "        \"name\": filename,\n",
    "        \"type\": file_format\n",
    "      },\n",
    "      \"config\": {\n",
    "        \"OCR\": {\n",
    "          \"option\": \"HIGH_ACCURACY\",\n",
    "          \"language\": \"hi\"\n",
    "        }\n",
    "      }\n",
    "    }\n",
    "  ]}\n",
    "}\n"
   ]
  },
  {
   "cell_type": "code",
   "execution_count": 6,
   "metadata": {},
   "outputs": [
    {
     "name": "stdout",
     "output_type": "stream",
     "text": [
      "[2021-05-03 16:03:06,672] {loghandler.py:48} MainThread DEBUG in loghandler: Block merger starting processing {'input': {'inputs': [{'file': {'identifier': 'string', 'name': 'good.pdf', 'type': 'pdf'}, 'config': {'OCR': {'option': 'HIGH_ACCURACY', 'language': 'hi'}}}]}}\n",
      "[2021-05-03 16:03:06,676] {loghandler.py:20} MainThread INFO in loghandler: created processing directories successfully /home/naresh/anuvaad/anuvaad-etl/anuvaad-extractor/document-processor/word-detector/craft/upload/good_5e128711-b37d-4d8c-a48a-57d84df72b53\n",
      "[2021-05-03 16:03:06,678] {loghandler.py:20} MainThread INFO in loghandler: filepath /home/naresh/anuvaad/anuvaad-etl/anuvaad-extractor/document-processor/word-detector/craft/upload/good.pdf, working_dir /home/naresh/anuvaad/anuvaad-etl/anuvaad-extractor/document-processor/word-detector/craft/upload/good_5e128711-b37d-4d8c-a48a-57d84df72b53\n",
      "[2021-05-03 16:03:07,086] {loghandler.py:20} MainThread INFO in loghandler: Extracting images of /home/naresh/anuvaad/anuvaad-etl/anuvaad-extractor/document-processor/word-detector/craft/upload/good.pdf\n",
      "[2021-05-03 16:03:07,087] {loghandler.py:20} MainThread INFO in loghandler: Extraction of /home/naresh/anuvaad/anuvaad-etl/anuvaad-extractor/document-processor/word-detector/craft/upload/good.pdf completed in 0.41144895553588867\n",
      "[2021-05-03 16:03:08,424] {loghandler.py:78} MainThread ERROR in loghandler: Error occured during word detection conversion[enforce fail at CPUAllocator.cpp:65] . DefaultCPUAllocator: can't allocate memory: you tried to allocate 1263271936 bytes. Error code 12 (Cannot allocate memory)\n",
      "Traceback (most recent call last):\n",
      "  File \"/home/naresh/anuvaad/anuvaad-etl/anuvaad-extractor/document-processor/word-detector/craft/src/services/main.py\", line 68, in TextDetection\n",
      "    words,lines,images = get_text(app_context,base_dir)\n",
      "  File \"/home/naresh/anuvaad/anuvaad-etl/anuvaad-extractor/document-processor/word-detector/craft/src/services/main.py\", line 19, in get_text\n",
      "    words,lines  = get_coords(images)\n",
      "  File \"/home/naresh/anuvaad/anuvaad-etl/anuvaad-extractor/document-processor/word-detector/craft/src/services/detect_text.py\", line 13, in get_coords\n",
      "    page_words,page_lines = Orientation(img).re_orient()\n",
      "  File \"/home/naresh/anuvaad/anuvaad-etl/anuvaad-extractor/document-processor/word-detector/craft/src/utilities/tilt_alignment.py\", line 106, in re_orient\n",
      "    link_threshold=config.LANGUAGE_LINE_THRESOLDS[lang]['link_threshold'])[0]\n",
      "  File \"/home/naresh/anuvaad/anuvaad-etl/anuvaad-extractor/document-processor/word-detector/craft/src/utilities/craft_pytorch/detect.py\", line 215, in detect_text_per_file\n",
      "    bboxes, polys, score_text = test_net(image, text_threshold, link_threshold, low_text_threshold, args.cuda, args.poly, refine_net)\n",
      "  File \"/home/naresh/anuvaad/anuvaad-etl/anuvaad-extractor/document-processor/word-detector/craft/src/utilities/craft_pytorch/detect.py\", line 113, in test_net\n",
      "    y, feature = net(x)\n",
      "  File \"/home/naresh/ds-env2/lib/python3.6/site-packages/torch/nn/modules/module.py\", line 727, in _call_impl\n",
      "    result = self.forward(*input, **kwargs)\n",
      "  File \"/home/naresh/anuvaad/anuvaad-etl/anuvaad-extractor/document-processor/word-detector/craft/src/utilities/craft_pytorch/craft.py\", line 60, in forward\n",
      "    sources = self.basenet(x)\n",
      "  File \"/home/naresh/ds-env2/lib/python3.6/site-packages/torch/nn/modules/module.py\", line 727, in _call_impl\n",
      "    result = self.forward(*input, **kwargs)\n",
      "  File \"/home/naresh/anuvaad/anuvaad-etl/anuvaad-extractor/document-processor/word-detector/craft/src/utilities/craft_pytorch/basenet/vgg16_bn.py\", line 61, in forward\n",
      "    h = self.slice1(X)\n",
      "  File \"/home/naresh/ds-env2/lib/python3.6/site-packages/torch/nn/modules/module.py\", line 727, in _call_impl\n",
      "    result = self.forward(*input, **kwargs)\n",
      "  File \"/home/naresh/ds-env2/lib/python3.6/site-packages/torch/nn/modules/container.py\", line 117, in forward\n",
      "    input = module(input)\n",
      "  File \"/home/naresh/ds-env2/lib/python3.6/site-packages/torch/nn/modules/module.py\", line 727, in _call_impl\n",
      "    result = self.forward(*input, **kwargs)\n",
      "  File \"/home/naresh/ds-env2/lib/python3.6/site-packages/torch/nn/modules/conv.py\", line 423, in forward\n",
      "    return self._conv_forward(input, self.weight)\n",
      "  File \"/home/naresh/ds-env2/lib/python3.6/site-packages/torch/nn/modules/conv.py\", line 420, in _conv_forward\n",
      "    self.padding, self.dilation, self.groups)\n",
      "RuntimeError: [enforce fail at CPUAllocator.cpp:65] . DefaultCPUAllocator: can't allocate memory: you tried to allocate 1263271936 bytes. Error code 12 (Cannot allocate memory)\n"
     ]
    }
   ],
   "source": [
    "resp = TextDetection(app_context,base_dir)"
   ]
  },
  {
   "cell_type": "code",
   "execution_count": null,
   "metadata": {},
   "outputs": [],
   "source": [
    "import json\n",
    "for k in range(2,5):\n",
    "    config.LANGUAGE_LINK_THRESOLDS['en']['link_threshold']=k*0.2\n",
    "    for i in range(3):\n",
    "        config.LANGUAGE_LINE_THRESOLDS['en']['low_text'] = i*0.2\n",
    "        for j in range(3):\n",
    "            config.LANGUAGE_LINE_THRESOLDS['en']['text_threshold'] = j*0.2\n",
    "\n",
    "            resp = TextDetection(app_context,base_dir)\n",
    "            file = \"/home/naresh/word_detector/\"+str(k*0.2)+\"_\"+str(i*0.2)+\"_\"+str(j*0.2)+\"_.json\" \n",
    "            json_object = json.dumps(resp, indent = 4)\n",
    "            with open(file, \"w\") as outfile: \n",
    "                outfile.write(json_object) \n",
    "            #json.dump(resp, out_file) \n",
    "            #print(resp['rsp']['outputs'][0]['page_info'][0])\n",
    "            image = draw_box(resp,resp['rsp']['outputs'][file_index]['page_info'][page_index],save_dir ,str(k*0.2)+\"_\"+str(i*0.2)+\"_\"+str(j*0.2),color=\"green\", save=True)  \n"
   ]
  },
  {
   "cell_type": "code",
   "execution_count": null,
   "metadata": {},
   "outputs": [],
   "source": []
  },
  {
   "cell_type": "code",
   "execution_count": null,
   "metadata": {},
   "outputs": [],
   "source": [
    "file_index = 0\n",
    "page_index =0\n",
    "filepath = resp['rsp']['outputs'][file_index]['page_info'][page_index]\n",
    "\n",
    "save_dir = '/home/naresh/word_detector_benchmark/'\n",
    "#resp['rsp']['outputs'][file_index]['pages'][page_index]['words'][0]"
   ]
  },
  {
   "cell_type": "code",
   "execution_count": null,
   "metadata": {},
   "outputs": [],
   "source": [
    "\n",
    "def draw_box(resp,filepath,save_dir, thresh,color=\"green\", save=False):\n",
    "    image  = Image.open(filepath)\n",
    "    draw   = ImageDraw.Draw(image)\n",
    "    for i in resp['rsp']['outputs'][file_index]['pages'][page_index]['words']:\n",
    "        #font = ImageFont.truetype(\"sans-serif.ttf\", 30)\n",
    "        draw.text((10, 10),thresh,(255,0,255))\n",
    "        print(\"kkkkkkkkkkkkkkkkkkkkkkkkkkkkkkkkkkkkkkkkkkkkkkkkkkkkkkkkkkkk\",i)\n",
    "        draw.rectangle(((i['boundingBox']['vertices'][0]['x'], i['boundingBox']['vertices'][0]['y']), (i['boundingBox']['vertices'][2]['x'],i['boundingBox']['vertices'][2]['y'])), outline=color,width=3)\n",
    "        \n",
    "    \n",
    "    save_filepath = os.path.join(save_dir, \"bbox_\"+str(thresh)+os.path.basename(filepath))\n",
    "    if save:\n",
    "        image.save(save_filepath)\n",
    "    \n",
    "    return image"
   ]
  },
  {
   "cell_type": "code",
   "execution_count": null,
   "metadata": {},
   "outputs": [],
   "source": [
    "#local draw box\n",
    "def draw_box(resp,filepath,save_dir,color=\"green\", save=False):\n",
    "    image  = Image.open(filepath)\n",
    "    draw   = ImageDraw.Draw(image)\n",
    "    for i in resp['rsp']['outputs'][file_index]['pages'][page_index]['words']:\n",
    "        draw.rectangle(((i['boundingBox']['vertices'][0]['x'], i['boundingBox']['vertices'][0]['y']), (i['boundingBox']['vertices'][2]['x'],i['boundingBox']['vertices'][2]['y'])), outline=color,width=3)\n",
    "        \n",
    "    \n",
    "    save_filepath = os.path.join(save_dir, \"bbox_\"+os.path.basename(filepath))\n",
    "    if save:\n",
    "        image.save(save_filepath)\n",
    "    \n",
    "    return image"
   ]
  },
  {
   "cell_type": "code",
   "execution_count": null,
   "metadata": {},
   "outputs": [],
   "source": [
    "image =draw_box(resp,filepath,save_dir,color=\"green\", save=True)       "
   ]
  },
  {
   "cell_type": "code",
   "execution_count": null,
   "metadata": {},
   "outputs": [],
   "source": [
    "def draw_tess(filepath,save_dir):\n",
    "    img = cv2.imread(filepath)\n",
    "    name = filepath.split(\"/\")[-1]\n",
    "    print(name)\n",
    "    h, w, c = img.shape\n",
    "    boxes = pytesseract.image_to_boxes(img)\n",
    "    #try:\n",
    "    d = pytesseract.image_to_data(img, output_type=Output.DICT)\n",
    "    n_boxes = len(d['text'])\n",
    "    for i in range(n_boxes):\n",
    "        if int(d['conf'][i]) > 1:\n",
    "            (x, y, w, h) = (d['left'][i], d['top'][i], d['width'][i], d['height'][i])\n",
    "            img = cv2.rectangle(img, (x, y), (x + w, y + h), (0, 255, 0), 2)\n",
    "\n",
    "    cv2.imwrite(save_dir+name, img)\n",
    "    print(save_dir+name)\n",
    "#     except:\n",
    "#         pass\n",
    "    "
   ]
  },
  {
   "cell_type": "code",
   "execution_count": null,
   "metadata": {},
   "outputs": [],
   "source": [
    "draw_tess(filepath,save_dir)"
   ]
  },
  {
   "cell_type": "code",
   "execution_count": null,
   "metadata": {},
   "outputs": [],
   "source": []
  }
 ],
 "metadata": {
  "kernelspec": {
   "display_name": "ds-env2",
   "language": "python",
   "name": "ds-env2"
  },
  "language_info": {
   "codemirror_mode": {
    "name": "ipython",
    "version": 3
   },
   "file_extension": ".py",
   "mimetype": "text/x-python",
   "name": "python",
   "nbconvert_exporter": "python",
   "pygments_lexer": "ipython3",
   "version": "3.6.9"
  }
 },
 "nbformat": 4,
 "nbformat_minor": 4
}
