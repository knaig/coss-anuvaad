{
 "cells": [
  {
   "cell_type": "code",
   "execution_count": 1,
   "metadata": {},
   "outputs": [],
   "source": [
    "import os\n",
    "import sys\n",
    "import cv2\n",
    "import pytesseract\n",
    "from PIL import Image, ImageDraw,ImageFont\n",
    "from pytesseract import Output"
   ]
  },
  {
   "cell_type": "code",
   "execution_count": 2,
   "metadata": {},
   "outputs": [],
   "source": [
    "nb_dir = '/'.join(os.getcwd().split('/')[:-1])\n",
    "sys.path.append(nb_dir)\n",
    "sys.path.append(os.path.split(nb_dir)[0])\n",
    "\n",
    "import config\n",
    "import src.utilities.app_context as app_context\n",
    "app_context.init()\n",
    "\n",
    "#path to craft model, weight can be pulled form the production bracnh of repo\n",
    "config.CRAFT_MODEL_PATH= nb_dir + '/utilities/craft_pytorch/model/craft_mlt_25k.pth'\n",
    "config.CRAFT_REFINE_MODEL_PATH = nb_dir + '/utilities/craft_pytorch/model/craft_refiner_CTW1500.pth'\n"
   ]
  },
  {
   "cell_type": "code",
   "execution_count": 3,
   "metadata": {},
   "outputs": [
    {
     "name": "stderr",
     "output_type": "stream",
     "text": [
      "/home/naresh/ds-env2/lib/python3.6/site-packages/torch/cuda/__init__.py:52: UserWarning: CUDA initialization: Found no NVIDIA driver on your system. Please check that you have an NVIDIA GPU and installed a driver from http://www.nvidia.com/Download/index.aspx (Triggered internally at  /pytorch/c10/cuda/CUDAFunctions.cpp:100.)\n",
      "  return torch._C._cuda_getDeviceCount() > 0\n"
     ]
    },
    {
     "name": "stdout",
     "output_type": "stream",
     "text": [
      "Loading weights of refiner from checkpoint (./model/craft_refiner_CTW1500.pth)\n",
      "[2021-07-20 18:34:51,302] {geos.py:73} MainThread DEBUG in geos: Found GEOS DLL: <CDLL '/home/naresh/ds-env2/lib/python3.6/site-packages/shapely/.libs/libgeos_c-a68605fd.so.1.13.1', handle a5cb720 at 0x7f75fe2e3ef0>, using it.\n",
      "[2021-07-20 18:34:51,318] {geos.py:38} MainThread DEBUG in geos: Trying `CDLL(libc.so.6)`\n",
      "[2021-07-20 18:34:51,320] {geos.py:55} MainThread DEBUG in geos: Library path: 'libc.so.6'\n",
      "[2021-07-20 18:34:51,321] {geos.py:56} MainThread DEBUG in geos: DLL: <CDLL 'libc.so.6', handle 7f769663b000 at 0x7f75fe2e3eb8>\n"
     ]
    }
   ],
   "source": [
    "from src.services.main import TextDetection"
   ]
  },
  {
   "cell_type": "code",
   "execution_count": 4,
   "metadata": {},
   "outputs": [],
   "source": [
    "#base_dir = '/home/dhiraj/Documents/Anuwad/anuvaad/anuvaad-etl/anuvaad-extractor/block-merger/src/notebooks/sample-data/input'\n",
    "base_dir = '/home/naresh/anuvaad/anuvaad-etl/anuvaad-extractor/document-processor/word-detector/craft/upload/'\n",
    "filename    = 'hi_const255_hi.pdf'\n",
    "\n",
    "#filename    = 'hamlet_1.pdf'\n",
    "file_format = 'pdf'\n",
    "language    =  'hi'"
   ]
  },
  {
   "cell_type": "code",
   "execution_count": 5,
   "metadata": {},
   "outputs": [],
   "source": [
    "app_context.application_context = {\n",
    "  \"input\":{\n",
    "  \"inputs\": [\n",
    "    {\n",
    "      \"file\": {\n",
    "        \"identifier\": \"string\",\n",
    "        \"name\": filename,\n",
    "        \"type\": file_format\n",
    "      },\n",
    "      \"config\": {\n",
    "        \"OCR\": {\n",
    "          \"option\": \"HIGH_ACCURACY\",\n",
    "          \"language\": \"hi\"\n",
    "        }\n",
    "      }\n",
    "    }\n",
    "  ]}\n",
    "}\n"
   ]
  },
  {
   "cell_type": "code",
   "execution_count": 6,
   "metadata": {},
   "outputs": [],
   "source": [
    "config.LANGUAGE_LINE_THRESOLDS['hi']['text_threshold']=0.5\n",
    "config.LANGUAGE_LINE_THRESOLDS['hi']['link_threshold']=0.35\n",
    "config.LANGUAGE_LINE_THRESOLDS['hi']['low_text']=0.5"
   ]
  },
  {
   "cell_type": "code",
   "execution_count": 7,
   "metadata": {},
   "outputs": [
    {
     "name": "stdout",
     "output_type": "stream",
     "text": [
      "[2021-07-20 18:34:51,398] {loghandler.py:48} MainThread DEBUG in loghandler: Block merger starting processing {'input': {'inputs': [{'file': {'identifier': 'string', 'name': 'hi_const255_hi.pdf', 'type': 'pdf'}, 'config': {'OCR': {'option': 'HIGH_ACCURACY', 'language': 'hi'}}}]}}\n",
      "[2021-07-20 18:34:51,403] {loghandler.py:20} MainThread INFO in loghandler: created processing directories successfully /home/naresh/anuvaad/anuvaad-etl/anuvaad-extractor/document-processor/word-detector/craft/upload/hi_const255_hi_72b33f6e-6864-43e6-a0ef-f0c2cf5a48cf\n",
      "[2021-07-20 18:34:51,407] {loghandler.py:20} MainThread INFO in loghandler: filepath /home/naresh/anuvaad/anuvaad-etl/anuvaad-extractor/document-processor/word-detector/craft/upload/hi_const255_hi.pdf, working_dir /home/naresh/anuvaad/anuvaad-etl/anuvaad-extractor/document-processor/word-detector/craft/upload/hi_const255_hi_72b33f6e-6864-43e6-a0ef-f0c2cf5a48cf\n",
      "[2021-07-20 18:34:51,531] {loghandler.py:20} MainThread INFO in loghandler: Extracting images of /home/naresh/anuvaad/anuvaad-etl/anuvaad-extractor/document-processor/word-detector/craft/upload/hi_const255_hi.pdf\n",
      "[2021-07-20 18:34:51,532] {loghandler.py:20} MainThread INFO in loghandler: Extraction of /home/naresh/anuvaad/anuvaad-etl/anuvaad-extractor/document-processor/word-detector/craft/upload/hi_const255_hi.pdf completed in 0.1299302577972412\n",
      "[2021-07-20 18:35:46,949] {loghandler.py:20} MainThread INFO in loghandler: Time taken for text detection is 55.34730911254883/1time per page : 55.34730911254883\n"
     ]
    },
    {
     "name": "stderr",
     "output_type": "stream",
     "text": [
      "/home/naresh/anuvaad/anuvaad-etl/anuvaad-extractor/document-processor/word-detector/craft/src/utilities/craft_pytorch/craft_utils.py:239: VisibleDeprecationWarning: Creating an ndarray from ragged nested sequences (which is a list-or-tuple of lists-or-tuples-or ndarrays with different lengths or shapes) is deprecated. If you meant to do this, you must specify 'dtype=object' when creating the ndarray\n",
      "  polys = np.array(polys)\n"
     ]
    },
    {
     "name": "stdout",
     "output_type": "stream",
     "text": [
      "Angle of tilt detected 0.07897561745897363 \n",
      "[2021-07-20 18:36:25,135] {loghandler.py:20} MainThread INFO in loghandler: Time taken for text detection is 38.17522192001343/1time per page : 38.17522192001343\n",
      "Angle of tilt after correction 0.07897561745897363 \n",
      "lines are sorting out\n",
      "lines are sorting out\n",
      "lines are sorting out\n",
      "lines are sorting out\n",
      "lines are sorting out\n",
      "lines are sorting out\n",
      "lines are sorting out\n",
      "lines are sorting out\n",
      "lines are sorting out\n",
      "lines are sorting out\n",
      "lines are sorting out\n",
      "lines are sorting out\n",
      "lines are sorting out\n",
      "lines are sorting out\n",
      "lines are sorting out\n",
      "lines are sorting out\n",
      "lines are sorting out\n",
      "lines are sorting out\n",
      "lines are sorting out\n",
      "lines are sorting out\n",
      "lines are sorting out\n",
      "lines are sorting out\n"
     ]
    }
   ],
   "source": [
    "resp = TextDetection(app_context,base_dir)"
   ]
  },
  {
   "cell_type": "code",
   "execution_count": null,
   "metadata": {},
   "outputs": [],
   "source": []
  },
  {
   "cell_type": "code",
   "execution_count": null,
   "metadata": {},
   "outputs": [],
   "source": []
  },
  {
   "cell_type": "code",
   "execution_count": 8,
   "metadata": {},
   "outputs": [],
   "source": [
    "file_index = 0\n",
    "page_index =0\n",
    "filepath = resp['rsp']['outputs'][file_index]['page_info'][page_index]\n",
    "\n",
    "save_dir = '/home/naresh/word_detector_benchmark/'\n",
    "#resp['rsp']['outputs'][file_index]['pages'][page_index]['words'][0]"
   ]
  },
  {
   "cell_type": "code",
   "execution_count": 9,
   "metadata": {},
   "outputs": [],
   "source": [
    "\n",
    "def draw_box(resp,filepath,save_dir, thresh,color=\"green\", save=False):\n",
    "    image  = Image.open(filepath)\n",
    "    draw   = ImageDraw.Draw(image)\n",
    "    for i in resp['rsp']['outputs'][file_index]['pages'][page_index]['words']:\n",
    "        #font = ImageFont.truetype(\"sans-serif.ttf\", 30)\n",
    "        draw.text((10, 10),thresh,(255,0,255))\n",
    "        draw.rectangle(((i['boundingBox']['vertices'][0]['x'], i['boundingBox']['vertices'][0]['y']), (i['boundingBox']['vertices'][2]['x'],i['boundingBox']['vertices'][2]['y'])), outline=color,width=3)\n",
    "        \n",
    "    \n",
    "    save_filepath = os.path.join(save_dir, \"bbox_\"+str(thresh)+os.path.basename(filepath))\n",
    "    if save:\n",
    "        image.save(save_filepath)\n",
    "    \n",
    "    return image"
   ]
  },
  {
   "cell_type": "code",
   "execution_count": 10,
   "metadata": {},
   "outputs": [],
   "source": [
    "#local draw box\n",
    "def draw_box(resp,filepath,save_dir,color=\"green\", save=False):\n",
    "    image  = Image.open(filepath)\n",
    "    draw   = ImageDraw.Draw(image)\n",
    "    for i in resp['rsp']['outputs'][file_index]['pages'][page_index]['lines']:\n",
    "        draw.rectangle(((i['boundingBox']['vertices'][0]['x'], i['boundingBox']['vertices'][0]['y']), (i['boundingBox']['vertices'][2]['x'],i['boundingBox']['vertices'][2]['y'])), outline=color,width=3)\n",
    "\n",
    "    save_filepath = os.path.join(save_dir, \"bbox_\"+os.path.basename(filepath))\n",
    "    if save:\n",
    "        image.save(save_filepath)\n",
    "    \n",
    "    return image"
   ]
  },
  {
   "cell_type": "code",
   "execution_count": 11,
   "metadata": {},
   "outputs": [],
   "source": [
    "image =draw_box(resp,filepath,save_dir,color=\"green\", save=True)       "
   ]
  },
  {
   "cell_type": "code",
   "execution_count": 12,
   "metadata": {},
   "outputs": [],
   "source": [
    "def draw_tess(filepath,save_dir):\n",
    "    img = cv2.imread(filepath)\n",
    "    name = filepath.split(\"/\")[-1]\n",
    "    print(name)\n",
    "    h, w, c = img.shape\n",
    "    boxes = pytesseract.image_to_boxes(img)\n",
    "    #try:\n",
    "    d = pytesseract.image_to_data(img, output_type=Output.DICT)\n",
    "    n_boxes = len(d['text'])\n",
    "    for i in range(n_boxes):\n",
    "        if int(d['conf'][i]) > 1:\n",
    "            (x, y, w, h) = (d['left'][i], d['top'][i], d['width'][i], d['height'][i])\n",
    "            img = cv2.rectangle(img, (x, y), (x + w, y + h), (0, 255, 0), 2)\n",
    "\n",
    "    cv2.imwrite(save_dir+name, img)\n",
    "    print(save_dir+name)\n",
    "#     except:\n",
    "#         pass\n",
    "    "
   ]
  },
  {
   "cell_type": "code",
   "execution_count": 13,
   "metadata": {},
   "outputs": [],
   "source": [
    "#draw_tess(filepath,save_dir)"
   ]
  },
  {
   "cell_type": "code",
   "execution_count": null,
   "metadata": {},
   "outputs": [],
   "source": []
  }
 ],
 "metadata": {
  "kernelspec": {
   "display_name": "ds-env2",
   "language": "python",
   "name": "ds-env2"
  },
  "language_info": {
   "codemirror_mode": {
    "name": "ipython",
    "version": 3
   },
   "file_extension": ".py",
   "mimetype": "text/x-python",
   "name": "python",
   "nbconvert_exporter": "python",
   "pygments_lexer": "ipython3",
   "version": "3.6.9"
  }
 },
 "nbformat": 4,
 "nbformat_minor": 4
}
