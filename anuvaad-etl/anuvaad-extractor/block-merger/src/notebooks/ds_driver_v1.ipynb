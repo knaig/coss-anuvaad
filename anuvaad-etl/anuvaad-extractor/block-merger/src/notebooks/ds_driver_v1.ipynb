{
 "cells": [
  {
   "cell_type": "code",
   "execution_count": 1,
   "metadata": {},
   "outputs": [],
   "source": [
    "import os\n",
    "import sys\n",
    "import time\n",
    "nb_dir = os.path.split(os.getcwd())[0]\n",
    "\n",
    "sys.path.append(nb_dir)\n",
    "sys.path.append(os.path.split(nb_dir)[0])"
   ]
  },
  {
   "cell_type": "code",
   "execution_count": 2,
   "metadata": {},
   "outputs": [],
   "source": [
    "import pandas as pd\n",
    "from PIL import Image, ImageDraw\n",
    "import copy"
   ]
  },
  {
   "cell_type": "code",
   "execution_count": 3,
   "metadata": {},
   "outputs": [],
   "source": [
    "from services.xml_document_info import (get_xml_info, get_xml_image_info)\n",
    "from services.get_xml import  create_pdf_processing_paths, extract_pdf_metadata, process_input_pdf\n",
    "from anuvaad_auditor.loghandler import log_info\n",
    "from anuvaad_auditor.loghandler import log_error\n",
    "from src.services import main\n",
    "from services import get_xml\n",
    "from src.services.child_text_unify_to_parent import ChildTextUnify\n",
    "from services.preprocess import prepocess_pdf_regions\n",
    "from services.get_tables import page_num_correction , get_text_table_line_df\n",
    "from src.services.ocr_text_utilities import  tesseract_ocr\n",
    "\n",
    "from utilities.xml_utils import (extract_image_paths_from_pdf,\n",
    "                                 extract_xml_from_digital_pdf,\n",
    "                                 extract_html_bg_images_from_digital_pdf,\n",
    "                                 create_directory,\n",
    "                                 read_directory_files)\n",
    "import config"
   ]
  },
  {
   "cell_type": "code",
   "execution_count": 4,
   "metadata": {},
   "outputs": [],
   "source": [
    "def draw_box(filepath, desired_width, desired_height, df, color=\"green\", save=False):\n",
    "    image  = Image.open(filepath)\n",
    "    image  = image.resize((desired_width, desired_height))\n",
    "    draw   = ImageDraw.Draw(image)\n",
    "    \n",
    "    for index, row in df.iterrows():\n",
    "        left   = int(row['text_left'])\n",
    "        right  = int(row['text_width'] + left)\n",
    "        top    = int(row['text_top'])\n",
    "        bottom = int(row[\"text_height\"] + top)\n",
    "        \n",
    "        draw.rectangle(((left, top), (right,bottom)), outline=color)\n",
    "    save_filepath = os.path.join(os.path.dirname(filepath), 'processed_' + os.path.basename(filepath))\n",
    "    if save:\n",
    "        image.save(save_filepath)\n",
    "    \n",
    "    return image\n",
    "\n",
    "def show_df(df):\n",
    "    return df.head(df.shape[0])"
   ]
  },
  {
   "cell_type": "code",
   "execution_count": null,
   "metadata": {},
   "outputs": [],
   "source": []
  },
  {
   "cell_type": "markdown",
   "metadata": {},
   "source": [
    "## start of the program"
   ]
  },
  {
   "cell_type": "code",
   "execution_count": 5,
   "metadata": {},
   "outputs": [],
   "source": [
    "'''\n",
    "  folder structure of test data goes like this\n",
    "  - notebooks\n",
    "      - sample-data\n",
    "          - input\n",
    "          - output\n",
    "          \n",
    "  the pdfs are present in \"input\" directory and they are *.pdf is added into .gitignore\n",
    "  just to save repo size.\n",
    "'''\n",
    "\n",
    "base_dir   = os.getcwd()\n",
    "input_dir  = os.path.join(base_dir, 'sample-data','input')\n",
    "save_dir = os.path.join(base_dir, 'sample-data', 'bbox_output')\n",
    "\n",
    "output_dir = os.path.join(base_dir, 'sample-data', 'output')\n",
    "create_directory(input_dir)\n",
    "create_directory(output_dir)\n",
    "\n",
    "filename   = 'Madras_HC_02.pdf'"
   ]
  },
  {
   "cell_type": "markdown",
   "metadata": {},
   "source": [
    "## extract the pdf into xml & background images for downstream processing"
   ]
  },
  {
   "cell_type": "code",
   "execution_count": 6,
   "metadata": {},
   "outputs": [],
   "source": [
    "pdf_filepath      = os.path.join(input_dir, filename)\n",
    "working_dir       = os.path.join(output_dir, os.path.splitext(filename)[0])\n",
    "\n",
    "ret               = create_directory(working_dir)\n",
    "\n",
    "start_time        = time.time()\n",
    "\n",
    "pdf_image_paths   = extract_image_paths_from_pdf(pdf_filepath, working_dir)\n",
    "pdf_xml_dir       = extract_xml_from_digital_pdf(pdf_filepath, working_dir)\n",
    "pdf_bg_image_dir  = extract_html_bg_images_from_digital_pdf(pdf_filepath, working_dir)\n",
    "\n",
    "end_time          = time.time()\n",
    "extraction_time   = end_time - start_time"
   ]
  },
  {
   "cell_type": "code",
   "execution_count": 7,
   "metadata": {},
   "outputs": [
    {
     "name": "stdout",
     "output_type": "stream",
     "text": [
      "Extracted xml, background images & images of file: Madras_HC_02.pdf\n",
      "Extraction time (1.819895) average extraction time (0.454974)\n"
     ]
    }
   ],
   "source": [
    "xml_files      = read_directory_files(pdf_xml_dir, pattern='*.xml')\n",
    "bg_files       = read_directory_files(pdf_bg_image_dir, pattern='*.png')\n",
    "\n",
    "print(\"Extracted xml, background images & images of file: %s\" % (filename))\n",
    "print('Extraction time (%f) average extraction time (%f)' % (extraction_time, extraction_time/len(bg_files)))"
   ]
  },
  {
   "cell_type": "code",
   "execution_count": 9,
   "metadata": {},
   "outputs": [
    {
     "name": "stdout",
     "output_type": "stream",
     "text": [
      "Total number of pages (4) in file (Madras_HC_02.xml)\n",
      "Total number of pages (4) in file (Madras_HC_02.xml)\n"
     ]
    }
   ],
   "source": [
    "xml_dfs, page_width, page_height = get_xml_info(xml_files[0])\n",
    "img_dfs, page_width, page_height = get_xml_image_info(xml_files[0])\n",
    "pages = len(xml_dfs)"
   ]
  },
  {
   "cell_type": "markdown",
   "metadata": {},
   "source": [
    "# Draw Bounding box using dfs"
   ]
  },
  {
   "cell_type": "code",
   "execution_count": 10,
   "metadata": {},
   "outputs": [
    {
     "name": "stderr",
     "output_type": "stream",
     "text": [
      "/home/naresh/Tarento/anuvaad/anuvaad-etl/anuvaad-extractor/block-merger/src/services/preprocess.py:18: SettingWithCopyWarning: \n",
      "A value is trying to be set on a copy of a slice from a DataFrame.\n",
      "Try using .loc[row_indexer,col_indexer] = value instead\n",
      "\n",
      "See the caveats in the documentation: https://pandas.pydata.org/pandas-docs/stable/user_guide/indexing.html#returning-a-view-versus-a-copy\n",
      "  sub_df['text_right']  = sub_df['text_left'] + sub_df['text_width']\n",
      "/home/naresh/Tarento/anuvaad/anuvaad-etl/anuvaad-extractor/block-merger/src/services/preprocess.py:19: SettingWithCopyWarning: \n",
      "A value is trying to be set on a copy of a slice from a DataFrame.\n",
      "Try using .loc[row_indexer,col_indexer] = value instead\n",
      "\n",
      "See the caveats in the documentation: https://pandas.pydata.org/pandas-docs/stable/user_guide/indexing.html#returning-a-view-versus-a-copy\n",
      "  sub_df['text_bottom'] = sub_df['text_top'] + sub_df['text_height']\n"
     ]
    }
   ],
   "source": [
    "header_region, footer_region = prepocess_pdf_regions(xml_dfs, page_height)"
   ]
  },
  {
   "cell_type": "code",
   "execution_count": 15,
   "metadata": {},
   "outputs": [],
   "source": [
    "def doc_structure_analysis(pages,xml_dfs,img_dfs,working_dir,header_region , footer_region, multiple_pages):\n",
    "    \n",
    "    '''\n",
    "        Document structure analysis to get:\n",
    "            - in_dfs\n",
    "            - table_dfs\n",
    "            - line_dfs\n",
    "            - h_dfs\n",
    "            - v_dfs\n",
    "            - p_dfs\n",
    "            - text_block_dfs\n",
    "\n",
    "    '''\n",
    "    log_info(\"Service main\", \"document structure analysis started  ===>\", None)\n",
    "    \n",
    "    text_merger = ChildTextUnify()\n",
    "    in_dfs, table_dfs, line_dfs = get_text_table_line_df(pages,working_dir, xml_dfs,img_dfs,None)\n",
    "    h_dfs          = get_xml.get_hdfs(pages, in_dfs, config.DOCUMENT_CONFIGS,header_region , footer_region, multiple_pages)\n",
    "    v_dfs          = get_xml.get_vdfs(pages, h_dfs, config.DOCUMENT_CONFIGS)\n",
    "    p_dfs          = get_xml.get_pdfs(pages, v_dfs, config.DOCUMENT_CONFIGS, config.BLOCK_CONFIGS)\n",
    "    #text_block_dfs = text_merger.unify_child_text_blocks(pages, p_dfs, config.DROP_TEXT)\n",
    "\n",
    "    log_info(\"Service main\", \"document structure analysis successfully completed\", None)\n",
    "\n",
    "    return in_dfs,h_dfs, v_dfs, p_dfs"
   ]
  },
  {
   "cell_type": "code",
   "execution_count": 16,
   "metadata": {},
   "outputs": [
    {
     "name": "stderr",
     "output_type": "stream",
     "text": [
      "/home/naresh/Tarento/anuvaad/anuvaad-etl/anuvaad-extractor/block-merger/src/services/preprocess.py:117: SettingWithCopyWarning: \n",
      "A value is trying to be set on a copy of a slice from a DataFrame\n",
      "\n",
      "See the caveats in the documentation: https://pandas.pydata.org/pandas-docs/stable/user_guide/indexing.html#returning-a-view-versus-a-copy\n",
      "  page_df['text_left'] + page_df['text_width'] <= area[3])] = attrib\n"
     ]
    }
   ],
   "source": [
    "in_dfs,h_dfs, v_dfs, p_dfs = doc_structure_analysis(pages,xml_dfs,img_dfs,working_dir,header_region , footer_region, True)"
   ]
  },
  {
   "cell_type": "markdown",
   "metadata": {},
   "source": [
    "# # OCR for vernacular language"
   ]
  },
  {
   "cell_type": "code",
   "execution_count": null,
   "metadata": {},
   "outputs": [],
   "source": [
    "### OCR for class 1 vernacular documents\n",
    "ocr_dfs  = tesseract_ocr(pdf_image_paths, page_width, page_height, p_dfs, \"eng\" )"
   ]
  },
  {
   "cell_type": "code",
   "execution_count": 17,
   "metadata": {},
   "outputs": [],
   "source": [
    "page_index      = 0\n",
    "img_filepath    = pdf_image_paths[page_index]\n",
    "\n",
    "in_df   = in_dfs[page_index]\n",
    "h_df    = h_dfs[page_index]\n",
    "v_df    = v_dfs[page_index]\n",
    "p_df    = p_dfs[page_index]\n",
    "ocr_df  = ocr_dfs[page_index]"
   ]
  },
  {
   "cell_type": "code",
   "execution_count": 18,
   "metadata": {
    "scrolled": false
   },
   "outputs": [],
   "source": [
    "#draw_box(img_filepath, page_width, page_height,p_df, color='red')"
   ]
  },
  {
   "cell_type": "markdown",
   "metadata": {},
   "source": [
    "# Draw bounding box for json response "
   ]
  },
  {
   "cell_type": "code",
   "execution_count": 24,
   "metadata": {},
   "outputs": [],
   "source": [
    "from src.services import main"
   ]
  },
  {
   "cell_type": "code",
   "execution_count": 10,
   "metadata": {},
   "outputs": [
    {
     "ename": "TypeError",
     "evalue": "expected str, bytes or os.PathLike object, not NoneType",
     "output_type": "error",
     "traceback": [
      "\u001b[0;31m---------------------------------------------------------------------------\u001b[0m",
      "\u001b[0;31mTypeError\u001b[0m                                 Traceback (most recent call last)",
      "\u001b[0;32m<ipython-input-10-4dc5a3e74b9e>\u001b[0m in \u001b[0;36m<module>\u001b[0;34m\u001b[0m\n\u001b[1;32m      3\u001b[0m \u001b[0;32mif\u001b[0m \u001b[0;32mnot\u001b[0m \u001b[0mos\u001b[0m\u001b[0;34m.\u001b[0m\u001b[0mpath\u001b[0m\u001b[0;34m.\u001b[0m\u001b[0mexists\u001b[0m\u001b[0;34m(\u001b[0m\u001b[0msave_path\u001b[0m\u001b[0;34m)\u001b[0m\u001b[0;34m:\u001b[0m\u001b[0;34m\u001b[0m\u001b[0;34m\u001b[0m\u001b[0m\n\u001b[1;32m      4\u001b[0m     \u001b[0mos\u001b[0m\u001b[0;34m.\u001b[0m\u001b[0msystem\u001b[0m\u001b[0;34m(\u001b[0m\u001b[0;34m'mkdir -p {0}'\u001b[0m\u001b[0;34m.\u001b[0m\u001b[0mformat\u001b[0m\u001b[0;34m(\u001b[0m\u001b[0msave_path\u001b[0m\u001b[0;34m)\u001b[0m\u001b[0;34m)\u001b[0m\u001b[0;34m\u001b[0m\u001b[0;34m\u001b[0m\u001b[0m\n\u001b[0;32m----> 5\u001b[0;31m \u001b[0mdata\u001b[0m \u001b[0;34m=\u001b[0m \u001b[0mmain\u001b[0m\u001b[0;34m.\u001b[0m\u001b[0mDocumentStructure\u001b[0m\u001b[0;34m(\u001b[0m\u001b[0;36m100\u001b[0m\u001b[0;34m,\u001b[0m\u001b[0mfilename\u001b[0m\u001b[0;34m,\u001b[0m \u001b[0;32mNone\u001b[0m\u001b[0;34m,\u001b[0m\u001b[0;34m'eng'\u001b[0m\u001b[0;34m)\u001b[0m\u001b[0;34m\u001b[0m\u001b[0;34m\u001b[0m\u001b[0m\n\u001b[0m",
      "\u001b[0;32m~/Tarento/anuvaad/anuvaad-etl/anuvaad-extractor/block-merger/src/services/main.py\u001b[0m in \u001b[0;36mDocumentStructure\u001b[0;34m(jobid, file_name, base_dir, lang)\u001b[0m\n\u001b[1;32m    125\u001b[0m \u001b[0;34m\u001b[0m\u001b[0m\n\u001b[1;32m    126\u001b[0m \u001b[0;32mdef\u001b[0m \u001b[0mDocumentStructure\u001b[0m\u001b[0;34m(\u001b[0m\u001b[0mjobid\u001b[0m\u001b[0;34m,\u001b[0m \u001b[0mfile_name\u001b[0m\u001b[0;34m,\u001b[0m \u001b[0mbase_dir\u001b[0m \u001b[0;34m=\u001b[0m \u001b[0mconfig\u001b[0m\u001b[0;34m.\u001b[0m\u001b[0mBASE_DIR\u001b[0m\u001b[0;34m,\u001b[0m \u001b[0mlang\u001b[0m\u001b[0;34m=\u001b[0m\u001b[0;34m'en'\u001b[0m\u001b[0;34m)\u001b[0m\u001b[0;34m:\u001b[0m\u001b[0;34m\u001b[0m\u001b[0;34m\u001b[0m\u001b[0m\n\u001b[0;32m--> 127\u001b[0;31m     \u001b[0mimg_dfs\u001b[0m\u001b[0;34m,\u001b[0m\u001b[0mbg_files\u001b[0m\u001b[0;34m,\u001b[0m \u001b[0mxml_dfs\u001b[0m\u001b[0;34m,\u001b[0m \u001b[0mpages\u001b[0m\u001b[0;34m,\u001b[0m \u001b[0mworking_dir\u001b[0m\u001b[0;34m,\u001b[0m \u001b[0mheader_region\u001b[0m \u001b[0;34m,\u001b[0m \u001b[0mfooter_region\u001b[0m\u001b[0;34m,\u001b[0m \u001b[0mmultiple_pages\u001b[0m\u001b[0;34m,\u001b[0m \u001b[0mpage_width\u001b[0m\u001b[0;34m,\u001b[0m \u001b[0mpage_height\u001b[0m\u001b[0;34m,\u001b[0m \u001b[0mpdf_image_paths\u001b[0m \u001b[0;34m=\u001b[0m \u001b[0mdoc_pre_processing\u001b[0m\u001b[0;34m(\u001b[0m\u001b[0mfile_name\u001b[0m\u001b[0;34m,\u001b[0m\u001b[0mbase_dir\u001b[0m\u001b[0;34m,\u001b[0m\u001b[0mjobid\u001b[0m\u001b[0;34m)\u001b[0m\u001b[0;34m\u001b[0m\u001b[0;34m\u001b[0m\u001b[0m\n\u001b[0m\u001b[1;32m    128\u001b[0m \u001b[0;34m\u001b[0m\u001b[0m\n\u001b[1;32m    129\u001b[0m     \u001b[0mtext_blocks_count\u001b[0m \u001b[0;34m=\u001b[0m \u001b[0mcheck_text\u001b[0m\u001b[0;34m(\u001b[0m\u001b[0mxml_dfs\u001b[0m\u001b[0;34m)\u001b[0m\u001b[0;34m\u001b[0m\u001b[0;34m\u001b[0m\u001b[0m\n",
      "\u001b[0;32m~/Tarento/anuvaad/anuvaad-etl/anuvaad-extractor/block-merger/src/services/main.py\u001b[0m in \u001b[0;36mdoc_pre_processing\u001b[0;34m(filename, base_dir, jobid)\u001b[0m\n\u001b[1;32m     27\u001b[0m     \u001b[0mlog_info\u001b[0m\u001b[0;34m(\u001b[0m\u001b[0;34m\"Service main\"\u001b[0m\u001b[0;34m,\u001b[0m \u001b[0;34m\"document preprocessing started  ===>\"\u001b[0m\u001b[0;34m,\u001b[0m \u001b[0mjobid\u001b[0m\u001b[0;34m)\u001b[0m\u001b[0;34m\u001b[0m\u001b[0;34m\u001b[0m\u001b[0m\n\u001b[1;32m     28\u001b[0m \u001b[0;34m\u001b[0m\u001b[0m\n\u001b[0;32m---> 29\u001b[0;31m     \u001b[0mimg_dfs\u001b[0m\u001b[0;34m,\u001b[0m\u001b[0mbg_files\u001b[0m\u001b[0;34m,\u001b[0m\u001b[0mxml_dfs\u001b[0m\u001b[0;34m,\u001b[0m \u001b[0mpage_width\u001b[0m\u001b[0;34m,\u001b[0m \u001b[0mpage_height\u001b[0m\u001b[0;34m,\u001b[0m\u001b[0mworking_dir\u001b[0m\u001b[0;34m,\u001b[0m \u001b[0mpdf_image_paths\u001b[0m  \u001b[0;34m=\u001b[0m \u001b[0mget_xml\u001b[0m\u001b[0;34m.\u001b[0m\u001b[0mprocess_input_pdf\u001b[0m\u001b[0;34m(\u001b[0m\u001b[0mfilename\u001b[0m\u001b[0;34m,\u001b[0m \u001b[0mbase_dir\u001b[0m\u001b[0;34m,\u001b[0m\u001b[0mjobid\u001b[0m\u001b[0;34m)\u001b[0m\u001b[0;34m\u001b[0m\u001b[0;34m\u001b[0m\u001b[0m\n\u001b[0m\u001b[1;32m     30\u001b[0m     \u001b[0mmultiple_pages\u001b[0m \u001b[0;34m=\u001b[0m \u001b[0;32mFalse\u001b[0m\u001b[0;34m\u001b[0m\u001b[0;34m\u001b[0m\u001b[0m\n\u001b[1;32m     31\u001b[0m     \u001b[0mpages\u001b[0m          \u001b[0;34m=\u001b[0m \u001b[0mlen\u001b[0m\u001b[0;34m(\u001b[0m\u001b[0mxml_dfs\u001b[0m\u001b[0;34m)\u001b[0m\u001b[0;34m\u001b[0m\u001b[0;34m\u001b[0m\u001b[0m\n",
      "\u001b[0;32m~/Tarento/anuvaad/anuvaad-etl/anuvaad-extractor/block-merger/src/services/get_xml.py\u001b[0m in \u001b[0;36mprocess_input_pdf\u001b[0;34m(filename, base_dir, jobid)\u001b[0m\n\u001b[1;32m     80\u001b[0m             \u001b[0;34m-\u001b[0m \u001b[0mbackground\u001b[0m \u001b[0mimage\u001b[0m \u001b[0mpresent\u001b[0m \u001b[0;32min\u001b[0m \u001b[0meach\u001b[0m \u001b[0mpage\u001b[0m\u001b[0;34m\u001b[0m\u001b[0;34m\u001b[0m\u001b[0m\n\u001b[1;32m     81\u001b[0m     '''\n\u001b[0;32m---> 82\u001b[0;31m     \u001b[0mworking_dir\u001b[0m\u001b[0;34m,\u001b[0m \u001b[0mret\u001b[0m \u001b[0;34m=\u001b[0m \u001b[0mcreate_pdf_processing_paths\u001b[0m\u001b[0;34m(\u001b[0m\u001b[0mfilename\u001b[0m\u001b[0;34m,\u001b[0m \u001b[0mbase_dir\u001b[0m\u001b[0;34m,\u001b[0m \u001b[0mjobid\u001b[0m\u001b[0;34m)\u001b[0m\u001b[0;34m\u001b[0m\u001b[0;34m\u001b[0m\u001b[0m\n\u001b[0m\u001b[1;32m     83\u001b[0m     \u001b[0;32mif\u001b[0m \u001b[0mret\u001b[0m \u001b[0;34m==\u001b[0m \u001b[0;32mFalse\u001b[0m\u001b[0;34m:\u001b[0m\u001b[0;34m\u001b[0m\u001b[0;34m\u001b[0m\u001b[0m\n\u001b[1;32m     84\u001b[0m         \u001b[0mlog_info\u001b[0m\u001b[0;34m(\u001b[0m\u001b[0;34m'Service get_xml'\u001b[0m\u001b[0;34m,\u001b[0m\u001b[0;34m'extract_pdf_processing_paths failed'\u001b[0m\u001b[0;34m,\u001b[0m \u001b[0;32mNone\u001b[0m\u001b[0;34m)\u001b[0m\u001b[0;34m\u001b[0m\u001b[0;34m\u001b[0m\u001b[0m\n",
      "\u001b[0;32m~/Tarento/anuvaad/anuvaad-etl/anuvaad-extractor/block-merger/src/services/get_xml.py\u001b[0m in \u001b[0;36mcreate_pdf_processing_paths\u001b[0;34m(filename, base_dir, jobid)\u001b[0m\n\u001b[1;32m     24\u001b[0m \u001b[0;34m\u001b[0m\u001b[0m\n\u001b[1;32m     25\u001b[0m \u001b[0;32mdef\u001b[0m \u001b[0mcreate_pdf_processing_paths\u001b[0m\u001b[0;34m(\u001b[0m\u001b[0mfilename\u001b[0m\u001b[0;34m,\u001b[0m \u001b[0mbase_dir\u001b[0m\u001b[0;34m,\u001b[0m \u001b[0mjobid\u001b[0m\u001b[0;34m)\u001b[0m\u001b[0;34m:\u001b[0m\u001b[0;34m\u001b[0m\u001b[0;34m\u001b[0m\u001b[0m\n\u001b[0;32m---> 26\u001b[0;31m     \u001b[0mdata_dir\u001b[0m    \u001b[0;34m=\u001b[0m \u001b[0mPath\u001b[0m\u001b[0;34m(\u001b[0m\u001b[0mos\u001b[0m\u001b[0;34m.\u001b[0m\u001b[0mpath\u001b[0m\u001b[0;34m.\u001b[0m\u001b[0mjoin\u001b[0m\u001b[0;34m(\u001b[0m\u001b[0mbase_dir\u001b[0m\u001b[0;34m,\u001b[0m \u001b[0;34m'data'\u001b[0m\u001b[0;34m)\u001b[0m\u001b[0;34m)\u001b[0m\u001b[0;34m\u001b[0m\u001b[0;34m\u001b[0m\u001b[0m\n\u001b[0m\u001b[1;32m     27\u001b[0m     \u001b[0mret\u001b[0m         \u001b[0;34m=\u001b[0m \u001b[0mcreate_directory\u001b[0m\u001b[0;34m(\u001b[0m\u001b[0mdata_dir\u001b[0m\u001b[0;34m)\u001b[0m\u001b[0;34m\u001b[0m\u001b[0;34m\u001b[0m\u001b[0m\n\u001b[1;32m     28\u001b[0m     \u001b[0;32mif\u001b[0m \u001b[0mret\u001b[0m \u001b[0;34m==\u001b[0m \u001b[0;32mFalse\u001b[0m\u001b[0;34m:\u001b[0m\u001b[0;34m\u001b[0m\u001b[0;34m\u001b[0m\u001b[0m\n",
      "\u001b[0;32m/usr/lib/python3.6/posixpath.py\u001b[0m in \u001b[0;36mjoin\u001b[0;34m(a, *p)\u001b[0m\n\u001b[1;32m     78\u001b[0m     \u001b[0mwill\u001b[0m \u001b[0mbe\u001b[0m \u001b[0mdiscarded\u001b[0m\u001b[0;34m.\u001b[0m  \u001b[0mAn\u001b[0m \u001b[0mempty\u001b[0m \u001b[0mlast\u001b[0m \u001b[0mpart\u001b[0m \u001b[0mwill\u001b[0m \u001b[0mresult\u001b[0m \u001b[0;32min\u001b[0m \u001b[0ma\u001b[0m \u001b[0mpath\u001b[0m \u001b[0mthat\u001b[0m\u001b[0;34m\u001b[0m\u001b[0;34m\u001b[0m\u001b[0m\n\u001b[1;32m     79\u001b[0m     ends with a separator.\"\"\"\n\u001b[0;32m---> 80\u001b[0;31m     \u001b[0ma\u001b[0m \u001b[0;34m=\u001b[0m \u001b[0mos\u001b[0m\u001b[0;34m.\u001b[0m\u001b[0mfspath\u001b[0m\u001b[0;34m(\u001b[0m\u001b[0ma\u001b[0m\u001b[0;34m)\u001b[0m\u001b[0;34m\u001b[0m\u001b[0;34m\u001b[0m\u001b[0m\n\u001b[0m\u001b[1;32m     81\u001b[0m     \u001b[0msep\u001b[0m \u001b[0;34m=\u001b[0m \u001b[0m_get_sep\u001b[0m\u001b[0;34m(\u001b[0m\u001b[0ma\u001b[0m\u001b[0;34m)\u001b[0m\u001b[0;34m\u001b[0m\u001b[0;34m\u001b[0m\u001b[0m\n\u001b[1;32m     82\u001b[0m     \u001b[0mpath\u001b[0m \u001b[0;34m=\u001b[0m \u001b[0ma\u001b[0m\u001b[0;34m\u001b[0m\u001b[0;34m\u001b[0m\u001b[0m\n",
      "\u001b[0;31mTypeError\u001b[0m: expected str, bytes or os.PathLike object, not NoneType"
     ]
    }
   ],
   "source": [
    "pdf_path = input_dir+\"/\"+filename\n",
    "save_path  = save_dir+\"/\"+str(filename.split('.pdf')[0])\n",
    "if not os.path.exists(save_path):\n",
    "    os.system('mkdir -p {0}'.format(save_path))\n",
    "data = main.DocumentStructure(100,filename, None,'eng')"
   ]
  },
  {
   "cell_type": "code",
   "execution_count": 112,
   "metadata": {},
   "outputs": [],
   "source": [
    "response = data['result']"
   ]
  },
  {
   "cell_type": "code",
   "execution_count": 128,
   "metadata": {},
   "outputs": [],
   "source": [
    "def draw_bbox_image(draw,page_data):\n",
    "    \n",
    "    if page_data['images']:\n",
    "        try:\n",
    "            for image_block in page_data['images']:\n",
    "                    top     = image_block[\"text_top\"];         left   = image_block[\"text_left\"];  \n",
    "                    bottom  = top+image_block[\"text_height\"];  right  = left+image_block[\"text_width\"]\n",
    "                    draw.rectangle(((left, top), (right,bottom)), outline='green')\n",
    "            return draw\n",
    "        except:\n",
    "            pass"
   ]
  },
  {
   "cell_type": "code",
   "execution_count": 133,
   "metadata": {},
   "outputs": [],
   "source": [
    "def draw_bbox_table(draw,page_data):\n",
    "    \n",
    "    if page_data['tables']:\n",
    "        try:\n",
    "            for table_block in page_data['tables']:\n",
    "                    top     = table_block[\"text_top\"];         left   = table_block[\"text_left\"];  \n",
    "                    bottom  = top+table_block[\"text_height\"];  right  = left+table_block[\"text_width\"]\n",
    "                    draw.rectangle(((left, top), (right,bottom)), outline='blue')\n",
    "            return draw\n",
    "        except:\n",
    "            pass"
   ]
  },
  {
   "cell_type": "code",
   "execution_count": 134,
   "metadata": {},
   "outputs": [],
   "source": [
    "def draw_bbox_text(draw,page_data):\n",
    "    \n",
    "    if page_data['text_blocks']:\n",
    "        try:\n",
    "            for text_block in page_data['text_blocks']:\n",
    "                top     = text_block[\"text_top\"];         left   = text_block[\"text_left\"];  \n",
    "                bottom  = top+text_block[\"text_height\"];  right  = left+text_block[\"text_width\"]\n",
    "                draw.rectangle(((left, top), (right,bottom)), outline='red')\n",
    "            return draw\n",
    "        except:\n",
    "            pass"
   ]
  },
  {
   "cell_type": "code",
   "execution_count": 135,
   "metadata": {},
   "outputs": [],
   "source": [
    "def draw_bbox(data,image_files,save_path):\n",
    "    for page_no in range(len(data)):\n",
    "        image_path = sorted(image_files)[page_no]\n",
    "        page_data = data[page_no]\n",
    "        page_width = page_data['page_width']; page_height = page_data['page_height']\n",
    "        image  = Image.open(image_path)\n",
    "        image  = image.resize((page_width, page_height))\n",
    "        draw   = ImageDraw.Draw(image)\n",
    "        draw  = drwa_bbox_text(draw,page_data)\n",
    "        draw  = drwa_bbox_image(draw,page_data)\n",
    "        draw  = drwa_bbox_table(draw,page_data)\n",
    "        save_filepath = os.path.join(save_path,image_path.split('images/')[1])\n",
    "        image.save(save_filepath)\n",
    "            "
   ]
  },
  {
   "cell_type": "code",
   "execution_count": 136,
   "metadata": {},
   "outputs": [],
   "source": [
    "draw_bbox(response,pdf_image_paths,save_path)"
   ]
  },
  {
   "cell_type": "code",
   "execution_count": null,
   "metadata": {},
   "outputs": [],
   "source": []
  },
  {
   "cell_type": "code",
   "execution_count": null,
   "metadata": {},
   "outputs": [],
   "source": []
  }
 ],
 "metadata": {
  "kernelspec": {
   "display_name": "sentence_extraction",
   "language": "python",
   "name": "sentence_extraction"
  },
  "language_info": {
   "codemirror_mode": {
    "name": "ipython",
    "version": 3
   },
   "file_extension": ".py",
   "mimetype": "text/x-python",
   "name": "python",
   "nbconvert_exporter": "python",
   "pygments_lexer": "ipython3",
   "version": "3.6.9"
  }
 },
 "nbformat": 4,
 "nbformat_minor": 2
}
