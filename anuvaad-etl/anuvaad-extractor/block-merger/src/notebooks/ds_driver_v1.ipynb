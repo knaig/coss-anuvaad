{
 "cells": [
  {
   "cell_type": "code",
   "execution_count": 3,
   "metadata": {},
   "outputs": [],
   "source": [
    "import os\n",
    "import sys\n",
    "import time\n",
    "nb_dir = os.path.split(os.getcwd())[0]\n",
    "\n",
    "sys.path.append(nb_dir)\n",
    "sys.path.append(os.path.split(nb_dir)[0])"
   ]
  },
  {
   "cell_type": "code",
   "execution_count": 4,
   "metadata": {},
   "outputs": [],
   "source": [
    "import pandas as pd\n",
    "from PIL import Image, ImageDraw\n",
    "import copy"
   ]
  },
  {
   "cell_type": "code",
   "execution_count": 5,
   "metadata": {},
   "outputs": [],
   "source": [
    "from services.xml_document_info import (get_xml_info, get_xml_image_info)\n",
    "from services import get_xml\n",
    "from src.services import main\n",
    "from services.preprocess import prepocess_pdf_regions\n",
    "from services.get_tables import page_num_correction , get_text_table_line_df\n",
    "\n",
    "from utilities.xml_utils import (extract_image_paths_from_pdf,\n",
    "                                 extract_xml_from_digital_pdf,\n",
    "                                 extract_html_bg_images_from_digital_pdf,\n",
    "                                 create_directory,\n",
    "                                 read_directory_files)\n",
    "import config"
   ]
  },
  {
   "cell_type": "code",
   "execution_count": 6,
   "metadata": {},
   "outputs": [],
   "source": [
    "def draw_box(filepath, desired_width, desired_height, df, color=\"green\", save=False):\n",
    "    image  = Image.open(filepath)\n",
    "    image  = image.resize((desired_width, desired_height))\n",
    "    draw   = ImageDraw.Draw(image)\n",
    "    \n",
    "    for index, row in df.iterrows():\n",
    "        left   = int(row['text_left'])\n",
    "        right  = int(row['text_width'] + left)\n",
    "        top    = int(row['text_top'])\n",
    "        bottom = int(row[\"text_height\"] + top)\n",
    "        \n",
    "        draw.rectangle(((left, top), (right,bottom)), outline=color)\n",
    "    save_filepath = os.path.join(os.path.dirname(filepath), 'processed_' + os.path.basename(filepath))\n",
    "    if save:\n",
    "        image.save(save_filepath)\n",
    "    \n",
    "    return image\n",
    "\n",
    "def show_df(df):\n",
    "    return df.head(df.shape[0])"
   ]
  },
  {
   "cell_type": "code",
   "execution_count": null,
   "metadata": {},
   "outputs": [],
   "source": []
  },
  {
   "cell_type": "markdown",
   "metadata": {},
   "source": [
    "## start of the program"
   ]
  },
  {
   "cell_type": "code",
   "execution_count": 7,
   "metadata": {},
   "outputs": [
    {
     "name": "stdout",
     "output_type": "stream",
     "text": [
      "[Errno 2] No such file or directory: '/home/dhiraj/Documents/Anuwad/anuvaad/anuvaad-etl/anuvaad-extractor/block-merger/src/notebooks/sample-data/input'\n",
      "[Errno 2] No such file or directory: '/home/dhiraj/Documents/Anuwad/anuvaad/anuvaad-etl/anuvaad-extractor/block-merger/src/notebooks/sample-data/output'\n"
     ]
    }
   ],
   "source": [
    "'''\n",
    "  folder structure of test data goes like this\n",
    "  - notebooks\n",
    "      - sample-data\n",
    "          - input\n",
    "          - output\n",
    "          \n",
    "  the pdfs are present in \"input\" directory and they are *.pdf is added into .gitignore\n",
    "  just to save repo size.\n",
    "'''\n",
    "\n",
    "base_dir   = os.getcwd()\n",
    "input_dir  = os.path.join(base_dir, 'sample-data', 'input')\n",
    "save_dir = os.path.join(base_dir, 'sample-data', 'bbox_output')\n",
    "\n",
    "output_dir = os.path.join(base_dir, 'sample-data', 'output')\n",
    "create_directory(input_dir)\n",
    "create_directory(output_dir)\n",
    "\n",
    "filename   = 'graphics_pptx.pdf'\n"
   ]
  },
  {
   "cell_type": "markdown",
   "metadata": {},
   "source": [
    "## extract the pdf into xml & background images for downstream processing"
   ]
  },
  {
   "cell_type": "code",
   "execution_count": 110,
   "metadata": {},
   "outputs": [],
   "source": [
    "pdf_filepath      = os.path.join(input_dir, filename)\n",
    "working_dir       = os.path.join(output_dir, os.path.splitext(filename)[0])\n",
    "\n",
    "ret               = create_directory(working_dir)\n",
    "\n",
    "start_time        = time.time()\n",
    "\n",
    "pdf_image_paths   = extract_image_paths_from_pdf(pdf_filepath, working_dir)\n",
    "pdf_xml_dir       = extract_xml_from_digital_pdf(pdf_filepath, working_dir)\n",
    "pdf_bg_image_dir  = extract_html_bg_images_from_digital_pdf(pdf_filepath, working_dir)\n",
    "\n",
    "end_time          = time.time()\n",
    "extraction_time   = end_time - start_time"
   ]
  },
  {
   "cell_type": "code",
   "execution_count": 13,
   "metadata": {},
   "outputs": [
    {
     "name": "stdout",
     "output_type": "stream",
     "text": [
      "Extracted xml, background images & images of file: 1506.02640.pdf\n",
      "Extraction time (4.762165) average extraction time (0.476217)\n"
     ]
    }
   ],
   "source": [
    "xml_files      = read_directory_files(pdf_xml_dir, pattern='*.xml')\n",
    "bg_files       = read_directory_files(pdf_bg_image_dir, pattern='*.png')\n",
    "\n",
    "print(\"Extracted xml, background images & images of file: %s\" % (filename))\n",
    "print('Extraction time (%f) average extraction time (%f)' % (extraction_time, extraction_time/len(bg_files)))"
   ]
  },
  {
   "cell_type": "code",
   "execution_count": 14,
   "metadata": {},
   "outputs": [
    {
     "name": "stdout",
     "output_type": "stream",
     "text": [
      "Total number of pages (10) in file (1506.02640.xml)\n",
      "Total number of pages (10) in file (1506.02640.xml)\n"
     ]
    }
   ],
   "source": [
    "xml_dfs, page_width, page_height = get_xml_info(xml_files[0])\n",
    "img_dfs, page_width, page_height = get_xml_image_info(xml_files[0])\n"
   ]
  },
  {
   "cell_type": "code",
   "execution_count": 15,
   "metadata": {},
   "outputs": [],
   "source": [
    "page_index      = 4\n",
    "\n",
    "img_filepath    = pdf_image_paths[page_index]\n",
    "bg_img_filepath = bg_files[page_index]\n",
    "df              = xml_dfs[page_index]\n",
    "img_df          = img_dfs[page_index]\n"
   ]
  },
  {
   "cell_type": "markdown",
   "metadata": {},
   "source": [
    "# Draw Bounding box using dfs"
   ]
  },
  {
   "cell_type": "code",
   "execution_count": 16,
   "metadata": {},
   "outputs": [],
   "source": [
    "def get_dfs(xml_dfs,img_dfs,image_files,page_height,file_name,page_index):\n",
    "    multiple_pages = False\n",
    "    if len(xml_dfs) > 1:\n",
    "        multiple_pages =True\n",
    "    header_region, footer_region = prepocess_pdf_regions(xml_dfs, page_height)\n",
    "    img_df = img_dfs[page_index]\n",
    "    #table_image = working_dir + '/' + page_num_correction(file_index , 3) + '.png'\n",
    "    #in_df, table_df, line_df = get_text_table_line_df(table_image, xml_dfs[file_index])\n",
    "    in_df = xml_dfs[page_index]\n",
    "    h_df = get_xml.get_hdf(in_df, image_files, config.DOCUMENT_CONFIGS, page_index,header_region , footer_region, multiple_pages)\n",
    "    v_df    = get_xml.get_vdf(h_df, config.DOCUMENT_CONFIGS)\n",
    "    p_df = main.process_page_blocks(v_df, config.DOCUMENT_CONFIGS, config.BLOCK_CONFIGS)\n",
    "    p_df = p_df.reset_index(drop=True)\n",
    "    \n",
    "    return in_df,h_df,v_df, p_df\n"
   ]
  },
  {
   "cell_type": "code",
   "execution_count": 17,
   "metadata": {},
   "outputs": [
    {
     "name": "stderr",
     "output_type": "stream",
     "text": [
      "/home/naresh/Tarento/anuvaad/anuvaad-etl/anuvaad-extractor/block-merger/src/services/preprocess.py:18: SettingWithCopyWarning: \n",
      "A value is trying to be set on a copy of a slice from a DataFrame.\n",
      "Try using .loc[row_indexer,col_indexer] = value instead\n",
      "\n",
      "See the caveats in the documentation: https://pandas.pydata.org/pandas-docs/stable/user_guide/indexing.html#returning-a-view-versus-a-copy\n",
      "  sub_df['text_right']  = sub_df['text_left'] + sub_df['text_width']\n",
      "/home/naresh/Tarento/anuvaad/anuvaad-etl/anuvaad-extractor/block-merger/src/services/preprocess.py:19: SettingWithCopyWarning: \n",
      "A value is trying to be set on a copy of a slice from a DataFrame.\n",
      "Try using .loc[row_indexer,col_indexer] = value instead\n",
      "\n",
      "See the caveats in the documentation: https://pandas.pydata.org/pandas-docs/stable/user_guide/indexing.html#returning-a-view-versus-a-copy\n",
      "  sub_df['text_bottom'] = sub_df['text_top'] + sub_df['text_height']\n"
     ]
    }
   ],
   "source": [
    "in_df,h_df,v_df, p_df = get_dfs(xml_dfs,img_dfs,bg_files,page_height,filename,page_index)"
   ]
  },
  {
   "cell_type": "code",
   "execution_count": 9,
   "metadata": {
    "scrolled": false
   },
   "outputs": [
    {
     "ename": "NameError",
     "evalue": "name 'img_filepath' is not defined",
     "output_type": "error",
     "traceback": [
      "\u001b[0;31m---------------------------------------------------------------------------\u001b[0m",
      "\u001b[0;31mNameError\u001b[0m                                 Traceback (most recent call last)",
      "\u001b[0;32m<ipython-input-9-bdfc762ac604>\u001b[0m in \u001b[0;36m<module>\u001b[0;34m\u001b[0m\n\u001b[0;32m----> 1\u001b[0;31m \u001b[0mdraw_box\u001b[0m\u001b[0;34m(\u001b[0m\u001b[0mimg_filepath\u001b[0m\u001b[0;34m,\u001b[0m \u001b[0mpage_width\u001b[0m\u001b[0;34m,\u001b[0m \u001b[0mpage_height\u001b[0m\u001b[0;34m,\u001b[0m \u001b[0mv_df\u001b[0m\u001b[0;34m,\u001b[0m \u001b[0mcolor\u001b[0m\u001b[0;34m=\u001b[0m\u001b[0;34m'red'\u001b[0m\u001b[0;34m)\u001b[0m\u001b[0;34m\u001b[0m\u001b[0;34m\u001b[0m\u001b[0m\n\u001b[0m",
      "\u001b[0;31mNameError\u001b[0m: name 'img_filepath' is not defined"
     ]
    }
   ],
   "source": [
    "draw_box(img_filepath, page_width, page_height, v_df, color='red')"
   ]
  },
  {
   "cell_type": "markdown",
   "metadata": {},
   "source": [
    "# Draw bounding box for json response "
   ]
  },
  {
   "cell_type": "code",
   "execution_count": 24,
   "metadata": {},
   "outputs": [],
   "source": [
    "from src.services import main"
   ]
  },
  {
   "cell_type": "code",
   "execution_count": 111,
   "metadata": {},
   "outputs": [
    {
     "name": "stdout",
     "output_type": "stream",
     "text": [
      "Total number of pages (32) in file (graphics_pptx.xml)\n",
      "Total number of pages (32) in file (graphics_pptx.xml)\n"
     ]
    },
    {
     "name": "stderr",
     "output_type": "stream",
     "text": [
      "/home/naresh/Tarento/anuvaad/anuvaad-etl/anuvaad-extractor/block-merger/src/services/preprocess.py:18: SettingWithCopyWarning: \n",
      "A value is trying to be set on a copy of a slice from a DataFrame.\n",
      "Try using .loc[row_indexer,col_indexer] = value instead\n",
      "\n",
      "See the caveats in the documentation: https://pandas.pydata.org/pandas-docs/stable/user_guide/indexing.html#returning-a-view-versus-a-copy\n",
      "  sub_df['text_right']  = sub_df['text_left'] + sub_df['text_width']\n",
      "/home/naresh/Tarento/anuvaad/anuvaad-etl/anuvaad-extractor/block-merger/src/services/preprocess.py:19: SettingWithCopyWarning: \n",
      "A value is trying to be set on a copy of a slice from a DataFrame.\n",
      "Try using .loc[row_indexer,col_indexer] = value instead\n",
      "\n",
      "See the caveats in the documentation: https://pandas.pydata.org/pandas-docs/stable/user_guide/indexing.html#returning-a-view-versus-a-copy\n",
      "  sub_df['text_bottom'] = sub_df['text_top'] + sub_df['text_height']\n"
     ]
    }
   ],
   "source": [
    "pdf_path = input_dir+\"/\"+filename\n",
    "save_path  = save_dir+\"/\"+str(filename.split('.pdf')[0])\n",
    "if not os.path.exists(save_path):\n",
    "    os.system('mkdir -p {0}'.format(save_path))\n",
    "data = main.DocumentStructure(pdf_path)"
   ]
  },
  {
   "cell_type": "code",
   "execution_count": 112,
   "metadata": {},
   "outputs": [],
   "source": [
    "response = data['result']"
   ]
  },
  {
   "cell_type": "code",
   "execution_count": 128,
   "metadata": {},
   "outputs": [],
   "source": [
    "def draw_bbox_image(draw,page_data):\n",
    "    \n",
    "    if page_data['images']:\n",
    "        try:\n",
    "            for image_block in page_data['images']:\n",
    "                    top     = image_block[\"text_top\"];         left   = image_block[\"text_left\"];  \n",
    "                    bottom  = top+image_block[\"text_height\"];  right  = left+image_block[\"text_width\"]\n",
    "                    draw.rectangle(((left, top), (right,bottom)), outline='green')\n",
    "            return draw\n",
    "        except:\n",
    "            pass"
   ]
  },
  {
   "cell_type": "code",
   "execution_count": 133,
   "metadata": {},
   "outputs": [],
   "source": [
    "def draw_bbox_table(draw,page_data):\n",
    "    \n",
    "    if page_data['tables']:\n",
    "        try:\n",
    "            for table_block in page_data['tables']:\n",
    "                    top     = table_block[\"text_top\"];         left   = table_block[\"text_left\"];  \n",
    "                    bottom  = top+table_block[\"text_height\"];  right  = left+table_block[\"text_width\"]\n",
    "                    draw.rectangle(((left, top), (right,bottom)), outline='blue')\n",
    "            return draw\n",
    "        except:\n",
    "            pass"
   ]
  },
  {
   "cell_type": "code",
   "execution_count": 134,
   "metadata": {},
   "outputs": [],
   "source": [
    "def draw_bbox_text(draw,page_data):\n",
    "    \n",
    "    if page_data['text_blocks']:\n",
    "        try:\n",
    "            for text_block in page_data['text_blocks']:\n",
    "                top     = text_block[\"text_top\"];         left   = text_block[\"text_left\"];  \n",
    "                bottom  = top+text_block[\"text_height\"];  right  = left+text_block[\"text_width\"]\n",
    "                draw.rectangle(((left, top), (right,bottom)), outline='red')\n",
    "            return draw\n",
    "        except:\n",
    "            pass"
   ]
  },
  {
   "cell_type": "code",
   "execution_count": 135,
   "metadata": {},
   "outputs": [],
   "source": [
    "def draw_bbox(data,image_files,save_path):\n",
    "    for page_no in range(len(data)):\n",
    "        image_path = sorted(image_files)[page_no]\n",
    "        page_data = data[page_no]\n",
    "        page_width = page_data['page_width']; page_height = page_data['page_height']\n",
    "        image  = Image.open(image_path)\n",
    "        image  = image.resize((page_width, page_height))\n",
    "        draw   = ImageDraw.Draw(image)\n",
    "        draw  = drwa_bbox_text(draw,page_data)\n",
    "        draw  = drwa_bbox_image(draw,page_data)\n",
    "        draw  = drwa_bbox_table(draw,page_data)\n",
    "        save_filepath = os.path.join(save_path,image_path.split('images/')[1])\n",
    "        image.save(save_filepath)\n",
    "            "
   ]
  },
  {
   "cell_type": "code",
   "execution_count": 136,
   "metadata": {},
   "outputs": [],
   "source": [
    "draw_bbox(response,pdf_image_paths,save_path)"
   ]
  },
  {
   "cell_type": "code",
   "execution_count": null,
   "metadata": {},
   "outputs": [],
   "source": []
  },
  {
   "cell_type": "code",
   "execution_count": null,
   "metadata": {},
   "outputs": [],
   "source": []
  }
 ],
 "metadata": {
  "kernelspec": {
   "display_name": "Anuvaad",
   "language": "python",
   "name": "anuvaad"
  },
  "language_info": {
   "codemirror_mode": {
    "name": "ipython",
    "version": 3
   },
   "file_extension": ".py",
   "mimetype": "text/x-python",
   "name": "python",
   "nbconvert_exporter": "python",
   "pygments_lexer": "ipython3",
   "version": "3.7.8"
  }
 },
 "nbformat": 4,
 "nbformat_minor": 2
}
