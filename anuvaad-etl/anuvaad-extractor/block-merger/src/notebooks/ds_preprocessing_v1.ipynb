{
 "cells": [
  {
   "cell_type": "code",
   "execution_count": 157,
   "metadata": {},
   "outputs": [],
   "source": [
    "import os\n",
    "import io\n",
    "import sys\n",
    "import time\n",
    "nb_dir = os.path.split(os.getcwd())[0]\n",
    "import numpy as np\n",
    "import cv2\n",
    "\n",
    "sys.path.append(nb_dir)\n",
    "sys.path.append(os.path.split(nb_dir)[0])\n",
    "\n",
    "\n",
    "import pandas as pd\n",
    "from PIL import Image, ImageDraw\n",
    "import matplotlib.pyplot as plt\n",
    "import copy\n",
    "import base64\n",
    "\n",
    "from services.xml_document_info import (get_xml_info, get_xml_image_info)\n",
    "from services import get_xml\n",
    "from src.services import main\n",
    "#from services.preprocess import prepocess_pdf_rgions\n",
    "from services.get_tables import page_num_correction , get_text_table_line_df\n",
    "\n",
    "from utilities.xml_utils import (extract_image_paths_from_pdf,\n",
    "                                 extract_xml_from_digital_pdf,\n",
    "                                 extract_html_bg_images_from_digital_pdf,\n",
    "                                 create_directory,\n",
    "                                 read_directory_files)\n",
    "import config\n",
    "\n",
    "from utilities.table.table import TableRepositories\n",
    "from utilities.table.line  import RectRepositories"
   ]
  },
  {
   "cell_type": "code",
   "execution_count": null,
   "metadata": {},
   "outputs": [],
   "source": []
  },
  {
   "cell_type": "markdown",
   "metadata": {},
   "source": [
    "## Draw the boxes on document pages"
   ]
  },
  {
   "cell_type": "code",
   "execution_count": 138,
   "metadata": {},
   "outputs": [],
   "source": [
    "def draw_box(filepath, desired_width, desired_height, df, color=\"green\", save=False):\n",
    "    image  = Image.open(filepath)\n",
    "    image  = image.resize((desired_width, desired_height))\n",
    "    draw   = ImageDraw.Draw(image)\n",
    "    \n",
    "    for index, row in df.iterrows():\n",
    "        left   = int(row['text_left'])\n",
    "        right  = int(row['text_width'] + left)\n",
    "        top    = int(row['text_top'])\n",
    "        bottom = int(row[\"text_height\"] + top)\n",
    "        \n",
    "        draw.rectangle(((left, top), (right,bottom)), outline=color)\n",
    "    save_filepath = os.path.join(os.path.dirname(filepath), 'processed_' + os.path.basename(filepath))\n",
    "    if save:\n",
    "        image.save(save_filepath)\n",
    "    \n",
    "    return image\n",
    "\n",
    "def show_df(df):\n",
    "    return df.head(df.shape[0])"
   ]
  },
  {
   "cell_type": "markdown",
   "metadata": {},
   "source": [
    "## start of program"
   ]
  },
  {
   "cell_type": "code",
   "execution_count": 176,
   "metadata": {},
   "outputs": [
    {
     "data": {
      "text/plain": [
       "0"
      ]
     },
     "execution_count": 176,
     "metadata": {},
     "output_type": "execute_result"
    }
   ],
   "source": [
    "base_dir    = '/home/dhiraj/Documents/Anuwad/document-structure/data'\n",
    "input_dir  = os.path.join(base_dir, 'input')\n",
    "output_dir = os.path.join(base_dir, 'output')\n",
    "\n",
    "#filename   = 'Testa_Dummy_ImuPro_okt2018_5725.pdf'\n",
    "#filename   = 'v241.pdf'\n",
    "#filename   = 'downloaded.pdf'\n",
    "filename   = '20695_2010_8_1501_20635_Judgement_17-Feb-2020.pdf'\n",
    "#filename    = '20.03.2020.pdf'\n",
    "#filename    = '6251_2016_3_1501_19387_Judgement_06-Jan-2020.pdf'\n",
    "#filename   = '4603_2017_11_1503_19663_Judgement_15-Jan-2020.pdf'\n",
    "#filename    = '1506.02640.pdf'\n",
    "\n",
    "os.system('mkdir -p {0}'.format(input_dir))\n",
    "\n",
    "os.system('mkdir -p {0}'.format(output_dir))\n",
    "\n"
   ]
  },
  {
   "cell_type": "code",
   "execution_count": 177,
   "metadata": {
    "scrolled": true
   },
   "outputs": [
    {
     "name": "stdout",
     "output_type": "stream",
     "text": [
      "Total number of pages (54) in file (20695_2010_8_1501_20635_Judgement_17-Feb-2020.xml)\n",
      "Extracted xml & images of file: 20695_2010_8_1501_20635_Judgement_17-Feb-2020.pdf\n"
     ]
    }
   ],
   "source": [
    "pdf_filepath      = os.path.join(input_dir, filename)\n",
    "working_dir       = os.path.join(output_dir, os.path.splitext(filename)[0])\n",
    "\n",
    "ret               = create_directory(working_dir)\n",
    "\n",
    "start_time        = time.time()\n",
    "\n",
    "pdf_xml_dir       = extract_xml_from_digital_pdf(pdf_filepath, working_dir)\n",
    "pdf_bg_image_dir  = extract_html_bg_images_from_digital_pdf(pdf_filepath, working_dir)\n",
    "\n",
    "image_files    = extract_image_paths_from_pdf(pdf_filepath, working_dir)\n",
    "\n",
    "xml_files      = read_directory_files(pdf_xml_dir, pattern='*.xml')\n",
    "img_dfs, page_w, page_h = get_xml_image_info(xml_files[0])\n",
    "\n",
    "end_time          = time.time()\n",
    "extraction_time   = end_time - start_time\n",
    "\n",
    "\n",
    "\n",
    "\n",
    "# print(xml_files, \"\\n\\n\")\n",
    "#image_files    = #read_directory_files(pdf_image_dir, pattern='*-*.jpg')\n",
    "# print(image_files)\n",
    "print(\"Extracted xml & images of file: %s\" % (filename))"
   ]
  },
  {
   "cell_type": "code",
   "execution_count": 178,
   "metadata": {},
   "outputs": [
    {
     "name": "stdout",
     "output_type": "stream",
     "text": [
      "Total number of pages (54) in file (20695_2010_8_1501_20635_Judgement_17-Feb-2020.xml)\n"
     ]
    }
   ],
   "source": [
    "xml_dfs, page_width, page_height = get_xml_info(xml_files[0])"
   ]
  },
  {
   "cell_type": "code",
   "execution_count": 179,
   "metadata": {},
   "outputs": [],
   "source": [
    "document_configs = {\n",
    "    'LANGUAGE_TYPE': 'eng',\n",
    "    \n",
    "    'HORI_BLOCK_WDTH_DIFF_PERC': 0.85,\n",
    "    'SUPERSCRIPT_HEIGHT_DIFFERENCE': 7.0,\n",
    "    'HORI_SPACE_TOO_CLOSE': 10.0,\n",
    "    \n",
    "    'VERTICAL_SPACE_TOO_CLOSE': 5.0,\n",
    "    'AVERAGE_VERTICAL_SPACE': 12.0,\n",
    "    'LEFT_OR_RIGHT_ALIGNMENT_MARGIN': 20.0\n",
    "}\n",
    "\n",
    "background_remove = True\n",
    "background_threshold = 50"
   ]
  },
  {
   "cell_type": "code",
   "execution_count": 180,
   "metadata": {},
   "outputs": [],
   "source": [
    "file_index     = 0\n",
    "\n",
    "img_filepath   = image_files[file_index]\n",
    "df             = xml_dfs[file_index]\n"
   ]
  },
  {
   "cell_type": "code",
   "execution_count": 181,
   "metadata": {},
   "outputs": [],
   "source": [
    "#df"
   ]
  },
  {
   "cell_type": "code",
   "execution_count": 182,
   "metadata": {},
   "outputs": [],
   "source": [
    "# in_df   = df#.loc[:60]\n",
    "\n",
    "# h_df    = merge_horizontal_blocks(in_df, document_configs, debug=False)\n",
    "# v_df    = merge_vertical_blocks(h_df, document_configs, debug=False)\n",
    "\n",
    "# draw_box(img_filepath, page_width, page_height, in_df, color='red')\n",
    "# # show_df(in_df)\n"
   ]
  },
  {
   "cell_type": "code",
   "execution_count": 183,
   "metadata": {},
   "outputs": [],
   "source": [
    "#in_df.sort_values(by=['text_left', 'text_top'], axis = 0, ascending = True, inplace=True)\n",
    "#show_df(in_df)\n"
   ]
  },
  {
   "cell_type": "markdown",
   "metadata": {},
   "source": [
    "# Table Integration"
   ]
  },
  {
   "cell_type": "code",
   "execution_count": 184,
   "metadata": {},
   "outputs": [],
   "source": [
    "\n",
    "def page_num_correction(file_index,num_size=None):\n",
    "    padding = '0'\n",
    "    max_length = num_size\n",
    "    corrction_factor = max_length - len(str(file_index + 1 ))\n",
    "    return padding * corrction_factor + str(file_index + 1)\n",
    "\n",
    "\n",
    "\n",
    "def change_keys(table):\n",
    "    table_row = {}\n",
    "    table_row['text_top']    = table['y']\n",
    "    table_row['text_left']   = table['x']\n",
    "    table_row['text_width']  = table['w']\n",
    "    table_row['text_height'] = table['h']\n",
    "    return table_row\n",
    "\n",
    "\n",
    "def get_line_df(lines) :\n",
    "    line_df = []\n",
    "    if len(lines) > 0 :\n",
    "        for line in lines :\n",
    "            line_row          = change_keys(line)\n",
    "            line_row['attrib']= 'LINE'\n",
    "            line_df.append(line_row)\n",
    "            \n",
    "    return pd.DataFrame(line_df)\n",
    "        \n",
    "\n",
    "def get_table_df(tables) :\n",
    "    table_df = []\n",
    "    if len(tables) > 0:\n",
    "        for table in tables :\n",
    "            table_row                = change_keys(table)\n",
    "            table_row['attrib']      = 'TABLE' \n",
    "            table_row['children']    = None\n",
    "            table_row['text']        = None\n",
    "\n",
    "            if len(table['rect']) > 0 :\n",
    "                table_row['children'] = []\n",
    "\n",
    "                for cell in table['rect'] :\n",
    "                    child_row  = change_keys(cell)\n",
    "                    child_row['text_top'] = child_row['text_top'] +  table_row['text_top']\n",
    "                    child_row['text_left'] = child_row['text_left'] + table_row['text_left']\n",
    "                    child_row['index'] = cell['index']\n",
    "                    child_row['text']  = None\n",
    "                    child_row['attrib']= 'TABLE'\n",
    "                    table_row['children'].append(child_row)\n",
    "\n",
    "            table_df.append(table_row)\n",
    "\n",
    "    table_df = pd.DataFrame(table_df)\n",
    "\n",
    "    return table_df\n",
    "\n",
    "\n",
    "def edit(dic, df , extract_by = 'starting_point'):\n",
    "    left_key = 'text_left'\n",
    "    top_key = 'text_top'\n",
    "    width_key = 'text_width'\n",
    "    height_key = 'text_height'\n",
    "\n",
    "    if extract_by == 'Intersection' :\n",
    "        region = (df[left_key] >= dic[left_key]) & (df[top_key] >= dic[top_key]) & (\n",
    "                (df[top_key] + df[height_key]) <= (dic[top_key] + dic[height_key])) & (\n",
    "                         (df[left_key] + df[width_key]) <= (dic[left_key] + dic[width_key]))\n",
    "\n",
    "    if extract_by == 'starting_point':\n",
    "        region = (df[left_key] >= dic[left_key]) & (df[top_key] >= dic[top_key]) & (\n",
    "                (df[top_key]) <= (dic[top_key] + dic[height_key])) & (\n",
    "                         (df[left_key] ) <= (dic[left_key] + dic[width_key]))\n",
    "        \n",
    "    text_df = df[region].to_dict('records')\n",
    "    df = df[~region]\n",
    "    return text_df, df\n",
    "    \n",
    "def extract_and_delete_region(page_df, table_df):\n",
    "        \n",
    "        if len(table_df) >0 :\n",
    "            for index , row in table_df.iterrows():\n",
    "                \n",
    "                if row['children'] != None :\n",
    "                    for indx , cell in enumerate(row['children']):\n",
    "                        text_df , page_df                         = edit(cell ,page_df)\n",
    "                        table_df['children'][index][indx]['text'] = text_df                   \n",
    "                else :\n",
    "                    text_df , page_df = edit(cell ,page_df)\n",
    "                    table_df['text']  = text_df\n",
    "    \n",
    "        \n",
    "        return page_df ,table_df\n",
    "    \n",
    "    \n",
    "    \n",
    "    \n",
    "    \n",
    "def get_text_table_line_df(table_image , in_df) :\n",
    "    tables     = TableRepositories (table_image)\n",
    "    Rects = RectRepositories(table_image)\n",
    "    lines, _ = Rects.get_tables_and_lines()\n",
    "    \n",
    "    plt.imshow(tables.mask)\n",
    "    \n",
    "    line_df = get_line_df(lines)\n",
    "    tables_df = get_table_df(tables.response['response']['tables'])\n",
    "    filtered_in_df, table_df = extract_and_delete_region(in_df ,tables_df)\n",
    "    \n",
    "    plt.imshow(tables.mask)\n",
    "    return filtered_in_df , table_df ,line_df\n",
    "\n",
    "\n"
   ]
  },
  {
   "cell_type": "code",
   "execution_count": 185,
   "metadata": {},
   "outputs": [
    {
     "data": {
      "text/plain": [
       "0"
      ]
     },
     "execution_count": 185,
     "metadata": {},
     "output_type": "execute_result"
    }
   ],
   "source": [
    " create_directory(working_dir)\n",
    "os.system('pdftohtml -c ' + pdf_filepath + ' ' + working_dir + '/')"
   ]
  },
  {
   "cell_type": "code",
   "execution_count": 191,
   "metadata": {},
   "outputs": [],
   "source": [
    "file_index      = 24\n",
    "df              = xml_dfs[file_index]\n",
    "img_df = img_dfs[file_index]\n",
    "table_image     = working_dir + '/' + page_num_correction(file_index , 3) + '.png'\n",
    "\n",
    "\n",
    "table_image = cv2.imread(table_image,0)\n",
    "\n",
    "if len(img_df) > 0 :\n",
    "    for index, row in img_df.iterrows():\n",
    "        row_bottom = row['text_top'] + row['text_height']\n",
    "        row_right  = row['text_left'] + row['text_width']\n",
    "        table_image[row['text_top'] : row_bottom , row['text_left'] : row_right ] = 255\n",
    "\n",
    "# if background_remove : \n",
    "#     table_image = cv2.imread(table_image,0)\n",
    "#     table_image = (table_image > background_threshold).astype(np.uint8)"
   ]
  },
  {
   "cell_type": "code",
   "execution_count": 192,
   "metadata": {
    "scrolled": false
   },
   "outputs": [
    {
     "data": {
      "image/png": "[encoded data removed]",
      "text/plain": [
       "<Figure size 1440x1440 with 1 Axes>"
      ]
     },
     "metadata": {
      "needs_background": "light"
     },
     "output_type": "display_data"
    }
   ],
   "source": [
    "plt.rcParams['figure.figsize'] = [20, 20]\n",
    "in_df , table_df , line_df = get_text_table_line_df(table_image,df)\n"
   ]
  },
  {
   "cell_type": "code",
   "execution_count": 188,
   "metadata": {},
   "outputs": [
    {
     "ename": "IndentationError",
     "evalue": "unexpected indent (<ipython-input-188-2bc45702f081>, line 6)",
     "output_type": "error",
     "traceback": [
      "\u001b[0;36m  File \u001b[0;32m\"<ipython-input-188-2bc45702f081>\"\u001b[0;36m, line \u001b[0;32m6\u001b[0m\n\u001b[0;31m    table_image[row['text_top'] : row_bottom , row['text_left'] : row_right ] = 255\u001b[0m\n\u001b[0m    ^\u001b[0m\n\u001b[0;31mIndentationError\u001b[0m\u001b[0;31m:\u001b[0m unexpected indent\n"
     ]
    }
   ],
   "source": [
    "#mask_images\n",
    "if len(img_df) > 0 :\n",
    "    for index, row in img_df.iterrows():\n",
    "        row_bottom = row['text_top'] + row['text_height']\n",
    "        row_right  = row['text_left'] + row['text_width']\n",
    "         table_image[row['text_top'] : row_bottom , row['text_left'] : row_right ] = 255"
   ]
  },
  {
   "cell_type": "code",
   "execution_count": 193,
   "metadata": {},
   "outputs": [
    {
     "data": {
      "text/plain": [
       "<matplotlib.image.AxesImage at 0x7f2f88c4b110>"
      ]
     },
     "execution_count": 193,
     "metadata": {},
     "output_type": "execute_result"
    },
    {
     "data": {
      "image/png": "[encoded data removed]",
      "text/plain": [
       "<Figure size 1440x1440 with 1 Axes>"
      ]
     },
     "metadata": {
      "needs_background": "light"
     },
     "output_type": "display_data"
    }
   ],
   "source": [
    "plt.imshow(table_image)"
   ]
  },
  {
   "cell_type": "code",
   "execution_count": 194,
   "metadata": {},
   "outputs": [
    {
     "data": {
      "text/html": [
       "<div>\n",
       "<style scoped>\n",
       "    .dataframe tbody tr th:only-of-type {\n",
       "        vertical-align: middle;\n",
       "    }\n",
       "\n",
       "    .dataframe tbody tr th {\n",
       "        vertical-align: top;\n",
       "    }\n",
       "\n",
       "    .dataframe thead th {\n",
       "        text-align: right;\n",
       "    }\n",
       "</style>\n",
       "<table border=\"1\" class=\"dataframe\">\n",
       "  <thead>\n",
       "    <tr style=\"text-align: right;\">\n",
       "      <th></th>\n",
       "      <th>text_top</th>\n",
       "      <th>text_left</th>\n",
       "      <th>text_width</th>\n",
       "      <th>text_height</th>\n",
       "      <th>attrib</th>\n",
       "      <th>children</th>\n",
       "      <th>text</th>\n",
       "    </tr>\n",
       "  </thead>\n",
       "  <tbody>\n",
       "    <tr>\n",
       "      <th>0</th>\n",
       "      <td>907</td>\n",
       "      <td>98</td>\n",
       "      <td>708</td>\n",
       "      <td>137</td>\n",
       "      <td>TABLE</td>\n",
       "      <td>[{'text_top': 911, 'text_left': 102, 'text_wid...</td>\n",
       "      <td>None</td>\n",
       "    </tr>\n",
       "    <tr>\n",
       "      <th>1</th>\n",
       "      <td>537</td>\n",
       "      <td>98</td>\n",
       "      <td>697</td>\n",
       "      <td>180</td>\n",
       "      <td>TABLE</td>\n",
       "      <td>[{'text_top': 542, 'text_left': 103, 'text_wid...</td>\n",
       "      <td>None</td>\n",
       "    </tr>\n",
       "  </tbody>\n",
       "</table>\n",
       "</div>"
      ],
      "text/plain": [
       "   text_top  text_left  text_width  text_height attrib  \\\n",
       "0       907         98         708          137  TABLE   \n",
       "1       537         98         697          180  TABLE   \n",
       "\n",
       "                                            children  text  \n",
       "0  [{'text_top': 911, 'text_left': 102, 'text_wid...  None  \n",
       "1  [{'text_top': 542, 'text_left': 103, 'text_wid...  None  "
      ]
     },
     "execution_count": 194,
     "metadata": {},
     "output_type": "execute_result"
    }
   ],
   "source": [
    "table_df"
   ]
  },
  {
   "cell_type": "code",
   "execution_count": null,
   "metadata": {},
   "outputs": [],
   "source": []
  },
  {
   "cell_type": "code",
   "execution_count": null,
   "metadata": {},
   "outputs": [],
   "source": []
  },
  {
   "cell_type": "code",
   "execution_count": null,
   "metadata": {},
   "outputs": [],
   "source": []
  },
  {
   "cell_type": "code",
   "execution_count": null,
   "metadata": {},
   "outputs": [],
   "source": []
  },
  {
   "cell_type": "code",
   "execution_count": 135,
   "metadata": {},
   "outputs": [],
   "source": [
    "\n",
    "#base64_decoded = base64.b64decode(img_df['base64'][0])\n",
    "#image = Image.open(io.BytesIO(base64_decoded))\n",
    "#image_np = np.array(image)\n",
    "#image_np = cv2.cvtColor(image_np, cv2.COLOR_BGR2GRAY)\n",
    "#image_np = cv2.cvtColor(image_np , cv2.COLOR_RGB2BGR)"
   ]
  },
  {
   "cell_type": "code",
   "execution_count": 136,
   "metadata": {},
   "outputs": [
    {
     "data": {
      "text/plain": [
       "(562, 439, 3)"
      ]
     },
     "execution_count": 136,
     "metadata": {},
     "output_type": "execute_result"
    }
   ],
   "source": [
    "#image_np.shape"
   ]
  },
  {
   "cell_type": "code",
   "execution_count": 110,
   "metadata": {},
   "outputs": [
    {
     "data": {
      "text/plain": [
       "1.2801822323462415"
      ]
     },
     "execution_count": 110,
     "metadata": {},
     "output_type": "execute_result"
    }
   ],
   "source": [
    "562 /439"
   ]
  },
  {
   "cell_type": "code",
   "execution_count": 111,
   "metadata": {},
   "outputs": [
    {
     "data": {
      "text/plain": [
       "1.2793522267206479"
      ]
     },
     "execution_count": 111,
     "metadata": {},
     "output_type": "execute_result"
    }
   ],
   "source": [
    "632/494"
   ]
  },
  {
   "cell_type": "code",
   "execution_count": 112,
   "metadata": {},
   "outputs": [],
   "source": [
    "resize_img = cv2.resize(image_np, (494, 632),  \n",
    "               interpolation = cv2.INTER_NEAREST) \n",
    "  "
   ]
  },
  {
   "cell_type": "code",
   "execution_count": 113,
   "metadata": {},
   "outputs": [
    {
     "data": {
      "text/plain": [
       "(632, 494, 3)"
      ]
     },
     "execution_count": 113,
     "metadata": {},
     "output_type": "execute_result"
    }
   ],
   "source": [
    "resize_img.shape"
   ]
  },
  {
   "cell_type": "code",
   "execution_count": null,
   "metadata": {},
   "outputs": [],
   "source": []
  },
  {
   "cell_type": "code",
   "execution_count": null,
   "metadata": {},
   "outputs": [],
   "source": []
  },
  {
   "cell_type": "code",
   "execution_count": 128,
   "metadata": {},
   "outputs": [],
   "source": [
    "table_image     = working_dir + '/' + page_num_correction(file_index , 3) + '.png'\n",
    "#table_image = cv2.imread(table_image)\n",
    "#plt.imshow(table_image)"
   ]
  },
  {
   "cell_type": "code",
   "execution_count": 120,
   "metadata": {},
   "outputs": [],
   "source": [
    "row = img_df.iloc[0]"
   ]
  },
  {
   "cell_type": "code",
   "execution_count": 126,
   "metadata": {},
   "outputs": [],
   "source": [
    "row_bottom = row['text_top'] + row['text_height']\n",
    "row_right  = row['text_left'] + row['text_width']\n",
    "\n",
    "remove_patch = table_image[row['text_top'] : row_bottom , row['text_left'] : row_right,: ] - resize_img * 0.5"
   ]
  },
  {
   "cell_type": "code",
   "execution_count": 127,
   "metadata": {},
   "outputs": [
    {
     "data": {
      "text/plain": [
       "<matplotlib.image.AxesImage at 0x7f2f90627d90>"
      ]
     },
     "execution_count": 127,
     "metadata": {},
     "output_type": "execute_result"
    },
    {
     "data": {
      "image/png": "[encoded data removed]",
      "text/plain": [
       "<Figure size 432x288 with 1 Axes>"
      ]
     },
     "metadata": {
      "needs_background": "light"
     },
     "output_type": "display_data"
    }
   ],
   "source": [
    "plt.imshow(remove_patch)"
   ]
  },
  {
   "cell_type": "code",
   "execution_count": null,
   "metadata": {},
   "outputs": [],
   "source": []
  },
  {
   "cell_type": "code",
   "execution_count": null,
   "metadata": {},
   "outputs": [],
   "source": [
    "\n",
    "#remove images from background \n",
    "if len(img_df > 0) :\n",
    "    for index , row in img_df.iterrows():\n",
    "        \n",
    "    \n",
    "    "
   ]
  },
  {
   "cell_type": "code",
   "execution_count": null,
   "metadata": {},
   "outputs": [],
   "source": []
  },
  {
   "cell_type": "code",
   "execution_count": 129,
   "metadata": {},
   "outputs": [
    {
     "ename": "NameError",
     "evalue": "name 'TableRepositories' is not defined",
     "output_type": "error",
     "traceback": [
      "\u001b[0;31m---------------------------------------------------------------------------\u001b[0m",
      "\u001b[0;31mNameError\u001b[0m                                 Traceback (most recent call last)",
      "\u001b[0;32m<ipython-input-129-e532e05c54a2>\u001b[0m in \u001b[0;36m<module>\u001b[0;34m\u001b[0m\n\u001b[1;32m      1\u001b[0m \u001b[0mplt\u001b[0m\u001b[0;34m.\u001b[0m\u001b[0mrcParams\u001b[0m\u001b[0;34m[\u001b[0m\u001b[0;34m'figure.figsize'\u001b[0m\u001b[0;34m]\u001b[0m \u001b[0;34m=\u001b[0m \u001b[0;34m[\u001b[0m\u001b[0;36m20\u001b[0m\u001b[0;34m,\u001b[0m \u001b[0;36m20\u001b[0m\u001b[0;34m]\u001b[0m\u001b[0;34m\u001b[0m\u001b[0;34m\u001b[0m\u001b[0m\n\u001b[1;32m      2\u001b[0m \u001b[0;34m\u001b[0m\u001b[0m\n\u001b[0;32m----> 3\u001b[0;31m \u001b[0min_df\u001b[0m \u001b[0;34m,\u001b[0m \u001b[0mtable_df\u001b[0m \u001b[0;34m,\u001b[0m \u001b[0mline_df\u001b[0m \u001b[0;34m=\u001b[0m \u001b[0mget_text_table_line_df\u001b[0m\u001b[0;34m(\u001b[0m\u001b[0mtable_image\u001b[0m\u001b[0;34m,\u001b[0m\u001b[0mdf\u001b[0m\u001b[0;34m)\u001b[0m\u001b[0;34m\u001b[0m\u001b[0;34m\u001b[0m\u001b[0m\n\u001b[0m",
      "\u001b[0;32m<ipython-input-22-f389268f1612>\u001b[0m in \u001b[0;36mget_text_table_line_df\u001b[0;34m(table_image, in_df)\u001b[0m\n\u001b[1;32m     93\u001b[0m \u001b[0;34m\u001b[0m\u001b[0m\n\u001b[1;32m     94\u001b[0m \u001b[0;32mdef\u001b[0m \u001b[0mget_text_table_line_df\u001b[0m\u001b[0;34m(\u001b[0m\u001b[0mtable_image\u001b[0m \u001b[0;34m,\u001b[0m \u001b[0min_df\u001b[0m\u001b[0;34m)\u001b[0m \u001b[0;34m:\u001b[0m\u001b[0;34m\u001b[0m\u001b[0;34m\u001b[0m\u001b[0m\n\u001b[0;32m---> 95\u001b[0;31m     \u001b[0mtables\u001b[0m     \u001b[0;34m=\u001b[0m \u001b[0mTableRepositories\u001b[0m \u001b[0;34m(\u001b[0m\u001b[0mtable_image\u001b[0m\u001b[0;34m)\u001b[0m\u001b[0;34m\u001b[0m\u001b[0;34m\u001b[0m\u001b[0m\n\u001b[0m\u001b[1;32m     96\u001b[0m     \u001b[0mRects\u001b[0m \u001b[0;34m=\u001b[0m \u001b[0mRectRepositories\u001b[0m\u001b[0;34m(\u001b[0m\u001b[0mtable_image\u001b[0m\u001b[0;34m)\u001b[0m\u001b[0;34m\u001b[0m\u001b[0;34m\u001b[0m\u001b[0m\n\u001b[1;32m     97\u001b[0m     \u001b[0mlines\u001b[0m\u001b[0;34m,\u001b[0m \u001b[0m_\u001b[0m \u001b[0;34m=\u001b[0m \u001b[0mRects\u001b[0m\u001b[0;34m.\u001b[0m\u001b[0mget_tables_and_lines\u001b[0m\u001b[0;34m(\u001b[0m\u001b[0;34m)\u001b[0m\u001b[0;34m\u001b[0m\u001b[0;34m\u001b[0m\u001b[0m\n",
      "\u001b[0;31mNameError\u001b[0m: name 'TableRepositories' is not defined"
     ]
    }
   ],
   "source": [
    "plt.rcParams['figure.figsize'] = [20, 20]\n",
    "\n",
    "in_df , table_df , line_df = get_text_table_line_df(table_image,df)"
   ]
  },
  {
   "cell_type": "code",
   "execution_count": null,
   "metadata": {},
   "outputs": [],
   "source": [
    "in_df"
   ]
  },
  {
   "cell_type": "code",
   "execution_count": null,
   "metadata": {},
   "outputs": [],
   "source": [
    "table_df"
   ]
  },
  {
   "cell_type": "code",
   "execution_count": null,
   "metadata": {
    "scrolled": true
   },
   "outputs": [],
   "source": [
    "table_df['children'][0]"
   ]
  },
  {
   "cell_type": "code",
   "execution_count": null,
   "metadata": {},
   "outputs": [],
   "source": [
    "line_df"
   ]
  },
  {
   "cell_type": "code",
   "execution_count": null,
   "metadata": {},
   "outputs": [],
   "source": []
  },
  {
   "cell_type": "code",
   "execution_count": null,
   "metadata": {},
   "outputs": [],
   "source": []
  },
  {
   "cell_type": "code",
   "execution_count": null,
   "metadata": {},
   "outputs": [],
   "source": []
  },
  {
   "cell_type": "code",
   "execution_count": null,
   "metadata": {},
   "outputs": [],
   "source": [
    "len(table_df)"
   ]
  },
  {
   "cell_type": "code",
   "execution_count": null,
   "metadata": {
    "scrolled": true
   },
   "outputs": [],
   "source": [
    "table_df['children'][0]"
   ]
  },
  {
   "cell_type": "code",
   "execution_count": null,
   "metadata": {},
   "outputs": [],
   "source": [
    "#extract \n"
   ]
  },
  {
   "cell_type": "code",
   "execution_count": null,
   "metadata": {},
   "outputs": [],
   "source": [
    "#delete"
   ]
  },
  {
   "cell_type": "code",
   "execution_count": null,
   "metadata": {},
   "outputs": [],
   "source": []
  },
  {
   "cell_type": "code",
   "execution_count": null,
   "metadata": {
    "scrolled": true
   },
   "outputs": [],
   "source": [
    "len(df)"
   ]
  },
  {
   "cell_type": "code",
   "execution_count": null,
   "metadata": {},
   "outputs": [],
   "source": []
  },
  {
   "cell_type": "code",
   "execution_count": null,
   "metadata": {
    "scrolled": true
   },
   "outputs": [],
   "source": []
  },
  {
   "cell_type": "code",
   "execution_count": null,
   "metadata": {},
   "outputs": [],
   "source": [
    "len(ndf)"
   ]
  },
  {
   "cell_type": "code",
   "execution_count": null,
   "metadata": {},
   "outputs": [],
   "source": [
    "tdf['children'][0]"
   ]
  },
  {
   "cell_type": "code",
   "execution_count": null,
   "metadata": {},
   "outputs": [],
   "source": [
    "ndf"
   ]
  },
  {
   "cell_type": "code",
   "execution_count": null,
   "metadata": {},
   "outputs": [],
   "source": []
  },
  {
   "cell_type": "code",
   "execution_count": null,
   "metadata": {},
   "outputs": [],
   "source": []
  },
  {
   "cell_type": "code",
   "execution_count": null,
   "metadata": {},
   "outputs": [],
   "source": []
  },
  {
   "cell_type": "markdown",
   "metadata": {},
   "source": [
    "# Preprocessing for header, footer page num etc"
   ]
  },
  {
   "cell_type": "code",
   "execution_count": null,
   "metadata": {},
   "outputs": [],
   "source": [
    "preprocess_config = {'header_cut':0.15  , 'footer_cut' :0.15 ,'repeat_threshold' :0.95}"
   ]
  },
  {
   "cell_type": "code",
   "execution_count": null,
   "metadata": {},
   "outputs": [],
   "source": [
    "def cut_page(page_df,height,cut_at,direction):\n",
    "    \n",
    "    cut_mark = height * cut_at\n",
    "    if direction == 'above':\n",
    "        sub_df = page_df[page_df['text_top'] <= cut_mark ]\n",
    "        \n",
    "    else :\n",
    "        sub_df = page_df[page_df['text_top'] >= cut_mark ]\n",
    "        \n",
    "    return sub_df\n",
    "\n",
    "\n",
    "def add_box_coordinates(sub_df):\n",
    "    sub_df['text_right']  = sub_df['text_left'] + sub_df['text_width']\n",
    "    sub_df['text_bottom'] = sub_df['text_top'] + sub_df['text_height'] \n",
    "    return sub_df\n",
    "\n",
    "def bb_intersection_over_union(rowA, rowB):\n",
    "    boxA = [rowA['text_left'] ,rowA['text_top'] , rowA['text_right'] , rowA['text_bottom']]\n",
    "    boxB = [rowB['text_left'] ,rowB['text_top'] , rowB['text_right'] , rowB['text_bottom']]\n",
    "    \n",
    "    # determine the (x, y)-coordinates of the intersection rectangle\n",
    "    xA = max(boxA[0], boxB[0])\n",
    "    yA = max(boxA [1], boxB[1])\n",
    "    xB = min(boxA[2], boxB[2])\n",
    "    yB = min(boxA[3], boxB[3])\n",
    "    # compute the area of intersection rectangle\n",
    "    interArea = max(0, xB - xA + 1) * max(0, yB - yA + 1)\n",
    "    # compute the area of both the prediction and ground-truth\n",
    "    # rectangles\n",
    "    boxAArea = (boxA[2] - boxA[0] + 1) * (boxA[3] - boxA[1] + 1)\n",
    "    boxBArea = (boxB[2] - boxB[0] + 1) * (boxB[3] - boxB[1] + 1)\n",
    "    # compute the intersection over union by taking the intersection\n",
    "    # area and dividing it by the sum of prediction + ground-truth\n",
    "    # areas - the interesection area\n",
    "    iou = interArea / float(boxAArea + boxBArea - interArea)\n",
    "    # return the intersection over union value\n",
    "    return iou"
   ]
  },
  {
   "cell_type": "code",
   "execution_count": null,
   "metadata": {},
   "outputs": [],
   "source": [
    "\n",
    "def find_header(xml_dfs ,preprocess_config):\n",
    "    pdf_levle = []\n",
    "\n",
    "    page_df   = xml_dfs[0]\n",
    "    sub_df    = cut_page(page_df,page_height,cut_at=preprocess_config['header_cut'],direction='above')\n",
    "    sub_df    = add_box_coordinates(sub_df)\n",
    "\n",
    "    for page2_df in xml_dfs:\n",
    "        s_df = cut_page(page2_df,page_height,cut_at=preprocess_config['header_cut'],direction='above')\n",
    "        s_df = add_box_coordinates(s_df)\n",
    "\n",
    "        page_level = []\n",
    "        for index1 ,row1 in sub_df.iterrows():   \n",
    "            iou  = 0\n",
    "            for index2 , row2 in s_df.iterrows():\n",
    "                iou += bb_intersection_over_union(row1,row2)\n",
    "\n",
    "            page_level.append(iou)\n",
    "        pdf_levle.append(page_level)\n",
    "\n",
    "    iou_df = pd.DataFrame(pdf_levle,columns=sub_df['text'].values)\n",
    "    check_repeation =   iou_df.sum() / len(iou_df)\n",
    "    regions_to_remove = sub_df[list(check_repeation > preprocess_config['repeat_threshold'])]\n",
    "\n",
    "    \n",
    "    return regions_to_remove\n",
    "\n",
    "\n",
    "\n",
    "\n",
    "def find_footer(xml_dfs,preprocess_config):\n",
    "    pdf_levle = []\n",
    "\n",
    "    page_df = xml_dfs[0]\n",
    "    sub_df = cut_page(page_df,page_height,cut_at=preprocess_config['footer_cut'],direction='below')\n",
    "    sub_df = add_box_coordinates(sub_df)\n",
    "\n",
    "    for page2_df in xml_dfs:\n",
    "        s_df     = cut_page(page2_df,page_height,cut_at=preprocess_config['footer_cut'],direction='below')\n",
    "        s_df = add_box_coordinates(s_df)\n",
    "\n",
    "        page_level = []\n",
    "        for index1 ,row1 in sub_df.iterrows():   \n",
    "            iou  = 0\n",
    "            for index2 , row2 in s_df.iterrows():\n",
    "                iou += bb_intersection_over_union(row1,row2)\n",
    "\n",
    "            page_level.append(iou)\n",
    "        pdf_levle.append(page_level)\n",
    "\n",
    "    iou_df = pd.DataFrame(pdf_levle,columns=sub_df['text'].values)\n",
    "    check_repeation =   iou_df.sum() / len(iou_df)\n",
    "    regions_to_remove = sub_df[list(check_repeation > preprocess_config['repeat_threshold'])]\n",
    "\n",
    "    \n",
    "    return regions_to_remove"
   ]
  },
  {
   "cell_type": "code",
   "execution_count": null,
   "metadata": {},
   "outputs": [],
   "source": [
    "regions_to_remove = find_header(xml_dfs,preprocess_config)"
   ]
  },
  {
   "cell_type": "code",
   "execution_count": null,
   "metadata": {
    "scrolled": true
   },
   "outputs": [],
   "source": [
    "show_df(regions_to_remove)"
   ]
  },
  {
   "cell_type": "code",
   "execution_count": null,
   "metadata": {},
   "outputs": [],
   "source": [
    "xml_dfs[8].head()"
   ]
  },
  {
   "cell_type": "code",
   "execution_count": null,
   "metadata": {
    "scrolled": true
   },
   "outputs": [],
   "source": [
    "xml_dfs[9].head()"
   ]
  },
  {
   "cell_type": "code",
   "execution_count": null,
   "metadata": {},
   "outputs": [],
   "source": [
    "header_region = find_header(xml_dfs,preprocess_config)\n",
    "footer_region = find_footer(xml_dfs,preprocess_config)"
   ]
  },
  {
   "cell_type": "code",
   "execution_count": null,
   "metadata": {},
   "outputs": [],
   "source": [
    "header_region"
   ]
  },
  {
   "cell_type": "code",
   "execution_count": null,
   "metadata": {},
   "outputs": [],
   "source": [
    "footer_region"
   ]
  },
  {
   "cell_type": "code",
   "execution_count": null,
   "metadata": {},
   "outputs": [],
   "source": [
    "#def add_attrib(page_df ,region_to_change,attrib,margin = 5):\n",
    "page_df = xml_dfs[0]\n",
    "region_to_change = header_region\n",
    "margin= 5\n",
    "attrib ='HEADER'"
   ]
  },
  {
   "cell_type": "code",
   "execution_count": null,
   "metadata": {},
   "outputs": [],
   "source": [
    "def add_attrib(page_df ,region_to_change,attrib,margin = 5):\n",
    "    if len(region_to_change) > 0 :\n",
    "        for index, row in region_to_change.iterrows():\n",
    "            area = [row['text_top'] - margin , row['text_left'] - margin ,row['text_top'] + row['text_height'] + margin , row['text_left']+ row['text_width'] + margin]\n",
    "            print(area)\n",
    "            print((page_df['text_top'] >= area[0]) & (page_df['text_left'] >= area[1]) &(page_df['text_top'] + page_df['text_height'] <= area[2]) & (page_df['text_left'] +page_df['text_width'] <= area[3]))\n",
    "            page_df['attrib'][(page_df['text_top'] >= area[0]) & (page_df['text_left'] >= area[1]) &(page_df['text_top'] + page_df['text_height'] <= area[2]) & (page_df['text_left'] +page_df['text_width'] <= area[3]) ] = attrib\n",
    "            \n",
    "    return page_df"
   ]
  },
  {
   "cell_type": "code",
   "execution_count": null,
   "metadata": {},
   "outputs": [],
   "source": [
    "page_df"
   ]
  },
  {
   "cell_type": "code",
   "execution_count": null,
   "metadata": {},
   "outputs": [],
   "source": []
  },
  {
   "cell_type": "code",
   "execution_count": null,
   "metadata": {},
   "outputs": [],
   "source": []
  },
  {
   "cell_type": "code",
   "execution_count": null,
   "metadata": {},
   "outputs": [],
   "source": [
    "# filter page_number based on region and width \n",
    "\n",
    "#  1) check widht based on a configurable range, \n",
    "#  2) check text in neighbour hood. \n"
   ]
  },
  {
   "cell_type": "code",
   "execution_count": null,
   "metadata": {},
   "outputs": [],
   "source": [
    "# Sub script and super script \n",
    "\n",
    "#To do :\n",
    "    # identify if a sub_block contains a sub/super script, so that it can be removed before tokenization\n",
    "    \n",
    "\n",
    "# 1) Check if a line has childern\n",
    "# 2) Check for subscript based on font heights of all children\n",
    "# 3) remove sub script \n",
    "# 4) sub_block  = {'text'   :  ''  ,  'superscript' : []}"
   ]
  },
  {
   "cell_type": "code",
   "execution_count": null,
   "metadata": {},
   "outputs": [],
   "source": [
    "# Foot note \n",
    "\n",
    "    # Check if there is a sub script present in page\n",
    "    # Fire footnote removal \n",
    "        #based on line\n",
    "        #based on font "
   ]
  },
  {
   "cell_type": "code",
   "execution_count": null,
   "metadata": {},
   "outputs": [],
   "source": []
  }
 ],
 "metadata": {
  "kernelspec": {
   "display_name": "Anuvaad",
   "language": "python",
   "name": "anuvaad"
  },
  "language_info": {
   "codemirror_mode": {
    "name": "ipython",
    "version": 3
   },
   "file_extension": ".py",
   "mimetype": "text/x-python",
   "name": "python",
   "nbconvert_exporter": "python",
   "pygments_lexer": "ipython3",
   "version": "3.7.8"
  }
 },
 "nbformat": 4,
 "nbformat_minor": 2
}
