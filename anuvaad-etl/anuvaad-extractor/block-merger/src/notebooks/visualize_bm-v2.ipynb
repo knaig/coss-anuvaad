{
 "cells": [
  {
   "cell_type": "code",
   "execution_count": null,
   "metadata": {},
   "outputs": [],
   "source": [
    "import os\n",
    "import sys\n",
    "import time\n",
    "import glob\n",
    "import io\n",
    "import pytesseract\n",
    "from pytesseract import Output\n",
    "from PIL import Image, ImageDraw\n",
    "import cv2\n",
    "from pathlib import Path\n",
    "import pandas as pd\n",
    "pd.set_option('display.max_rows', None)\n",
    "pd.options.mode.chained_assignment = None\n",
    "import layoutparser"
   ]
  },
  {
   "cell_type": "code",
   "execution_count": null,
   "metadata": {},
   "outputs": [],
   "source": [
    "nb_dir = '/home/dhiraj/Documents/anuvaad/anuvaad-etl/anuvaad-extractor/block-merger/src'\n",
    "sys.path.append(nb_dir)\n",
    "sys.path.append(os.path.split(nb_dir)[0])\n",
    "\n",
    "import config\n",
    "import src.utilities.app_context as app_context\n",
    "from src.utilities.primalaynet.infer import draw_box\n",
    "app_context.init()\n",
    "app_context.application_context = dict({'task_id': 'BM-DUMMY'})\n",
    "\n",
    "#path to craft model, weight can be pulled form the production bracnh of repo\n",
    "config.CRAFT_MODEL_PATH = \"/home/dhiraj/Documents/anuvaad/anuvaad-etl/anuvaad-extractor/block-merger/src/utilities/craft_pytorch/model/craft_mlt_25k.pth\"\n",
    "config.CRAFT_REFINE_MODEL_PATH  = '/home/dhiraj/Documents/anuvaad/anuvaad-etl/anuvaad-extractor/block-merger/src/utilities/craft_pytorch/model/craft_refiner_CTW1500.pth' \n",
    "\n",
    "\n",
    "from src.services.main import generate_response,break_blocks,merge_vertically,merge_horizontally,extract_images_and_text_regions"
   ]
  },
  {
   "cell_type": "code",
   "execution_count": null,
   "metadata": {},
   "outputs": [],
   "source": [
    "import layoutparser as lp\n",
    "model_primalaynet = lp.Detectron2LayoutModel('lp://PrimaLayout/mask_rcnn_R_50_FPN_3x/config',label_map = {1:\"TextRegion\", 2:\"ImageRegion\", 3:\"TableRegion\", 4:\"MathsRegion\", 5:\"SeparatorRegion\", 6:\"OtherRegion\"},extra_config=[\"MODEL.ROI_HEADS.SCORE_THRESH_TEST\", 0.5])\n"
   ]
  },
  {
   "cell_type": "code",
   "execution_count": null,
   "metadata": {},
   "outputs": [],
   "source": [
    "def draw_box(filepath,desired_width, desired_height,save_dir, df, color=\"green\", save=False):\n",
    "    image  = Image.open(filepath)\n",
    "    image  = image.resize((desired_width, desired_height))\n",
    "    draw   = ImageDraw.Draw(image)\n",
    "    if type(df) is list:\n",
    "        for i in df:\n",
    "            for index, row in i.iterrows():\n",
    "                left   = int(row['text_left'])\n",
    "                right  = int(row['text_width'] + left)\n",
    "                top    = int(row['text_top'])\n",
    "                bottom = int(row[\"text_height\"] + top)\n",
    "                draw.rectangle(((left, top), (right,bottom)), outline=color,width=3)\n",
    "    else:\n",
    "\n",
    "        for index, row in df.iterrows():\n",
    "            left   = int(row['text_left'])\n",
    "            right  = int(row['text_width'] + left)\n",
    "            top    = int(row['text_top'])\n",
    "            bottom = int(row[\"text_height\"] + top)\n",
    "            draw.rectangle(((left, top), (right,bottom)), outline=color,width=3)\n",
    "    save_filepath = os.path.join(save_dir, os.path.basename(filepath))\n",
    "    if save:\n",
    "        image.save(save_filepath)\n",
    "    \n",
    "    return image"
   ]
  },
  {
   "cell_type": "code",
   "execution_count": null,
   "metadata": {},
   "outputs": [],
   "source": [
    "#dir which contains the pdf file\n",
    "input_dir = '/home/dhiraj/Documents/Anuwad/anuvaad/anuvaad-etl/anuvaad-extractor/block-merger/src/notebooks/sample-data/input/'\n",
    "#filename = 'footer_test.pdf'\n",
    "#filename  = 'ncert.pdf'\n",
    "#filename = 'test_table.pdf'\n",
    "#filename  = '13_SCOB_2020.pdf'\n",
    "filename = '36055.pdf'\n",
    "#filename = '20695.pdf'\n",
    "lang     = 'en'"
   ]
  },
  {
   "cell_type": "code",
   "execution_count": null,
   "metadata": {
    "scrolled": true
   },
   "outputs": [],
   "source": [
    "[pdf_data,flags] = extract_images_and_text_regions(filename, input_dir,lang,page_layout='double_column')\n",
    "[pdf_data,flags] = merge_horizontally([pdf_data,flags])\n",
    "[pdf_data,flags] = merge_vertically([pdf_data,flags])\n",
    "[pdf_data,flags] = break_blocks([pdf_data,flags])\n",
    "#response        = generate_response([pdf_data,flags])"
   ]
  },
  {
   "cell_type": "code",
   "execution_count": null,
   "metadata": {},
   "outputs": [],
   "source": []
  },
  {
   "cell_type": "code",
   "execution_count": null,
   "metadata": {},
   "outputs": [],
   "source": []
  },
  {
   "cell_type": "code",
   "execution_count": null,
   "metadata": {},
   "outputs": [],
   "source": [
    "# width_ratio = pdf_data['page_width'] / pdf_data['pdf_image_width']\n",
    "# height_ratio = pdf_data['page_height'] / pdf_data['pdf_image_height']\n",
    "# predict_primanet(img_filepath,pdf_bg_img_filepaths,to_check[0],width_ratio,height_ratio)"
   ]
  },
  {
   "cell_type": "code",
   "execution_count": null,
   "metadata": {
    "scrolled": true
   },
   "outputs": [],
   "source": [
    "page_index = 10\n",
    "to_check        = pdf_data['h_dfs']\n",
    "#to_check_in_df        = pdf_data['v_dfs'][page_index]\n",
    "img_filepath    = pdf_data['pdf_image_paths'][page_index]\n",
    "pdf_bg_img_filepaths  = pdf_data['pdf_bg_img_filepaths'][page_index]\n",
    "df              = to_check[page_index]\n",
    "\n",
    "desired_width, desired_height = pdf_data['page_width'] , pdf_data['page_height']\n",
    "draw_box(img_filepath,desired_width, desired_height, 'path',df, color=\"red\", save=False)"
   ]
  },
  {
   "cell_type": "code",
   "execution_count": null,
   "metadata": {},
   "outputs": [],
   "source": [
    "df['text'].values"
   ]
  },
  {
   "cell_type": "code",
   "execution_count": null,
   "metadata": {},
   "outputs": [],
   "source": [
    "df.sort_values(by=['text_top','text_left'])"
   ]
  },
  {
   "cell_type": "code",
   "execution_count": null,
   "metadata": {
    "scrolled": false
   },
   "outputs": [],
   "source": [
    "pd.read_json(df['children'][1])#['text'].values"
   ]
  },
  {
   "cell_type": "code",
   "execution_count": null,
   "metadata": {},
   "outputs": [],
   "source": [
    "for i in to_check_in_df['children']:\n",
    "    d =pd.read_json(i)\n",
    "    print(d)\n",
    "    print(d['children'])"
   ]
  },
  {
   "cell_type": "code",
   "execution_count": null,
   "metadata": {},
   "outputs": [],
   "source": []
  },
  {
   "cell_type": "code",
   "execution_count": null,
   "metadata": {},
   "outputs": [],
   "source": [
    "import numpy as np\n",
    "p_df_image = draw_box(img_filepath,desired_width, desired_height, 'path',df, color=\"red\", save=False)\n",
    "sc_pdf_image = draw_box(img_filepath,desired_width, desired_height, 'path',to_check_in_df, color=\"red\", save=False)\n",
    "stiched_imag = np.hstack([np.array(p_df_image) ,np.array(sc_pdf_image)])\n",
    "compare_image = Image.fromarray(stiched_imag)\n",
    "compare_image.save(\"/home/naresh/1.jpg\")"
   ]
  },
  {
   "cell_type": "code",
   "execution_count": null,
   "metadata": {},
   "outputs": [],
   "source": [
    "def predict_primanet(image_path,bg_image_path,in_df,width_ratio,height_ratio):\n",
    "    image1  = cv2.imread(image_path)\n",
    "    image2  = cv2.imread(bg_image_path)\n",
    "    image = image1[..., ::-1] \n",
    "    layout = model_primalaynet.detect(image)\n",
    "    boxes,coords = draw_box(layout, in_df,width_ratio,height_ratio)\n",
    "    final_coord= []\n",
    "    for coord in coords:\n",
    "        temp_dict={}\n",
    "        temp_dict['text_left']=coord[0]; temp_dict['text_top']=coord[1]\n",
    "        temp_dict['text_width']=coord[2]; temp_dict['text_height']=coord[3]\n",
    "        #draw.rectangle(coord, width=3,outline='red')\n",
    "        final_coord.append(temp_dict)\n",
    "        cv2.rectangle(image1, (int(coord[0]),int(coord[1])), (int(coord[2]),int(coord[3])),(255,255,0),3)\n",
    "        cv2.rectangle(image2, (int(coord[0]*width_ratio),int(coord[1]*height_ratio)), (int(coord[2]*width_ratio),int(coord[3]*height_ratio)),(255,255,0),3)\n",
    "\n",
    "        cv2.imwrite(\"1.jpg\",image1)\n",
    "        cv2.imwrite(\"2.jpg\",image2)\n",
    "\n",
    "    return final_coord"
   ]
  },
  {
   "cell_type": "code",
   "execution_count": null,
   "metadata": {},
   "outputs": [],
   "source": []
  },
  {
   "cell_type": "code",
   "execution_count": null,
   "metadata": {},
   "outputs": [],
   "source": []
  },
  {
   "cell_type": "code",
   "execution_count": null,
   "metadata": {},
   "outputs": [],
   "source": []
  },
  {
   "cell_type": "code",
   "execution_count": null,
   "metadata": {},
   "outputs": [],
   "source": []
  }
 ],
 "metadata": {
  "kernelspec": {
   "display_name": "Anuvaad",
   "language": "python",
   "name": "anuvaad"
  },
  "language_info": {
   "codemirror_mode": {
    "name": "ipython",
    "version": 3
   },
   "file_extension": ".py",
   "mimetype": "text/x-python",
   "name": "python",
   "nbconvert_exporter": "python",
   "pygments_lexer": "ipython3",
   "version": "3.6.12"
  }
 },
 "nbformat": 4,
 "nbformat_minor": 4
}
