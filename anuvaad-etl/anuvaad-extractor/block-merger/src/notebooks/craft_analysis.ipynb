{
 "cells": [
  {
   "cell_type": "code",
   "execution_count": 27,
   "metadata": {},
   "outputs": [
    {
     "ename": "ModuleNotFoundError",
     "evalue": "No module named 'matlotlib'",
     "output_type": "error",
     "traceback": [
      "\u001b[0;31m---------------------------------------------------------------------------\u001b[0m",
      "\u001b[0;31mModuleNotFoundError\u001b[0m                       Traceback (most recent call last)",
      "\u001b[0;32m<ipython-input-27-0d04b318d350>\u001b[0m in \u001b[0;36m<module>\u001b[0;34m\u001b[0m\n\u001b[1;32m      2\u001b[0m \u001b[0;32mimport\u001b[0m \u001b[0mnumpy\u001b[0m \u001b[0;32mas\u001b[0m \u001b[0mnp\u001b[0m\u001b[0;34m\u001b[0m\u001b[0;34m\u001b[0m\u001b[0m\n\u001b[1;32m      3\u001b[0m \u001b[0;34m\u001b[0m\u001b[0m\n\u001b[0;32m----> 4\u001b[0;31m \u001b[0;32mimport\u001b[0m \u001b[0mmatlotlib\u001b[0m\u001b[0;34m\u001b[0m\u001b[0;34m\u001b[0m\u001b[0m\n\u001b[0m",
      "\u001b[0;31mModuleNotFoundError\u001b[0m: No module named 'matlotlib'"
     ]
    }
   ],
   "source": [
    "import pandas as pd\n",
    "import numpy as np\n",
    "\n",
    "import matlotlib\n"
   ]
  },
  {
   "cell_type": "code",
   "execution_count": 25,
   "metadata": {},
   "outputs": [],
   "source": [
    "lower_bound=0\n",
    "upper_bound=1\n",
    "csv_path = '/home/dhiraj/Downloads/train - train.csv'\n"
   ]
  },
  {
   "cell_type": "code",
   "execution_count": 26,
   "metadata": {},
   "outputs": [],
   "source": [
    "\n",
    "\n",
    "def load_label(row):\n",
    "        num_classes=19\n",
    "        yi = np.zeros(num_classes)\n",
    "        yi+=lower_bound\n",
    "        labels = row.split('|')\n",
    "        yi[list(map(int,labels))] = upper_bound\n",
    "        return str(yi)\n"
   ]
  },
  {
   "cell_type": "code",
   "execution_count": null,
   "metadata": {},
   "outputs": [],
   "source": []
  },
  {
   "cell_type": "code",
   "execution_count": null,
   "metadata": {},
   "outputs": [],
   "source": []
  },
  {
   "cell_type": "code",
   "execution_count": 25,
   "metadata": {},
   "outputs": [],
   "source": [
    "df = pd.read_csv(csv_path)"
   ]
  },
  {
   "cell_type": "code",
   "execution_count": 26,
   "metadata": {},
   "outputs": [
    {
     "data": {
      "text/html": [
       "<div>\n",
       "<style scoped>\n",
       "    .dataframe tbody tr th:only-of-type {\n",
       "        vertical-align: middle;\n",
       "    }\n",
       "\n",
       "    .dataframe tbody tr th {\n",
       "        vertical-align: top;\n",
       "    }\n",
       "\n",
       "    .dataframe thead th {\n",
       "        text-align: right;\n",
       "    }\n",
       "</style>\n",
       "<table border=\"1\" class=\"dataframe\">\n",
       "  <thead>\n",
       "    <tr style=\"text-align: right;\">\n",
       "      <th></th>\n",
       "      <th>ID</th>\n",
       "      <th>Label</th>\n",
       "    </tr>\n",
       "  </thead>\n",
       "  <tbody>\n",
       "    <tr>\n",
       "      <th>0</th>\n",
       "      <td>5c27f04c-bb99-11e8-b2b9-ac1f6b6435d0</td>\n",
       "      <td>8|5|0</td>\n",
       "    </tr>\n",
       "    <tr>\n",
       "      <th>1</th>\n",
       "      <td>5fb643ee-bb99-11e8-b2b9-ac1f6b6435d0</td>\n",
       "      <td>14|0</td>\n",
       "    </tr>\n",
       "    <tr>\n",
       "      <th>2</th>\n",
       "      <td>60b57878-bb99-11e8-b2b9-ac1f6b6435d0</td>\n",
       "      <td>6|1</td>\n",
       "    </tr>\n",
       "    <tr>\n",
       "      <th>3</th>\n",
       "      <td>5c1a898e-bb99-11e8-b2b9-ac1f6b6435d0</td>\n",
       "      <td>16|10</td>\n",
       "    </tr>\n",
       "    <tr>\n",
       "      <th>4</th>\n",
       "      <td>5b931256-bb99-11e8-b2b9-ac1f6b6435d0</td>\n",
       "      <td>14|0</td>\n",
       "    </tr>\n",
       "    <tr>\n",
       "      <th>...</th>\n",
       "      <td>...</td>\n",
       "      <td>...</td>\n",
       "    </tr>\n",
       "    <tr>\n",
       "      <th>21801</th>\n",
       "      <td>dd0989c4-bbca-11e8-b2bc-ac1f6b6435d0</td>\n",
       "      <td>14</td>\n",
       "    </tr>\n",
       "    <tr>\n",
       "      <th>21802</th>\n",
       "      <td>dd1f7fb8-bbca-11e8-b2bc-ac1f6b6435d0</td>\n",
       "      <td>3|0</td>\n",
       "    </tr>\n",
       "    <tr>\n",
       "      <th>21803</th>\n",
       "      <td>dd5cb36a-bbca-11e8-b2bc-ac1f6b6435d0</td>\n",
       "      <td>14|0</td>\n",
       "    </tr>\n",
       "    <tr>\n",
       "      <th>21804</th>\n",
       "      <td>df573730-bbca-11e8-b2bc-ac1f6b6435d0</td>\n",
       "      <td>14</td>\n",
       "    </tr>\n",
       "    <tr>\n",
       "      <th>21805</th>\n",
       "      <td>dea19dc6-bbca-11e8-b2bc-ac1f6b6435d0</td>\n",
       "      <td>5|0</td>\n",
       "    </tr>\n",
       "  </tbody>\n",
       "</table>\n",
       "<p>21806 rows × 2 columns</p>\n",
       "</div>"
      ],
      "text/plain": [
       "                                         ID  Label\n",
       "0      5c27f04c-bb99-11e8-b2b9-ac1f6b6435d0  8|5|0\n",
       "1      5fb643ee-bb99-11e8-b2b9-ac1f6b6435d0   14|0\n",
       "2      60b57878-bb99-11e8-b2b9-ac1f6b6435d0    6|1\n",
       "3      5c1a898e-bb99-11e8-b2b9-ac1f6b6435d0  16|10\n",
       "4      5b931256-bb99-11e8-b2b9-ac1f6b6435d0   14|0\n",
       "...                                     ...    ...\n",
       "21801  dd0989c4-bbca-11e8-b2bc-ac1f6b6435d0     14\n",
       "21802  dd1f7fb8-bbca-11e8-b2bc-ac1f6b6435d0    3|0\n",
       "21803  dd5cb36a-bbca-11e8-b2bc-ac1f6b6435d0   14|0\n",
       "21804  df573730-bbca-11e8-b2bc-ac1f6b6435d0     14\n",
       "21805  dea19dc6-bbca-11e8-b2bc-ac1f6b6435d0    5|0\n",
       "\n",
       "[21806 rows x 2 columns]"
      ]
     },
     "execution_count": 26,
     "metadata": {},
     "output_type": "execute_result"
    }
   ],
   "source": [
    "df"
   ]
  },
  {
   "cell_type": "code",
   "execution_count": 27,
   "metadata": {},
   "outputs": [
    {
     "data": {
      "text/plain": [
       "432"
      ]
     },
     "execution_count": 27,
     "metadata": {},
     "output_type": "execute_result"
    }
   ],
   "source": [
    "len(df['Label'].unique())"
   ]
  },
  {
   "cell_type": "code",
   "execution_count": 28,
   "metadata": {
    "scrolled": true
   },
   "outputs": [
    {
     "data": {
      "text/plain": [
       "array(['8|5|0', '14|0', '6|1', '16|10', '0', '14', '13|0', '12|0', '3',\n",
       "       '7|2', '9', '5', '12', '6', '13', '9|16|0|13', '14|2', '15|0', '2',\n",
       "       '1|0', '8', '9|0', '16|0', '2|13', '14|4', '4', '10', '16|13',\n",
       "       '16', '9|13', '7', '8|0', '12|8|4', '16|2|0|13', '13|13', '5|0',\n",
       "       '16|0|13', '8|1|0', '3|0', '2|0', '16|1|0', '16|4', '4|13', '16|7',\n",
       "       '14|1', '9|2|13', '0|13', '16|4|3|13', '9|1|13', '16|5', '10|0',\n",
       "       '16|14|0', '16|9', '18', '12|16', '17', '7|1|0|13', '7|8|10',\n",
       "       '16|2', '16|7|0', '2|0|13', '1|4', '4|0', '15|16', '16|2|0',\n",
       "       '12|16|5', '16|14|3', '7|0', '10|2|0', '7|5', '16|14', '12|4',\n",
       "       '16|5|0', '6|0', '6|3', '16|7|2', '12|14|13', '13|2|0', '15|8',\n",
       "       '1', '14|3', '9|0|13', '15', '16|7|1|0', '12|5', '16|17',\n",
       "       '16|7|2|0', '13|16|7', '5|13', '1|2|0', '16|9|3|0', '12|5|0',\n",
       "       '8|0|17', '12|16|0', '16|14|2', '12|7|0', '16|3', '5|0|13', '4|3',\n",
       "       '2|3|0', '6|13', '15|13|0', '16|5|3|0', '17|4|2', '13|2', '8|5',\n",
       "       '8|2', '16|8', '17|16', '7|3', '12|7', '16|11', '14|5|0',\n",
       "       '16|5|13', '16|1|2', '12|1|2', '13|16', '6|2', '1|2', '7|2|0',\n",
       "       '4|2', '13|0|13', '10|0|13', '6|7', '16|1', '16|8|0', '7|1|0',\n",
       "       '17|0', '12|7|10|13', '15|0|13', '16|6|3|0', '17|5', '7|0|13',\n",
       "       '16|6', '12|8|0', '12|13', '5|1|0|13', '17|16|13', '5|1', '7|10',\n",
       "       '7|1|2|0', '9|4', '9|5', '9|12|16', '1|17', '12|3|0', '9|10',\n",
       "       '12|6', '16|5|2', '12|14', '16|3|0', '14|2|0', '6|5', '15|12',\n",
       "       '14|1|0', '8|2|0', '7|4|13', '13|3', '15|5', '14|13', '9|16|13',\n",
       "       '8|4', '3|13', '16|10|2', '9|12', '14|2|13', '9|16', '12|14|0|13',\n",
       "       '12|1', '13|14|2', '12|10|0', '9|2', '12|9', '16|1|13', '17|3',\n",
       "       '9|4|13', '17|17', '1|13', '12|2|13', '13|12|13', '16|9|7|0',\n",
       "       '16|8|5', '7|13', '16|17|13', '12|2', '15|16|0', '5|2', '9|14',\n",
       "       '13|16|13', '10|13', '16|8|13', '8|13', '0|13|17', '16|7|2|13',\n",
       "       '9|16|7', '12|7|2', '13|14|1', '10|3', '16|7|4', '9|16|0',\n",
       "       '16|10|0', '15|7', '12|16|13', '14|0|13', '16|2|13', '16|4|13',\n",
       "       '0|17', '7|3|0', '11|13', '5|2|0', '16|9|0', '16|11|0', '8|3',\n",
       "       '9|1|0', '10|4', '12|16|7|0', '10|5', '13|12|16|0', '16|8|3',\n",
       "       '9|12|16|0', '13|16|0', '13|7', '10|3|0', '3|17', '15|4', '15|5|0',\n",
       "       '16|6|0|13', '10|2', '10|17', '7|5|0', '12|4|13', '16|9|13',\n",
       "       '8|10|13', '16|5|1', '7|4', '15|16|13', '9|14|0', '12|14|0',\n",
       "       '12|0|17', '12|1|0', '12|16|4', '14|5', '12|11', '17|14|0',\n",
       "       '13|14', '12|2|0', '9|5|0|17', '15|2|0', '14|3|0', '12|0|13',\n",
       "       '13|4', '9|3', '12|17|16', '16|4|17', '5|4', '13|12|0', '9|8',\n",
       "       '17|13', '16|8|2', '13|9|7|0', '16|8|2|0', '9|7', '16|6|2', '13|1',\n",
       "       '16|7|0|13', '9|17', '13|12', '5|1|13', '7|14', '12|16|2',\n",
       "       '1|0|13', '13|4|13', '16|6|0', '10|11|0', '11|0', '12|16|1|0',\n",
       "       '12|10', '16|6|7', '16|4|3', '8|3|0', '16|6|5|2', '12|16|14',\n",
       "       '9|14|2', '9|16|2', '13|14|0', '7|1|4', '6|4', '9|16|4', '2|17',\n",
       "       '7|5|1', '13|5|0', '13|16|3|13', '6|17', '16|7|10|5', '9|1|0|13',\n",
       "       '1|2|13', '13|5', '15|14', '12|16|9', '10|14', '12|16|1|13',\n",
       "       '10|11', '9|12|0', '9|2|0', '14|1|2|0', '15|3', '16|9|2|0',\n",
       "       '16|14|13', '8|1', '15|13', '1|3|0|13', '9|5|0', '8|4|0', '6|14',\n",
       "       '9|8|13', '16|10|13', '5|1|0', '12|16|2|0', '16|5|1|0', '10|11|13',\n",
       "       '9|7|0', '6|5|0', '12|3', '9|9|13', '17|4', '13|7|13', '5|3',\n",
       "       '7|1', '5|1|2|13', '7|0|17', '1|3', '5|4|0', '9|13|13', '9|12|10',\n",
       "       '14|11|0', '16|4|0', '17|7', '6|9', '3|0|13', '9|1|2|0', '9|9',\n",
       "       '13|16|9|13', '17|16|0', '17|14', '7|14|0', '7|2|0|13', '16|7|5',\n",
       "       '9|9|0|13', '17|2|0', '12|8', '17|3|0', '16|0|17', '13|9|13',\n",
       "       '7|4|3', '16|14|2|0', '6|2|0', '16|6|13', '12|16|0|13', '13|7|0',\n",
       "       '9|16|2|0', '16|3|13', '16|14|5|3|0', '16|1|2|13', '16|5|0|13',\n",
       "       '9|9|0', '11', '12|9|0', '16|7|13', '8|14', '7|4|2', '16|8|10',\n",
       "       '12|10|11', '13|7|2', '12|2|0|13', '12|7|3|0', '14|5|2|0', '10|1',\n",
       "       '16|7|1|2', '9|16|3', '17|3|0|13', '9|14|0|13', '16|6|3', '9|5|2',\n",
       "       '16|1|4', '9|5|13', '15|16|7|13', '1|3|0', '13|8', '16|4|2',\n",
       "       '13|7|5', '9|6', '12|16|3|0', '15|2', '4|0|13', '12|6|0',\n",
       "       '13|16|9|4|13', '9|1', '7|17', '16|14|5', '16|14|1|0', '16|6|2|0',\n",
       "       '13|16|7|0', '13|1|0', '13|12|16', '6|10|2', '12|16|1', '16|9|4',\n",
       "       '12|16|3', '9|12|4|3', '12|5|1|0', '17|5|3|0', '12|16|8', '7|8',\n",
       "       '8|14|13', '16|7|3', '13|10', '16|9|0|13', '10|1|0', '17|0|13',\n",
       "       '5|0|17', '9|16|8', '9|8|14', '15|12|14|0', '13|16|2', '16|17|14',\n",
       "       '9|13|16|0', '11|5', '9|7|13', '12|8|2', '9|14|13', '13|10|11',\n",
       "       '9|6|13'], dtype=object)"
      ]
     },
     "execution_count": 28,
     "metadata": {},
     "output_type": "execute_result"
    }
   ],
   "source": [
    "df['Label'].unique()"
   ]
  },
  {
   "cell_type": "code",
   "execution_count": 29,
   "metadata": {},
   "outputs": [],
   "source": [
    "df['one_hot'] = df['Label'].apply(load_label)"
   ]
  },
  {
   "cell_type": "code",
   "execution_count": 31,
   "metadata": {},
   "outputs": [
    {
     "data": {
      "text/plain": [
       "372"
      ]
     },
     "execution_count": 31,
     "metadata": {},
     "output_type": "execute_result"
    }
   ],
   "source": [
    "len(df['one_hot'].unique())"
   ]
  },
  {
   "cell_type": "code",
   "execution_count": 32,
   "metadata": {},
   "outputs": [
    {
     "data": {
      "text/html": [
       "<div>\n",
       "<style scoped>\n",
       "    .dataframe tbody tr th:only-of-type {\n",
       "        vertical-align: middle;\n",
       "    }\n",
       "\n",
       "    .dataframe tbody tr th {\n",
       "        vertical-align: top;\n",
       "    }\n",
       "\n",
       "    .dataframe thead th {\n",
       "        text-align: right;\n",
       "    }\n",
       "</style>\n",
       "<table border=\"1\" class=\"dataframe\">\n",
       "  <thead>\n",
       "    <tr style=\"text-align: right;\">\n",
       "      <th></th>\n",
       "      <th>ID</th>\n",
       "      <th>Label</th>\n",
       "      <th>one_hot</th>\n",
       "    </tr>\n",
       "  </thead>\n",
       "  <tbody>\n",
       "    <tr>\n",
       "      <th>0</th>\n",
       "      <td>5c27f04c-bb99-11e8-b2b9-ac1f6b6435d0</td>\n",
       "      <td>8|5|0</td>\n",
       "      <td>[1. 0. 0. 0. 0. 1. 0. 0. 1. 0. 0. 0. 0. 0. 0. ...</td>\n",
       "    </tr>\n",
       "    <tr>\n",
       "      <th>1</th>\n",
       "      <td>5fb643ee-bb99-11e8-b2b9-ac1f6b6435d0</td>\n",
       "      <td>14|0</td>\n",
       "      <td>[1. 0. 0. 0. 0. 0. 0. 0. 0. 0. 0. 0. 0. 0. 1. ...</td>\n",
       "    </tr>\n",
       "    <tr>\n",
       "      <th>2</th>\n",
       "      <td>60b57878-bb99-11e8-b2b9-ac1f6b6435d0</td>\n",
       "      <td>6|1</td>\n",
       "      <td>[0. 1. 0. 0. 0. 0. 1. 0. 0. 0. 0. 0. 0. 0. 0. ...</td>\n",
       "    </tr>\n",
       "    <tr>\n",
       "      <th>3</th>\n",
       "      <td>5c1a898e-bb99-11e8-b2b9-ac1f6b6435d0</td>\n",
       "      <td>16|10</td>\n",
       "      <td>[0. 0. 0. 0. 0. 0. 0. 0. 0. 0. 1. 0. 0. 0. 0. ...</td>\n",
       "    </tr>\n",
       "    <tr>\n",
       "      <th>4</th>\n",
       "      <td>5b931256-bb99-11e8-b2b9-ac1f6b6435d0</td>\n",
       "      <td>14|0</td>\n",
       "      <td>[1. 0. 0. 0. 0. 0. 0. 0. 0. 0. 0. 0. 0. 0. 1. ...</td>\n",
       "    </tr>\n",
       "    <tr>\n",
       "      <th>...</th>\n",
       "      <td>...</td>\n",
       "      <td>...</td>\n",
       "      <td>...</td>\n",
       "    </tr>\n",
       "    <tr>\n",
       "      <th>21801</th>\n",
       "      <td>dd0989c4-bbca-11e8-b2bc-ac1f6b6435d0</td>\n",
       "      <td>14</td>\n",
       "      <td>[0. 0. 0. 0. 0. 0. 0. 0. 0. 0. 0. 0. 0. 0. 1. ...</td>\n",
       "    </tr>\n",
       "    <tr>\n",
       "      <th>21802</th>\n",
       "      <td>dd1f7fb8-bbca-11e8-b2bc-ac1f6b6435d0</td>\n",
       "      <td>3|0</td>\n",
       "      <td>[1. 0. 0. 1. 0. 0. 0. 0. 0. 0. 0. 0. 0. 0. 0. ...</td>\n",
       "    </tr>\n",
       "    <tr>\n",
       "      <th>21803</th>\n",
       "      <td>dd5cb36a-bbca-11e8-b2bc-ac1f6b6435d0</td>\n",
       "      <td>14|0</td>\n",
       "      <td>[1. 0. 0. 0. 0. 0. 0. 0. 0. 0. 0. 0. 0. 0. 1. ...</td>\n",
       "    </tr>\n",
       "    <tr>\n",
       "      <th>21804</th>\n",
       "      <td>df573730-bbca-11e8-b2bc-ac1f6b6435d0</td>\n",
       "      <td>14</td>\n",
       "      <td>[0. 0. 0. 0. 0. 0. 0. 0. 0. 0. 0. 0. 0. 0. 1. ...</td>\n",
       "    </tr>\n",
       "    <tr>\n",
       "      <th>21805</th>\n",
       "      <td>dea19dc6-bbca-11e8-b2bc-ac1f6b6435d0</td>\n",
       "      <td>5|0</td>\n",
       "      <td>[1. 0. 0. 0. 0. 1. 0. 0. 0. 0. 0. 0. 0. 0. 0. ...</td>\n",
       "    </tr>\n",
       "  </tbody>\n",
       "</table>\n",
       "<p>21806 rows × 3 columns</p>\n",
       "</div>"
      ],
      "text/plain": [
       "                                         ID  Label  \\\n",
       "0      5c27f04c-bb99-11e8-b2b9-ac1f6b6435d0  8|5|0   \n",
       "1      5fb643ee-bb99-11e8-b2b9-ac1f6b6435d0   14|0   \n",
       "2      60b57878-bb99-11e8-b2b9-ac1f6b6435d0    6|1   \n",
       "3      5c1a898e-bb99-11e8-b2b9-ac1f6b6435d0  16|10   \n",
       "4      5b931256-bb99-11e8-b2b9-ac1f6b6435d0   14|0   \n",
       "...                                     ...    ...   \n",
       "21801  dd0989c4-bbca-11e8-b2bc-ac1f6b6435d0     14   \n",
       "21802  dd1f7fb8-bbca-11e8-b2bc-ac1f6b6435d0    3|0   \n",
       "21803  dd5cb36a-bbca-11e8-b2bc-ac1f6b6435d0   14|0   \n",
       "21804  df573730-bbca-11e8-b2bc-ac1f6b6435d0     14   \n",
       "21805  dea19dc6-bbca-11e8-b2bc-ac1f6b6435d0    5|0   \n",
       "\n",
       "                                                 one_hot  \n",
       "0      [1. 0. 0. 0. 0. 1. 0. 0. 1. 0. 0. 0. 0. 0. 0. ...  \n",
       "1      [1. 0. 0. 0. 0. 0. 0. 0. 0. 0. 0. 0. 0. 0. 1. ...  \n",
       "2      [0. 1. 0. 0. 0. 0. 1. 0. 0. 0. 0. 0. 0. 0. 0. ...  \n",
       "3      [0. 0. 0. 0. 0. 0. 0. 0. 0. 0. 1. 0. 0. 0. 0. ...  \n",
       "4      [1. 0. 0. 0. 0. 0. 0. 0. 0. 0. 0. 0. 0. 0. 1. ...  \n",
       "...                                                  ...  \n",
       "21801  [0. 0. 0. 0. 0. 0. 0. 0. 0. 0. 0. 0. 0. 0. 1. ...  \n",
       "21802  [1. 0. 0. 1. 0. 0. 0. 0. 0. 0. 0. 0. 0. 0. 0. ...  \n",
       "21803  [1. 0. 0. 0. 0. 0. 0. 0. 0. 0. 0. 0. 0. 0. 1. ...  \n",
       "21804  [0. 0. 0. 0. 0. 0. 0. 0. 0. 0. 0. 0. 0. 0. 1. ...  \n",
       "21805  [1. 0. 0. 0. 0. 1. 0. 0. 0. 0. 0. 0. 0. 0. 0. ...  \n",
       "\n",
       "[21806 rows x 3 columns]"
      ]
     },
     "execution_count": 32,
     "metadata": {},
     "output_type": "execute_result"
    }
   ],
   "source": [
    "df"
   ]
  },
  {
   "cell_type": "code",
   "execution_count": null,
   "metadata": {},
   "outputs": [],
   "source": []
  },
  {
   "cell_type": "code",
   "execution_count": null,
   "metadata": {},
   "outputs": [],
   "source": []
  },
  {
   "cell_type": "code",
   "execution_count": null,
   "metadata": {},
   "outputs": [],
   "source": []
  },
  {
   "cell_type": "code",
   "execution_count": 28,
   "metadata": {},
   "outputs": [],
   "source": [
    "from shapely.geometry import Polygon\n",
    "from rtree import index\n",
    "import json"
   ]
  },
  {
   "cell_type": "code",
   "execution_count": 29,
   "metadata": {},
   "outputs": [],
   "source": [
    "def read_json(json_path):\n",
    "    with open(json_path,'r') as j_file:\n",
    "        j_data = json.load(j_file)\n",
    "    return j_data\n",
    "\n",
    "def save_json(path,res):\n",
    "    with open(path, \"w\", encoding='utf8') as write_file:\n",
    "        json.dump(res, write_file,ensure_ascii=False )\n",
    "\n"
   ]
  },
  {
   "cell_type": "code",
   "execution_count": 30,
   "metadata": {},
   "outputs": [],
   "source": [
    "\n",
    "\n",
    "def index_tree(poly_index, poly, idx):\n",
    "    idx.insert(poly_index, poly.bounds)\n",
    "\n",
    "def get_polygon(region):\n",
    "    points = []\n",
    "    vertices = region['vertices']\n",
    "    for point in vertices:\n",
    "        points.append((point['x'], point['y']))\n",
    "    poly = Polygon(points)\n",
    "    return poly\n",
    "\n",
    "\n",
    "def compare_regions(gt_regions, predicted_regions):\n",
    "    output = []\n",
    "    lines_intersected = []\n",
    "    not_intersecting  = []\n",
    "\n",
    "    idx = index.Index()\n",
    "    predicted_count =  len(predicted_regions)\n",
    "    gt_count  =  len(gt_regions)\n",
    "\n",
    "    base_regions = gt_regions\n",
    "    compare_regions = predicted_regions\n",
    "    \n",
    "    gt_base    = True\n",
    "\n",
    "    base_exists = len(base_regions) > 0\n",
    "    if base_exists:\n",
    "        compare_polys = []\n",
    "        # initililization of tree index to reduce region query time to log(n)\n",
    "        for region_idx, region in enumerate(compare_regions):\n",
    "            poly = get_polygon(region['boundingBox'])\n",
    "            compare_polys.append(poly)\n",
    "            idx.insert(region_idx, poly.bounds)\n",
    "        for base_region in base_regions:\n",
    "            base_poly = get_polygon(base_region['boundingBox'])\n",
    "            region_index = list(idx.intersection(base_poly.bounds))\n",
    "            iou = 0\n",
    "            intersecting_region = None\n",
    "            conf = None\n",
    "            for intr_index in region_index:\n",
    "                compare_poly = compare_polys[intr_index]\n",
    "                lines_intersected.append(intr_index)\n",
    "                check_union = base_poly.union(compare_poly).area != 0\n",
    "                if check_union :\n",
    "                    region_iou = base_poly.intersection(compare_poly).area / base_poly.union(compare_poly).area\n",
    "                else :\n",
    "                    region_iou =0\n",
    "                if (region_iou > iou): \n",
    "                    iou = region_iou\n",
    "                    intersecting_region = compare_regions[intr_index]\n",
    "                    conf = intersecting_region['conf']\n",
    "            output.append({'ground': base_region, 'input': intersecting_region,\\\n",
    "                           'iou': iou,'text':base_region['text']\\\n",
    "                          ,'conf':conf})\n",
    "\n",
    "        for line_index, line in enumerate(predicted_regions):\n",
    "            if line_index not in lines_intersected:\n",
    "                output.append({'ground': None, 'input': line, 'iou': 0,'text':None,'conf':line['conf']})\n",
    "            \n",
    "        return { 'iou' : output , 'count' : {'input' : predicted_count , 'ground' : gt_count} }\n",
    "    else:\n",
    "        return {}\n",
    "\n",
    "\n",
    "\n",
    "\n",
    "\n",
    "\n",
    "\n",
    "\n",
    "\n",
    "\n",
    "\n",
    "\n",
    "\n",
    "\n",
    "\n",
    "\n",
    "\n",
    "\n"
   ]
  },
  {
   "cell_type": "code",
   "execution_count": 35,
   "metadata": {},
   "outputs": [],
   "source": [
    "import glob"
   ]
  },
  {
   "cell_type": "code",
   "execution_count": 40,
   "metadata": {},
   "outputs": [],
   "source": [
    "#craft_dir = '/home/dhiraj/Documents/Anuwad/testing/craft_heatmap/EVAL_FILES/pdfs/craft_json/'\n",
    "\n",
    "craft_dir = '/home/dhiraj/Documents/Anuwad/testing/craft_heatmap/EVAL_FILES/yolo_coords/'"
   ]
  },
  {
   "cell_type": "code",
   "execution_count": 41,
   "metadata": {},
   "outputs": [],
   "source": [
    "output = '/home/dhiraj/Documents/Anuwad/testing/craft_heatmap/EVAL_FILES/pdfs/compare_yolo/'"
   ]
  },
  {
   "cell_type": "code",
   "execution_count": 47,
   "metadata": {},
   "outputs": [],
   "source": [
    "gv_jsons = glob.glob('/home/dhiraj/Documents/Anuwad/testing/craft_heatmap/EVAL_FILES/pdfs/gv_json/*json')\n",
    "gv_jsons.reverse()"
   ]
  },
  {
   "cell_type": "code",
   "execution_count": 48,
   "metadata": {},
   "outputs": [
    {
     "name": "stdout",
     "output_type": "stream",
     "text": [
      "/home/dhiraj/Documents/Anuwad/testing/craft_heatmap/EVAL_FILES/pdfs/gv_json/average0001-097.json\n",
      "/home/dhiraj/Documents/Anuwad/testing/craft_heatmap/EVAL_FILES/pdfs/gv_json/average0001-093.json\n"
     ]
    }
   ],
   "source": [
    "for gv_json in gv_jsons:\n",
    "    try:\n",
    "        json_name = gv_json.split('/')[-1]\n",
    "        craft_path = craft_dir + json_name\n",
    "\n",
    "        craft_data  = read_json(craft_path)['regions']\n",
    "        gv_data = read_json(gv_json)['regions']\n",
    "\n",
    "        comp  = compare_regions(gv_data,craft_data)\n",
    "\n",
    "        o_json_path = output + json_name\n",
    "        save_json(o_json_path,comp)\n",
    "    except :\n",
    "        print(gv_json)\n",
    "    \n",
    "    "
   ]
  },
  {
   "cell_type": "code",
   "execution_count": null,
   "metadata": {},
   "outputs": [],
   "source": [
    "gv_data = read_json('/home/dhiraj/Documents/Anuwad/testing/craft_heatmap/EVAL_FILES/pdfs/craft_json/average0001-002.json')['regions']"
   ]
  },
  {
   "cell_type": "code",
   "execution_count": 71,
   "metadata": {},
   "outputs": [],
   "source": [
    "compare_data = glob.glob('/home/dhiraj/Documents/Anuwad/testing/craft_heatmap/EVAL_FILES/pdfs/compare_json/*')"
   ]
  },
  {
   "cell_type": "code",
   "execution_count": 98,
   "metadata": {},
   "outputs": [],
   "source": [
    "count_list =[]\n",
    "iou_list = []\n",
    "\n",
    "iou_df = pd.DataFrame()\n",
    "\n",
    "for cj in compare_data:\n",
    "    file_name = cj.split('/')[-1].split('.')[0]\n",
    "    file_type  = file_name.split('000')[0]\n",
    "    \n",
    "    j  = read_json(cj)\n",
    "    \n",
    "    counts = j['count']\n",
    "    counts['file'] = file_name\n",
    "    counts['type']   = file_type\n",
    "    \n",
    "    count_list.append(counts)\n",
    "    \n",
    "    i_df = pd.DataFrame(j['iou'])\n",
    "    i_df['file'] = file_name\n",
    "    i_df['type'] = file_type\n",
    "    \n",
    "    iou_df = iou_df.append(i_df)\n",
    "    \n",
    "    \n",
    "c_df = pd.DataFrame(count_list)\n",
    "    \n",
    "    \n",
    "    \n",
    "    \n",
    "    \n",
    "    \n",
    "    \n",
    "    \n",
    "    "
   ]
  },
  {
   "cell_type": "code",
   "execution_count": 73,
   "metadata": {},
   "outputs": [
    {
     "data": {
      "text/plain": [
       "261"
      ]
     },
     "execution_count": 73,
     "metadata": {},
     "output_type": "execute_result"
    }
   ],
   "source": [
    "len(c_df)"
   ]
  },
  {
   "cell_type": "code",
   "execution_count": 76,
   "metadata": {},
   "outputs": [
    {
     "data": {
      "text/plain": [
       "input                                                422363\n",
       "ground                                               434120\n",
       "file      bad0001-18good0001-47average0001-076bad0001-15...\n",
       "type      badgoodaveragebadbadgoodaverageaverageaveragea...\n",
       "dtype: object"
      ]
     },
     "execution_count": 76,
     "metadata": {},
     "output_type": "execute_result"
    }
   ],
   "source": [
    "c_df.sum()"
   ]
  },
  {
   "cell_type": "code",
   "execution_count": 78,
   "metadata": {},
   "outputs": [
    {
     "data": {
      "text/plain": [
       "input                                                 76935\n",
       "ground                                                78024\n",
       "file      good0001-47good0001-17good0001-55good0001-18go...\n",
       "type      goodgoodgoodgoodgoodgoodgoodgoodgoodgoodgoodgo...\n",
       "dtype: object"
      ]
     },
     "execution_count": 78,
     "metadata": {},
     "output_type": "execute_result"
    }
   ],
   "source": [
    "c_df[c_df['type']=='good'].sum()"
   ]
  },
  {
   "cell_type": "code",
   "execution_count": 80,
   "metadata": {},
   "outputs": [
    {
     "data": {
      "text/plain": [
       "input                                                190877\n",
       "ground                                               195526\n",
       "file      average0001-076average0001-075average0001-074a...\n",
       "type      averageaverageaverageaverageaverageaverageaver...\n",
       "dtype: object"
      ]
     },
     "execution_count": 80,
     "metadata": {},
     "output_type": "execute_result"
    }
   ],
   "source": [
    "c_df[c_df['type']=='average'].sum()"
   ]
  },
  {
   "cell_type": "code",
   "execution_count": 81,
   "metadata": {},
   "outputs": [
    {
     "data": {
      "text/plain": [
       "input                                                154551\n",
       "ground                                               160570\n",
       "file      bad0001-18bad0001-15bad0001-44bad0001-39bad000...\n",
       "type      badbadbadbadbadbadbadbadbadbadbadbadbadbadbadb...\n",
       "dtype: object"
      ]
     },
     "execution_count": 81,
     "metadata": {},
     "output_type": "execute_result"
    }
   ],
   "source": [
    "c_df[c_df['type']=='bad'].sum()"
   ]
  },
  {
   "cell_type": "code",
   "execution_count": 92,
   "metadata": {},
   "outputs": [
    {
     "data": {
      "text/plain": [
       "55"
      ]
     },
     "execution_count": 92,
     "metadata": {},
     "output_type": "execute_result"
    }
   ],
   "source": [
    "len(c_df[c_df['type']=='good'])"
   ]
  },
  {
   "cell_type": "code",
   "execution_count": 93,
   "metadata": {},
   "outputs": [
    {
     "data": {
      "text/plain": [
       "125"
      ]
     },
     "execution_count": 93,
     "metadata": {},
     "output_type": "execute_result"
    }
   ],
   "source": [
    "len(c_df[c_df['type']=='average'])"
   ]
  },
  {
   "cell_type": "code",
   "execution_count": 95,
   "metadata": {},
   "outputs": [
    {
     "data": {
      "text/plain": [
       "81"
      ]
     },
     "execution_count": 95,
     "metadata": {},
     "output_type": "execute_result"
    }
   ],
   "source": [
    "len(c_df[c_df['type']=='bad'])"
   ]
  },
  {
   "cell_type": "code",
   "execution_count": 99,
   "metadata": {},
   "outputs": [
    {
     "data": {
      "text/plain": [
       "434980"
      ]
     },
     "execution_count": 99,
     "metadata": {},
     "output_type": "execute_result"
    }
   ],
   "source": [
    "len(iou_df)"
   ]
  },
  {
   "cell_type": "code",
   "execution_count": 116,
   "metadata": {},
   "outputs": [],
   "source": [
    "def get_iou_stats(df):\n",
    "    iou =[]\n",
    "    count = []\n",
    "    for i in range(10):\n",
    "        i_ou = i*0.1\n",
    "        iou.append(i_ou)\n",
    "        count.append(len(df[df['iou']>=i_ou]))\n",
    "    return iou,count"
   ]
  },
  {
   "cell_type": "code",
   "execution_count": 126,
   "metadata": {},
   "outputs": [],
   "source": [
    "iou,count = get_iou_stats(iou_df)"
   ]
  },
  {
   "cell_type": "code",
   "execution_count": 127,
   "metadata": {},
   "outputs": [
    {
     "name": "stdout",
     "output_type": "stream",
     "text": [
      "434980\n",
      "428942\n",
      "414667\n",
      "389393\n",
      "345494\n",
      "256292\n",
      "131608\n",
      "44162\n",
      "8103\n",
      "475\n"
     ]
    }
   ],
   "source": [
    "f = count\n",
    "\n",
    "for i in f :\n",
    "    print(i)"
   ]
  },
  {
   "cell_type": "code",
   "execution_count": 2,
   "metadata": {},
   "outputs": [
    {
     "name": "stdout",
     "output_type": "stream",
     "text": [
      "Collecting langdetect\n",
      "  Downloading langdetect-1.0.8.tar.gz (981 kB)\n",
      "\u001b[K     |████████████████████████████████| 981 kB 4.0 MB/s eta 0:00:01\n",
      "\u001b[?25hRequirement already satisfied: six in /home/dhiraj/py_envs/Anuvaad/lib/python3.6/site-packages (from langdetect) (1.15.0)\n",
      "Building wheels for collected packages: langdetect\n",
      "  Building wheel for langdetect (setup.py) ... \u001b[?25ldone\n",
      "\u001b[?25h  Created wheel for langdetect: filename=langdetect-1.0.8-py3-none-any.whl size=993191 sha256=3d8b6dec4b8a7b352b804ee3852c8f62afde545213292e1d0dcc6e2b0ceac64d\n",
      "  Stored in directory: /home/dhiraj/.cache/pip/wheels/53/88/5d/b239dc55d773b01fdd2059606b1a8f4b64548848b8f6e381c3\n",
      "Successfully built langdetect\n",
      "Installing collected packages: langdetect\n",
      "Successfully installed langdetect-1.0.8\n",
      "\u001b[33mWARNING: You are using pip version 20.3.3; however, version 21.1 is available.\n",
      "You should consider upgrading via the '/home/dhiraj/py_envs/Anuvaad/bin/python3.6 -m pip install --upgrade pip' command.\u001b[0m\n"
     ]
    }
   ],
   "source": [
    "!pip install langdetect"
   ]
  },
  {
   "cell_type": "code",
   "execution_count": 10,
   "metadata": {},
   "outputs": [],
   "source": [
    "from langdetect import detect_langs"
   ]
  },
  {
   "cell_type": "code",
   "execution_count": 20,
   "metadata": {},
   "outputs": [
    {
     "data": {
      "text/plain": [
       "[sk:0.9999910120719404]"
      ]
     },
     "execution_count": 20,
     "metadata": {},
     "output_type": "execute_result"
    }
   ],
   "source": [
    "detect_langs('zxzvxxvx')"
   ]
  },
  {
   "cell_type": "code",
   "execution_count": null,
   "metadata": {},
   "outputs": [],
   "source": [
    "zx xz zv"
   ]
  }
 ],
 "metadata": {
  "kernelspec": {
   "display_name": "Anuvaad",
   "language": "python",
   "name": "anuvaad"
  },
  "language_info": {
   "codemirror_mode": {
    "name": "ipython",
    "version": 3
   },
   "file_extension": ".py",
   "mimetype": "text/x-python",
   "name": "python",
   "nbconvert_exporter": "python",
   "pygments_lexer": "ipython3",
   "version": "3.6.13"
  }
 },
 "nbformat": 4,
 "nbformat_minor": 4
}
