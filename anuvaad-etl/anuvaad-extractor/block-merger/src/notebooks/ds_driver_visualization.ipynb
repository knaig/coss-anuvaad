{
 "cells": [
  {
   "cell_type": "code",
   "execution_count": 1,
   "metadata": {},
   "outputs": [],
   "source": [
    "import os\n",
    "import sys\n",
    "import time\n",
    "\n",
    "nb_dir = '/home/dhiraj/Documents/Anuwad/anuvaad/anuvaad-etl/anuvaad-extractor/block-merger/src'\n",
    "\n",
    "sys.path.append(nb_dir)\n",
    "sys.path.append(os.path.split(nb_dir)[0])"
   ]
  },
  {
   "cell_type": "code",
   "execution_count": 140,
   "metadata": {},
   "outputs": [],
   "source": [
    "import pandas as pd\n",
    "pd.options.mode.chained_assignment = None\n",
    "\n",
    "from PIL import Image, ImageDraw\n",
    "import copy\n",
    "import warnings\n",
    "warnings.filterwarnings(\"ignore\")"
   ]
  },
  {
   "cell_type": "code",
   "execution_count": 3,
   "metadata": {},
   "outputs": [],
   "source": [
    "from services.xml_document_info import (get_xml_info, get_xml_image_info)\n",
    "from services import get_xml\n",
    "from src.services import main\n",
    "from services.preprocess import prepocess_pdf_regions\n",
    "from services.get_tables import page_num_correction , get_text_table_line_df\n",
    "\n",
    "from utilities.xml_utils import (extract_image_paths_from_pdf,\n",
    "                                 extract_xml_from_digital_pdf,\n",
    "                                 extract_html_bg_images_from_digital_pdf,\n",
    "                                 create_directory,\n",
    "                                 read_directory_files)\n",
    "import config"
   ]
  },
  {
   "cell_type": "code",
   "execution_count": null,
   "metadata": {},
   "outputs": [],
   "source": [
    "def draw_box(filepath, desired_width, desired_height, df, color=\"green\", save=False):\n",
    "    image  = Image.open(filepath)\n",
    "    image  = image.resize((desired_width, desired_height))\n",
    "    draw   = ImageDraw.Draw(image)\n",
    "    \n",
    "    for index, row in df.iterrows():\n",
    "        left   = int(row['text_left'])\n",
    "        right  = int(row['text_width'] + left)\n",
    "        top    = int(row['text_top'])\n",
    "        bottom = int(row[\"text_height\"] + top)\n",
    "        \n",
    "        draw.rectangle(((left, top), (right,bottom)), outline=color)\n",
    "    save_filepath = os.path.join(os.path.dirname(filepath), 'processed_' + os.path.basename(filepath))\n",
    "    if save:\n",
    "        image.save(save_filepath)\n",
    "    \n",
    "    return image\n",
    "\n",
    "def show_df(df):\n",
    "    return df.head(df.shape[0])"
   ]
  },
  {
   "cell_type": "markdown",
   "metadata": {},
   "source": [
    "## start of the program"
   ]
  },
  {
   "cell_type": "code",
   "execution_count": null,
   "metadata": {},
   "outputs": [],
   "source": [
    "'''\n",
    "  folder structure of test data goes like this\n",
    "  - notebooks\n",
    "      - sample-data\n",
    "          - input\n",
    "          - output\n",
    "          \n",
    "  the pdfs are present in \"input\" directory and they are *.pdf is added into .gitignore\n",
    "  just to save repo size.\n",
    "'''\n",
    "\n",
    "base_dir   = '/home/dhiraj/Documents/data'\n",
    "input_dir  = os.path.join(base_dir, 'sample-data', 'input')\n",
    "save_dir = os.path.join(base_dir, 'sample-data', 'bbox_output')\n",
    "\n",
    "output_dir = os.path.join(base_dir, 'sample-data', 'output')\n",
    "create_directory(input_dir)\n",
    "create_directory(output_dir)\n",
    "\n",
    "#filename   = '20695_2010_8_1501_20635_Judgement_17-Feb-2020.pdf'\n",
    "filename   = 'yolo.pdf'\n"
   ]
  },
  {
   "cell_type": "markdown",
   "metadata": {},
   "source": [
    "## extract the pdf into xml & background images for downstream processing"
   ]
  },
  {
   "cell_type": "code",
   "execution_count": null,
   "metadata": {},
   "outputs": [],
   "source": [
    "pdf_filepath      = os.path.join(input_dir, filename)\n",
    "working_dir       = os.path.join(output_dir, os.path.splitext(filename)[0])\n",
    "\n",
    "ret               = create_directory(working_dir)\n",
    "\n",
    "start_time        = time.time()\n",
    "\n",
    "pdf_image_paths   = extract_image_paths_from_pdf(pdf_filepath, working_dir)\n",
    "pdf_xml_dir       = extract_xml_from_digital_pdf(pdf_filepath, working_dir)\n",
    "pdf_bg_image_dir  = extract_html_bg_images_from_digital_pdf(pdf_filepath, working_dir)\n",
    "\n",
    "end_time          = time.time()\n",
    "extraction_time   = end_time - start_time"
   ]
  },
  {
   "cell_type": "code",
   "execution_count": null,
   "metadata": {},
   "outputs": [],
   "source": [
    "xml_files      = read_directory_files(pdf_xml_dir, pattern='*.xml')\n",
    "bg_files       = read_directory_files(pdf_bg_image_dir, pattern='*.png')\n",
    "\n",
    "print(\"Extracted xml, background images & images of file: %s\" % (filename))\n",
    "print('Extraction time (%f) average extraction time (%f)' % (extraction_time, extraction_time/len(bg_files)))"
   ]
  },
  {
   "cell_type": "code",
   "execution_count": null,
   "metadata": {},
   "outputs": [],
   "source": [
    "xml_dfs, page_width, page_height = get_xml_info(xml_files[0])\n",
    "img_dfs, page_width, page_height = get_xml_image_info(xml_files[0])\n"
   ]
  },
  {
   "cell_type": "code",
   "execution_count": null,
   "metadata": {},
   "outputs": [],
   "source": [
    "page_index      = 4\n",
    "\n",
    "img_filepath    = pdf_image_paths[page_index]\n",
    "bg_img_filepath = bg_files[page_index]\n",
    "df              = xml_dfs[page_index]\n",
    "img_df          = img_dfs[page_index]\n"
   ]
  },
  {
   "cell_type": "code",
   "execution_count": null,
   "metadata": {},
   "outputs": [],
   "source": []
  },
  {
   "cell_type": "markdown",
   "metadata": {},
   "source": [
    "# Draw Bounding box using v_df"
   ]
  },
  {
   "cell_type": "code",
   "execution_count": null,
   "metadata": {},
   "outputs": [],
   "source": [
    "def get_dfs(xml_dfs,img_dfs,image_files,page_height,file_name,page_index):\n",
    "    multiple_pages = False\n",
    "    if len(xml_dfs) > 1:\n",
    "        multiple_pages =True\n",
    "    header_region, footer_region = pd.DataFrame(),pd.DataFrame()#prepocess_pdf_regions(xml_dfs, page_height)\n",
    "    img_df = img_dfs[page_index]\n",
    "    #table_image = working_dir + '/' + page_num_correction(file_index , 3) + '.png'\n",
    "    #in_df, table_df, line_df = get_text_table_line_df(table_image, xml_dfs[file_index])\n",
    "    in_df = xml_dfs[page_index]\n",
    "    h_df = get_xml.get_hdf(in_df, image_files, config.DOCUMENT_CONFIGS, page_index,header_region , footer_region, multiple_pages)\n",
    "    v_df    = get_xml.get_vdf(h_df, config.DOCUMENT_CONFIGS)\n",
    "    p_df = main.process_page_blocks(v_df, config.DOCUMENT_CONFIGS, config.BLOCK_CONFIGS)\n",
    "    p_df = p_df.reset_index(drop=True)\n",
    "    \n",
    "    return in_df,h_df,v_df, p_df\n"
   ]
  },
  {
   "cell_type": "code",
   "execution_count": null,
   "metadata": {},
   "outputs": [],
   "source": [
    "in_df,h_df,v_df, p_df = get_dfs(xml_dfs,img_dfs,bg_files,page_height,filename,page_index)"
   ]
  },
  {
   "cell_type": "code",
   "execution_count": null,
   "metadata": {
    "scrolled": false
   },
   "outputs": [],
   "source": [
    "#draw_box(img_filepath, page_width, page_height, p_df, color='red')"
   ]
  },
  {
   "cell_type": "markdown",
   "metadata": {},
   "source": [
    "# Draw bounding box for json response "
   ]
  },
  {
   "cell_type": "code",
   "execution_count": 126,
   "metadata": {},
   "outputs": [],
   "source": [
    "from src.services.main import DocumentStructure\n",
    "import os\n",
    "from PIL import Image, ImageDraw"
   ]
  },
  {
   "cell_type": "code",
   "execution_count": 127,
   "metadata": {},
   "outputs": [],
   "source": [
    "def draw_box(draw,page_data,attrib,color,margin,width):\n",
    "    \n",
    "    if page_data[attrib]:\n",
    "        for block in page_data[attrib]:\n",
    "                top     = block[\"text_top\"];         left   = block[\"text_left\"];  \n",
    "                bottom  = top+ block[\"text_height\"];  right  = left+ block[\"text_width\"]\n",
    "                draw.rectangle(((left-margin, top-margin), (right+margin,bottom+margin)), outline=color,width=width)\n",
    "    return draw\n",
    "\n",
    "\n",
    "def draw_bbox(data,image_files,save_path):\n",
    "    for page_no in range(len(data)):\n",
    "        image_path = sorted(image_files)[page_no]\n",
    "        page_data = data[page_no]\n",
    "        page_width = page_data['page_width']; page_height = page_data['page_height']\n",
    "        image  = Image.open(image_path)\n",
    "        image  = image.resize((page_width, page_height))\n",
    "        draw   = ImageDraw.Draw(image)\n",
    "        draw  =  draw_box(draw,page_data,attrib='text_blocks',color='red',margin=2,width=2)\n",
    "        draw  =  draw_box(draw,page_data,attrib='images',color='green',margin=3,width=5)\n",
    "        draw  =  draw_box(draw,page_data,attrib='tables',color='blue',margin=10,width=3)\n",
    "        \n",
    "        if page_data['tables'] :\n",
    "            for table in page_data['tables'] :\n",
    "                draw_box(draw,table,attrib='children',color=(125,0,125),margin=-10,width= 2)\n",
    "#                 if table['children'] :\n",
    "#                     for child in table['children'] :\n",
    "#                         draw_box(draw,child,attrib='text',color=(125,0,125),margin=2,width=3)\n",
    "            \n",
    "        \n",
    "        save_filepath = os.path.join(save_path,image_path.split('images/')[1])\n",
    "        image.save(save_filepath)"
   ]
  },
  {
   "cell_type": "code",
   "execution_count": 141,
   "metadata": {},
   "outputs": [
    {
     "data": {
      "text/plain": [
       "0"
      ]
     },
     "execution_count": 141,
     "metadata": {},
     "output_type": "execute_result"
    }
   ],
   "source": [
    "input_dir  = '/home/dhiraj/Documents/data/sample-data/input'\n",
    "output_dir = '/home/dhiraj/Documents/data/sample-data/output'\n",
    "save_dir   = '/home/dhiraj/Documents/data/sample-data/bbox_output'\n",
    "\n",
    "#filename  = '20695_2010_8_1501_20635_Judgement_17-Feb-2020.pdf'\n",
    "#filename   = 'graphics_pptx.pdf'\n",
    "#filename  = 'KD_CV.pdf'\n",
    "#filename  = 'Madras_HC_02.pdf'\n",
    "#filename  = 'ncert_physics_class11.pdf'\n",
    "filename  = 'yolo.pdf'\n",
    "\n",
    "pdf_filepath      = os.path.join(input_dir, filename)\n",
    "working_dir       = os.path.join(output_dir, os.path.splitext(filename)[0])\n",
    "ret               = create_directory(working_dir)\n",
    "pdf_image_paths   = extract_image_paths_from_pdf(pdf_filepath, working_dir)\n",
    "save_path         = save_dir+\"/\"+str(filename.split('.pdf')[0])\n",
    "os.system('mkdir -p {0}'.format(save_path))"
   ]
  },
  {
   "cell_type": "code",
   "execution_count": 142,
   "metadata": {},
   "outputs": [
    {
     "name": "stdout",
     "output_type": "stream",
     "text": [
      "Total number of pages (10) in file (yolo.xml)\n",
      "Total number of pages (10) in file (yolo.xml)\n"
     ]
    }
   ],
   "source": [
    "data = DocumentStructure(filename,input_dir)\n",
    "response = data['result']"
   ]
  },
  {
   "cell_type": "code",
   "execution_count": 143,
   "metadata": {},
   "outputs": [],
   "source": [
    "draw_bbox(response,pdf_image_paths,save_path)"
   ]
  },
  {
   "cell_type": "code",
   "execution_count": null,
   "metadata": {},
   "outputs": [],
   "source": []
  },
  {
   "cell_type": "code",
   "execution_count": null,
   "metadata": {},
   "outputs": [],
   "source": []
  },
  {
   "cell_type": "code",
   "execution_count": null,
   "metadata": {},
   "outputs": [],
   "source": []
  },
  {
   "cell_type": "code",
   "execution_count": null,
   "metadata": {},
   "outputs": [],
   "source": []
  },
  {
   "cell_type": "code",
   "execution_count": null,
   "metadata": {},
   "outputs": [],
   "source": []
  },
  {
   "cell_type": "code",
   "execution_count": 16,
   "metadata": {},
   "outputs": [],
   "source": [
    "a = None\n",
    "            "
   ]
  },
  {
   "cell_type": "code",
   "execution_count": 17,
   "metadata": {},
   "outputs": [
    {
     "ename": "TypeError",
     "evalue": "object of type 'NoneType' has no len()",
     "output_type": "error",
     "traceback": [
      "\u001b[0;31m---------------------------------------------------------------------------\u001b[0m",
      "\u001b[0;31mTypeError\u001b[0m                                 Traceback (most recent call last)",
      "\u001b[0;32m<ipython-input-17-1a2e6ec5f1e3>\u001b[0m in \u001b[0;36m<module>\u001b[0;34m\u001b[0m\n\u001b[0;32m----> 1\u001b[0;31m \u001b[0mlen\u001b[0m\u001b[0;34m(\u001b[0m\u001b[0ma\u001b[0m\u001b[0;34m)\u001b[0m\u001b[0;34m\u001b[0m\u001b[0;34m\u001b[0m\u001b[0m\n\u001b[0m",
      "\u001b[0;31mTypeError\u001b[0m: object of type 'NoneType' has no len()"
     ]
    }
   ],
   "source": [
    "len(a)"
   ]
  },
  {
   "cell_type": "code",
   "execution_count": null,
   "metadata": {},
   "outputs": [],
   "source": []
  },
  {
   "cell_type": "code",
   "execution_count": null,
   "metadata": {},
   "outputs": [],
   "source": [
    "response[24]"
   ]
  },
  {
   "cell_type": "code",
   "execution_count": null,
   "metadata": {},
   "outputs": [],
   "source": [
    "ta"
   ]
  },
  {
   "cell_type": "code",
   "execution_count": null,
   "metadata": {},
   "outputs": [],
   "source": []
  }
 ],
 "metadata": {
  "kernelspec": {
   "display_name": "Anuvaad",
   "language": "python",
   "name": "anuvaad"
  },
  "language_info": {
   "codemirror_mode": {
    "name": "ipython",
    "version": 3
   },
   "file_extension": ".py",
   "mimetype": "text/x-python",
   "name": "python",
   "nbconvert_exporter": "python",
   "pygments_lexer": "ipython3",
   "version": "3.7.8"
  }
 },
 "nbformat": 4,
 "nbformat_minor": 2
}
