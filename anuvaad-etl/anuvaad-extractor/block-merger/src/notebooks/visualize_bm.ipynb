{
 "cells": [
  {
   "cell_type": "code",
   "execution_count": 1,
   "metadata": {},
   "outputs": [],
   "source": [
    "import os\n",
    "import sys\n",
    "import time\n",
    "import glob\n",
    "import io\n",
    "import pytesseract\n",
    "from pytesseract import Output\n",
    "from PIL import Image, ImageDraw\n",
    "import cv2\n",
    "from pathlib import Path\n",
    "import pandas as pd\n",
    "pd.set_option('display.max_rows', None)\n",
    "pd.options.mode.chained_assignment = None\n",
    "import layoutparser"
   ]
  },
  {
   "cell_type": "code",
   "execution_count": 2,
   "metadata": {},
   "outputs": [
    {
     "name": "stdout",
     "output_type": "stream",
     "text": [
      "Loading weights of refiner from checkpoint (./model/craft_refiner_CTW1500.pth)\n"
     ]
    }
   ],
   "source": [
    "nb_dir = '/home/naresh/anuvaad/anuvaad-etl/anuvaad-extractor/block-merger/src'\n",
    "sys.path.append(nb_dir)\n",
    "sys.path.append(os.path.split(nb_dir)[0])\n",
    "\n",
    "import config\n",
    "import src.utilities.app_context as app_context\n",
    "from src.utilities.primalaynet.infer import draw_box\n",
    "app_context.init()\n",
    "app_context.application_context = dict({'task_id': 'BM-DUMMY'})\n",
    "\n",
    "#path to craft model, weight can be pulled form the production bracnh of repo\n",
    "config.CRAFT_MODEL_PATH = \"/home/naresh/Tarento/anuvaad/anuvaad-etl/anuvaad-extractor/block-merger/src/utilities/craft_pytorch/model/craft_mlt_25k.pth\"\n",
    "config.CRAFT_REFINE_MODEL_PATH   =  \"/home/naresh/Tarento/anuvaad/anuvaad-etl/anuvaad-extractor/block-merger/src/utilities/craft_pytorch/model/craft_refiner_CTW1500.pth\"\n",
    "from src.services.main import generate_response,break_blocks,merge_vertically,merge_horizontally,extract_images_and_text_regions"
   ]
  },
  {
   "cell_type": "code",
   "execution_count": 3,
   "metadata": {},
   "outputs": [],
   "source": [
    "import layoutparser as lp\n",
    "model_primalaynet = lp.Detectron2LayoutModel('lp://PrimaLayout/mask_rcnn_R_50_FPN_3x/config',label_map = {1:\"TextRegion\", 2:\"ImageRegion\", 3:\"TableRegion\", 4:\"MathsRegion\", 5:\"SeparatorRegion\", 6:\"OtherRegion\"},extra_config=[\"MODEL.ROI_HEADS.SCORE_THRESH_TEST\", 0.5])\n"
   ]
  },
  {
   "cell_type": "code",
   "execution_count": 4,
   "metadata": {},
   "outputs": [],
   "source": [
    "def draw_box(filepath,desired_width, desired_height,save_dir, df, color=\"green\", save=False):\n",
    "    image  = Image.open(filepath)\n",
    "    image  = image.resize((desired_width, desired_height))\n",
    "    draw   = ImageDraw.Draw(image)\n",
    "    if type(df) is list:\n",
    "        for i in df:\n",
    "            for index, row in i.iterrows():\n",
    "                left   = int(row['text_left'])\n",
    "                right  = int(row['text_width'] + left)\n",
    "                top    = int(row['text_top'])\n",
    "                bottom = int(row[\"text_height\"] + top)\n",
    "                draw.rectangle(((left, top), (right,bottom)), outline=color,width=3)\n",
    "    else:\n",
    "\n",
    "        for index, row in df.iterrows():\n",
    "            left   = int(row['text_left'])\n",
    "            right  = int(row['text_width'] + left)\n",
    "            top    = int(row['text_top'])\n",
    "            bottom = int(row[\"text_height\"] + top)\n",
    "            draw.rectangle(((left, top), (right,bottom)), outline=color,width=3)\n",
    "    save_filepath = os.path.join(save_dir, os.path.basename(filepath))\n",
    "    if save:\n",
    "        image.save(save_filepath)\n",
    "    \n",
    "    return image"
   ]
  },
  {
   "cell_type": "code",
   "execution_count": 5,
   "metadata": {},
   "outputs": [],
   "source": [
    "#dir which contains the pdf file\n",
    "input_dir = '/home/naresh/anuvaad/anuvaad-etl/anuvaad-extractor/block-merger/src/notebooks/sample-data/'\n",
    "filename = 'response.pdf'\n",
    "lang     = 'en'"
   ]
  },
  {
   "cell_type": "code",
   "execution_count": 6,
   "metadata": {
    "scrolled": true
   },
   "outputs": [
    {
     "name": "stdout",
     "output_type": "stream",
     "text": [
      "[2021-01-22 15:41:11,816] {loghandler.py:20} MainThread INFO in loghandler: document preprocessing started ===>\n",
      "[2021-01-22 15:41:11,820] {loghandler.py:20} MainThread INFO in loghandler: created processing directories successfully /home/naresh/anuvaad/anuvaad-etl/anuvaad-extractor/block-merger/src/notebooks/sample-data/response_2740af28-5c9a-11eb-9585-38baf82f7425\n",
      "[2021-01-22 15:41:11,821] {loghandler.py:20} MainThread INFO in loghandler: filepath /home/naresh/anuvaad/anuvaad-etl/anuvaad-extractor/block-merger/src/notebooks/sample-data/response.pdf, working_dir /home/naresh/anuvaad/anuvaad-etl/anuvaad-extractor/block-merger/src/notebooks/sample-data/response_2740af28-5c9a-11eb-9585-38baf82f7425\n",
      "[2021-01-22 15:41:14,493] {loghandler.py:20} MainThread INFO in loghandler: Extracting xml of /home/naresh/anuvaad/anuvaad-etl/anuvaad-extractor/block-merger/src/notebooks/sample-data/response.pdf\n",
      "[2021-01-22 15:41:15,673] {loghandler.py:20} MainThread INFO in loghandler: Extracting background images of /home/naresh/anuvaad/anuvaad-etl/anuvaad-extractor/block-merger/src/notebooks/sample-data/response.pdf\n",
      "[2021-01-22 15:41:15,674] {loghandler.py:20} MainThread INFO in loghandler: Extraction of /home/naresh/anuvaad/anuvaad-etl/anuvaad-extractor/block-merger/src/notebooks/sample-data/response.pdf completed in 3.8524911403656006\n",
      "Total number of pages (25) in file (response.xml)\n",
      "Total number of pages (25) in file (response.xml)\n",
      "[2021-01-22 15:41:16,026] {loghandler.py:20} MainThread INFO in loghandler: process_input_pdf: created dataframes successfully\n",
      "[2021-01-22 15:41:16,027] {loghandler.py:20} MainThread INFO in loghandler: Processing of process_input_pdf completed in 4.207413911819458/25, average per page 0.16829655647277833\n",
      "[2021-01-22 15:41:16,116] {loghandler.py:20} MainThread INFO in loghandler: TableExtractor service started\n",
      "[2021-01-22 15:41:17,632] {loghandler.py:20} MainThread INFO in loghandler: Header Footer detection completed successfully  in time 0.3555309772491455 \n",
      "[2021-01-22 15:41:17,633] {loghandler.py:20} MainThread INFO in loghandler: Footers found 0 \n",
      "[2021-01-22 15:41:17,634] {loghandler.py:20} MainThread INFO in loghandler: Headers found 0\n",
      "[2021-01-22 15:41:26,525] {loghandler.py:20} MainThread INFO in loghandler: Processing of get_hdfs completed in 8.889450788497925/25, average per page 0.355578031539917\n",
      "[2021-01-22 15:41:27,431] {loghandler.py:20} MainThread INFO in loghandler: Processing of get_vdfs completed in 0.9055900573730469/25, average per page 0.03622360229492187\n",
      "[2021-01-22 15:41:30,497] {loghandler.py:20} MainThread INFO in loghandler: Processing of get_pdfs completed in 3.0642662048339844/25, average per page 0.12257064819335937\n",
      "[2021-01-22 15:41:35,544] {loghandler.py:20} MainThread INFO in loghandler: Processing of unify_child_text_blocks completed in 5.047047853469849/25, average per page 0.19411722513345572\n",
      "[2021-01-22 15:41:35,545] {loghandler.py:20} MainThread INFO in loghandler: document structure analysis successfully completed\n"
     ]
    }
   ],
   "source": [
    "[pdf_data,flags] = extract_images_and_text_regions(filename, input_dir,lang,page_layout='single_column')\n",
    "[pdf_data,flags] = merge_horizontally([pdf_data,flags])\n",
    "[pdf_data,flags] = merge_vertically([pdf_data,flags])\n",
    "[pdf_data,flags] = break_blocks([pdf_data,flags])\n",
    "#response        = generate_response([pdf_data,flags])"
   ]
  },
  {
   "cell_type": "code",
   "execution_count": 7,
   "metadata": {},
   "outputs": [
    {
     "data": {
      "text/plain": [
       "{'doc_class': 'class_1', 'page_layout': 'double_column'}"
      ]
     },
     "execution_count": 7,
     "metadata": {},
     "output_type": "execute_result"
    }
   ],
   "source": [
    "flags"
   ]
  },
  {
   "cell_type": "code",
   "execution_count": null,
   "metadata": {},
   "outputs": [],
   "source": [
    "def predict_primanet(image_path,bg_image_path,in_df,width_ratio,height_ratio):\n",
    "    image1  = cv2.imread(image_path)\n",
    "    image2  = cv2.imread(bg_image_path)\n",
    "    image = image1[..., ::-1] \n",
    "    layout = model_primalaynet.detect(image)\n",
    "    boxes,coords = draw_box(layout, in_df,width_ratio,height_ratio)\n",
    "\n",
    "    final_coord= []\n",
    "    for coord in coords:\n",
    "        temp_dict={}\n",
    "        temp_dict['text_left']=coord[0]; temp_dict['text_top']=coord[1]\n",
    "        temp_dict['text_width']=coord[2]; temp_dict['text_height']=coord[3]\n",
    "        #draw.rectangle(coord, width=3,outline='red')\n",
    "        final_coord.append(temp_dict)\n",
    "        cv2.rectangle(image1, (int(coord[0]),int(coord[1])), (int(coord[2]),int(coord[3])),(255,255,0),3)\n",
    "        cv2.rectangle(image2, (int(coord[0]*width_ratio),int(coord[1]*height_ratio)), (int(coord[2]*width_ratio),int(coord[3]*height_ratio)),(255,255,0),3)\n",
    "\n",
    "        cv2.imwrite(\"1.jpg\",image1)\n",
    "        cv2.imwrite(\"2.jpg\",image2)\n",
    "\n",
    "    return final_coord"
   ]
  },
  {
   "cell_type": "code",
   "execution_count": null,
   "metadata": {},
   "outputs": [],
   "source": []
  },
  {
   "cell_type": "code",
   "execution_count": null,
   "metadata": {},
   "outputs": [],
   "source": [
    "width_ratio = pdf_data['page_width'] / pdf_data['pdf_image_width']\n",
    "height_ratio = pdf_data['page_height'] / pdf_data['pdf_image_height']\n",
    "predict_primanet(img_filepath,pdf_bg_img_filepaths,to_check[0],width_ratio,height_ratio)"
   ]
  },
  {
   "cell_type": "code",
   "execution_count": null,
   "metadata": {},
   "outputs": [],
   "source": [
    "page_index = 5\n",
    "to_check        = pdf_data['p_dfs']\n",
    "#to_check_in_df        = pdf_data['v_dfs'][page_index]\n",
    "img_filepath    = pdf_data['pdf_image_paths'][page_index]\n",
    "pdf_bg_img_filepaths  = pdf_data['pdf_bg_img_filepaths'][page_index]\n",
    "df              = to_check[page_index]\n",
    "\n",
    "desired_width, desired_height = pdf_data['page_width'] , pdf_data['page_height']\n",
    "draw_box(img_filepath,desired_width, desired_height, 'path',df, color=\"red\", save=False)"
   ]
  },
  {
   "cell_type": "code",
   "execution_count": null,
   "metadata": {},
   "outputs": [],
   "source": [
    "df.text.values"
   ]
  },
  {
   "cell_type": "code",
   "execution_count": null,
   "metadata": {},
   "outputs": [],
   "source": [
    "df"
   ]
  },
  {
   "cell_type": "code",
   "execution_count": null,
   "metadata": {},
   "outputs": [],
   "source": [
    "for i in to_check_in_df['children']:\n",
    "    d =pd.read_json(i)\n",
    "    print(d)\n",
    "    print(d['children'])"
   ]
  },
  {
   "cell_type": "code",
   "execution_count": null,
   "metadata": {},
   "outputs": [],
   "source": [
    "import numpy as np\n",
    "p_df_image = draw_box(img_filepath,desired_width, desired_height, 'path',df, color=\"red\", save=False)\n",
    "sc_pdf_image = draw_box(img_filepath,desired_width, desired_height, 'path',to_check_in_df, color=\"red\", save=False)\n",
    "stiched_imag = np.hstack([np.array(p_df_image) ,np.array(sc_pdf_image)])\n",
    "compare_image = Image.fromarray(stiched_imag)\n",
    "compare_image.save(\"/home/naresh/1.jpg\")"
   ]
  },
  {
   "cell_type": "code",
   "execution_count": null,
   "metadata": {},
   "outputs": [],
   "source": []
  }
 ],
 "metadata": {
  "kernelspec": {
   "display_name": "ds-env2",
   "language": "python",
   "name": "ds-env2"
  },
  "language_info": {
   "codemirror_mode": {
    "name": "ipython",
    "version": 3
   },
   "file_extension": ".py",
   "mimetype": "text/x-python",
   "name": "python",
   "nbconvert_exporter": "python",
   "pygments_lexer": "ipython3",
   "version": "3.6.9"
  }
 },
 "nbformat": 4,
 "nbformat_minor": 4
}
