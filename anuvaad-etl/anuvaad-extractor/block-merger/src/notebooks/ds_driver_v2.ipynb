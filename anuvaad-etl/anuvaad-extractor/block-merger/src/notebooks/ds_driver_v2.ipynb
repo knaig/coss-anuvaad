{
 "cells": [
  {
   "cell_type": "code",
   "execution_count": 1,
   "metadata": {},
   "outputs": [],
   "source": [
    "import os\n",
    "import sys\n",
    "import time\n",
    "from pathlib import Path\n",
    "\n",
    "nb_dir = os.path.split(os.getcwd())[0]\n",
    "\n",
    "sys.path.append(nb_dir)\n",
    "sys.path.append(os.path.split(nb_dir)[0])"
   ]
  },
  {
   "cell_type": "code",
   "execution_count": 2,
   "metadata": {},
   "outputs": [],
   "source": [
    "import pandas as pd\n",
    "from PIL import Image, ImageDraw\n",
    "import copy"
   ]
  },
  {
   "cell_type": "code",
   "execution_count": 3,
   "metadata": {},
   "outputs": [],
   "source": [
    "from services.xml_document_info import (get_xml_info, get_xml_image_info)\n",
    "from services.get_xml import  create_pdf_processing_paths, extract_pdf_metadata, process_input_pdf\n",
    "from anuvaad_auditor.loghandler import log_info\n",
    "from anuvaad_auditor.loghandler import log_error\n",
    "from src.services import main\n",
    "from src.services.get_underline import get_underline\n",
    "from services import get_xml\n",
    "from src.services.child_text_unify_to_parent import ChildTextUnify\n",
    "from services.preprocess import prepocess_pdf_regions\n",
    "from services.get_tables import page_num_correction , get_text_table_line_df\n",
    "from src.services.ocr_text_utilities import  tesseract_ocr\n",
    "from src.services.get_response import process_image_df,  process_table_df, df_to_json, process_line_df, process_bg_image\n",
    "\n",
    "from utilities.filesystem import (create_directory, read_directory_files)\n",
    "import config\n",
    "\n",
    "import src.utilities.app_context as app_context\n",
    "app_context.init()"
   ]
  },
  {
   "cell_type": "code",
   "execution_count": 4,
   "metadata": {},
   "outputs": [],
   "source": [
    "def draw_box(filepath, desired_width, desired_height, df, color=\"green\", save=False):\n",
    "    image  = Image.open(filepath)\n",
    "    image  = image.resize((desired_width, desired_height))\n",
    "    draw   = ImageDraw.Draw(image)\n",
    "    \n",
    "    for index, row in df.iterrows():\n",
    "        left   = int(row['text_left'])\n",
    "        right  = int(row['text_width'] + left)\n",
    "        top    = int(row['text_top'])\n",
    "        bottom = int(row[\"text_height\"] + top)\n",
    "        \n",
    "        draw.rectangle(((left, top), (right,bottom)), outline=color)\n",
    "    save_filepath = os.path.join(os.path.dirname(filepath), 'processed_' + os.path.basename(filepath))\n",
    "    if save:\n",
    "        image.save(save_filepath)\n",
    "    \n",
    "    return image\n",
    "\n",
    "def show_df(df):\n",
    "    return df.head(df.shape[0])"
   ]
  },
  {
   "cell_type": "markdown",
   "metadata": {},
   "source": [
    "## start of the program"
   ]
  },
  {
   "cell_type": "code",
   "execution_count": 5,
   "metadata": {},
   "outputs": [],
   "source": [
    "'''\n",
    "  folder structure of test data goes like this\n",
    "  - notebooks\n",
    "      - sample-data\n",
    "          - input\n",
    "          - output\n",
    "          \n",
    "  the pdfs are present in \"input\" directory and they are *.pdf is added into .gitignore\n",
    "  just to save repo size.\n",
    "'''\n",
    "\n",
    "base_dir   = os.getcwd()\n",
    "input_dir  = os.path.join(base_dir, 'sample-data','input')\n",
    "save_dir   = os.path.join(base_dir, 'sample-data', 'bbox_output')\n",
    "output_dir = os.path.join(base_dir, 'sample-data', 'output')\n",
    "\n",
    "filename   = '20.03.2020.pdf'\n",
    "# filename  = 'Madras_HC_02.pdf'\n"
   ]
  },
  {
   "cell_type": "code",
   "execution_count": 6,
   "metadata": {},
   "outputs": [],
   "source": [
    "from src.services import main"
   ]
  },
  {
   "cell_type": "code",
   "execution_count": null,
   "metadata": {},
   "outputs": [
    {
     "name": "stdout",
     "output_type": "stream",
     "text": [
      "[2020-09-09 13:00:34,427] {loghandler.py:48} MainThread DEBUG in loghandler: Block merger starting processing <module 'src.utilities.app_context' from '/Users/kd/Workspace/project/anuvaad/anuvaad-etl/anuvaad-extractor/block-merger/src/utilities/app_context.py'>\n",
      "[2020-09-09 13:00:34,428] {loghandler.py:20} MainThread INFO in loghandler: document preprocessing started ===>\n",
      "[2020-09-09 13:00:34,439] {loghandler.py:20} MainThread INFO in loghandler: created processing directories successfully /Users/kd/Workspace/project/anuvaad/anuvaad-etl/anuvaad-extractor/block-merger/src/notebooks/sample-data/input/000_en_Presidents_Secretariat_2020-04-25_59275b40-f26e-11ea-b442-acde48001122\n",
      "[2020-09-09 13:00:34,440] {loghandler.py:20} MainThread INFO in loghandler: filepath /Users/kd/Workspace/project/anuvaad/anuvaad-etl/anuvaad-extractor/block-merger/src/notebooks/sample-data/input/000_en_Presidents_Secretariat_2020-04-25.pdf, working_dir /Users/kd/Workspace/project/anuvaad/anuvaad-etl/anuvaad-extractor/block-merger/src/notebooks/sample-data/input/000_en_Presidents_Secretariat_2020-04-25_59275b40-f26e-11ea-b442-acde48001122\n",
      "[2020-09-09 13:00:35,209] {loghandler.py:20} MainThread INFO in loghandler: Extracting xml of /Users/kd/Workspace/project/anuvaad/anuvaad-etl/anuvaad-extractor/block-merger/src/notebooks/sample-data/input/000_en_Presidents_Secretariat_2020-04-25.pdf\n",
      "[2020-09-09 13:00:35,824] {loghandler.py:20} MainThread INFO in loghandler: Extracting background images of /Users/kd/Workspace/project/anuvaad/anuvaad-etl/anuvaad-extractor/block-merger/src/notebooks/sample-data/input/000_en_Presidents_Secretariat_2020-04-25.pdf\n",
      "[2020-09-09 13:00:35,825] {loghandler.py:20} MainThread INFO in loghandler: Extraction of /Users/kd/Workspace/project/anuvaad/anuvaad-etl/anuvaad-extractor/block-merger/src/notebooks/sample-data/input/000_en_Presidents_Secretariat_2020-04-25.pdf completed in 1.3851869106292725\n",
      "Total number of pages (1) in file (000_en_Presidents_Secretariat_2020-04-25.xml)\n",
      "Total number of pages (1) in file (000_en_Presidents_Secretariat_2020-04-25.xml)\n",
      "[2020-09-09 13:00:35,847] {loghandler.py:20} MainThread INFO in loghandler: process_input_pdf: created dataframes successfully\n",
      "[2020-09-09 13:00:35,848] {loghandler.py:20} MainThread INFO in loghandler: Processing of process_input_pdf completed in 1.419212818145752/1, average per page 1.419212818145752\n",
      "[2020-09-09 13:00:35,904] {loghandler.py:20} MainThread INFO in loghandler: Header Footer detection completed successfully  in time 0.05446910858154297 \n",
      "[2020-09-09 13:00:35,905] {loghandler.py:20} MainThread INFO in loghandler: Footers found 6 \n",
      "[2020-09-09 13:00:35,906] {loghandler.py:20} MainThread INFO in loghandler: Headers found 3\n",
      "[2020-09-09 13:00:35,907] {loghandler.py:20} MainThread INFO in loghandler: document preprocessing successfully completed\n",
      "[2020-09-09 13:00:35,907] {loghandler.py:20} MainThread INFO in loghandler: document structure analysis started  ===>\n",
      "[2020-09-09 13:00:35,908] {loghandler.py:20} MainThread INFO in loghandler: TableExtractor service started\n",
      "[2020-09-09 13:00:36,030] {loghandler.py:20} MainThread INFO in loghandler: Processing of get_hdfs completed in 0.05160117149353027/1, average per page 0.05160117149353027\n",
      "[2020-09-09 13:00:36,062] {loghandler.py:20} MainThread INFO in loghandler: Processing of get_vdfs completed in 0.030761003494262695/1, average per page 0.030761003494262695\n",
      "[2020-09-09 13:00:36,139] {loghandler.py:20} MainThread INFO in loghandler: Processing of get_hdfs completed in 0.07673978805541992/1, average per page 0.07673978805541992\n",
      "[2020-09-09 13:00:36,141] {loghandler.py:20} MainThread INFO in loghandler: UnderLineDetection successfully completed\n",
      "[2020-09-09 13:00:36,167] {loghandler.py:20} MainThread INFO in loghandler: Processing of unify_child_text_blocks completed in 0.024667024612426758/1, average per page 0.024667024612426758\n",
      "[2020-09-09 13:00:36,259] {loghandler.py:20} MainThread INFO in loghandler: Processing of unify_child_text_blocks completed in 0.09078693389892578/1, average per page 0.09078693389892578\n",
      "[2020-09-09 13:00:36,261] {loghandler.py:20} MainThread INFO in loghandler: document structure analysis successfully completed\n",
      "[2020-09-09 13:00:36,262] {loghandler.py:20} MainThread INFO in loghandler: document structure response started  ===>\n",
      "[2020-09-09 13:00:36,340] {loghandler.py:20} MainThread INFO in loghandler: document structure response successfully completed\n"
     ]
    },
    {
     "name": "stderr",
     "output_type": "stream",
     "text": [
      "/Users/kd/miniconda3/envs/cv3/lib/python3.5/site-packages/pandas/core/frame.py:7138: FutureWarning: Sorting because non-concatenation axis is not aligned. A future version\n",
      "of pandas will change to not sort by default.\n",
      "\n",
      "To accept the future behavior, pass 'sort=False'.\n",
      "\n",
      "To retain the current behavior and silence the warning, pass 'sort=True'.\n",
      "\n",
      "  sort=sort,\n",
      "/Users/kd/Workspace/project/anuvaad/anuvaad-etl/anuvaad-extractor/block-merger/src/services/child_text_unify_to_parent.py:65: SettingWithCopyWarning: \n",
      "A value is trying to be set on a copy of a slice from a DataFrame\n",
      "\n",
      "See the caveats in the documentation: http://pandas.pydata.org/pandas-docs/stable/user_guide/indexing.html#returning-a-view-versus-a-copy\n",
      "  new_df.iloc[block_index]['text'] = str(text)\n"
     ]
    },
    {
     "name": "stdout",
     "output_type": "stream",
     "text": [
      "[2020-09-09 13:00:36,341] {loghandler.py:20} MainThread INFO in loghandler: DocumentStructure : successfully received blocks in json response\n",
      "[2020-09-09 13:00:36,343] {loghandler.py:48} MainThread DEBUG in loghandler: Block merger starting processing <module 'src.utilities.app_context' from '/Users/kd/Workspace/project/anuvaad/anuvaad-etl/anuvaad-extractor/block-merger/src/utilities/app_context.py'>\n",
      "[2020-09-09 13:00:36,345] {loghandler.py:20} MainThread INFO in loghandler: document preprocessing started ===>\n",
      "[2020-09-09 13:00:36,346] {loghandler.py:20} MainThread INFO in loghandler: created processing directories successfully /Users/kd/Workspace/project/anuvaad/anuvaad-etl/anuvaad-extractor/block-merger/src/notebooks/sample-data/input/000_hi_Presidents_Secretariat_2020-04-25_5a4bcc22-f26e-11ea-a19d-acde48001122\n",
      "[2020-09-09 13:00:36,348] {loghandler.py:20} MainThread INFO in loghandler: filepath /Users/kd/Workspace/project/anuvaad/anuvaad-etl/anuvaad-extractor/block-merger/src/notebooks/sample-data/input/000_hi_Presidents_Secretariat_2020-04-25.pdf, working_dir /Users/kd/Workspace/project/anuvaad/anuvaad-etl/anuvaad-extractor/block-merger/src/notebooks/sample-data/input/000_hi_Presidents_Secretariat_2020-04-25_5a4bcc22-f26e-11ea-a19d-acde48001122\n",
      "[2020-09-09 13:00:37,129] {loghandler.py:20} MainThread INFO in loghandler: Extracting xml of /Users/kd/Workspace/project/anuvaad/anuvaad-etl/anuvaad-extractor/block-merger/src/notebooks/sample-data/input/000_hi_Presidents_Secretariat_2020-04-25.pdf\n",
      "[2020-09-09 13:00:37,680] {loghandler.py:20} MainThread INFO in loghandler: Extracting background images of /Users/kd/Workspace/project/anuvaad/anuvaad-etl/anuvaad-extractor/block-merger/src/notebooks/sample-data/input/000_hi_Presidents_Secretariat_2020-04-25.pdf\n",
      "[2020-09-09 13:00:37,681] {loghandler.py:20} MainThread INFO in loghandler: Extraction of /Users/kd/Workspace/project/anuvaad/anuvaad-etl/anuvaad-extractor/block-merger/src/notebooks/sample-data/input/000_hi_Presidents_Secretariat_2020-04-25.pdf completed in 1.3328697681427002\n",
      "Total number of pages (1) in file (000_hi_Presidents_Secretariat_2020-04-25.xml)\n",
      "Total number of pages (1) in file (000_hi_Presidents_Secretariat_2020-04-25.xml)\n",
      "[2020-09-09 13:00:37,704] {loghandler.py:20} MainThread INFO in loghandler: process_input_pdf: created dataframes successfully\n",
      "[2020-09-09 13:00:37,705] {loghandler.py:20} MainThread INFO in loghandler: Processing of process_input_pdf completed in 1.3589229583740234/1, average per page 1.3589229583740234\n",
      "[2020-09-09 13:00:37,914] {loghandler.py:20} MainThread INFO in loghandler: Header Footer detection completed successfully  in time 0.20880889892578125 \n",
      "[2020-09-09 13:00:37,916] {loghandler.py:20} MainThread INFO in loghandler: Footers found 38 \n",
      "[2020-09-09 13:00:37,917] {loghandler.py:20} MainThread INFO in loghandler: Headers found 5\n",
      "[2020-09-09 13:00:37,918] {loghandler.py:20} MainThread INFO in loghandler: document preprocessing successfully completed\n",
      "[2020-09-09 13:00:37,919] {loghandler.py:20} MainThread INFO in loghandler: document structure analysis started  ===>\n",
      "[2020-09-09 13:00:37,919] {loghandler.py:20} MainThread INFO in loghandler: TableExtractor service started\n",
      "[2020-09-09 13:00:38,134] {loghandler.py:20} MainThread INFO in loghandler: Processing of get_hdfs completed in 0.14001107215881348/1, average per page 0.14001107215881348\n",
      "[2020-09-09 13:00:38,175] {loghandler.py:20} MainThread INFO in loghandler: Processing of get_vdfs completed in 0.040635108947753906/1, average per page 0.040635108947753906\n",
      "[2020-09-09 13:00:38,298] {loghandler.py:20} MainThread INFO in loghandler: Processing of get_hdfs completed in 0.12159109115600586/1, average per page 0.12159109115600586\n",
      "[2020-09-09 13:00:38,300] {loghandler.py:20} MainThread INFO in loghandler: UnderLineDetection successfully completed\n",
      "[2020-09-09 13:00:38,305] {loghandler.py:20} MainThread INFO in loghandler: Processing of unify_child_text_blocks completed in 0.004220008850097656/1, average per page 0.004220008850097656\n",
      "[2020-09-09 13:00:38,317] {loghandler.py:20} MainThread INFO in loghandler: Processing of unify_child_text_blocks completed in 0.01098489761352539/1, average per page 0.01098489761352539\n",
      "[2020-09-09 13:00:38,318] {loghandler.py:20} MainThread INFO in loghandler: document structure analysis successfully completed\n",
      "[2020-09-09 13:00:38,319] {loghandler.py:20} MainThread INFO in loghandler: document structure response started  ===>\n",
      "[2020-09-09 13:00:38,331] {loghandler.py:20} MainThread INFO in loghandler: document structure response successfully completed\n",
      "[2020-09-09 13:00:38,332] {loghandler.py:20} MainThread INFO in loghandler: DocumentStructure : successfully received blocks in json response\n",
      "[2020-09-09 13:00:38,333] {loghandler.py:48} MainThread DEBUG in loghandler: Block merger starting processing <module 'src.utilities.app_context' from '/Users/kd/Workspace/project/anuvaad/anuvaad-etl/anuvaad-extractor/block-merger/src/utilities/app_context.py'>\n",
      "[2020-09-09 13:00:38,334] {loghandler.py:20} MainThread INFO in loghandler: document preprocessing started ===>\n",
      "[2020-09-09 13:00:38,335] {loghandler.py:20} MainThread INFO in loghandler: created processing directories successfully /Users/kd/Workspace/project/anuvaad/anuvaad-etl/anuvaad-extractor/block-merger/src/notebooks/sample-data/input/010220_hi_5b7b4742-f26e-11ea-805f-acde48001122\n",
      "[2020-09-09 13:00:38,336] {loghandler.py:20} MainThread INFO in loghandler: filepath /Users/kd/Workspace/project/anuvaad/anuvaad-etl/anuvaad-extractor/block-merger/src/notebooks/sample-data/input/010220_hi.pdf, working_dir /Users/kd/Workspace/project/anuvaad/anuvaad-etl/anuvaad-extractor/block-merger/src/notebooks/sample-data/input/010220_hi_5b7b4742-f26e-11ea-805f-acde48001122\n"
     ]
    },
    {
     "name": "stderr",
     "output_type": "stream",
     "text": [
      "/Users/kd/miniconda3/envs/cv3/lib/python3.5/site-packages/pandas/core/frame.py:7138: FutureWarning: Sorting because non-concatenation axis is not aligned. A future version\n",
      "of pandas will change to not sort by default.\n",
      "\n",
      "To accept the future behavior, pass 'sort=False'.\n",
      "\n",
      "To retain the current behavior and silence the warning, pass 'sort=True'.\n",
      "\n",
      "  sort=sort,\n",
      "/Users/kd/Workspace/project/anuvaad/anuvaad-etl/anuvaad-extractor/block-merger/src/services/child_text_unify_to_parent.py:65: SettingWithCopyWarning: \n",
      "A value is trying to be set on a copy of a slice from a DataFrame\n",
      "\n",
      "See the caveats in the documentation: http://pandas.pydata.org/pandas-docs/stable/user_guide/indexing.html#returning-a-view-versus-a-copy\n",
      "  new_df.iloc[block_index]['text'] = str(text)\n"
     ]
    },
    {
     "name": "stdout",
     "output_type": "stream",
     "text": [
      "[2020-09-09 13:00:38,651] {loghandler.py:20} MainThread INFO in loghandler: Extracting xml of /Users/kd/Workspace/project/anuvaad/anuvaad-etl/anuvaad-extractor/block-merger/src/notebooks/sample-data/input/010220_hi.pdf\n",
      "[2020-09-09 13:00:38,764] {loghandler.py:20} MainThread INFO in loghandler: Extracting background images of /Users/kd/Workspace/project/anuvaad/anuvaad-etl/anuvaad-extractor/block-merger/src/notebooks/sample-data/input/010220_hi.pdf\n",
      "[2020-09-09 13:00:38,764] {loghandler.py:20} MainThread INFO in loghandler: Extraction of /Users/kd/Workspace/project/anuvaad/anuvaad-etl/anuvaad-extractor/block-merger/src/notebooks/sample-data/input/010220_hi.pdf completed in 0.428663969039917\n",
      "Total number of pages (2) in file (010220_hi.xml)\n",
      "Total number of pages (2) in file (010220_hi.xml)\n",
      "[2020-09-09 13:00:38,792] {loghandler.py:20} MainThread INFO in loghandler: process_input_pdf: created dataframes successfully\n",
      "[2020-09-09 13:00:38,793] {loghandler.py:20} MainThread INFO in loghandler: Processing of process_input_pdf completed in 0.45867490768432617/2, average per page 0.22933745384216309\n",
      "[2020-09-09 13:00:38,917] {loghandler.py:20} MainThread INFO in loghandler: Header Footer detection completed successfully  in time 0.12331008911132812 \n",
      "[2020-09-09 13:00:38,918] {loghandler.py:20} MainThread INFO in loghandler: Footers found 0 \n",
      "[2020-09-09 13:00:38,919] {loghandler.py:20} MainThread INFO in loghandler: Headers found 0\n",
      "[2020-09-09 13:00:38,920] {loghandler.py:20} MainThread INFO in loghandler: document preprocessing successfully completed\n",
      "[2020-09-09 13:00:38,921] {loghandler.py:20} MainThread INFO in loghandler: document structure analysis started  ===>\n",
      "[2020-09-09 13:00:38,922] {loghandler.py:20} MainThread INFO in loghandler: TableExtractor service started\n",
      "[2020-09-09 13:00:39,284] {loghandler.py:20} MainThread INFO in loghandler: Processing of get_hdfs completed in 0.2872908115386963/2, average per page 0.14364540576934814\n",
      "[2020-09-09 13:00:39,430] {loghandler.py:20} MainThread INFO in loghandler: Processing of get_vdfs completed in 0.14600706100463867/2, average per page 0.07300353050231934\n",
      "[2020-09-09 13:00:39,671] {loghandler.py:20} MainThread INFO in loghandler: Processing of get_hdfs completed in 0.23966002464294434/2, average per page 0.11983001232147217\n",
      "[2020-09-09 13:00:39,677] {loghandler.py:20} MainThread INFO in loghandler: UnderLineDetection successfully completed\n",
      "[2020-09-09 13:00:39,762] {loghandler.py:20} MainThread INFO in loghandler: Processing of unify_child_text_blocks completed in 0.08423709869384766/2, average per page 0.04211854934692383\n"
     ]
    },
    {
     "name": "stderr",
     "output_type": "stream",
     "text": [
      "/Users/kd/miniconda3/envs/cv3/lib/python3.5/site-packages/pandas/core/frame.py:7138: FutureWarning: Sorting because non-concatenation axis is not aligned. A future version\n",
      "of pandas will change to not sort by default.\n",
      "\n",
      "To accept the future behavior, pass 'sort=False'.\n",
      "\n",
      "To retain the current behavior and silence the warning, pass 'sort=True'.\n",
      "\n",
      "  sort=sort,\n",
      "/Users/kd/Workspace/project/anuvaad/anuvaad-etl/anuvaad-extractor/block-merger/src/services/child_text_unify_to_parent.py:65: SettingWithCopyWarning: \n",
      "A value is trying to be set on a copy of a slice from a DataFrame\n",
      "\n",
      "See the caveats in the documentation: http://pandas.pydata.org/pandas-docs/stable/user_guide/indexing.html#returning-a-view-versus-a-copy\n",
      "  new_df.iloc[block_index]['text'] = str(text)\n"
     ]
    },
    {
     "name": "stdout",
     "output_type": "stream",
     "text": [
      "[2020-09-09 13:00:39,932] {loghandler.py:20} MainThread INFO in loghandler: Processing of unify_child_text_blocks completed in 0.1690840721130371/2, average per page 0.08454203605651855\n",
      "[2020-09-09 13:00:39,933] {loghandler.py:20} MainThread INFO in loghandler: document structure analysis successfully completed\n",
      "[2020-09-09 13:00:39,935] {loghandler.py:20} MainThread INFO in loghandler: document structure response started  ===>\n",
      "[2020-09-09 13:00:40,088] {loghandler.py:20} MainThread INFO in loghandler: document structure response successfully completed\n",
      "[2020-09-09 13:00:40,089] {loghandler.py:20} MainThread INFO in loghandler: DocumentStructure : successfully received blocks in json response\n",
      "[2020-09-09 13:00:40,090] {loghandler.py:48} MainThread DEBUG in loghandler: Block merger starting processing <module 'src.utilities.app_context' from '/Users/kd/Workspace/project/anuvaad/anuvaad-etl/anuvaad-extractor/block-merger/src/utilities/app_context.py'>\n",
      "[2020-09-09 13:00:40,091] {loghandler.py:20} MainThread INFO in loghandler: document preprocessing started ===>\n",
      "[2020-09-09 13:00:40,092] {loghandler.py:20} MainThread INFO in loghandler: created processing directories successfully /Users/kd/Workspace/project/anuvaad/anuvaad-etl/anuvaad-extractor/block-merger/src/notebooks/sample-data/input/1.02.2020_5c87675a-f26e-11ea-827f-acde48001122\n",
      "[2020-09-09 13:00:40,093] {loghandler.py:20} MainThread INFO in loghandler: filepath /Users/kd/Workspace/project/anuvaad/anuvaad-etl/anuvaad-extractor/block-merger/src/notebooks/sample-data/input/1.02.2020.pdf, working_dir /Users/kd/Workspace/project/anuvaad/anuvaad-etl/anuvaad-extractor/block-merger/src/notebooks/sample-data/input/1.02.2020_5c87675a-f26e-11ea-827f-acde48001122\n",
      "[2020-09-09 13:00:40,471] {loghandler.py:20} MainThread INFO in loghandler: Extracting xml of /Users/kd/Workspace/project/anuvaad/anuvaad-etl/anuvaad-extractor/block-merger/src/notebooks/sample-data/input/1.02.2020.pdf\n",
      "[2020-09-09 13:00:40,585] {loghandler.py:20} MainThread INFO in loghandler: Extracting background images of /Users/kd/Workspace/project/anuvaad/anuvaad-etl/anuvaad-extractor/block-merger/src/notebooks/sample-data/input/1.02.2020.pdf\n",
      "[2020-09-09 13:00:40,586] {loghandler.py:20} MainThread INFO in loghandler: Extraction of /Users/kd/Workspace/project/anuvaad/anuvaad-etl/anuvaad-extractor/block-merger/src/notebooks/sample-data/input/1.02.2020.pdf completed in 0.4929230213165283\n",
      "Total number of pages (2) in file (1.02.2020.xml)\n",
      "Total number of pages (2) in file (1.02.2020.xml)\n",
      "[2020-09-09 13:00:40,613] {loghandler.py:20} MainThread INFO in loghandler: process_input_pdf: created dataframes successfully\n",
      "[2020-09-09 13:00:40,614] {loghandler.py:20} MainThread INFO in loghandler: Processing of process_input_pdf completed in 0.522324800491333/2, average per page 0.2611624002456665\n",
      "[2020-09-09 13:00:40,765] {loghandler.py:20} MainThread INFO in loghandler: Header Footer detection completed successfully  in time 0.15037989616394043 \n",
      "[2020-09-09 13:00:40,766] {loghandler.py:20} MainThread INFO in loghandler: Footers found 0 \n",
      "[2020-09-09 13:00:40,767] {loghandler.py:20} MainThread INFO in loghandler: Headers found 0\n",
      "[2020-09-09 13:00:40,768] {loghandler.py:20} MainThread INFO in loghandler: document preprocessing successfully completed\n",
      "[2020-09-09 13:00:40,768] {loghandler.py:20} MainThread INFO in loghandler: document structure analysis started  ===>\n",
      "[2020-09-09 13:00:40,769] {loghandler.py:20} MainThread INFO in loghandler: TableExtractor service started\n",
      "[2020-09-09 13:00:41,123] {loghandler.py:20} MainThread INFO in loghandler: Processing of get_hdfs completed in 0.28406405448913574/2, average per page 0.14203202724456787\n",
      "[2020-09-09 13:00:41,258] {loghandler.py:20} MainThread INFO in loghandler: Processing of get_vdfs completed in 0.1338191032409668/2, average per page 0.0669095516204834\n",
      "[2020-09-09 13:00:41,573] {loghandler.py:20} MainThread INFO in loghandler: Processing of get_hdfs completed in 0.31424403190612793/2, average per page 0.15712201595306396\n",
      "[2020-09-09 13:00:41,576] {loghandler.py:20} MainThread INFO in loghandler: UnderLineDetection successfully completed\n",
      "[2020-09-09 13:00:41,700] {loghandler.py:20} MainThread INFO in loghandler: Processing of unify_child_text_blocks completed in 0.12374114990234375/2, average per page 0.061870574951171875\n"
     ]
    },
    {
     "name": "stderr",
     "output_type": "stream",
     "text": [
      "/Users/kd/miniconda3/envs/cv3/lib/python3.5/site-packages/pandas/core/frame.py:7138: FutureWarning: Sorting because non-concatenation axis is not aligned. A future version\n",
      "of pandas will change to not sort by default.\n",
      "\n",
      "To accept the future behavior, pass 'sort=False'.\n",
      "\n",
      "To retain the current behavior and silence the warning, pass 'sort=True'.\n",
      "\n",
      "  sort=sort,\n",
      "/Users/kd/Workspace/project/anuvaad/anuvaad-etl/anuvaad-extractor/block-merger/src/services/child_text_unify_to_parent.py:65: SettingWithCopyWarning: \n",
      "A value is trying to be set on a copy of a slice from a DataFrame\n",
      "\n",
      "See the caveats in the documentation: http://pandas.pydata.org/pandas-docs/stable/user_guide/indexing.html#returning-a-view-versus-a-copy\n",
      "  new_df.iloc[block_index]['text'] = str(text)\n"
     ]
    },
    {
     "name": "stdout",
     "output_type": "stream",
     "text": [
      "[2020-09-09 13:00:42,114] {loghandler.py:20} MainThread INFO in loghandler: Processing of unify_child_text_blocks completed in 0.4127011299133301/2, average per page 0.20635056495666504\n",
      "[2020-09-09 13:00:42,115] {loghandler.py:20} MainThread INFO in loghandler: document structure analysis successfully completed\n",
      "[2020-09-09 13:00:42,116] {loghandler.py:20} MainThread INFO in loghandler: document structure response started  ===>\n",
      "[2020-09-09 13:00:42,515] {loghandler.py:20} MainThread INFO in loghandler: document structure response successfully completed\n",
      "[2020-09-09 13:00:42,515] {loghandler.py:20} MainThread INFO in loghandler: DocumentStructure : successfully received blocks in json response\n",
      "[2020-09-09 13:00:42,516] {loghandler.py:48} MainThread DEBUG in loghandler: Block merger starting processing <module 'src.utilities.app_context' from '/Users/kd/Workspace/project/anuvaad/anuvaad-etl/anuvaad-extractor/block-merger/src/utilities/app_context.py'>\n",
      "[2020-09-09 13:00:42,517] {loghandler.py:20} MainThread INFO in loghandler: document preprocessing started ===>\n",
      "[2020-09-09 13:00:42,518] {loghandler.py:20} MainThread INFO in loghandler: created processing directories successfully /Users/kd/Workspace/project/anuvaad/anuvaad-etl/anuvaad-extractor/block-merger/src/notebooks/sample-data/input/10__Judgement_20-Feb-2019_5df99926-f26e-11ea-9f29-acde48001122\n",
      "[2020-09-09 13:00:42,519] {loghandler.py:20} MainThread INFO in loghandler: filepath /Users/kd/Workspace/project/anuvaad/anuvaad-etl/anuvaad-extractor/block-merger/src/notebooks/sample-data/input/10__Judgement_20-Feb-2019.pdf, working_dir /Users/kd/Workspace/project/anuvaad/anuvaad-etl/anuvaad-extractor/block-merger/src/notebooks/sample-data/input/10__Judgement_20-Feb-2019_5df99926-f26e-11ea-9f29-acde48001122\n",
      "[2020-09-09 13:00:44,563] {loghandler.py:20} MainThread INFO in loghandler: Extracting xml of /Users/kd/Workspace/project/anuvaad/anuvaad-etl/anuvaad-extractor/block-merger/src/notebooks/sample-data/input/10__Judgement_20-Feb-2019.pdf\n",
      "[2020-09-09 13:00:45,355] {loghandler.py:20} MainThread INFO in loghandler: Extracting background images of /Users/kd/Workspace/project/anuvaad/anuvaad-etl/anuvaad-extractor/block-merger/src/notebooks/sample-data/input/10__Judgement_20-Feb-2019.pdf\n",
      "[2020-09-09 13:00:45,356] {loghandler.py:20} MainThread INFO in loghandler: Extraction of /Users/kd/Workspace/project/anuvaad/anuvaad-etl/anuvaad-extractor/block-merger/src/notebooks/sample-data/input/10__Judgement_20-Feb-2019.pdf completed in 2.8366429805755615\n",
      "Total number of pages (13) in file (10__Judgement_20-Feb-2019.xml)\n",
      "Total number of pages (13) in file (10__Judgement_20-Feb-2019.xml)\n",
      "[2020-09-09 13:00:45,520] {loghandler.py:20} MainThread INFO in loghandler: process_input_pdf: created dataframes successfully\n",
      "[2020-09-09 13:00:45,521] {loghandler.py:20} MainThread INFO in loghandler: Processing of process_input_pdf completed in 3.003092050552368/13, average per page 0.23100708081172064\n",
      "[2020-09-09 13:00:46,099] {loghandler.py:20} MainThread INFO in loghandler: Header Footer detection completed successfully  in time 0.5772461891174316 \n",
      "[2020-09-09 13:00:46,100] {loghandler.py:20} MainThread INFO in loghandler: Footers found 0 \n",
      "[2020-09-09 13:00:46,101] {loghandler.py:20} MainThread INFO in loghandler: Headers found 0\n",
      "[2020-09-09 13:00:46,102] {loghandler.py:20} MainThread INFO in loghandler: document preprocessing successfully completed\n",
      "[2020-09-09 13:00:46,103] {loghandler.py:20} MainThread INFO in loghandler: document structure analysis started  ===>\n",
      "[2020-09-09 13:00:46,103] {loghandler.py:20} MainThread INFO in loghandler: TableExtractor service started\n",
      "[2020-09-09 13:00:48,510] {loghandler.py:20} MainThread INFO in loghandler: Processing of get_hdfs completed in 1.9417150020599365/13, average per page 0.14936269246614897\n",
      "[2020-09-09 13:00:48,965] {loghandler.py:20} MainThread INFO in loghandler: Processing of get_vdfs completed in 0.45434999465942383/13, average per page 0.034949999589186445\n"
     ]
    },
    {
     "name": "stderr",
     "output_type": "stream",
     "text": [
      "/Users/kd/miniconda3/envs/cv3/lib/python3.5/site-packages/pandas/core/frame.py:7138: FutureWarning: Sorting because non-concatenation axis is not aligned. A future version\n",
      "of pandas will change to not sort by default.\n",
      "\n",
      "To accept the future behavior, pass 'sort=False'.\n",
      "\n",
      "To retain the current behavior and silence the warning, pass 'sort=True'.\n",
      "\n",
      "  sort=sort,\n"
     ]
    },
    {
     "name": "stdout",
     "output_type": "stream",
     "text": [
      "[2020-09-09 13:00:50,078] {loghandler.py:20} MainThread INFO in loghandler: Processing of get_hdfs completed in 1.1119799613952637/13, average per page 0.08553692010732797\n",
      "[2020-09-09 13:00:50,193] {loghandler.py:20} MainThread INFO in loghandler: UnderLineDetection successfully completed\n"
     ]
    },
    {
     "name": "stderr",
     "output_type": "stream",
     "text": [
      "/Users/kd/miniconda3/envs/cv3/lib/python3.5/site-packages/pandas/core/indexing.py:205: SettingWithCopyWarning: \n",
      "A value is trying to be set on a copy of a slice from a DataFrame\n",
      "\n",
      "See the caveats in the documentation: http://pandas.pydata.org/pandas-docs/stable/user_guide/indexing.html#returning-a-view-versus-a-copy\n",
      "  self._setitem_with_indexer(indexer, value)\n"
     ]
    },
    {
     "name": "stdout",
     "output_type": "stream",
     "text": [
      "[2020-09-09 13:00:51,136] {loghandler.py:20} MainThread INFO in loghandler: Processing of unify_child_text_blocks completed in 0.9410791397094727/13, average per page 0.07239070305457482\n"
     ]
    },
    {
     "name": "stderr",
     "output_type": "stream",
     "text": [
      "/Users/kd/Workspace/project/anuvaad/anuvaad-etl/anuvaad-extractor/block-merger/src/services/child_text_unify_to_parent.py:65: SettingWithCopyWarning: \n",
      "A value is trying to be set on a copy of a slice from a DataFrame\n",
      "\n",
      "See the caveats in the documentation: http://pandas.pydata.org/pandas-docs/stable/user_guide/indexing.html#returning-a-view-versus-a-copy\n",
      "  new_df.iloc[block_index]['text'] = str(text)\n"
     ]
    },
    {
     "name": "stdout",
     "output_type": "stream",
     "text": [
      "[2020-09-09 13:00:52,648] {loghandler.py:20} MainThread INFO in loghandler: Processing of unify_child_text_blocks completed in 1.5111157894134521/13, average per page 0.11623967610872708\n",
      "[2020-09-09 13:00:52,648] {loghandler.py:20} MainThread INFO in loghandler: document structure analysis successfully completed\n",
      "[2020-09-09 13:00:52,650] {loghandler.py:20} MainThread INFO in loghandler: document structure response started  ===>\n",
      "[2020-09-09 13:00:54,009] {loghandler.py:20} MainThread INFO in loghandler: document structure response successfully completed\n",
      "[2020-09-09 13:00:54,010] {loghandler.py:20} MainThread INFO in loghandler: DocumentStructure : successfully received blocks in json response\n",
      "[2020-09-09 13:00:54,012] {loghandler.py:48} MainThread DEBUG in loghandler: Block merger starting processing <module 'src.utilities.app_context' from '/Users/kd/Workspace/project/anuvaad/anuvaad-etl/anuvaad-extractor/block-merger/src/utilities/app_context.py'>\n",
      "[2020-09-09 13:00:54,013] {loghandler.py:20} MainThread INFO in loghandler: document preprocessing started ===>\n",
      "[2020-09-09 13:00:54,015] {loghandler.py:20} MainThread INFO in loghandler: created processing directories successfully /Users/kd/Workspace/project/anuvaad/anuvaad-etl/anuvaad-extractor/block-merger/src/notebooks/sample-data/input/12_2019_9_1503_21076_Judgement_02-Mar-2020_64d3c64a-f26e-11ea-8c99-acde48001122\n",
      "[2020-09-09 13:00:54,016] {loghandler.py:20} MainThread INFO in loghandler: filepath /Users/kd/Workspace/project/anuvaad/anuvaad-etl/anuvaad-extractor/block-merger/src/notebooks/sample-data/input/12_2019_9_1503_21076_Judgement_02-Mar-2020.pdf, working_dir /Users/kd/Workspace/project/anuvaad/anuvaad-etl/anuvaad-extractor/block-merger/src/notebooks/sample-data/input/12_2019_9_1503_21076_Judgement_02-Mar-2020_64d3c64a-f26e-11ea-8c99-acde48001122\n",
      "[2020-09-09 13:00:55,660] {loghandler.py:20} MainThread INFO in loghandler: Extracting xml of /Users/kd/Workspace/project/anuvaad/anuvaad-etl/anuvaad-extractor/block-merger/src/notebooks/sample-data/input/12_2019_9_1503_21076_Judgement_02-Mar-2020.pdf\n",
      "[2020-09-09 13:00:56,217] {loghandler.py:20} MainThread INFO in loghandler: Extracting background images of /Users/kd/Workspace/project/anuvaad/anuvaad-etl/anuvaad-extractor/block-merger/src/notebooks/sample-data/input/12_2019_9_1503_21076_Judgement_02-Mar-2020.pdf\n",
      "[2020-09-09 13:00:56,218] {loghandler.py:20} MainThread INFO in loghandler: Extraction of /Users/kd/Workspace/project/anuvaad/anuvaad-etl/anuvaad-extractor/block-merger/src/notebooks/sample-data/input/12_2019_9_1503_21076_Judgement_02-Mar-2020.pdf completed in 2.2017641067504883\n",
      "Total number of pages (11) in file (12_2019_9_1503_21076_Judgement_02-Mar-2020.xml)\n",
      "Total number of pages (11) in file (12_2019_9_1503_21076_Judgement_02-Mar-2020.xml)\n",
      "[2020-09-09 13:00:56,344] {loghandler.py:20} MainThread INFO in loghandler: process_input_pdf: created dataframes successfully\n",
      "[2020-09-09 13:00:56,345] {loghandler.py:20} MainThread INFO in loghandler: Processing of process_input_pdf completed in 2.3310890197753906/11, average per page 0.2119171836159446\n",
      "[2020-09-09 13:00:56,755] {loghandler.py:20} MainThread INFO in loghandler: Header Footer detection completed successfully  in time 0.4088780879974365 \n",
      "[2020-09-09 13:00:56,756] {loghandler.py:20} MainThread INFO in loghandler: Footers found 0 \n",
      "[2020-09-09 13:00:56,756] {loghandler.py:20} MainThread INFO in loghandler: Headers found 0\n",
      "[2020-09-09 13:00:56,757] {loghandler.py:20} MainThread INFO in loghandler: document preprocessing successfully completed\n",
      "[2020-09-09 13:00:56,758] {loghandler.py:20} MainThread INFO in loghandler: document structure analysis started  ===>\n",
      "[2020-09-09 13:00:56,758] {loghandler.py:20} MainThread INFO in loghandler: TableExtractor service started\n",
      "[2020-09-09 13:00:58,589] {loghandler.py:20} MainThread INFO in loghandler: Processing of get_hdfs completed in 1.490508794784546/11, average per page 0.1355007995258678\n",
      "[2020-09-09 13:00:58,935] {loghandler.py:20} MainThread INFO in loghandler: Processing of get_vdfs completed in 0.34583187103271484/11, average per page 0.031439261002974075\n"
     ]
    },
    {
     "name": "stderr",
     "output_type": "stream",
     "text": [
      "/Users/kd/miniconda3/envs/cv3/lib/python3.5/site-packages/pandas/core/frame.py:7138: FutureWarning: Sorting because non-concatenation axis is not aligned. A future version\n",
      "of pandas will change to not sort by default.\n",
      "\n",
      "To accept the future behavior, pass 'sort=False'.\n",
      "\n",
      "To retain the current behavior and silence the warning, pass 'sort=True'.\n",
      "\n",
      "  sort=sort,\n"
     ]
    },
    {
     "name": "stdout",
     "output_type": "stream",
     "text": [
      "[2020-09-09 13:00:59,842] {loghandler.py:20} MainThread INFO in loghandler: Processing of get_hdfs completed in 0.9059829711914062/11, average per page 0.08236208829012784\n",
      "[2020-09-09 13:00:59,861] {loghandler.py:20} MainThread INFO in loghandler: UnderLineDetection successfully completed\n"
     ]
    },
    {
     "name": "stderr",
     "output_type": "stream",
     "text": [
      "/Users/kd/miniconda3/envs/cv3/lib/python3.5/site-packages/pandas/core/indexing.py:205: SettingWithCopyWarning: \n",
      "A value is trying to be set on a copy of a slice from a DataFrame\n",
      "\n",
      "See the caveats in the documentation: http://pandas.pydata.org/pandas-docs/stable/user_guide/indexing.html#returning-a-view-versus-a-copy\n",
      "  self._setitem_with_indexer(indexer, value)\n"
     ]
    },
    {
     "name": "stdout",
     "output_type": "stream",
     "text": [
      "[2020-09-09 13:01:00,520] {loghandler.py:20} MainThread INFO in loghandler: Processing of unify_child_text_blocks completed in 0.6579799652099609/11, average per page 0.05981636047363281\n"
     ]
    },
    {
     "name": "stderr",
     "output_type": "stream",
     "text": [
      "/Users/kd/Workspace/project/anuvaad/anuvaad-etl/anuvaad-extractor/block-merger/src/services/child_text_unify_to_parent.py:65: SettingWithCopyWarning: \n",
      "A value is trying to be set on a copy of a slice from a DataFrame\n",
      "\n",
      "See the caveats in the documentation: http://pandas.pydata.org/pandas-docs/stable/user_guide/indexing.html#returning-a-view-versus-a-copy\n",
      "  new_df.iloc[block_index]['text'] = str(text)\n"
     ]
    },
    {
     "name": "stdout",
     "output_type": "stream",
     "text": [
      "[2020-09-09 13:01:01,597] {loghandler.py:20} MainThread INFO in loghandler: Processing of unify_child_text_blocks completed in 1.0763881206512451/11, average per page 0.09785346551374956\n",
      "[2020-09-09 13:01:01,597] {loghandler.py:20} MainThread INFO in loghandler: document structure analysis successfully completed\n",
      "[2020-09-09 13:01:01,599] {loghandler.py:20} MainThread INFO in loghandler: document structure response started  ===>\n",
      "[2020-09-09 13:01:02,571] {loghandler.py:20} MainThread INFO in loghandler: document structure response successfully completed\n",
      "[2020-09-09 13:01:02,572] {loghandler.py:20} MainThread INFO in loghandler: DocumentStructure : successfully received blocks in json response\n",
      "[2020-09-09 13:01:02,574] {loghandler.py:48} MainThread DEBUG in loghandler: Block merger starting processing <module 'src.utilities.app_context' from '/Users/kd/Workspace/project/anuvaad/anuvaad-etl/anuvaad-extractor/block-merger/src/utilities/app_context.py'>\n",
      "[2020-09-09 13:01:02,576] {loghandler.py:20} MainThread INFO in loghandler: document preprocessing started ===>\n",
      "[2020-09-09 13:01:02,577] {loghandler.py:20} MainThread INFO in loghandler: created processing directories successfully /Users/kd/Workspace/project/anuvaad/anuvaad-etl/anuvaad-extractor/block-merger/src/notebooks/sample-data/input/1506.02640_69ee4c24-f26e-11ea-b3c6-acde48001122\n",
      "[2020-09-09 13:01:02,578] {loghandler.py:20} MainThread INFO in loghandler: filepath /Users/kd/Workspace/project/anuvaad/anuvaad-etl/anuvaad-extractor/block-merger/src/notebooks/sample-data/input/1506.02640.pdf, working_dir /Users/kd/Workspace/project/anuvaad/anuvaad-etl/anuvaad-extractor/block-merger/src/notebooks/sample-data/input/1506.02640_69ee4c24-f26e-11ea-b3c6-acde48001122\n",
      "[2020-09-09 13:01:06,306] {loghandler.py:20} MainThread INFO in loghandler: Extracting xml of /Users/kd/Workspace/project/anuvaad/anuvaad-etl/anuvaad-extractor/block-merger/src/notebooks/sample-data/input/1506.02640.pdf\n",
      "[2020-09-09 13:01:07,351] {loghandler.py:20} MainThread INFO in loghandler: Extracting background images of /Users/kd/Workspace/project/anuvaad/anuvaad-etl/anuvaad-extractor/block-merger/src/notebooks/sample-data/input/1506.02640.pdf\n",
      "[2020-09-09 13:01:07,352] {loghandler.py:20} MainThread INFO in loghandler: Extraction of /Users/kd/Workspace/project/anuvaad/anuvaad-etl/anuvaad-extractor/block-merger/src/notebooks/sample-data/input/1506.02640.pdf completed in 4.773339033126831\n",
      "Total number of pages (10) in file (1506.02640.xml)\n",
      "Total number of pages (10) in file (1506.02640.xml)\n",
      "[2020-09-09 13:01:07,747] {loghandler.py:20} MainThread INFO in loghandler: process_input_pdf: created dataframes successfully\n",
      "[2020-09-09 13:01:07,747] {loghandler.py:20} MainThread INFO in loghandler: Processing of process_input_pdf completed in 5.170906066894531/10, average per page 0.5170906066894532\n",
      "[2020-09-09 13:01:10,262] {loghandler.py:20} MainThread INFO in loghandler: Header Footer detection completed successfully  in time 2.514141082763672 \n",
      "[2020-09-09 13:01:10,263] {loghandler.py:20} MainThread INFO in loghandler: Footers found 0 \n",
      "[2020-09-09 13:01:10,264] {loghandler.py:20} MainThread INFO in loghandler: Headers found 0\n",
      "[2020-09-09 13:01:10,265] {loghandler.py:20} MainThread INFO in loghandler: document preprocessing successfully completed\n",
      "[2020-09-09 13:01:10,266] {loghandler.py:20} MainThread INFO in loghandler: document structure analysis started  ===>\n",
      "[2020-09-09 13:01:10,267] {loghandler.py:20} MainThread INFO in loghandler: TableExtractor service started\n",
      "[2020-09-09 13:01:19,121] {loghandler.py:20} MainThread INFO in loghandler: Processing of get_hdfs completed in 8.460783958435059/10, average per page 0.8460783958435059\n",
      "[2020-09-09 13:01:20,694] {loghandler.py:20} MainThread INFO in loghandler: Processing of get_vdfs completed in 1.572134017944336/10, average per page 0.1572134017944336\n"
     ]
    },
    {
     "name": "stderr",
     "output_type": "stream",
     "text": [
      "/Users/kd/miniconda3/envs/cv3/lib/python3.5/site-packages/pandas/core/frame.py:7138: FutureWarning: Sorting because non-concatenation axis is not aligned. A future version\n",
      "of pandas will change to not sort by default.\n",
      "\n",
      "To accept the future behavior, pass 'sort=False'.\n",
      "\n",
      "To retain the current behavior and silence the warning, pass 'sort=True'.\n",
      "\n",
      "  sort=sort,\n"
     ]
    },
    {
     "name": "stdout",
     "output_type": "stream",
     "text": [
      "[2020-09-09 13:01:24,341] {loghandler.py:20} MainThread INFO in loghandler: Processing of get_hdfs completed in 3.645339012145996/10, average per page 0.3645339012145996\n",
      "[2020-09-09 13:01:24,391] {loghandler.py:20} MainThread INFO in loghandler: UnderLineDetection successfully completed\n"
     ]
    },
    {
     "name": "stderr",
     "output_type": "stream",
     "text": [
      "/Users/kd/miniconda3/envs/cv3/lib/python3.5/site-packages/pandas/core/indexing.py:205: SettingWithCopyWarning: \n",
      "A value is trying to be set on a copy of a slice from a DataFrame\n",
      "\n",
      "See the caveats in the documentation: http://pandas.pydata.org/pandas-docs/stable/user_guide/indexing.html#returning-a-view-versus-a-copy\n",
      "  self._setitem_with_indexer(indexer, value)\n"
     ]
    },
    {
     "name": "stdout",
     "output_type": "stream",
     "text": [
      "[2020-09-09 13:01:24,986] {loghandler.py:110} MainThread ERROR in loghandler: Error in updating fonts\n",
      "[2020-09-09 13:01:24,987] {loghandler.py:78} MainThread ERROR in loghandler: Error occured during pdf to blocks conversion\n",
      "Traceback (most recent call last):\n",
      "  File \"/Users/kd/Workspace/project/anuvaad/anuvaad-etl/anuvaad-extractor/block-merger/src/services/main.py\", line 141, in DocumentStructure\n",
      "    text_block_dfs, table_dfs, line_dfs ,bg_dfs = doc_structure_analysis(xml_dfs,img_dfs,working_dir,header_region , footer_region, lang, page_width, page_height, pdf_bg_img_filepaths,pdf_image_paths)\n",
      "  File \"/Users/kd/Workspace/project/anuvaad/anuvaad-etl/anuvaad-extractor/block-merger/src/services/main.py\", line 70, in doc_structure_analysis\n",
      "    text_block_dfs  = text_merger.unify_child_text_blocks(p_dfs)\n",
      "  File \"/Users/kd/Workspace/project/anuvaad/anuvaad-etl/anuvaad-extractor/block-merger/src/services/child_text_unify_to_parent.py\", line 74, in unify_child_text_blocks\n",
      "    pages      = len(p_dfs)\n",
      "TypeError: object of type 'NoneType' has no len()\n",
      "[2020-09-09 13:01:24,993] {loghandler.py:48} MainThread DEBUG in loghandler: Block merger starting processing <module 'src.utilities.app_context' from '/Users/kd/Workspace/project/anuvaad/anuvaad-etl/anuvaad-extractor/block-merger/src/utilities/app_context.py'>\n",
      "[2020-09-09 13:01:24,994] {loghandler.py:20} MainThread INFO in loghandler: document preprocessing started ===>\n",
      "[2020-09-09 13:01:24,995] {loghandler.py:20} MainThread INFO in loghandler: created processing directories successfully /Users/kd/Workspace/project/anuvaad/anuvaad-etl/anuvaad-extractor/block-merger/src/notebooks/sample-data/input/1827_2019_31_1501_23267_Order_05-Aug-2020_774b1992-f26e-11ea-8602-acde48001122\n",
      "[2020-09-09 13:01:24,996] {loghandler.py:20} MainThread INFO in loghandler: filepath /Users/kd/Workspace/project/anuvaad/anuvaad-etl/anuvaad-extractor/block-merger/src/notebooks/sample-data/input/1827_2019_31_1501_23267_Order_05-Aug-2020.pdf, working_dir /Users/kd/Workspace/project/anuvaad/anuvaad-etl/anuvaad-extractor/block-merger/src/notebooks/sample-data/input/1827_2019_31_1501_23267_Order_05-Aug-2020_774b1992-f26e-11ea-8602-acde48001122\n",
      "[2020-09-09 13:01:25,846] {loghandler.py:20} MainThread INFO in loghandler: Extracting xml of /Users/kd/Workspace/project/anuvaad/anuvaad-etl/anuvaad-extractor/block-merger/src/notebooks/sample-data/input/1827_2019_31_1501_23267_Order_05-Aug-2020.pdf\n",
      "[2020-09-09 13:01:26,145] {loghandler.py:20} MainThread INFO in loghandler: Extracting background images of /Users/kd/Workspace/project/anuvaad/anuvaad-etl/anuvaad-extractor/block-merger/src/notebooks/sample-data/input/1827_2019_31_1501_23267_Order_05-Aug-2020.pdf\n",
      "[2020-09-09 13:01:26,146] {loghandler.py:20} MainThread INFO in loghandler: Extraction of /Users/kd/Workspace/project/anuvaad/anuvaad-etl/anuvaad-extractor/block-merger/src/notebooks/sample-data/input/1827_2019_31_1501_23267_Order_05-Aug-2020.pdf completed in 1.1495258808135986\n",
      "Total number of pages (6) in file (1827_2019_31_1501_23267_Order_05-Aug-2020.xml)\n",
      "Total number of pages (6) in file (1827_2019_31_1501_23267_Order_05-Aug-2020.xml)\n",
      "[2020-09-09 13:01:26,225] {loghandler.py:20} MainThread INFO in loghandler: process_input_pdf: created dataframes successfully\n",
      "[2020-09-09 13:01:26,226] {loghandler.py:20} MainThread INFO in loghandler: Processing of process_input_pdf completed in 1.2313060760498047/6, average per page 0.20521767934163412\n",
      "[2020-09-09 13:01:26,626] {loghandler.py:20} MainThread INFO in loghandler: Header Footer detection completed successfully  in time 0.3985130786895752 \n",
      "[2020-09-09 13:01:26,626] {loghandler.py:20} MainThread INFO in loghandler: Footers found 0 \n",
      "[2020-09-09 13:01:26,627] {loghandler.py:20} MainThread INFO in loghandler: Headers found 1\n",
      "[2020-09-09 13:01:26,628] {loghandler.py:20} MainThread INFO in loghandler: document preprocessing successfully completed\n",
      "[2020-09-09 13:01:26,629] {loghandler.py:20} MainThread INFO in loghandler: document structure analysis started  ===>\n",
      "[2020-09-09 13:01:26,630] {loghandler.py:20} MainThread INFO in loghandler: TableExtractor service started\n"
     ]
    },
    {
     "name": "stderr",
     "output_type": "stream",
     "text": [
      "/Users/kd/miniconda3/envs/cv3/lib/python3.5/site-packages/pandas/core/indexing.py:205: SettingWithCopyWarning: \n",
      "A value is trying to be set on a copy of a slice from a DataFrame\n",
      "\n",
      "See the caveats in the documentation: http://pandas.pydata.org/pandas-docs/stable/user_guide/indexing.html#returning-a-view-versus-a-copy\n",
      "  self._setitem_with_indexer(indexer, value)\n"
     ]
    },
    {
     "name": "stdout",
     "output_type": "stream",
     "text": [
      "[2020-09-09 13:01:27,809] {loghandler.py:20} MainThread INFO in loghandler: Processing of get_hdfs completed in 0.9696788787841797/6, average per page 0.16161314646402994\n",
      "[2020-09-09 13:01:28,023] {loghandler.py:20} MainThread INFO in loghandler: Processing of get_vdfs completed in 0.21346616744995117/6, average per page 0.03557769457499186\n",
      "[2020-09-09 13:01:28,653] {loghandler.py:20} MainThread INFO in loghandler: Processing of get_hdfs completed in 0.6291260719299316/6, average per page 0.10485434532165527\n",
      "[2020-09-09 13:01:28,726] {loghandler.py:20} MainThread INFO in loghandler: UnderLineDetection successfully completed\n"
     ]
    },
    {
     "name": "stderr",
     "output_type": "stream",
     "text": [
      "/Users/kd/miniconda3/envs/cv3/lib/python3.5/site-packages/pandas/core/frame.py:7138: FutureWarning: Sorting because non-concatenation axis is not aligned. A future version\n",
      "of pandas will change to not sort by default.\n",
      "\n",
      "To accept the future behavior, pass 'sort=False'.\n",
      "\n",
      "To retain the current behavior and silence the warning, pass 'sort=True'.\n",
      "\n",
      "  sort=sort,\n"
     ]
    },
    {
     "name": "stdout",
     "output_type": "stream",
     "text": [
      "[2020-09-09 13:01:29,243] {loghandler.py:20} MainThread INFO in loghandler: Processing of unify_child_text_blocks completed in 0.5157368183135986/6, average per page 0.08595613638559978\n"
     ]
    },
    {
     "name": "stderr",
     "output_type": "stream",
     "text": [
      "/Users/kd/Workspace/project/anuvaad/anuvaad-etl/anuvaad-extractor/block-merger/src/services/child_text_unify_to_parent.py:65: SettingWithCopyWarning: \n",
      "A value is trying to be set on a copy of a slice from a DataFrame\n",
      "\n",
      "See the caveats in the documentation: http://pandas.pydata.org/pandas-docs/stable/user_guide/indexing.html#returning-a-view-versus-a-copy\n",
      "  new_df.iloc[block_index]['text'] = str(text)\n"
     ]
    },
    {
     "name": "stdout",
     "output_type": "stream",
     "text": [
      "[2020-09-09 13:01:29,934] {loghandler.py:20} MainThread INFO in loghandler: Processing of unify_child_text_blocks completed in 0.6903619766235352/6, average per page 0.11506032943725586\n",
      "[2020-09-09 13:01:29,935] {loghandler.py:20} MainThread INFO in loghandler: document structure analysis successfully completed\n",
      "[2020-09-09 13:01:29,936] {loghandler.py:20} MainThread INFO in loghandler: document structure response started  ===>\n",
      "[2020-09-09 13:01:30,535] {loghandler.py:20} MainThread INFO in loghandler: document structure response successfully completed\n",
      "[2020-09-09 13:01:30,536] {loghandler.py:20} MainThread INFO in loghandler: DocumentStructure : successfully received blocks in json response\n",
      "[2020-09-09 13:01:30,537] {loghandler.py:48} MainThread DEBUG in loghandler: Block merger starting processing <module 'src.utilities.app_context' from '/Users/kd/Workspace/project/anuvaad/anuvaad-etl/anuvaad-extractor/block-merger/src/utilities/app_context.py'>\n",
      "[2020-09-09 13:01:30,538] {loghandler.py:20} MainThread INFO in loghandler: document preprocessing started ===>\n",
      "[2020-09-09 13:01:30,539] {loghandler.py:20} MainThread INFO in loghandler: created processing directories successfully /Users/kd/Workspace/project/anuvaad/anuvaad-etl/anuvaad-extractor/block-merger/src/notebooks/sample-data/input/20.03.2020_7a990042-f26e-11ea-a48f-acde48001122\n",
      "[2020-09-09 13:01:30,540] {loghandler.py:20} MainThread INFO in loghandler: filepath /Users/kd/Workspace/project/anuvaad/anuvaad-etl/anuvaad-extractor/block-merger/src/notebooks/sample-data/input/20.03.2020.pdf, working_dir /Users/kd/Workspace/project/anuvaad/anuvaad-etl/anuvaad-extractor/block-merger/src/notebooks/sample-data/input/20.03.2020_7a990042-f26e-11ea-a48f-acde48001122\n",
      "[2020-09-09 13:01:32,353] {loghandler.py:20} MainThread INFO in loghandler: Extracting xml of /Users/kd/Workspace/project/anuvaad/anuvaad-etl/anuvaad-extractor/block-merger/src/notebooks/sample-data/input/20.03.2020.pdf\n",
      "[2020-09-09 13:01:32,967] {loghandler.py:20} MainThread INFO in loghandler: Extracting background images of /Users/kd/Workspace/project/anuvaad/anuvaad-etl/anuvaad-extractor/block-merger/src/notebooks/sample-data/input/20.03.2020.pdf\n",
      "[2020-09-09 13:01:32,967] {loghandler.py:20} MainThread INFO in loghandler: Extraction of /Users/kd/Workspace/project/anuvaad/anuvaad-etl/anuvaad-extractor/block-merger/src/notebooks/sample-data/input/20.03.2020.pdf completed in 2.42740797996521\n",
      "Total number of pages (13) in file (20.03.2020.xml)\n",
      "Total number of pages (13) in file (20.03.2020.xml)\n",
      "[2020-09-09 13:01:33,137] {loghandler.py:20} MainThread INFO in loghandler: process_input_pdf: created dataframes successfully\n",
      "[2020-09-09 13:01:33,138] {loghandler.py:20} MainThread INFO in loghandler: Processing of process_input_pdf completed in 2.59924578666687/13, average per page 0.19994198358975923\n",
      "[2020-09-09 13:01:33,832] {loghandler.py:20} MainThread INFO in loghandler: Header Footer detection completed successfully  in time 0.6928920745849609 \n",
      "[2020-09-09 13:01:33,832] {loghandler.py:20} MainThread INFO in loghandler: Footers found 0 \n",
      "[2020-09-09 13:01:33,833] {loghandler.py:20} MainThread INFO in loghandler: Headers found 0\n",
      "[2020-09-09 13:01:33,834] {loghandler.py:20} MainThread INFO in loghandler: document preprocessing successfully completed\n",
      "[2020-09-09 13:01:33,834] {loghandler.py:20} MainThread INFO in loghandler: document structure analysis started  ===>\n",
      "[2020-09-09 13:01:33,835] {loghandler.py:20} MainThread INFO in loghandler: TableExtractor service started\n",
      "[2020-09-09 13:01:36,995] {loghandler.py:20} MainThread INFO in loghandler: Processing of get_hdfs completed in 2.7681798934936523/13, average per page 0.2129369148841271\n",
      "[2020-09-09 13:01:37,624] {loghandler.py:20} MainThread INFO in loghandler: Processing of get_vdfs completed in 0.6285111904144287/13, average per page 0.04834701464726375\n"
     ]
    },
    {
     "name": "stderr",
     "output_type": "stream",
     "text": [
      "/Users/kd/miniconda3/envs/cv3/lib/python3.5/site-packages/pandas/core/frame.py:7138: FutureWarning: Sorting because non-concatenation axis is not aligned. A future version\n",
      "of pandas will change to not sort by default.\n",
      "\n",
      "To accept the future behavior, pass 'sort=False'.\n",
      "\n",
      "To retain the current behavior and silence the warning, pass 'sort=True'.\n",
      "\n",
      "  sort=sort,\n"
     ]
    },
    {
     "name": "stdout",
     "output_type": "stream",
     "text": [
      "[2020-09-09 13:01:39,626] {loghandler.py:20} MainThread INFO in loghandler: Processing of get_hdfs completed in 2.0006818771362305/13, average per page 0.1538986059335562\n",
      "[2020-09-09 13:01:39,647] {loghandler.py:20} MainThread INFO in loghandler: UnderLineDetection successfully completed\n"
     ]
    },
    {
     "name": "stderr",
     "output_type": "stream",
     "text": [
      "/Users/kd/miniconda3/envs/cv3/lib/python3.5/site-packages/pandas/core/indexing.py:205: SettingWithCopyWarning: \n",
      "A value is trying to be set on a copy of a slice from a DataFrame\n",
      "\n",
      "See the caveats in the documentation: http://pandas.pydata.org/pandas-docs/stable/user_guide/indexing.html#returning-a-view-versus-a-copy\n",
      "  self._setitem_with_indexer(indexer, value)\n"
     ]
    },
    {
     "name": "stdout",
     "output_type": "stream",
     "text": [
      "[2020-09-09 13:01:41,105] {loghandler.py:20} MainThread INFO in loghandler: Processing of unify_child_text_blocks completed in 1.4566638469696045/13, average per page 0.11205106515150803\n"
     ]
    },
    {
     "name": "stderr",
     "output_type": "stream",
     "text": [
      "/Users/kd/Workspace/project/anuvaad/anuvaad-etl/anuvaad-extractor/block-merger/src/services/child_text_unify_to_parent.py:65: SettingWithCopyWarning: \n",
      "A value is trying to be set on a copy of a slice from a DataFrame\n",
      "\n",
      "See the caveats in the documentation: http://pandas.pydata.org/pandas-docs/stable/user_guide/indexing.html#returning-a-view-versus-a-copy\n",
      "  new_df.iloc[block_index]['text'] = str(text)\n"
     ]
    },
    {
     "name": "stdout",
     "output_type": "stream",
     "text": [
      "[2020-09-09 13:01:43,833] {loghandler.py:20} MainThread INFO in loghandler: Processing of unify_child_text_blocks completed in 2.727905035018921/13, average per page 0.2098388488476093\n",
      "[2020-09-09 13:01:43,834] {loghandler.py:20} MainThread INFO in loghandler: document structure analysis successfully completed\n",
      "[2020-09-09 13:01:43,836] {loghandler.py:20} MainThread INFO in loghandler: document structure response started  ===>\n",
      "[2020-09-09 13:01:46,461] {loghandler.py:20} MainThread INFO in loghandler: document structure response successfully completed\n",
      "[2020-09-09 13:01:46,462] {loghandler.py:20} MainThread INFO in loghandler: DocumentStructure : successfully received blocks in json response\n",
      "[2020-09-09 13:01:46,464] {loghandler.py:48} MainThread DEBUG in loghandler: Block merger starting processing <module 'src.utilities.app_context' from '/Users/kd/Workspace/project/anuvaad/anuvaad-etl/anuvaad-extractor/block-merger/src/utilities/app_context.py'>\n",
      "[2020-09-09 13:01:46,465] {loghandler.py:20} MainThread INFO in loghandler: document preprocessing started ===>\n",
      "[2020-09-09 13:01:46,466] {loghandler.py:20} MainThread INFO in loghandler: created processing directories successfully /Users/kd/Workspace/project/anuvaad/anuvaad-etl/anuvaad-extractor/block-merger/src/notebooks/sample-data/input/20200804144132705_8417496e-f26e-11ea-beea-acde48001122\n",
      "[2020-09-09 13:01:46,467] {loghandler.py:20} MainThread INFO in loghandler: filepath /Users/kd/Workspace/project/anuvaad/anuvaad-etl/anuvaad-extractor/block-merger/src/notebooks/sample-data/input/20200804144132705.pdf, working_dir /Users/kd/Workspace/project/anuvaad/anuvaad-etl/anuvaad-extractor/block-merger/src/notebooks/sample-data/input/20200804144132705_8417496e-f26e-11ea-beea-acde48001122\n",
      "[2020-09-09 13:01:47,120] {loghandler.py:20} MainThread INFO in loghandler: Extracting xml of /Users/kd/Workspace/project/anuvaad/anuvaad-etl/anuvaad-extractor/block-merger/src/notebooks/sample-data/input/20200804144132705.pdf\n",
      "[2020-09-09 13:01:47,415] {loghandler.py:20} MainThread INFO in loghandler: Extracting background images of /Users/kd/Workspace/project/anuvaad/anuvaad-etl/anuvaad-extractor/block-merger/src/notebooks/sample-data/input/20200804144132705.pdf\n",
      "[2020-09-09 13:01:47,416] {loghandler.py:20} MainThread INFO in loghandler: Extraction of /Users/kd/Workspace/project/anuvaad/anuvaad-etl/anuvaad-extractor/block-merger/src/notebooks/sample-data/input/20200804144132705.pdf completed in 0.9486949443817139\n",
      "Total number of pages (1) in file (20200804144132705.xml)\n",
      "Total number of pages (1) in file (20200804144132705.xml)\n",
      "[2020-09-09 13:01:47,431] {loghandler.py:20} MainThread INFO in loghandler: process_input_pdf: created dataframes successfully\n",
      "[2020-09-09 13:01:47,432] {loghandler.py:20} MainThread INFO in loghandler: Processing of process_input_pdf completed in 0.9660401344299316/1, average per page 0.9660401344299316\n",
      "[2020-09-09 13:01:47,450] {loghandler.py:20} MainThread INFO in loghandler: Header Footer detection completed successfully  in time 0.01656508445739746 \n",
      "[2020-09-09 13:01:47,451] {loghandler.py:20} MainThread INFO in loghandler: Footers found 0 \n",
      "[2020-09-09 13:01:47,451] {loghandler.py:20} MainThread INFO in loghandler: Headers found 0\n",
      "[2020-09-09 13:01:47,452] {loghandler.py:20} MainThread INFO in loghandler: document preprocessing successfully completed\n",
      "[2020-09-09 13:01:47,454] {loghandler.py:48} MainThread DEBUG in loghandler: Block merger starting processing <module 'src.utilities.app_context' from '/Users/kd/Workspace/project/anuvaad/anuvaad-etl/anuvaad-extractor/block-merger/src/utilities/app_context.py'>\n",
      "[2020-09-09 13:01:47,455] {loghandler.py:20} MainThread INFO in loghandler: document preprocessing started ===>\n",
      "[2020-09-09 13:01:47,457] {loghandler.py:20} MainThread INFO in loghandler: created processing directories successfully /Users/kd/Workspace/project/anuvaad/anuvaad-etl/anuvaad-extractor/block-merger/src/notebooks/sample-data/input/2035_2009_15_101_17709_Judgement_24-Oct-2019_HIN_84ae6b46-f26e-11ea-abc8-acde48001122\n",
      "[2020-09-09 13:01:47,458] {loghandler.py:20} MainThread INFO in loghandler: filepath /Users/kd/Workspace/project/anuvaad/anuvaad-etl/anuvaad-extractor/block-merger/src/notebooks/sample-data/input/2035_2009_15_101_17709_Judgement_24-Oct-2019_HIN.pdf, working_dir /Users/kd/Workspace/project/anuvaad/anuvaad-etl/anuvaad-extractor/block-merger/src/notebooks/sample-data/input/2035_2009_15_101_17709_Judgement_24-Oct-2019_HIN_84ae6b46-f26e-11ea-abc8-acde48001122\n",
      "[2020-09-09 13:01:48,871] {loghandler.py:20} MainThread INFO in loghandler: Extracting xml of /Users/kd/Workspace/project/anuvaad/anuvaad-etl/anuvaad-extractor/block-merger/src/notebooks/sample-data/input/2035_2009_15_101_17709_Judgement_24-Oct-2019_HIN.pdf\n",
      "[2020-09-09 13:01:49,330] {loghandler.py:20} MainThread INFO in loghandler: Extracting background images of /Users/kd/Workspace/project/anuvaad/anuvaad-etl/anuvaad-extractor/block-merger/src/notebooks/sample-data/input/2035_2009_15_101_17709_Judgement_24-Oct-2019_HIN.pdf\n",
      "[2020-09-09 13:01:49,330] {loghandler.py:20} MainThread INFO in loghandler: Extraction of /Users/kd/Workspace/project/anuvaad/anuvaad-etl/anuvaad-extractor/block-merger/src/notebooks/sample-data/input/2035_2009_15_101_17709_Judgement_24-Oct-2019_HIN.pdf completed in 1.872147798538208\n",
      "Total number of pages (9) in file (2035_2009_15_101_17709_Judgement_24-Oct-2019_HIN.xml)\n",
      "Total number of pages (9) in file (2035_2009_15_101_17709_Judgement_24-Oct-2019_HIN.xml)\n",
      "[2020-09-09 13:01:49,440] {loghandler.py:20} MainThread INFO in loghandler: process_input_pdf: created dataframes successfully\n",
      "[2020-09-09 13:01:49,441] {loghandler.py:20} MainThread INFO in loghandler: Processing of process_input_pdf completed in 1.9843919277191162/9, average per page 0.22048799196879068\n",
      "[2020-09-09 13:01:49,922] {loghandler.py:20} MainThread INFO in loghandler: Header Footer detection completed successfully  in time 0.48008012771606445 \n",
      "[2020-09-09 13:01:49,923] {loghandler.py:20} MainThread INFO in loghandler: Footers found 2 \n",
      "[2020-09-09 13:01:49,923] {loghandler.py:20} MainThread INFO in loghandler: Headers found 1\n",
      "[2020-09-09 13:01:49,924] {loghandler.py:20} MainThread INFO in loghandler: document preprocessing successfully completed\n",
      "[2020-09-09 13:01:49,925] {loghandler.py:20} MainThread INFO in loghandler: document structure analysis started  ===>\n",
      "[2020-09-09 13:01:49,925] {loghandler.py:20} MainThread INFO in loghandler: TableExtractor service started\n"
     ]
    },
    {
     "name": "stderr",
     "output_type": "stream",
     "text": [
      "/Users/kd/miniconda3/envs/cv3/lib/python3.5/site-packages/pandas/core/indexing.py:205: SettingWithCopyWarning: \n",
      "A value is trying to be set on a copy of a slice from a DataFrame\n",
      "\n",
      "See the caveats in the documentation: http://pandas.pydata.org/pandas-docs/stable/user_guide/indexing.html#returning-a-view-versus-a-copy\n",
      "  self._setitem_with_indexer(indexer, value)\n"
     ]
    },
    {
     "name": "stdout",
     "output_type": "stream",
     "text": [
      "[2020-09-09 13:01:51,643] {loghandler.py:20} MainThread INFO in loghandler: Processing of get_hdfs completed in 1.422515869140625/9, average per page 0.1580573187934028\n",
      "[2020-09-09 13:01:51,939] {loghandler.py:20} MainThread INFO in loghandler: Processing of get_vdfs completed in 0.2947061061859131/9, average per page 0.0327451229095459\n"
     ]
    },
    {
     "name": "stderr",
     "output_type": "stream",
     "text": [
      "/Users/kd/miniconda3/envs/cv3/lib/python3.5/site-packages/pandas/core/frame.py:7138: FutureWarning: Sorting because non-concatenation axis is not aligned. A future version\n",
      "of pandas will change to not sort by default.\n",
      "\n",
      "To accept the future behavior, pass 'sort=False'.\n",
      "\n",
      "To retain the current behavior and silence the warning, pass 'sort=True'.\n",
      "\n",
      "  sort=sort,\n"
     ]
    },
    {
     "name": "stdout",
     "output_type": "stream",
     "text": [
      "[2020-09-09 13:01:52,522] {loghandler.py:20} MainThread INFO in loghandler: Processing of get_hdfs completed in 0.5818228721618652/9, average per page 0.0646469857957628\n",
      "[2020-09-09 13:01:52,538] {loghandler.py:20} MainThread INFO in loghandler: UnderLineDetection successfully completed\n",
      "[2020-09-09 13:01:52,966] {loghandler.py:20} MainThread INFO in loghandler: Processing of unify_child_text_blocks completed in 0.4264190196990967/9, average per page 0.04737989107767741\n"
     ]
    },
    {
     "name": "stderr",
     "output_type": "stream",
     "text": [
      "/Users/kd/Workspace/project/anuvaad/anuvaad-etl/anuvaad-extractor/block-merger/src/services/child_text_unify_to_parent.py:65: SettingWithCopyWarning: \n",
      "A value is trying to be set on a copy of a slice from a DataFrame\n",
      "\n",
      "See the caveats in the documentation: http://pandas.pydata.org/pandas-docs/stable/user_guide/indexing.html#returning-a-view-versus-a-copy\n",
      "  new_df.iloc[block_index]['text'] = str(text)\n"
     ]
    },
    {
     "name": "stdout",
     "output_type": "stream",
     "text": [
      "[2020-09-09 13:01:53,636] {loghandler.py:20} MainThread INFO in loghandler: Processing of unify_child_text_blocks completed in 0.6692891120910645/9, average per page 0.07436545689900716\n",
      "[2020-09-09 13:01:53,637] {loghandler.py:20} MainThread INFO in loghandler: document structure analysis successfully completed\n",
      "[2020-09-09 13:01:53,638] {loghandler.py:20} MainThread INFO in loghandler: document structure response started  ===>\n",
      "[2020-09-09 13:01:54,184] {loghandler.py:20} MainThread INFO in loghandler: document structure response successfully completed\n",
      "[2020-09-09 13:01:54,184] {loghandler.py:20} MainThread INFO in loghandler: DocumentStructure : successfully received blocks in json response\n",
      "[2020-09-09 13:01:54,185] {loghandler.py:48} MainThread DEBUG in loghandler: Block merger starting processing <module 'src.utilities.app_context' from '/Users/kd/Workspace/project/anuvaad/anuvaad-etl/anuvaad-extractor/block-merger/src/utilities/app_context.py'>\n",
      "[2020-09-09 13:01:54,187] {loghandler.py:20} MainThread INFO in loghandler: document preprocessing started ===>\n",
      "[2020-09-09 13:01:54,187] {loghandler.py:20} MainThread INFO in loghandler: created processing directories successfully /Users/kd/Workspace/project/anuvaad/anuvaad-etl/anuvaad-extractor/block-merger/src/notebooks/sample-data/input/20521_88b17292-f26e-11ea-9146-acde48001122\n",
      "[2020-09-09 13:01:54,188] {loghandler.py:20} MainThread INFO in loghandler: filepath /Users/kd/Workspace/project/anuvaad/anuvaad-etl/anuvaad-extractor/block-merger/src/notebooks/sample-data/input/20521.pdf, working_dir /Users/kd/Workspace/project/anuvaad/anuvaad-etl/anuvaad-extractor/block-merger/src/notebooks/sample-data/input/20521_88b17292-f26e-11ea-9146-acde48001122\n",
      "[2020-09-09 13:01:55,244] {loghandler.py:20} MainThread INFO in loghandler: Extracting xml of /Users/kd/Workspace/project/anuvaad/anuvaad-etl/anuvaad-extractor/block-merger/src/notebooks/sample-data/input/20521.pdf\n",
      "[2020-09-09 13:01:55,666] {loghandler.py:20} MainThread INFO in loghandler: Extracting background images of /Users/kd/Workspace/project/anuvaad/anuvaad-etl/anuvaad-extractor/block-merger/src/notebooks/sample-data/input/20521.pdf\n",
      "[2020-09-09 13:01:55,667] {loghandler.py:20} MainThread INFO in loghandler: Extraction of /Users/kd/Workspace/project/anuvaad/anuvaad-etl/anuvaad-extractor/block-merger/src/notebooks/sample-data/input/20521.pdf completed in 1.4782140254974365\n",
      "Total number of pages (5) in file (20521.xml)\n",
      "Total number of pages (5) in file (20521.xml)\n",
      "[2020-09-09 13:01:55,758] {loghandler.py:20} MainThread INFO in loghandler: process_input_pdf: created dataframes successfully\n",
      "[2020-09-09 13:01:55,759] {loghandler.py:20} MainThread INFO in loghandler: Processing of process_input_pdf completed in 1.571470022201538/5, average per page 0.31429400444030764\n",
      "[2020-09-09 13:01:56,196] {loghandler.py:20} MainThread INFO in loghandler: Header Footer detection completed successfully  in time 0.43702101707458496 \n",
      "[2020-09-09 13:01:56,197] {loghandler.py:20} MainThread INFO in loghandler: Footers found 4 \n",
      "[2020-09-09 13:01:56,198] {loghandler.py:20} MainThread INFO in loghandler: Headers found 3\n",
      "[2020-09-09 13:01:56,200] {loghandler.py:20} MainThread INFO in loghandler: document preprocessing successfully completed\n",
      "[2020-09-09 13:01:56,201] {loghandler.py:20} MainThread INFO in loghandler: document structure analysis started  ===>\n",
      "[2020-09-09 13:01:56,202] {loghandler.py:20} MainThread INFO in loghandler: TableExtractor service started\n"
     ]
    },
    {
     "name": "stderr",
     "output_type": "stream",
     "text": [
      "/Users/kd/miniconda3/envs/cv3/lib/python3.5/site-packages/pandas/core/indexing.py:205: SettingWithCopyWarning: \n",
      "A value is trying to be set on a copy of a slice from a DataFrame\n",
      "\n",
      "See the caveats in the documentation: http://pandas.pydata.org/pandas-docs/stable/user_guide/indexing.html#returning-a-view-versus-a-copy\n",
      "  self._setitem_with_indexer(indexer, value)\n"
     ]
    },
    {
     "name": "stdout",
     "output_type": "stream",
     "text": [
      "[2020-09-09 13:01:58,139] {loghandler.py:20} MainThread INFO in loghandler: Processing of get_hdfs completed in 1.4581811428070068/5, average per page 0.29163622856140137\n",
      "[2020-09-09 13:01:58,366] {loghandler.py:20} MainThread INFO in loghandler: Processing of get_vdfs completed in 0.22695302963256836/5, average per page 0.04539060592651367\n"
     ]
    },
    {
     "name": "stderr",
     "output_type": "stream",
     "text": [
      "/Users/kd/miniconda3/envs/cv3/lib/python3.5/site-packages/pandas/core/frame.py:7138: FutureWarning: Sorting because non-concatenation axis is not aligned. A future version\n",
      "of pandas will change to not sort by default.\n",
      "\n",
      "To accept the future behavior, pass 'sort=False'.\n",
      "\n",
      "To retain the current behavior and silence the warning, pass 'sort=True'.\n",
      "\n",
      "  sort=sort,\n"
     ]
    },
    {
     "name": "stdout",
     "output_type": "stream",
     "text": [
      "[2020-09-09 13:01:58,979] {loghandler.py:20} MainThread INFO in loghandler: Processing of get_hdfs completed in 0.611893892288208/5, average per page 0.1223787784576416\n",
      "[2020-09-09 13:01:58,985] {loghandler.py:20} MainThread INFO in loghandler: UnderLineDetection successfully completed\n",
      "[2020-09-09 13:01:59,592] {loghandler.py:20} MainThread INFO in loghandler: Processing of unify_child_text_blocks completed in 0.6056530475616455/5, average per page 0.1211306095123291\n"
     ]
    },
    {
     "name": "stderr",
     "output_type": "stream",
     "text": [
      "/Users/kd/Workspace/project/anuvaad/anuvaad-etl/anuvaad-extractor/block-merger/src/services/child_text_unify_to_parent.py:65: SettingWithCopyWarning: \n",
      "A value is trying to be set on a copy of a slice from a DataFrame\n",
      "\n",
      "See the caveats in the documentation: http://pandas.pydata.org/pandas-docs/stable/user_guide/indexing.html#returning-a-view-versus-a-copy\n",
      "  new_df.iloc[block_index]['text'] = str(text)\n"
     ]
    },
    {
     "name": "stdout",
     "output_type": "stream",
     "text": [
      "[2020-09-09 13:02:00,448] {loghandler.py:20} MainThread INFO in loghandler: Processing of unify_child_text_blocks completed in 0.8549370765686035/5, average per page 0.1709874153137207\n",
      "[2020-09-09 13:02:00,449] {loghandler.py:20} MainThread INFO in loghandler: document structure analysis successfully completed\n",
      "[2020-09-09 13:02:00,450] {loghandler.py:20} MainThread INFO in loghandler: document structure response started  ===>\n",
      "[2020-09-09 13:02:01,159] {loghandler.py:20} MainThread INFO in loghandler: document structure response successfully completed\n",
      "[2020-09-09 13:02:01,160] {loghandler.py:20} MainThread INFO in loghandler: DocumentStructure : successfully received blocks in json response\n",
      "[2020-09-09 13:02:01,161] {loghandler.py:48} MainThread DEBUG in loghandler: Block merger starting processing <module 'src.utilities.app_context' from '/Users/kd/Workspace/project/anuvaad/anuvaad-etl/anuvaad-extractor/block-merger/src/utilities/app_context.py'>\n",
      "[2020-09-09 13:02:01,162] {loghandler.py:20} MainThread INFO in loghandler: document preprocessing started ===>\n",
      "[2020-09-09 13:02:01,164] {loghandler.py:20} MainThread INFO in loghandler: created processing directories successfully /Users/kd/Workspace/project/anuvaad/anuvaad-etl/anuvaad-extractor/block-merger/src/notebooks/sample-data/input/20695_2010_8_1501_20635_Judgement_17-Feb-2020_8cd9ed22-f26e-11ea-bc37-acde48001122\n",
      "[2020-09-09 13:02:01,165] {loghandler.py:20} MainThread INFO in loghandler: filepath /Users/kd/Workspace/project/anuvaad/anuvaad-etl/anuvaad-extractor/block-merger/src/notebooks/sample-data/input/20695_2010_8_1501_20635_Judgement_17-Feb-2020.pdf, working_dir /Users/kd/Workspace/project/anuvaad/anuvaad-etl/anuvaad-extractor/block-merger/src/notebooks/sample-data/input/20695_2010_8_1501_20635_Judgement_17-Feb-2020_8cd9ed22-f26e-11ea-bc37-acde48001122\n",
      "[2020-09-09 13:02:08,713] {loghandler.py:20} MainThread INFO in loghandler: Extracting xml of /Users/kd/Workspace/project/anuvaad/anuvaad-etl/anuvaad-extractor/block-merger/src/notebooks/sample-data/input/20695_2010_8_1501_20635_Judgement_17-Feb-2020.pdf\n",
      "[2020-09-09 13:02:11,303] {loghandler.py:20} MainThread INFO in loghandler: Extracting background images of /Users/kd/Workspace/project/anuvaad/anuvaad-etl/anuvaad-extractor/block-merger/src/notebooks/sample-data/input/20695_2010_8_1501_20635_Judgement_17-Feb-2020.pdf\n",
      "[2020-09-09 13:02:11,304] {loghandler.py:20} MainThread INFO in loghandler: Extraction of /Users/kd/Workspace/project/anuvaad/anuvaad-etl/anuvaad-extractor/block-merger/src/notebooks/sample-data/input/20695_2010_8_1501_20635_Judgement_17-Feb-2020.pdf completed in 10.139300107955933\n",
      "Total number of pages (54) in file (20695_2010_8_1501_20635_Judgement_17-Feb-2020.xml)\n",
      "Total number of pages (54) in file (20695_2010_8_1501_20635_Judgement_17-Feb-2020.xml)\n",
      "[2020-09-09 13:02:11,946] {loghandler.py:20} MainThread INFO in loghandler: process_input_pdf: created dataframes successfully\n",
      "[2020-09-09 13:02:11,947] {loghandler.py:20} MainThread INFO in loghandler: Processing of process_input_pdf completed in 10.783361911773682/54, average per page 0.19969188725506817\n",
      "[2020-09-09 13:02:13,393] {loghandler.py:20} MainThread INFO in loghandler: Header Footer detection completed successfully  in time 1.4450838565826416 \n",
      "[2020-09-09 13:02:13,393] {loghandler.py:20} MainThread INFO in loghandler: Footers found 0 \n",
      "[2020-09-09 13:02:13,394] {loghandler.py:20} MainThread INFO in loghandler: Headers found 0\n",
      "[2020-09-09 13:02:13,395] {loghandler.py:20} MainThread INFO in loghandler: document preprocessing successfully completed\n",
      "[2020-09-09 13:02:13,396] {loghandler.py:20} MainThread INFO in loghandler: document structure analysis started  ===>\n",
      "[2020-09-09 13:02:13,396] {loghandler.py:20} MainThread INFO in loghandler: TableExtractor service started\n",
      "[2020-09-09 13:02:25,728] {loghandler.py:20} MainThread INFO in loghandler: Processing of get_hdfs completed in 10.3523850440979/54, average per page 0.19171083414996112\n",
      "[2020-09-09 13:02:27,829] {loghandler.py:20} MainThread INFO in loghandler: Processing of get_vdfs completed in 2.0996921062469482/54, average per page 0.038883187152721266\n"
     ]
    },
    {
     "name": "stderr",
     "output_type": "stream",
     "text": [
      "/Users/kd/miniconda3/envs/cv3/lib/python3.5/site-packages/pandas/core/frame.py:7138: FutureWarning: Sorting because non-concatenation axis is not aligned. A future version\n",
      "of pandas will change to not sort by default.\n",
      "\n",
      "To accept the future behavior, pass 'sort=False'.\n",
      "\n",
      "To retain the current behavior and silence the warning, pass 'sort=True'.\n",
      "\n",
      "  sort=sort,\n"
     ]
    },
    {
     "name": "stdout",
     "output_type": "stream",
     "text": [
      "[2020-09-09 13:02:34,009] {loghandler.py:20} MainThread INFO in loghandler: Processing of get_hdfs completed in 6.1792991161346436/54, average per page 0.11443146511360451\n",
      "[2020-09-09 13:02:34,120] {loghandler.py:20} MainThread INFO in loghandler: UnderLineDetection successfully completed\n"
     ]
    },
    {
     "name": "stderr",
     "output_type": "stream",
     "text": [
      "/Users/kd/miniconda3/envs/cv3/lib/python3.5/site-packages/pandas/core/indexing.py:205: SettingWithCopyWarning: \n",
      "A value is trying to be set on a copy of a slice from a DataFrame\n",
      "\n",
      "See the caveats in the documentation: http://pandas.pydata.org/pandas-docs/stable/user_guide/indexing.html#returning-a-view-versus-a-copy\n",
      "  self._setitem_with_indexer(indexer, value)\n"
     ]
    },
    {
     "name": "stdout",
     "output_type": "stream",
     "text": [
      "[2020-09-09 13:02:39,124] {loghandler.py:20} MainThread INFO in loghandler: Processing of unify_child_text_blocks completed in 5.002769947052002/54, average per page 0.0926438879083704\n"
     ]
    },
    {
     "name": "stderr",
     "output_type": "stream",
     "text": [
      "/Users/kd/Workspace/project/anuvaad/anuvaad-etl/anuvaad-extractor/block-merger/src/services/child_text_unify_to_parent.py:65: SettingWithCopyWarning: \n",
      "A value is trying to be set on a copy of a slice from a DataFrame\n",
      "\n",
      "See the caveats in the documentation: http://pandas.pydata.org/pandas-docs/stable/user_guide/indexing.html#returning-a-view-versus-a-copy\n",
      "  new_df.iloc[block_index]['text'] = str(text)\n"
     ]
    },
    {
     "name": "stdout",
     "output_type": "stream",
     "text": [
      "[2020-09-09 13:02:48,151] {loghandler.py:20} MainThread INFO in loghandler: Processing of unify_child_text_blocks completed in 9.025745868682861/54, average per page 0.16714344201264558\n",
      "[2020-09-09 13:02:48,152] {loghandler.py:20} MainThread INFO in loghandler: document structure analysis successfully completed\n",
      "[2020-09-09 13:02:48,155] {loghandler.py:20} MainThread INFO in loghandler: document structure response started  ===>\n",
      "[2020-09-09 13:02:56,617] {loghandler.py:20} MainThread INFO in loghandler: document structure response successfully completed\n",
      "[2020-09-09 13:02:56,617] {loghandler.py:20} MainThread INFO in loghandler: DocumentStructure : successfully received blocks in json response\n",
      "[2020-09-09 13:02:56,622] {loghandler.py:48} MainThread DEBUG in loghandler: Block merger starting processing <module 'src.utilities.app_context' from '/Users/kd/Workspace/project/anuvaad/anuvaad-etl/anuvaad-extractor/block-merger/src/utilities/app_context.py'>\n",
      "[2020-09-09 13:02:56,622] {loghandler.py:20} MainThread INFO in loghandler: document preprocessing started ===>\n",
      "[2020-09-09 13:02:56,624] {loghandler.py:20} MainThread INFO in loghandler: created processing directories successfully /Users/kd/Workspace/project/anuvaad/anuvaad-etl/anuvaad-extractor/block-merger/src/notebooks/sample-data/input/215908_ade87876-f26e-11ea-870f-acde48001122\n",
      "[2020-09-09 13:02:56,625] {loghandler.py:20} MainThread INFO in loghandler: filepath /Users/kd/Workspace/project/anuvaad/anuvaad-etl/anuvaad-extractor/block-merger/src/notebooks/sample-data/input/215908.pdf, working_dir /Users/kd/Workspace/project/anuvaad/anuvaad-etl/anuvaad-extractor/block-merger/src/notebooks/sample-data/input/215908_ade87876-f26e-11ea-870f-acde48001122\n",
      "[2020-09-09 13:02:57,542] {loghandler.py:20} MainThread INFO in loghandler: Extracting xml of /Users/kd/Workspace/project/anuvaad/anuvaad-etl/anuvaad-extractor/block-merger/src/notebooks/sample-data/input/215908.pdf\n",
      "[2020-09-09 13:02:57,877] {loghandler.py:20} MainThread INFO in loghandler: Extracting background images of /Users/kd/Workspace/project/anuvaad/anuvaad-etl/anuvaad-extractor/block-merger/src/notebooks/sample-data/input/215908.pdf\n",
      "[2020-09-09 13:02:57,878] {loghandler.py:20} MainThread INFO in loghandler: Extraction of /Users/kd/Workspace/project/anuvaad/anuvaad-etl/anuvaad-extractor/block-merger/src/notebooks/sample-data/input/215908.pdf completed in 1.2530128955841064\n",
      "Total number of pages (4) in file (215908.xml)\n",
      "Total number of pages (4) in file (215908.xml)\n",
      "[2020-09-09 13:02:57,973] {loghandler.py:20} MainThread INFO in loghandler: process_input_pdf: created dataframes successfully\n",
      "[2020-09-09 13:02:57,974] {loghandler.py:20} MainThread INFO in loghandler: Processing of process_input_pdf completed in 1.3500709533691406/4, average per page 0.33751773834228516\n",
      "[2020-09-09 13:02:58,310] {loghandler.py:20} MainThread INFO in loghandler: Header Footer detection completed successfully  in time 0.33573293685913086 \n",
      "[2020-09-09 13:02:58,311] {loghandler.py:20} MainThread INFO in loghandler: Footers found 0 \n",
      "[2020-09-09 13:02:58,312] {loghandler.py:20} MainThread INFO in loghandler: Headers found 0\n",
      "[2020-09-09 13:02:58,313] {loghandler.py:20} MainThread INFO in loghandler: document preprocessing successfully completed\n",
      "[2020-09-09 13:02:58,314] {loghandler.py:20} MainThread INFO in loghandler: document structure analysis started  ===>\n",
      "[2020-09-09 13:02:58,315] {loghandler.py:20} MainThread INFO in loghandler: TableExtractor service started\n",
      "[2020-09-09 13:03:00,054] {loghandler.py:20} MainThread INFO in loghandler: Processing of get_hdfs completed in 1.3501851558685303/4, average per page 0.33754628896713257\n",
      "[2020-09-09 13:03:00,267] {loghandler.py:20} MainThread INFO in loghandler: Processing of get_vdfs completed in 0.21263504028320312/4, average per page 0.05315876007080078\n",
      "[2020-09-09 13:03:00,682] {loghandler.py:20} MainThread INFO in loghandler: Processing of get_hdfs completed in 0.41431713104248047/4, average per page 0.10357928276062012\n",
      "[2020-09-09 13:03:00,735] {loghandler.py:20} MainThread INFO in loghandler: UnderLineDetection successfully completed\n"
     ]
    },
    {
     "name": "stderr",
     "output_type": "stream",
     "text": [
      "/Users/kd/miniconda3/envs/cv3/lib/python3.5/site-packages/pandas/core/frame.py:7138: FutureWarning: Sorting because non-concatenation axis is not aligned. A future version\n",
      "of pandas will change to not sort by default.\n",
      "\n",
      "To accept the future behavior, pass 'sort=False'.\n",
      "\n",
      "To retain the current behavior and silence the warning, pass 'sort=True'.\n",
      "\n",
      "  sort=sort,\n",
      "/Users/kd/miniconda3/envs/cv3/lib/python3.5/site-packages/pandas/core/indexing.py:205: SettingWithCopyWarning: \n",
      "A value is trying to be set on a copy of a slice from a DataFrame\n",
      "\n",
      "See the caveats in the documentation: http://pandas.pydata.org/pandas-docs/stable/user_guide/indexing.html#returning-a-view-versus-a-copy\n",
      "  self._setitem_with_indexer(indexer, value)\n"
     ]
    },
    {
     "name": "stdout",
     "output_type": "stream",
     "text": [
      "[2020-09-09 13:03:01,264] {loghandler.py:20} MainThread INFO in loghandler: Processing of unify_child_text_blocks completed in 0.5282008647918701/4, average per page 0.13205021619796753\n"
     ]
    },
    {
     "name": "stderr",
     "output_type": "stream",
     "text": [
      "/Users/kd/Workspace/project/anuvaad/anuvaad-etl/anuvaad-extractor/block-merger/src/services/child_text_unify_to_parent.py:65: SettingWithCopyWarning: \n",
      "A value is trying to be set on a copy of a slice from a DataFrame\n",
      "\n",
      "See the caveats in the documentation: http://pandas.pydata.org/pandas-docs/stable/user_guide/indexing.html#returning-a-view-versus-a-copy\n",
      "  new_df.iloc[block_index]['text'] = str(text)\n"
     ]
    },
    {
     "name": "stdout",
     "output_type": "stream",
     "text": [
      "[2020-09-09 13:03:01,953] {loghandler.py:20} MainThread INFO in loghandler: Processing of unify_child_text_blocks completed in 0.6882421970367432/4, average per page 0.1720605492591858\n",
      "[2020-09-09 13:03:01,953] {loghandler.py:20} MainThread INFO in loghandler: document structure analysis successfully completed\n",
      "[2020-09-09 13:03:01,955] {loghandler.py:20} MainThread INFO in loghandler: document structure response started  ===>\n",
      "[2020-09-09 13:03:02,629] {loghandler.py:20} MainThread INFO in loghandler: document structure response successfully completed\n",
      "[2020-09-09 13:03:02,630] {loghandler.py:20} MainThread INFO in loghandler: DocumentStructure : successfully received blocks in json response\n",
      "[2020-09-09 13:03:02,634] {loghandler.py:48} MainThread DEBUG in loghandler: Block merger starting processing <module 'src.utilities.app_context' from '/Users/kd/Workspace/project/anuvaad/anuvaad-etl/anuvaad-extractor/block-merger/src/utilities/app_context.py'>\n",
      "[2020-09-09 13:03:02,635] {loghandler.py:20} MainThread INFO in loghandler: document preprocessing started ===>\n",
      "[2020-09-09 13:03:02,636] {loghandler.py:20} MainThread INFO in loghandler: created processing directories successfully /Users/kd/Workspace/project/anuvaad/anuvaad-etl/anuvaad-extractor/block-merger/src/notebooks/sample-data/input/270_2012_34_1501_23302_Order_05-Aug-2020_b17dd026-f26e-11ea-ab62-acde48001122\n",
      "[2020-09-09 13:03:02,637] {loghandler.py:20} MainThread INFO in loghandler: filepath /Users/kd/Workspace/project/anuvaad/anuvaad-etl/anuvaad-extractor/block-merger/src/notebooks/sample-data/input/270_2012_34_1501_23302_Order_05-Aug-2020.pdf, working_dir /Users/kd/Workspace/project/anuvaad/anuvaad-etl/anuvaad-extractor/block-merger/src/notebooks/sample-data/input/270_2012_34_1501_23302_Order_05-Aug-2020_b17dd026-f26e-11ea-ab62-acde48001122\n",
      "[2020-09-09 13:03:02,978] {loghandler.py:20} MainThread INFO in loghandler: Extracting xml of /Users/kd/Workspace/project/anuvaad/anuvaad-etl/anuvaad-extractor/block-merger/src/notebooks/sample-data/input/270_2012_34_1501_23302_Order_05-Aug-2020.pdf\n",
      "[2020-09-09 13:03:03,090] {loghandler.py:20} MainThread INFO in loghandler: Extracting background images of /Users/kd/Workspace/project/anuvaad/anuvaad-etl/anuvaad-extractor/block-merger/src/notebooks/sample-data/input/270_2012_34_1501_23302_Order_05-Aug-2020.pdf\n",
      "[2020-09-09 13:03:03,090] {loghandler.py:20} MainThread INFO in loghandler: Extraction of /Users/kd/Workspace/project/anuvaad/anuvaad-etl/anuvaad-extractor/block-merger/src/notebooks/sample-data/input/270_2012_34_1501_23302_Order_05-Aug-2020.pdf completed in 0.4538569450378418\n",
      "Total number of pages (2) in file (270_2012_34_1501_23302_Order_05-Aug-2020.xml)\n",
      "Total number of pages (2) in file (270_2012_34_1501_23302_Order_05-Aug-2020.xml)\n",
      "[2020-09-09 13:03:03,122] {loghandler.py:20} MainThread INFO in loghandler: process_input_pdf: created dataframes successfully\n",
      "[2020-09-09 13:03:03,123] {loghandler.py:20} MainThread INFO in loghandler: Processing of process_input_pdf completed in 0.4875028133392334/2, average per page 0.2437514066696167\n",
      "[2020-09-09 13:03:03,261] {loghandler.py:20} MainThread INFO in loghandler: Header Footer detection completed successfully  in time 0.13746118545532227 \n",
      "[2020-09-09 13:03:03,262] {loghandler.py:20} MainThread INFO in loghandler: Footers found 1 \n",
      "[2020-09-09 13:03:03,263] {loghandler.py:20} MainThread INFO in loghandler: Headers found 0\n",
      "[2020-09-09 13:03:03,264] {loghandler.py:20} MainThread INFO in loghandler: document preprocessing successfully completed\n",
      "[2020-09-09 13:03:03,265] {loghandler.py:20} MainThread INFO in loghandler: document structure analysis started  ===>\n",
      "[2020-09-09 13:03:03,265] {loghandler.py:20} MainThread INFO in loghandler: TableExtractor service started\n"
     ]
    },
    {
     "name": "stderr",
     "output_type": "stream",
     "text": [
      "/Users/kd/miniconda3/envs/cv3/lib/python3.5/site-packages/pandas/core/indexing.py:205: SettingWithCopyWarning: \n",
      "A value is trying to be set on a copy of a slice from a DataFrame\n",
      "\n",
      "See the caveats in the documentation: http://pandas.pydata.org/pandas-docs/stable/user_guide/indexing.html#returning-a-view-versus-a-copy\n",
      "  self._setitem_with_indexer(indexer, value)\n"
     ]
    },
    {
     "name": "stdout",
     "output_type": "stream",
     "text": [
      "[2020-09-09 13:03:03,724] {loghandler.py:20} MainThread INFO in loghandler: Processing of get_hdfs completed in 0.384350061416626/2, average per page 0.192175030708313\n",
      "[2020-09-09 13:03:03,805] {loghandler.py:20} MainThread INFO in loghandler: Processing of get_vdfs completed in 0.07935214042663574/2, average per page 0.03967607021331787\n",
      "[2020-09-09 13:03:04,131] {loghandler.py:20} MainThread INFO in loghandler: Processing of get_hdfs completed in 0.3252370357513428/2, average per page 0.1626185178756714\n",
      "[2020-09-09 13:03:04,134] {loghandler.py:20} MainThread INFO in loghandler: UnderLineDetection successfully completed\n",
      "[2020-09-09 13:03:04,185] {loghandler.py:20} MainThread INFO in loghandler: Processing of unify_child_text_blocks completed in 0.05079293251037598/2, average per page 0.02539646625518799\n",
      "[2020-09-09 13:03:04,294] {loghandler.py:20} MainThread INFO in loghandler: Processing of unify_child_text_blocks completed in 0.1081089973449707/2, average per page 0.05405449867248535\n"
     ]
    },
    {
     "name": "stderr",
     "output_type": "stream",
     "text": [
      "/Users/kd/miniconda3/envs/cv3/lib/python3.5/site-packages/pandas/core/frame.py:7138: FutureWarning: Sorting because non-concatenation axis is not aligned. A future version\n",
      "of pandas will change to not sort by default.\n",
      "\n",
      "To accept the future behavior, pass 'sort=False'.\n",
      "\n",
      "To retain the current behavior and silence the warning, pass 'sort=True'.\n",
      "\n",
      "  sort=sort,\n",
      "/Users/kd/Workspace/project/anuvaad/anuvaad-etl/anuvaad-extractor/block-merger/src/services/child_text_unify_to_parent.py:65: SettingWithCopyWarning: \n",
      "A value is trying to be set on a copy of a slice from a DataFrame\n",
      "\n",
      "See the caveats in the documentation: http://pandas.pydata.org/pandas-docs/stable/user_guide/indexing.html#returning-a-view-versus-a-copy\n",
      "  new_df.iloc[block_index]['text'] = str(text)\n"
     ]
    },
    {
     "name": "stdout",
     "output_type": "stream",
     "text": [
      "[2020-09-09 13:03:04,295] {loghandler.py:20} MainThread INFO in loghandler: document structure analysis successfully completed\n",
      "[2020-09-09 13:03:04,296] {loghandler.py:20} MainThread INFO in loghandler: document structure response started  ===>\n",
      "[2020-09-09 13:03:04,359] {loghandler.py:20} MainThread INFO in loghandler: document structure response successfully completed\n",
      "[2020-09-09 13:03:04,360] {loghandler.py:20} MainThread INFO in loghandler: DocumentStructure : successfully received blocks in json response\n",
      "[2020-09-09 13:03:04,362] {loghandler.py:48} MainThread DEBUG in loghandler: Block merger starting processing <module 'src.utilities.app_context' from '/Users/kd/Workspace/project/anuvaad/anuvaad-etl/anuvaad-extractor/block-merger/src/utilities/app_context.py'>\n",
      "[2020-09-09 13:03:04,363] {loghandler.py:20} MainThread INFO in loghandler: document preprocessing started ===>\n",
      "[2020-09-09 13:03:04,363] {loghandler.py:20} MainThread INFO in loghandler: created processing directories successfully /Users/kd/Workspace/project/anuvaad/anuvaad-etl/anuvaad-extractor/block-merger/src/notebooks/sample-data/input/31.01.2020_b28579e4-f26e-11ea-80e8-acde48001122\n",
      "[2020-09-09 13:03:04,364] {loghandler.py:20} MainThread INFO in loghandler: filepath /Users/kd/Workspace/project/anuvaad/anuvaad-etl/anuvaad-extractor/block-merger/src/notebooks/sample-data/input/31.01.2020.pdf, working_dir /Users/kd/Workspace/project/anuvaad/anuvaad-etl/anuvaad-extractor/block-merger/src/notebooks/sample-data/input/31.01.2020_b28579e4-f26e-11ea-80e8-acde48001122\n",
      "[2020-09-09 13:03:04,984] {loghandler.py:20} MainThread INFO in loghandler: Extracting xml of /Users/kd/Workspace/project/anuvaad/anuvaad-etl/anuvaad-extractor/block-merger/src/notebooks/sample-data/input/31.01.2020.pdf\n",
      "[2020-09-09 13:03:05,189] {loghandler.py:20} MainThread INFO in loghandler: Extracting background images of /Users/kd/Workspace/project/anuvaad/anuvaad-etl/anuvaad-extractor/block-merger/src/notebooks/sample-data/input/31.01.2020.pdf\n",
      "[2020-09-09 13:03:05,190] {loghandler.py:20} MainThread INFO in loghandler: Extraction of /Users/kd/Workspace/project/anuvaad/anuvaad-etl/anuvaad-extractor/block-merger/src/notebooks/sample-data/input/31.01.2020.pdf completed in 0.825963020324707\n",
      "Total number of pages (4) in file (31.01.2020.xml)\n",
      "Total number of pages (4) in file (31.01.2020.xml)\n",
      "[2020-09-09 13:03:05,243] {loghandler.py:20} MainThread INFO in loghandler: process_input_pdf: created dataframes successfully\n",
      "[2020-09-09 13:03:05,243] {loghandler.py:20} MainThread INFO in loghandler: Processing of process_input_pdf completed in 0.8801300525665283/4, average per page 0.22003251314163208\n",
      "[2020-09-09 13:03:05,470] {loghandler.py:20} MainThread INFO in loghandler: Header Footer detection completed successfully  in time 0.22636079788208008 \n",
      "[2020-09-09 13:03:05,471] {loghandler.py:20} MainThread INFO in loghandler: Footers found 0 \n",
      "[2020-09-09 13:03:05,472] {loghandler.py:20} MainThread INFO in loghandler: Headers found 0\n",
      "[2020-09-09 13:03:05,473] {loghandler.py:20} MainThread INFO in loghandler: document preprocessing successfully completed\n",
      "[2020-09-09 13:03:05,473] {loghandler.py:20} MainThread INFO in loghandler: document structure analysis started  ===>\n",
      "[2020-09-09 13:03:05,474] {loghandler.py:20} MainThread INFO in loghandler: TableExtractor service started\n",
      "[2020-09-09 13:03:06,198] {loghandler.py:20} MainThread INFO in loghandler: Processing of get_hdfs completed in 0.5877640247344971/4, average per page 0.14694100618362427\n",
      "[2020-09-09 13:03:06,400] {loghandler.py:20} MainThread INFO in loghandler: Processing of get_vdfs completed in 0.20157718658447266/4, average per page 0.050394296646118164\n"
     ]
    },
    {
     "name": "stderr",
     "output_type": "stream",
     "text": [
      "/Users/kd/miniconda3/envs/cv3/lib/python3.5/site-packages/pandas/core/frame.py:7138: FutureWarning: Sorting because non-concatenation axis is not aligned. A future version\n",
      "of pandas will change to not sort by default.\n",
      "\n",
      "To accept the future behavior, pass 'sort=False'.\n",
      "\n",
      "To retain the current behavior and silence the warning, pass 'sort=True'.\n",
      "\n",
      "  sort=sort,\n"
     ]
    },
    {
     "name": "stdout",
     "output_type": "stream",
     "text": [
      "[2020-09-09 13:03:06,864] {loghandler.py:20} MainThread INFO in loghandler: Processing of get_hdfs completed in 0.4629080295562744/4, average per page 0.1157270073890686\n",
      "[2020-09-09 13:03:06,869] {loghandler.py:20} MainThread INFO in loghandler: UnderLineDetection successfully completed\n",
      "[2020-09-09 13:03:07,163] {loghandler.py:20} MainThread INFO in loghandler: Processing of unify_child_text_blocks completed in 0.29277801513671875/4, average per page 0.07319450378417969\n"
     ]
    },
    {
     "name": "stderr",
     "output_type": "stream",
     "text": [
      "/Users/kd/Workspace/project/anuvaad/anuvaad-etl/anuvaad-extractor/block-merger/src/services/child_text_unify_to_parent.py:65: SettingWithCopyWarning: \n",
      "A value is trying to be set on a copy of a slice from a DataFrame\n",
      "\n",
      "See the caveats in the documentation: http://pandas.pydata.org/pandas-docs/stable/user_guide/indexing.html#returning-a-view-versus-a-copy\n",
      "  new_df.iloc[block_index]['text'] = str(text)\n"
     ]
    },
    {
     "name": "stdout",
     "output_type": "stream",
     "text": [
      "[2020-09-09 13:03:07,724] {loghandler.py:20} MainThread INFO in loghandler: Processing of unify_child_text_blocks completed in 0.5604379177093506/4, average per page 0.14010947942733765\n",
      "[2020-09-09 13:03:07,726] {loghandler.py:20} MainThread INFO in loghandler: document structure analysis successfully completed\n",
      "[2020-09-09 13:03:07,727] {loghandler.py:20} MainThread INFO in loghandler: document structure response started  ===>\n",
      "[2020-09-09 13:03:08,262] {loghandler.py:20} MainThread INFO in loghandler: document structure response successfully completed\n",
      "[2020-09-09 13:03:08,263] {loghandler.py:20} MainThread INFO in loghandler: DocumentStructure : successfully received blocks in json response\n",
      "[2020-09-09 13:03:08,264] {loghandler.py:48} MainThread DEBUG in loghandler: Block merger starting processing <module 'src.utilities.app_context' from '/Users/kd/Workspace/project/anuvaad/anuvaad-etl/anuvaad-extractor/block-merger/src/utilities/app_context.py'>\n",
      "[2020-09-09 13:03:08,265] {loghandler.py:20} MainThread INFO in loghandler: document preprocessing started ===>\n",
      "[2020-09-09 13:03:08,266] {loghandler.py:20} MainThread INFO in loghandler: created processing directories successfully /Users/kd/Workspace/project/anuvaad/anuvaad-etl/anuvaad-extractor/block-merger/src/notebooks/sample-data/input/310120_b4d8e4b6-f26e-11ea-b61b-acde48001122\n",
      "[2020-09-09 13:03:08,267] {loghandler.py:20} MainThread INFO in loghandler: filepath /Users/kd/Workspace/project/anuvaad/anuvaad-etl/anuvaad-extractor/block-merger/src/notebooks/sample-data/input/310120.pdf, working_dir /Users/kd/Workspace/project/anuvaad/anuvaad-etl/anuvaad-extractor/block-merger/src/notebooks/sample-data/input/310120_b4d8e4b6-f26e-11ea-b61b-acde48001122\n",
      "[2020-09-09 13:03:08,717] {loghandler.py:20} MainThread INFO in loghandler: Extracting xml of /Users/kd/Workspace/project/anuvaad/anuvaad-etl/anuvaad-extractor/block-merger/src/notebooks/sample-data/input/310120.pdf\n",
      "[2020-09-09 13:03:08,877] {loghandler.py:20} MainThread INFO in loghandler: Extracting background images of /Users/kd/Workspace/project/anuvaad/anuvaad-etl/anuvaad-extractor/block-merger/src/notebooks/sample-data/input/310120.pdf\n",
      "[2020-09-09 13:03:08,878] {loghandler.py:20} MainThread INFO in loghandler: Extraction of /Users/kd/Workspace/project/anuvaad/anuvaad-etl/anuvaad-extractor/block-merger/src/notebooks/sample-data/input/310120.pdf completed in 0.611112117767334\n",
      "Total number of pages (3) in file (310120.xml)\n",
      "Total number of pages (3) in file (310120.xml)\n",
      "[2020-09-09 13:03:08,919] {loghandler.py:20} MainThread INFO in loghandler: process_input_pdf: created dataframes successfully\n",
      "[2020-09-09 13:03:08,921] {loghandler.py:20} MainThread INFO in loghandler: Processing of process_input_pdf completed in 0.6552560329437256/3, average per page 0.21841867764790854\n",
      "[2020-09-09 13:03:09,076] {loghandler.py:20} MainThread INFO in loghandler: Header Footer detection completed successfully  in time 0.15507006645202637 \n",
      "[2020-09-09 13:03:09,077] {loghandler.py:20} MainThread INFO in loghandler: Footers found 0 \n",
      "[2020-09-09 13:03:09,078] {loghandler.py:20} MainThread INFO in loghandler: Headers found 0\n",
      "[2020-09-09 13:03:09,079] {loghandler.py:20} MainThread INFO in loghandler: document preprocessing successfully completed\n",
      "[2020-09-09 13:03:09,080] {loghandler.py:20} MainThread INFO in loghandler: document structure analysis started  ===>\n",
      "[2020-09-09 13:03:09,081] {loghandler.py:20} MainThread INFO in loghandler: TableExtractor service started\n",
      "[2020-09-09 13:03:09,654] {loghandler.py:20} MainThread INFO in loghandler: Processing of get_hdfs completed in 0.46592092514038086/3, average per page 0.1553069750467936\n",
      "[2020-09-09 13:03:09,870] {loghandler.py:20} MainThread INFO in loghandler: Processing of get_vdfs completed in 0.21553897857666016/3, average per page 0.07184632619222005\n",
      "[2020-09-09 13:03:10,238] {loghandler.py:20} MainThread INFO in loghandler: Processing of get_hdfs completed in 0.3672490119934082/3, average per page 0.12241633733113606\n",
      "[2020-09-09 13:03:10,247] {loghandler.py:20} MainThread INFO in loghandler: UnderLineDetection successfully completed\n"
     ]
    },
    {
     "name": "stderr",
     "output_type": "stream",
     "text": [
      "/Users/kd/miniconda3/envs/cv3/lib/python3.5/site-packages/pandas/core/frame.py:7138: FutureWarning: Sorting because non-concatenation axis is not aligned. A future version\n",
      "of pandas will change to not sort by default.\n",
      "\n",
      "To accept the future behavior, pass 'sort=False'.\n",
      "\n",
      "To retain the current behavior and silence the warning, pass 'sort=True'.\n",
      "\n",
      "  sort=sort,\n"
     ]
    },
    {
     "name": "stdout",
     "output_type": "stream",
     "text": [
      "[2020-09-09 13:03:10,470] {loghandler.py:20} MainThread INFO in loghandler: Processing of unify_child_text_blocks completed in 0.22175192832946777/3, average per page 0.07391730944315593\n"
     ]
    },
    {
     "name": "stderr",
     "output_type": "stream",
     "text": [
      "/Users/kd/Workspace/project/anuvaad/anuvaad-etl/anuvaad-extractor/block-merger/src/services/child_text_unify_to_parent.py:65: SettingWithCopyWarning: \n",
      "A value is trying to be set on a copy of a slice from a DataFrame\n",
      "\n",
      "See the caveats in the documentation: http://pandas.pydata.org/pandas-docs/stable/user_guide/indexing.html#returning-a-view-versus-a-copy\n",
      "  new_df.iloc[block_index]['text'] = str(text)\n"
     ]
    },
    {
     "name": "stdout",
     "output_type": "stream",
     "text": [
      "[2020-09-09 13:03:10,906] {loghandler.py:20} MainThread INFO in loghandler: Processing of unify_child_text_blocks completed in 0.43476295471191406/3, average per page 0.14492098490397134\n",
      "[2020-09-09 13:03:10,906] {loghandler.py:20} MainThread INFO in loghandler: document structure analysis successfully completed\n",
      "[2020-09-09 13:03:10,907] {loghandler.py:20} MainThread INFO in loghandler: document structure response started  ===>\n",
      "[2020-09-09 13:03:11,308] {loghandler.py:20} MainThread INFO in loghandler: document structure response successfully completed\n",
      "[2020-09-09 13:03:11,308] {loghandler.py:20} MainThread INFO in loghandler: DocumentStructure : successfully received blocks in json response\n",
      "[2020-09-09 13:03:11,310] {loghandler.py:48} MainThread DEBUG in loghandler: Block merger starting processing <module 'src.utilities.app_context' from '/Users/kd/Workspace/project/anuvaad/anuvaad-etl/anuvaad-extractor/block-merger/src/utilities/app_context.py'>\n",
      "[2020-09-09 13:03:11,311] {loghandler.py:20} MainThread INFO in loghandler: document preprocessing started ===>\n",
      "[2020-09-09 13:03:11,312] {loghandler.py:20} MainThread INFO in loghandler: created processing directories successfully /Users/kd/Workspace/project/anuvaad/anuvaad-etl/anuvaad-extractor/block-merger/src/notebooks/sample-data/input/39900_b6a9b790-f26e-11ea-a936-acde48001122\n",
      "[2020-09-09 13:03:11,313] {loghandler.py:20} MainThread INFO in loghandler: filepath /Users/kd/Workspace/project/anuvaad/anuvaad-etl/anuvaad-extractor/block-merger/src/notebooks/sample-data/input/39900.pdf, working_dir /Users/kd/Workspace/project/anuvaad/anuvaad-etl/anuvaad-extractor/block-merger/src/notebooks/sample-data/input/39900_b6a9b790-f26e-11ea-a936-acde48001122\n",
      "[2020-09-09 13:03:13,419] {loghandler.py:20} MainThread INFO in loghandler: Extracting xml of /Users/kd/Workspace/project/anuvaad/anuvaad-etl/anuvaad-extractor/block-merger/src/notebooks/sample-data/input/39900.pdf\n",
      "[2020-09-09 13:03:14,721] {loghandler.py:20} MainThread INFO in loghandler: Extracting background images of /Users/kd/Workspace/project/anuvaad/anuvaad-etl/anuvaad-extractor/block-merger/src/notebooks/sample-data/input/39900.pdf\n",
      "[2020-09-09 13:03:14,722] {loghandler.py:20} MainThread INFO in loghandler: Extraction of /Users/kd/Workspace/project/anuvaad/anuvaad-etl/anuvaad-extractor/block-merger/src/notebooks/sample-data/input/39900.pdf completed in 3.40917706489563\n",
      "Total number of pages (13) in file (39900.xml)\n",
      "Total number of pages (13) in file (39900.xml)\n",
      "[2020-09-09 13:03:14,876] {loghandler.py:20} MainThread INFO in loghandler: process_input_pdf: created dataframes successfully\n",
      "[2020-09-09 13:03:14,877] {loghandler.py:20} MainThread INFO in loghandler: Processing of process_input_pdf completed in 3.5654280185699463/13, average per page 0.2742636937361497\n",
      "[2020-09-09 13:03:15,472] {loghandler.py:20} MainThread INFO in loghandler: Header Footer detection completed successfully  in time 0.5942349433898926 \n",
      "[2020-09-09 13:03:15,473] {loghandler.py:20} MainThread INFO in loghandler: Footers found 2 \n",
      "[2020-09-09 13:03:15,474] {loghandler.py:20} MainThread INFO in loghandler: Headers found 0\n",
      "[2020-09-09 13:03:15,475] {loghandler.py:20} MainThread INFO in loghandler: document preprocessing successfully completed\n",
      "[2020-09-09 13:03:15,476] {loghandler.py:20} MainThread INFO in loghandler: document structure analysis started  ===>\n",
      "[2020-09-09 13:03:15,477] {loghandler.py:20} MainThread INFO in loghandler: TableExtractor service started\n"
     ]
    },
    {
     "name": "stderr",
     "output_type": "stream",
     "text": [
      "/Users/kd/miniconda3/envs/cv3/lib/python3.5/site-packages/pandas/core/indexing.py:205: SettingWithCopyWarning: \n",
      "A value is trying to be set on a copy of a slice from a DataFrame\n",
      "\n",
      "See the caveats in the documentation: http://pandas.pydata.org/pandas-docs/stable/user_guide/indexing.html#returning-a-view-versus-a-copy\n",
      "  self._setitem_with_indexer(indexer, value)\n"
     ]
    },
    {
     "name": "stdout",
     "output_type": "stream",
     "text": [
      "[2020-09-09 13:03:18,088] {loghandler.py:20} MainThread INFO in loghandler: Processing of get_hdfs completed in 2.1595821380615234/13, average per page 0.1661217029278095\n",
      "[2020-09-09 13:03:18,607] {loghandler.py:20} MainThread INFO in loghandler: Processing of get_vdfs completed in 0.518683910369873/13, average per page 0.03989876233614408\n"
     ]
    },
    {
     "name": "stderr",
     "output_type": "stream",
     "text": [
      "/Users/kd/miniconda3/envs/cv3/lib/python3.5/site-packages/pandas/core/frame.py:7138: FutureWarning: Sorting because non-concatenation axis is not aligned. A future version\n",
      "of pandas will change to not sort by default.\n",
      "\n",
      "To accept the future behavior, pass 'sort=False'.\n",
      "\n",
      "To retain the current behavior and silence the warning, pass 'sort=True'.\n",
      "\n",
      "  sort=sort,\n"
     ]
    },
    {
     "name": "stdout",
     "output_type": "stream",
     "text": [
      "[2020-09-09 13:03:19,890] {loghandler.py:20} MainThread INFO in loghandler: Processing of get_hdfs completed in 1.281869888305664/13, average per page 0.09860537602351262\n",
      "[2020-09-09 13:03:20,004] {loghandler.py:20} MainThread INFO in loghandler: UnderLineDetection successfully completed\n",
      "[2020-09-09 13:03:20,728] {loghandler.py:20} MainThread INFO in loghandler: Processing of unify_child_text_blocks completed in 0.7221500873565674/13, average per page 0.05555000671973595\n"
     ]
    },
    {
     "name": "stderr",
     "output_type": "stream",
     "text": [
      "/Users/kd/Workspace/project/anuvaad/anuvaad-etl/anuvaad-extractor/block-merger/src/services/child_text_unify_to_parent.py:65: SettingWithCopyWarning: \n",
      "A value is trying to be set on a copy of a slice from a DataFrame\n",
      "\n",
      "See the caveats in the documentation: http://pandas.pydata.org/pandas-docs/stable/user_guide/indexing.html#returning-a-view-versus-a-copy\n",
      "  new_df.iloc[block_index]['text'] = str(text)\n"
     ]
    },
    {
     "name": "stdout",
     "output_type": "stream",
     "text": [
      "[2020-09-09 13:03:22,235] {loghandler.py:20} MainThread INFO in loghandler: Processing of unify_child_text_blocks completed in 1.5062758922576904/13, average per page 0.11586737632751465\n",
      "[2020-09-09 13:03:22,235] {loghandler.py:20} MainThread INFO in loghandler: document structure analysis successfully completed\n",
      "[2020-09-09 13:03:22,237] {loghandler.py:20} MainThread INFO in loghandler: document structure response started  ===>\n",
      "[2020-09-09 13:03:23,574] {loghandler.py:20} MainThread INFO in loghandler: document structure response successfully completed\n",
      "[2020-09-09 13:03:23,575] {loghandler.py:20} MainThread INFO in loghandler: DocumentStructure : successfully received blocks in json response\n",
      "[2020-09-09 13:03:23,578] {loghandler.py:48} MainThread DEBUG in loghandler: Block merger starting processing <module 'src.utilities.app_context' from '/Users/kd/Workspace/project/anuvaad/anuvaad-etl/anuvaad-extractor/block-merger/src/utilities/app_context.py'>\n",
      "[2020-09-09 13:03:23,579] {loghandler.py:20} MainThread INFO in loghandler: document preprocessing started ===>\n",
      "[2020-09-09 13:03:23,580] {loghandler.py:20} MainThread INFO in loghandler: created processing directories successfully /Users/kd/Workspace/project/anuvaad/anuvaad-etl/anuvaad-extractor/block-merger/src/notebooks/sample-data/input/4603_2017_11_1503_19663_Judgement_15-Jan-2020_bdf9b900-f26e-11ea-8937-acde48001122\n",
      "[2020-09-09 13:03:23,581] {loghandler.py:20} MainThread INFO in loghandler: filepath /Users/kd/Workspace/project/anuvaad/anuvaad-etl/anuvaad-extractor/block-merger/src/notebooks/sample-data/input/4603_2017_11_1503_19663_Judgement_15-Jan-2020.pdf, working_dir /Users/kd/Workspace/project/anuvaad/anuvaad-etl/anuvaad-extractor/block-merger/src/notebooks/sample-data/input/4603_2017_11_1503_19663_Judgement_15-Jan-2020_bdf9b900-f26e-11ea-8937-acde48001122\n",
      "[2020-09-09 13:03:24,837] {loghandler.py:20} MainThread INFO in loghandler: Extracting xml of /Users/kd/Workspace/project/anuvaad/anuvaad-etl/anuvaad-extractor/block-merger/src/notebooks/sample-data/input/4603_2017_11_1503_19663_Judgement_15-Jan-2020.pdf\n",
      "[2020-09-09 13:03:25,266] {loghandler.py:20} MainThread INFO in loghandler: Extracting background images of /Users/kd/Workspace/project/anuvaad/anuvaad-etl/anuvaad-extractor/block-merger/src/notebooks/sample-data/input/4603_2017_11_1503_19663_Judgement_15-Jan-2020.pdf\n",
      "[2020-09-09 13:03:25,267] {loghandler.py:20} MainThread INFO in loghandler: Extraction of /Users/kd/Workspace/project/anuvaad/anuvaad-etl/anuvaad-extractor/block-merger/src/notebooks/sample-data/input/4603_2017_11_1503_19663_Judgement_15-Jan-2020.pdf completed in 1.6854641437530518\n",
      "Total number of pages (8) in file (4603_2017_11_1503_19663_Judgement_15-Jan-2020.xml)\n",
      "Total number of pages (8) in file (4603_2017_11_1503_19663_Judgement_15-Jan-2020.xml)\n",
      "[2020-09-09 13:03:25,394] {loghandler.py:20} MainThread INFO in loghandler: process_input_pdf: created dataframes successfully\n",
      "[2020-09-09 13:03:25,395] {loghandler.py:20} MainThread INFO in loghandler: Processing of process_input_pdf completed in 1.815270185470581/8, average per page 0.22690877318382263\n",
      "[2020-09-09 13:03:25,966] {loghandler.py:20} MainThread INFO in loghandler: Header Footer detection completed successfully  in time 0.569612979888916 \n",
      "[2020-09-09 13:03:25,966] {loghandler.py:20} MainThread INFO in loghandler: Footers found 1 \n",
      "[2020-09-09 13:03:25,967] {loghandler.py:20} MainThread INFO in loghandler: Headers found 0\n",
      "[2020-09-09 13:03:25,968] {loghandler.py:20} MainThread INFO in loghandler: document preprocessing successfully completed\n",
      "[2020-09-09 13:03:25,968] {loghandler.py:20} MainThread INFO in loghandler: document structure analysis started  ===>\n",
      "[2020-09-09 13:03:25,969] {loghandler.py:20} MainThread INFO in loghandler: TableExtractor service started\n"
     ]
    },
    {
     "name": "stderr",
     "output_type": "stream",
     "text": [
      "/Users/kd/miniconda3/envs/cv3/lib/python3.5/site-packages/pandas/core/indexing.py:205: SettingWithCopyWarning: \n",
      "A value is trying to be set on a copy of a slice from a DataFrame\n",
      "\n",
      "See the caveats in the documentation: http://pandas.pydata.org/pandas-docs/stable/user_guide/indexing.html#returning-a-view-versus-a-copy\n",
      "  self._setitem_with_indexer(indexer, value)\n"
     ]
    },
    {
     "name": "stdout",
     "output_type": "stream",
     "text": [
      "[2020-09-09 13:03:28,121] {loghandler.py:20} MainThread INFO in loghandler: Processing of get_hdfs completed in 1.4773409366607666/8, average per page 0.18466761708259583\n",
      "[2020-09-09 13:03:28,435] {loghandler.py:20} MainThread INFO in loghandler: Processing of get_vdfs completed in 0.31324291229248047/8, average per page 0.03915536403656006\n"
     ]
    },
    {
     "name": "stderr",
     "output_type": "stream",
     "text": [
      "/Users/kd/miniconda3/envs/cv3/lib/python3.5/site-packages/pandas/core/frame.py:7138: FutureWarning: Sorting because non-concatenation axis is not aligned. A future version\n",
      "of pandas will change to not sort by default.\n",
      "\n",
      "To accept the future behavior, pass 'sort=False'.\n",
      "\n",
      "To retain the current behavior and silence the warning, pass 'sort=True'.\n",
      "\n",
      "  sort=sort,\n"
     ]
    },
    {
     "name": "stdout",
     "output_type": "stream",
     "text": [
      "[2020-09-09 13:03:29,253] {loghandler.py:20} MainThread INFO in loghandler: Processing of get_hdfs completed in 0.8172509670257568/8, average per page 0.1021563708782196\n",
      "[2020-09-09 13:03:29,318] {loghandler.py:20} MainThread INFO in loghandler: UnderLineDetection successfully completed\n",
      "[2020-09-09 13:03:30,110] {loghandler.py:20} MainThread INFO in loghandler: Processing of unify_child_text_blocks completed in 0.7917819023132324/8, average per page 0.09897273778915405\n"
     ]
    },
    {
     "name": "stderr",
     "output_type": "stream",
     "text": [
      "/Users/kd/Workspace/project/anuvaad/anuvaad-etl/anuvaad-extractor/block-merger/src/services/child_text_unify_to_parent.py:65: SettingWithCopyWarning: \n",
      "A value is trying to be set on a copy of a slice from a DataFrame\n",
      "\n",
      "See the caveats in the documentation: http://pandas.pydata.org/pandas-docs/stable/user_guide/indexing.html#returning-a-view-versus-a-copy\n",
      "  new_df.iloc[block_index]['text'] = str(text)\n"
     ]
    },
    {
     "name": "stdout",
     "output_type": "stream",
     "text": [
      "[2020-09-09 13:03:31,601] {loghandler.py:20} MainThread INFO in loghandler: Processing of unify_child_text_blocks completed in 1.489645004272461/8, average per page 0.18620562553405762\n",
      "[2020-09-09 13:03:31,602] {loghandler.py:20} MainThread INFO in loghandler: document structure analysis successfully completed\n",
      "[2020-09-09 13:03:31,603] {loghandler.py:20} MainThread INFO in loghandler: document structure response started  ===>\n",
      "[2020-09-09 13:03:32,950] {loghandler.py:20} MainThread INFO in loghandler: document structure response successfully completed\n",
      "[2020-09-09 13:03:32,951] {loghandler.py:20} MainThread INFO in loghandler: DocumentStructure : successfully received blocks in json response\n",
      "[2020-09-09 13:03:32,955] {loghandler.py:48} MainThread DEBUG in loghandler: Block merger starting processing <module 'src.utilities.app_context' from '/Users/kd/Workspace/project/anuvaad/anuvaad-etl/anuvaad-extractor/block-merger/src/utilities/app_context.py'>\n",
      "[2020-09-09 13:03:32,955] {loghandler.py:20} MainThread INFO in loghandler: document preprocessing started ===>\n",
      "[2020-09-09 13:03:32,956] {loghandler.py:20} MainThread INFO in loghandler: created processing directories successfully /Users/kd/Workspace/project/anuvaad/anuvaad-etl/anuvaad-extractor/block-merger/src/notebooks/sample-data/input/4864_2020_34_4_23304_Order_05-Aug-2020_c3905f66-f26e-11ea-a7bc-acde48001122\n",
      "[2020-09-09 13:03:32,957] {loghandler.py:20} MainThread INFO in loghandler: filepath /Users/kd/Workspace/project/anuvaad/anuvaad-etl/anuvaad-extractor/block-merger/src/notebooks/sample-data/input/4864_2020_34_4_23304_Order_05-Aug-2020.pdf, working_dir /Users/kd/Workspace/project/anuvaad/anuvaad-etl/anuvaad-extractor/block-merger/src/notebooks/sample-data/input/4864_2020_34_4_23304_Order_05-Aug-2020_c3905f66-f26e-11ea-a7bc-acde48001122\n",
      "[2020-09-09 13:03:33,215] {loghandler.py:20} MainThread INFO in loghandler: Extracting xml of /Users/kd/Workspace/project/anuvaad/anuvaad-etl/anuvaad-extractor/block-merger/src/notebooks/sample-data/input/4864_2020_34_4_23304_Order_05-Aug-2020.pdf\n",
      "[2020-09-09 13:03:33,282] {loghandler.py:20} MainThread INFO in loghandler: Extracting background images of /Users/kd/Workspace/project/anuvaad/anuvaad-etl/anuvaad-extractor/block-merger/src/notebooks/sample-data/input/4864_2020_34_4_23304_Order_05-Aug-2020.pdf\n",
      "[2020-09-09 13:03:33,283] {loghandler.py:20} MainThread INFO in loghandler: Extraction of /Users/kd/Workspace/project/anuvaad/anuvaad-etl/anuvaad-extractor/block-merger/src/notebooks/sample-data/input/4864_2020_34_4_23304_Order_05-Aug-2020.pdf completed in 0.3260481357574463\n",
      "Total number of pages (1) in file (4864_2020_34_4_23304_Order_05-Aug-2020.xml)\n",
      "Total number of pages (1) in file (4864_2020_34_4_23304_Order_05-Aug-2020.xml)\n",
      "[2020-09-09 13:03:33,303] {loghandler.py:20} MainThread INFO in loghandler: process_input_pdf: created dataframes successfully\n",
      "[2020-09-09 13:03:33,305] {loghandler.py:20} MainThread INFO in loghandler: Processing of process_input_pdf completed in 0.34865593910217285/1, average per page 0.34865593910217285\n",
      "[2020-09-09 13:03:33,397] {loghandler.py:20} MainThread INFO in loghandler: Header Footer detection completed successfully  in time 0.09187817573547363 \n",
      "[2020-09-09 13:03:33,398] {loghandler.py:20} MainThread INFO in loghandler: Footers found 35 \n",
      "[2020-09-09 13:03:33,399] {loghandler.py:20} MainThread INFO in loghandler: Headers found 5\n",
      "[2020-09-09 13:03:33,399] {loghandler.py:20} MainThread INFO in loghandler: document preprocessing successfully completed\n",
      "[2020-09-09 13:03:33,400] {loghandler.py:20} MainThread INFO in loghandler: document structure analysis started  ===>\n",
      "[2020-09-09 13:03:33,400] {loghandler.py:20} MainThread INFO in loghandler: TableExtractor service started\n",
      "[2020-09-09 13:03:33,659] {loghandler.py:20} MainThread INFO in loghandler: Processing of get_hdfs completed in 0.219984769821167/1, average per page 0.219984769821167\n",
      "[2020-09-09 13:03:33,694] {loghandler.py:20} MainThread INFO in loghandler: Processing of get_vdfs completed in 0.03449511528015137/1, average per page 0.03449511528015137\n",
      "[2020-09-09 13:03:33,847] {loghandler.py:20} MainThread INFO in loghandler: Processing of get_hdfs completed in 0.1516408920288086/1, average per page 0.1516408920288086\n",
      "[2020-09-09 13:03:33,851] {loghandler.py:20} MainThread INFO in loghandler: UnderLineDetection successfully completed\n",
      "[2020-09-09 13:03:33,954] {loghandler.py:20} MainThread INFO in loghandler: Processing of unify_child_text_blocks completed in 0.1026461124420166/1, average per page 0.1026461124420166\n"
     ]
    },
    {
     "name": "stderr",
     "output_type": "stream",
     "text": [
      "/Users/kd/miniconda3/envs/cv3/lib/python3.5/site-packages/pandas/core/frame.py:7138: FutureWarning: Sorting because non-concatenation axis is not aligned. A future version\n",
      "of pandas will change to not sort by default.\n",
      "\n",
      "To accept the future behavior, pass 'sort=False'.\n",
      "\n",
      "To retain the current behavior and silence the warning, pass 'sort=True'.\n",
      "\n",
      "  sort=sort,\n",
      "/Users/kd/miniconda3/envs/cv3/lib/python3.5/site-packages/pandas/core/indexing.py:205: SettingWithCopyWarning: \n",
      "A value is trying to be set on a copy of a slice from a DataFrame\n",
      "\n",
      "See the caveats in the documentation: http://pandas.pydata.org/pandas-docs/stable/user_guide/indexing.html#returning-a-view-versus-a-copy\n",
      "  self._setitem_with_indexer(indexer, value)\n",
      "/Users/kd/Workspace/project/anuvaad/anuvaad-etl/anuvaad-extractor/block-merger/src/services/child_text_unify_to_parent.py:65: SettingWithCopyWarning: \n",
      "A value is trying to be set on a copy of a slice from a DataFrame\n",
      "\n",
      "See the caveats in the documentation: http://pandas.pydata.org/pandas-docs/stable/user_guide/indexing.html#returning-a-view-versus-a-copy\n",
      "  new_df.iloc[block_index]['text'] = str(text)\n"
     ]
    },
    {
     "name": "stdout",
     "output_type": "stream",
     "text": [
      "[2020-09-09 13:03:34,097] {loghandler.py:20} MainThread INFO in loghandler: Processing of unify_child_text_blocks completed in 0.142380952835083/1, average per page 0.142380952835083\n",
      "[2020-09-09 13:03:34,099] {loghandler.py:20} MainThread INFO in loghandler: document structure analysis successfully completed\n",
      "[2020-09-09 13:03:34,099] {loghandler.py:20} MainThread INFO in loghandler: document structure response started  ===>\n",
      "[2020-09-09 13:03:34,224] {loghandler.py:20} MainThread INFO in loghandler: document structure response successfully completed\n",
      "[2020-09-09 13:03:34,225] {loghandler.py:20} MainThread INFO in loghandler: DocumentStructure : successfully received blocks in json response\n",
      "[2020-09-09 13:03:34,226] {loghandler.py:48} MainThread DEBUG in loghandler: Block merger starting processing <module 'src.utilities.app_context' from '/Users/kd/Workspace/project/anuvaad/anuvaad-etl/anuvaad-extractor/block-merger/src/utilities/app_context.py'>\n",
      "[2020-09-09 13:03:34,227] {loghandler.py:20} MainThread INFO in loghandler: document preprocessing started ===>\n",
      "[2020-09-09 13:03:34,228] {loghandler.py:20} MainThread INFO in loghandler: created processing directories successfully /Users/kd/Workspace/project/anuvaad/anuvaad-etl/anuvaad-extractor/block-merger/src/notebooks/sample-data/input/516_2008_33_101_23245_Order_05-Aug-2020_c4526638-f26e-11ea-b85b-acde48001122\n",
      "[2020-09-09 13:03:34,229] {loghandler.py:20} MainThread INFO in loghandler: filepath /Users/kd/Workspace/project/anuvaad/anuvaad-etl/anuvaad-extractor/block-merger/src/notebooks/sample-data/input/516_2008_33_101_23245_Order_05-Aug-2020.pdf, working_dir /Users/kd/Workspace/project/anuvaad/anuvaad-etl/anuvaad-extractor/block-merger/src/notebooks/sample-data/input/516_2008_33_101_23245_Order_05-Aug-2020_c4526638-f26e-11ea-b85b-acde48001122\n",
      "[2020-09-09 13:03:34,439] {loghandler.py:20} MainThread INFO in loghandler: Extracting xml of /Users/kd/Workspace/project/anuvaad/anuvaad-etl/anuvaad-extractor/block-merger/src/notebooks/sample-data/input/516_2008_33_101_23245_Order_05-Aug-2020.pdf\n",
      "[2020-09-09 13:03:34,505] {loghandler.py:20} MainThread INFO in loghandler: Extracting background images of /Users/kd/Workspace/project/anuvaad/anuvaad-etl/anuvaad-extractor/block-merger/src/notebooks/sample-data/input/516_2008_33_101_23245_Order_05-Aug-2020.pdf\n",
      "[2020-09-09 13:03:34,506] {loghandler.py:20} MainThread INFO in loghandler: Extraction of /Users/kd/Workspace/project/anuvaad/anuvaad-etl/anuvaad-extractor/block-merger/src/notebooks/sample-data/input/516_2008_33_101_23245_Order_05-Aug-2020.pdf completed in 0.2775461673736572\n",
      "Total number of pages (1) in file (516_2008_33_101_23245_Order_05-Aug-2020.xml)\n",
      "Total number of pages (1) in file (516_2008_33_101_23245_Order_05-Aug-2020.xml)\n",
      "[2020-09-09 13:03:34,524] {loghandler.py:20} MainThread INFO in loghandler: process_input_pdf: created dataframes successfully\n",
      "[2020-09-09 13:03:34,525] {loghandler.py:20} MainThread INFO in loghandler: Processing of process_input_pdf completed in 0.29784297943115234/1, average per page 0.29784297943115234\n",
      "[2020-09-09 13:03:34,609] {loghandler.py:20} MainThread INFO in loghandler: Header Footer detection completed successfully  in time 0.0832219123840332 \n",
      "[2020-09-09 13:03:34,610] {loghandler.py:20} MainThread INFO in loghandler: Footers found 24 \n",
      "[2020-09-09 13:03:34,611] {loghandler.py:20} MainThread INFO in loghandler: Headers found 4\n",
      "[2020-09-09 13:03:34,612] {loghandler.py:20} MainThread INFO in loghandler: document preprocessing successfully completed\n",
      "[2020-09-09 13:03:34,612] {loghandler.py:20} MainThread INFO in loghandler: document structure analysis started  ===>\n",
      "[2020-09-09 13:03:34,613] {loghandler.py:20} MainThread INFO in loghandler: TableExtractor service started\n",
      "[2020-09-09 13:03:34,825] {loghandler.py:20} MainThread INFO in loghandler: Processing of get_hdfs completed in 0.1627500057220459/1, average per page 0.1627500057220459\n",
      "[2020-09-09 13:03:34,852] {loghandler.py:20} MainThread INFO in loghandler: Processing of get_vdfs completed in 0.026363134384155273/1, average per page 0.026363134384155273\n",
      "[2020-09-09 13:03:34,963] {loghandler.py:20} MainThread INFO in loghandler: Processing of get_hdfs completed in 0.11022400856018066/1, average per page 0.11022400856018066\n",
      "[2020-09-09 13:03:34,965] {loghandler.py:20} MainThread INFO in loghandler: UnderLineDetection successfully completed\n",
      "[2020-09-09 13:03:35,053] {loghandler.py:20} MainThread INFO in loghandler: Processing of unify_child_text_blocks completed in 0.08723998069763184/1, average per page 0.08723998069763184\n"
     ]
    },
    {
     "name": "stderr",
     "output_type": "stream",
     "text": [
      "/Users/kd/miniconda3/envs/cv3/lib/python3.5/site-packages/pandas/core/frame.py:7138: FutureWarning: Sorting because non-concatenation axis is not aligned. A future version\n",
      "of pandas will change to not sort by default.\n",
      "\n",
      "To accept the future behavior, pass 'sort=False'.\n",
      "\n",
      "To retain the current behavior and silence the warning, pass 'sort=True'.\n",
      "\n",
      "  sort=sort,\n",
      "/Users/kd/Workspace/project/anuvaad/anuvaad-etl/anuvaad-extractor/block-merger/src/services/child_text_unify_to_parent.py:65: SettingWithCopyWarning: \n",
      "A value is trying to be set on a copy of a slice from a DataFrame\n",
      "\n",
      "See the caveats in the documentation: http://pandas.pydata.org/pandas-docs/stable/user_guide/indexing.html#returning-a-view-versus-a-copy\n",
      "  new_df.iloc[block_index]['text'] = str(text)\n"
     ]
    },
    {
     "name": "stdout",
     "output_type": "stream",
     "text": [
      "[2020-09-09 13:03:35,169] {loghandler.py:20} MainThread INFO in loghandler: Processing of unify_child_text_blocks completed in 0.11523199081420898/1, average per page 0.11523199081420898\n",
      "[2020-09-09 13:03:35,170] {loghandler.py:20} MainThread INFO in loghandler: document structure analysis successfully completed\n",
      "[2020-09-09 13:03:35,171] {loghandler.py:20} MainThread INFO in loghandler: document structure response started  ===>\n",
      "[2020-09-09 13:03:35,281] {loghandler.py:20} MainThread INFO in loghandler: document structure response successfully completed\n",
      "[2020-09-09 13:03:35,282] {loghandler.py:20} MainThread INFO in loghandler: DocumentStructure : successfully received blocks in json response\n",
      "[2020-09-09 13:03:35,283] {loghandler.py:48} MainThread DEBUG in loghandler: Block merger starting processing <module 'src.utilities.app_context' from '/Users/kd/Workspace/project/anuvaad/anuvaad-etl/anuvaad-extractor/block-merger/src/utilities/app_context.py'>\n",
      "[2020-09-09 13:03:35,284] {loghandler.py:20} MainThread INFO in loghandler: document preprocessing started ===>\n",
      "[2020-09-09 13:03:35,285] {loghandler.py:20} MainThread INFO in loghandler: created processing directories successfully /Users/kd/Workspace/project/anuvaad/anuvaad-etl/anuvaad-extractor/block-merger/src/notebooks/sample-data/input/5601_2020_32_5_23236_Order_05-Aug-2020_c4f3a5d4-f26e-11ea-bef2-acde48001122\n",
      "[2020-09-09 13:03:35,285] {loghandler.py:20} MainThread INFO in loghandler: filepath /Users/kd/Workspace/project/anuvaad/anuvaad-etl/anuvaad-extractor/block-merger/src/notebooks/sample-data/input/5601_2020_32_5_23236_Order_05-Aug-2020.pdf, working_dir /Users/kd/Workspace/project/anuvaad/anuvaad-etl/anuvaad-extractor/block-merger/src/notebooks/sample-data/input/5601_2020_32_5_23236_Order_05-Aug-2020_c4f3a5d4-f26e-11ea-bef2-acde48001122\n",
      "[2020-09-09 13:03:35,633] {loghandler.py:20} MainThread INFO in loghandler: Extracting xml of /Users/kd/Workspace/project/anuvaad/anuvaad-etl/anuvaad-extractor/block-merger/src/notebooks/sample-data/input/5601_2020_32_5_23236_Order_05-Aug-2020.pdf\n",
      "[2020-09-09 13:03:35,751] {loghandler.py:20} MainThread INFO in loghandler: Extracting background images of /Users/kd/Workspace/project/anuvaad/anuvaad-etl/anuvaad-extractor/block-merger/src/notebooks/sample-data/input/5601_2020_32_5_23236_Order_05-Aug-2020.pdf\n",
      "[2020-09-09 13:03:35,751] {loghandler.py:20} MainThread INFO in loghandler: Extraction of /Users/kd/Workspace/project/anuvaad/anuvaad-etl/anuvaad-extractor/block-merger/src/notebooks/sample-data/input/5601_2020_32_5_23236_Order_05-Aug-2020.pdf completed in 0.4662950038909912\n",
      "Total number of pages (2) in file (5601_2020_32_5_23236_Order_05-Aug-2020.xml)\n",
      "Total number of pages (2) in file (5601_2020_32_5_23236_Order_05-Aug-2020.xml)\n",
      "[2020-09-09 13:03:35,779] {loghandler.py:20} MainThread INFO in loghandler: process_input_pdf: created dataframes successfully\n",
      "[2020-09-09 13:03:35,780] {loghandler.py:20} MainThread INFO in loghandler: Processing of process_input_pdf completed in 0.49540209770202637/2, average per page 0.24770104885101318\n",
      "[2020-09-09 13:03:35,907] {loghandler.py:20} MainThread INFO in loghandler: Header Footer detection completed successfully  in time 0.12599515914916992 \n",
      "[2020-09-09 13:03:35,907] {loghandler.py:20} MainThread INFO in loghandler: Footers found 0 \n",
      "[2020-09-09 13:03:35,908] {loghandler.py:20} MainThread INFO in loghandler: Headers found 0\n",
      "[2020-09-09 13:03:35,909] {loghandler.py:20} MainThread INFO in loghandler: document preprocessing successfully completed\n",
      "[2020-09-09 13:03:35,909] {loghandler.py:20} MainThread INFO in loghandler: document structure analysis started  ===>\n",
      "[2020-09-09 13:03:35,910] {loghandler.py:20} MainThread INFO in loghandler: TableExtractor service started\n",
      "[2020-09-09 13:03:36,158] {loghandler.py:20} MainThread INFO in loghandler: Processing of get_hdfs completed in 0.17308282852172852/2, average per page 0.08654141426086426\n",
      "[2020-09-09 13:03:36,193] {loghandler.py:20} MainThread INFO in loghandler: Processing of get_vdfs completed in 0.03464913368225098/2, average per page 0.01732456684112549\n",
      "[2020-09-09 13:03:36,298] {loghandler.py:20} MainThread INFO in loghandler: Processing of get_hdfs completed in 0.10354304313659668/2, average per page 0.05177152156829834\n",
      "[2020-09-09 13:03:36,302] {loghandler.py:20} MainThread INFO in loghandler: UnderLineDetection successfully completed\n",
      "[2020-09-09 13:03:36,422] {loghandler.py:20} MainThread INFO in loghandler: Processing of unify_child_text_blocks completed in 0.11853599548339844/2, average per page 0.05926799774169922\n"
     ]
    },
    {
     "name": "stderr",
     "output_type": "stream",
     "text": [
      "/Users/kd/miniconda3/envs/cv3/lib/python3.5/site-packages/pandas/core/frame.py:7138: FutureWarning: Sorting because non-concatenation axis is not aligned. A future version\n",
      "of pandas will change to not sort by default.\n",
      "\n",
      "To accept the future behavior, pass 'sort=False'.\n",
      "\n",
      "To retain the current behavior and silence the warning, pass 'sort=True'.\n",
      "\n",
      "  sort=sort,\n",
      "/Users/kd/miniconda3/envs/cv3/lib/python3.5/site-packages/pandas/core/indexing.py:205: SettingWithCopyWarning: \n",
      "A value is trying to be set on a copy of a slice from a DataFrame\n",
      "\n",
      "See the caveats in the documentation: http://pandas.pydata.org/pandas-docs/stable/user_guide/indexing.html#returning-a-view-versus-a-copy\n",
      "  self._setitem_with_indexer(indexer, value)\n",
      "/Users/kd/Workspace/project/anuvaad/anuvaad-etl/anuvaad-extractor/block-merger/src/services/child_text_unify_to_parent.py:65: SettingWithCopyWarning: \n",
      "A value is trying to be set on a copy of a slice from a DataFrame\n",
      "\n",
      "See the caveats in the documentation: http://pandas.pydata.org/pandas-docs/stable/user_guide/indexing.html#returning-a-view-versus-a-copy\n",
      "  new_df.iloc[block_index]['text'] = str(text)\n"
     ]
    },
    {
     "name": "stdout",
     "output_type": "stream",
     "text": [
      "[2020-09-09 13:03:36,569] {loghandler.py:20} MainThread INFO in loghandler: Processing of unify_child_text_blocks completed in 0.14661812782287598/2, average per page 0.07330906391143799\n",
      "[2020-09-09 13:03:36,570] {loghandler.py:20} MainThread INFO in loghandler: document structure analysis successfully completed\n",
      "[2020-09-09 13:03:36,571] {loghandler.py:20} MainThread INFO in loghandler: document structure response started  ===>\n",
      "[2020-09-09 13:03:36,709] {loghandler.py:20} MainThread INFO in loghandler: document structure response successfully completed\n",
      "[2020-09-09 13:03:36,710] {loghandler.py:20} MainThread INFO in loghandler: DocumentStructure : successfully received blocks in json response\n",
      "[2020-09-09 13:03:36,711] {loghandler.py:48} MainThread DEBUG in loghandler: Block merger starting processing <module 'src.utilities.app_context' from '/Users/kd/Workspace/project/anuvaad/anuvaad-etl/anuvaad-extractor/block-merger/src/utilities/app_context.py'>\n",
      "[2020-09-09 13:03:36,712] {loghandler.py:20} MainThread INFO in loghandler: document preprocessing started ===>\n",
      "[2020-09-09 13:03:36,712] {loghandler.py:20} MainThread INFO in loghandler: created processing directories successfully /Users/kd/Workspace/project/anuvaad/anuvaad-etl/anuvaad-extractor/block-merger/src/notebooks/sample-data/input/6251_2016_3_1501_19387_Judgement_06-Jan-2020_c5cd8776-f26e-11ea-8016-acde48001122\n",
      "[2020-09-09 13:03:36,713] {loghandler.py:20} MainThread INFO in loghandler: filepath /Users/kd/Workspace/project/anuvaad/anuvaad-etl/anuvaad-extractor/block-merger/src/notebooks/sample-data/input/6251_2016_3_1501_19387_Judgement_06-Jan-2020.pdf, working_dir /Users/kd/Workspace/project/anuvaad/anuvaad-etl/anuvaad-extractor/block-merger/src/notebooks/sample-data/input/6251_2016_3_1501_19387_Judgement_06-Jan-2020_c5cd8776-f26e-11ea-8016-acde48001122\n",
      "[2020-09-09 13:03:58,353] {loghandler.py:20} MainThread INFO in loghandler: Extracting xml of /Users/kd/Workspace/project/anuvaad/anuvaad-etl/anuvaad-extractor/block-merger/src/notebooks/sample-data/input/6251_2016_3_1501_19387_Judgement_06-Jan-2020.pdf\n",
      "[2020-09-09 13:04:05,701] {loghandler.py:20} MainThread INFO in loghandler: Extracting background images of /Users/kd/Workspace/project/anuvaad/anuvaad-etl/anuvaad-extractor/block-merger/src/notebooks/sample-data/input/6251_2016_3_1501_19387_Judgement_06-Jan-2020.pdf\n",
      "[2020-09-09 13:04:05,702] {loghandler.py:20} MainThread INFO in loghandler: Extraction of /Users/kd/Workspace/project/anuvaad/anuvaad-etl/anuvaad-extractor/block-merger/src/notebooks/sample-data/input/6251_2016_3_1501_19387_Judgement_06-Jan-2020.pdf completed in 28.98928999900818\n",
      "Total number of pages (151) in file (6251_2016_3_1501_19387_Judgement_06-Jan-2020.xml)\n",
      "Total number of pages (151) in file (6251_2016_3_1501_19387_Judgement_06-Jan-2020.xml)\n",
      "[2020-09-09 13:04:07,641] {loghandler.py:20} MainThread INFO in loghandler: process_input_pdf: created dataframes successfully\n",
      "[2020-09-09 13:04:07,642] {loghandler.py:20} MainThread INFO in loghandler: Processing of process_input_pdf completed in 30.929775953292847/151, average per page 0.2048329533330652\n",
      "[2020-09-09 13:04:14,708] {loghandler.py:20} MainThread INFO in loghandler: Header Footer detection completed successfully  in time 7.06498384475708 \n",
      "[2020-09-09 13:04:14,709] {loghandler.py:20} MainThread INFO in loghandler: Footers found 0 \n",
      "[2020-09-09 13:04:14,710] {loghandler.py:20} MainThread INFO in loghandler: Headers found 3\n",
      "[2020-09-09 13:04:14,710] {loghandler.py:20} MainThread INFO in loghandler: document preprocessing successfully completed\n",
      "[2020-09-09 13:04:14,711] {loghandler.py:20} MainThread INFO in loghandler: document structure analysis started  ===>\n",
      "[2020-09-09 13:04:14,712] {loghandler.py:20} MainThread INFO in loghandler: TableExtractor service started\n"
     ]
    },
    {
     "name": "stderr",
     "output_type": "stream",
     "text": [
      "/Users/kd/miniconda3/envs/cv3/lib/python3.5/site-packages/pandas/core/indexing.py:205: SettingWithCopyWarning: \n",
      "A value is trying to be set on a copy of a slice from a DataFrame\n",
      "\n",
      "See the caveats in the documentation: http://pandas.pydata.org/pandas-docs/stable/user_guide/indexing.html#returning-a-view-versus-a-copy\n",
      "  self._setitem_with_indexer(indexer, value)\n"
     ]
    },
    {
     "name": "stdout",
     "output_type": "stream",
     "text": [
      "[2020-09-09 13:04:54,294] {loghandler.py:20} MainThread INFO in loghandler: Processing of get_hdfs completed in 34.66783308982849/151, average per page 0.2295882986081357\n",
      "[2020-09-09 13:05:02,100] {loghandler.py:20} MainThread INFO in loghandler: Processing of get_vdfs completed in 7.8060619831085205/151, average per page 0.05169577472257298\n"
     ]
    },
    {
     "name": "stderr",
     "output_type": "stream",
     "text": [
      "/Users/kd/miniconda3/envs/cv3/lib/python3.5/site-packages/pandas/core/frame.py:7138: FutureWarning: Sorting because non-concatenation axis is not aligned. A future version\n",
      "of pandas will change to not sort by default.\n",
      "\n",
      "To accept the future behavior, pass 'sort=False'.\n",
      "\n",
      "To retain the current behavior and silence the warning, pass 'sort=True'.\n",
      "\n",
      "  sort=sort,\n"
     ]
    },
    {
     "name": "stdout",
     "output_type": "stream",
     "text": [
      "[2020-09-09 13:05:18,087] {loghandler.py:20} MainThread INFO in loghandler: Processing of get_hdfs completed in 15.985734224319458/151, average per page 0.10586578956502952\n",
      "[2020-09-09 13:05:19,147] {loghandler.py:20} MainThread INFO in loghandler: UnderLineDetection successfully completed\n",
      "[2020-09-09 13:05:31,830] {loghandler.py:20} MainThread INFO in loghandler: Processing of unify_child_text_blocks completed in 12.681725978851318/151, average per page 0.0839849402572935\n"
     ]
    },
    {
     "name": "stderr",
     "output_type": "stream",
     "text": [
      "/Users/kd/Workspace/project/anuvaad/anuvaad-etl/anuvaad-extractor/block-merger/src/services/child_text_unify_to_parent.py:65: SettingWithCopyWarning: \n",
      "A value is trying to be set on a copy of a slice from a DataFrame\n",
      "\n",
      "See the caveats in the documentation: http://pandas.pydata.org/pandas-docs/stable/user_guide/indexing.html#returning-a-view-versus-a-copy\n",
      "  new_df.iloc[block_index]['text'] = str(text)\n"
     ]
    },
    {
     "name": "stdout",
     "output_type": "stream",
     "text": [
      "[2020-09-09 13:05:58,739] {loghandler.py:20} MainThread INFO in loghandler: Processing of unify_child_text_blocks completed in 26.906378030776978/151, average per page 0.17818793397865548\n",
      "[2020-09-09 13:05:58,739] {loghandler.py:20} MainThread INFO in loghandler: document structure analysis successfully completed\n",
      "[2020-09-09 13:05:58,747] {loghandler.py:20} MainThread INFO in loghandler: document structure response started  ===>\n",
      "[2020-09-09 13:06:21,270] {loghandler.py:20} MainThread INFO in loghandler: document structure response successfully completed\n",
      "[2020-09-09 13:06:21,270] {loghandler.py:20} MainThread INFO in loghandler: DocumentStructure : successfully received blocks in json response\n",
      "[2020-09-09 13:06:21,280] {loghandler.py:48} MainThread DEBUG in loghandler: Block merger starting processing <module 'src.utilities.app_context' from '/Users/kd/Workspace/project/anuvaad/anuvaad-etl/anuvaad-extractor/block-merger/src/utilities/app_context.py'>\n",
      "[2020-09-09 13:06:21,281] {loghandler.py:20} MainThread INFO in loghandler: document preprocessing started ===>\n",
      "[2020-09-09 13:06:21,282] {loghandler.py:20} MainThread INFO in loghandler: created processing directories successfully /Users/kd/Workspace/project/anuvaad/anuvaad-etl/anuvaad-extractor/block-merger/src/notebooks/sample-data/input/Administrator_Report2019_27e4e738-f26f-11ea-9ab0-acde48001122\n",
      "[2020-09-09 13:06:21,283] {loghandler.py:20} MainThread INFO in loghandler: filepath /Users/kd/Workspace/project/anuvaad/anuvaad-etl/anuvaad-extractor/block-merger/src/notebooks/sample-data/input/Administrator_Report2019.pdf, working_dir /Users/kd/Workspace/project/anuvaad/anuvaad-etl/anuvaad-extractor/block-merger/src/notebooks/sample-data/input/Administrator_Report2019_27e4e738-f26f-11ea-9ab0-acde48001122\n",
      "[2020-09-09 13:06:57,495] {loghandler.py:20} MainThread INFO in loghandler: Extracting xml of /Users/kd/Workspace/project/anuvaad/anuvaad-etl/anuvaad-extractor/block-merger/src/notebooks/sample-data/input/Administrator_Report2019.pdf\n",
      "[2020-09-09 13:07:10,977] {loghandler.py:20} MainThread INFO in loghandler: Extracting background images of /Users/kd/Workspace/project/anuvaad/anuvaad-etl/anuvaad-extractor/block-merger/src/notebooks/sample-data/input/Administrator_Report2019.pdf\n",
      "[2020-09-09 13:07:10,977] {loghandler.py:20} MainThread INFO in loghandler: Extraction of /Users/kd/Workspace/project/anuvaad/anuvaad-etl/anuvaad-extractor/block-merger/src/notebooks/sample-data/input/Administrator_Report2019.pdf completed in 49.694129943847656\n",
      "Total number of pages (272) in file (Administrator_Report2019.xml)\n",
      "Total number of pages (272) in file (Administrator_Report2019.xml)\n",
      "[2020-09-09 13:07:15,328] {loghandler.py:20} MainThread INFO in loghandler: process_input_pdf: created dataframes successfully\n",
      "[2020-09-09 13:07:15,329] {loghandler.py:20} MainThread INFO in loghandler: Processing of process_input_pdf completed in 54.047101974487305/272, average per page 0.19870258078855627\n",
      "[2020-09-09 13:07:19,032] {loghandler.py:20} MainThread INFO in loghandler: Header Footer detection completed successfully  in time 3.7016518115997314 \n",
      "[2020-09-09 13:07:19,033] {loghandler.py:20} MainThread INFO in loghandler: Footers found 0 \n",
      "[2020-09-09 13:07:19,034] {loghandler.py:20} MainThread INFO in loghandler: Headers found 0\n",
      "[2020-09-09 13:07:19,035] {loghandler.py:20} MainThread INFO in loghandler: document preprocessing successfully completed\n",
      "[2020-09-09 13:07:19,036] {loghandler.py:20} MainThread INFO in loghandler: document structure analysis started  ===>\n",
      "[2020-09-09 13:07:19,037] {loghandler.py:20} MainThread INFO in loghandler: TableExtractor service started\n"
     ]
    }
   ],
   "source": [
    "# running for all\n",
    "files = read_directory_files(input_dir, \"*.pdf\")\n",
    "for file in files:\n",
    "    app_context.application_context = dict({'task_id': 'BM-DUMMY', 'filename': os.path.basename(file)})\n",
    "    data       = main.DocumentStructure(app_context, os.path.basename(file), \"en\", base_dir=input_dir)\n"
   ]
  },
  {
   "cell_type": "code",
   "execution_count": 7,
   "metadata": {},
   "outputs": [
    {
     "name": "stdout",
     "output_type": "stream",
     "text": [
      "[2020-09-09 12:56:53,160] {loghandler.py:48} MainThread DEBUG in loghandler: Block merger starting processing <module 'src.utilities.app_context' from '/Users/kd/Workspace/project/anuvaad/anuvaad-etl/anuvaad-extractor/block-merger/src/utilities/app_context.py'>\n",
      "[2020-09-09 12:56:53,162] {loghandler.py:20} MainThread INFO in loghandler: document preprocessing started ===>\n",
      "[2020-09-09 12:56:53,172] {loghandler.py:20} MainThread INFO in loghandler: created processing directories successfully /Users/kd/Workspace/project/anuvaad/anuvaad-etl/anuvaad-extractor/block-merger/src/notebooks/sample-data/input/20.03.2020_d544c04a-f26d-11ea-8f9d-acde48001122\n",
      "[2020-09-09 12:56:53,173] {loghandler.py:20} MainThread INFO in loghandler: filepath /Users/kd/Workspace/project/anuvaad/anuvaad-etl/anuvaad-extractor/block-merger/src/notebooks/sample-data/input/20.03.2020.pdf, working_dir /Users/kd/Workspace/project/anuvaad/anuvaad-etl/anuvaad-extractor/block-merger/src/notebooks/sample-data/input/20.03.2020_d544c04a-f26d-11ea-8f9d-acde48001122\n",
      "[2020-09-09 12:56:55,034] {loghandler.py:20} MainThread INFO in loghandler: Extracting xml of /Users/kd/Workspace/project/anuvaad/anuvaad-etl/anuvaad-extractor/block-merger/src/notebooks/sample-data/input/20.03.2020.pdf\n",
      "[2020-09-09 12:56:55,681] {loghandler.py:20} MainThread INFO in loghandler: Extracting background images of /Users/kd/Workspace/project/anuvaad/anuvaad-etl/anuvaad-extractor/block-merger/src/notebooks/sample-data/input/20.03.2020.pdf\n",
      "[2020-09-09 12:56:55,682] {loghandler.py:20} MainThread INFO in loghandler: Extraction of /Users/kd/Workspace/project/anuvaad/anuvaad-etl/anuvaad-extractor/block-merger/src/notebooks/sample-data/input/20.03.2020.pdf completed in 2.5091500282287598\n",
      "Total number of pages (13) in file (20.03.2020.xml)\n",
      "Total number of pages (13) in file (20.03.2020.xml)\n",
      "[2020-09-09 12:56:55,874] {loghandler.py:20} MainThread INFO in loghandler: process_input_pdf: created dataframes successfully\n",
      "[2020-09-09 12:56:55,875] {loghandler.py:20} MainThread INFO in loghandler: Processing of process_input_pdf completed in 2.7123899459838867/13, average per page 0.20864538046029898\n",
      "[2020-09-09 12:56:56,535] {loghandler.py:20} MainThread INFO in loghandler: Header Footer detection completed successfully  in time 0.6594381332397461 \n",
      "[2020-09-09 12:56:56,536] {loghandler.py:20} MainThread INFO in loghandler: Footers found 0 \n",
      "[2020-09-09 12:56:56,537] {loghandler.py:20} MainThread INFO in loghandler: Headers found 0\n",
      "[2020-09-09 12:56:56,539] {loghandler.py:20} MainThread INFO in loghandler: document preprocessing successfully completed\n",
      "[2020-09-09 12:56:56,540] {loghandler.py:20} MainThread INFO in loghandler: document structure analysis started  ===>\n",
      "[2020-09-09 12:56:56,541] {loghandler.py:20} MainThread INFO in loghandler: TableExtractor service started\n",
      "[2020-09-09 12:56:59,747] {loghandler.py:20} MainThread INFO in loghandler: Processing of get_hdfs completed in 2.789011001586914/13, average per page 0.214539307814378\n",
      "[2020-09-09 12:57:00,391] {loghandler.py:20} MainThread INFO in loghandler: Processing of get_vdfs completed in 0.6432540416717529/13, average per page 0.04948108012859638\n"
     ]
    },
    {
     "name": "stderr",
     "output_type": "stream",
     "text": [
      "/Users/kd/miniconda3/envs/cv3/lib/python3.5/site-packages/pandas/core/frame.py:7138: FutureWarning: Sorting because non-concatenation axis is not aligned. A future version\n",
      "of pandas will change to not sort by default.\n",
      "\n",
      "To accept the future behavior, pass 'sort=False'.\n",
      "\n",
      "To retain the current behavior and silence the warning, pass 'sort=True'.\n",
      "\n",
      "  sort=sort,\n"
     ]
    },
    {
     "name": "stdout",
     "output_type": "stream",
     "text": [
      "[2020-09-09 12:57:02,385] {loghandler.py:20} MainThread INFO in loghandler: Processing of get_hdfs completed in 1.9928009510040283/13, average per page 0.1532923808464637\n",
      "[2020-09-09 12:57:02,409] {loghandler.py:20} MainThread INFO in loghandler: UnderLineDetection successfully completed\n"
     ]
    },
    {
     "name": "stderr",
     "output_type": "stream",
     "text": [
      "/Users/kd/miniconda3/envs/cv3/lib/python3.5/site-packages/pandas/core/indexing.py:205: SettingWithCopyWarning: \n",
      "A value is trying to be set on a copy of a slice from a DataFrame\n",
      "\n",
      "See the caveats in the documentation: http://pandas.pydata.org/pandas-docs/stable/user_guide/indexing.html#returning-a-view-versus-a-copy\n",
      "  self._setitem_with_indexer(indexer, value)\n"
     ]
    },
    {
     "name": "stdout",
     "output_type": "stream",
     "text": [
      "[2020-09-09 12:57:03,830] {loghandler.py:20} MainThread INFO in loghandler: Processing of unify_child_text_blocks completed in 1.4197828769683838/13, average per page 0.10921406745910645\n"
     ]
    },
    {
     "name": "stderr",
     "output_type": "stream",
     "text": [
      "/Users/kd/Workspace/project/anuvaad/anuvaad-etl/anuvaad-extractor/block-merger/src/services/child_text_unify_to_parent.py:65: SettingWithCopyWarning: \n",
      "A value is trying to be set on a copy of a slice from a DataFrame\n",
      "\n",
      "See the caveats in the documentation: http://pandas.pydata.org/pandas-docs/stable/user_guide/indexing.html#returning-a-view-versus-a-copy\n",
      "  new_df.iloc[block_index]['text'] = str(text)\n"
     ]
    },
    {
     "name": "stdout",
     "output_type": "stream",
     "text": [
      "[2020-09-09 12:57:06,487] {loghandler.py:20} MainThread INFO in loghandler: Processing of unify_child_text_blocks completed in 2.6560471057891846/13, average per page 0.20431131582993728\n",
      "[2020-09-09 12:57:06,487] {loghandler.py:20} MainThread INFO in loghandler: document structure analysis successfully completed\n",
      "[2020-09-09 12:57:06,489] {loghandler.py:20} MainThread INFO in loghandler: document structure response started  ===>\n",
      "[2020-09-09 12:57:09,039] {loghandler.py:20} MainThread INFO in loghandler: document structure response successfully completed\n",
      "[2020-09-09 12:57:09,039] {loghandler.py:20} MainThread INFO in loghandler: DocumentStructure : successfully received blocks in json response\n"
     ]
    }
   ],
   "source": [
    "app_context.application_context = dict({'task_id': 'BM-DUMMY'})\n",
    "pdf_path   = os.path.join(input_dir, filename)\n",
    "\n",
    "data       = main.DocumentStructure(app_context, filename, \"en\", base_dir=input_dir)\n"
   ]
  },
  {
   "cell_type": "code",
   "execution_count": null,
   "metadata": {},
   "outputs": [],
   "source": []
  },
  {
   "cell_type": "code",
   "execution_count": 67,
   "metadata": {},
   "outputs": [],
   "source": [
    "def draw_bbox_image(draw,page_data):\n",
    "    \n",
    "    if page_data['images']:\n",
    "        try:\n",
    "            for image_block in page_data['images']:\n",
    "                    top     = image_block[\"text_top\"];         left   = image_block[\"text_left\"];  \n",
    "                    bottom  = top+image_block[\"text_height\"];  right  = left+image_block[\"text_width\"]\n",
    "                    draw.rectangle(((left, top), (right,bottom)), outline='green')\n",
    "            return draw\n",
    "        except:\n",
    "            pass"
   ]
  },
  {
   "cell_type": "code",
   "execution_count": 68,
   "metadata": {},
   "outputs": [],
   "source": [
    "def draw_bbox_table(draw,page_data):\n",
    "    \n",
    "    if page_data['tables']:\n",
    "        try:\n",
    "            for table_block in page_data['tables']:\n",
    "                    top     = table_block[\"text_top\"];         left   = table_block[\"text_left\"];  \n",
    "                    bottom  = top+table_block[\"text_height\"];  right  = left+table_block[\"text_width\"]\n",
    "                    draw.rectangle(((left, top), (right,bottom)), outline='blue')\n",
    "            return draw\n",
    "        except:\n",
    "            pass"
   ]
  },
  {
   "cell_type": "code",
   "execution_count": 69,
   "metadata": {},
   "outputs": [],
   "source": [
    "def draw_bbox_text(draw,page_data):\n",
    "    \n",
    "    if page_data['text_blocks']:\n",
    "        try:\n",
    "            for text_block in page_data['text_blocks']:\n",
    "                top     = text_block[\"text_top\"];         left   = text_block[\"text_left\"];  \n",
    "                bottom  = top+text_block[\"text_height\"];  right  = left+text_block[\"text_width\"]\n",
    "                draw.rectangle(((left, top), (right,bottom)), outline='red')\n",
    "            return draw\n",
    "        except:\n",
    "            pass"
   ]
  },
  {
   "cell_type": "code",
   "execution_count": 70,
   "metadata": {},
   "outputs": [],
   "source": [
    "def draw_bbox_pdf(data,image_files,save_path):\n",
    "    for page_no in range(len(data)):\n",
    "        image_path = sorted(image_files)[page_no]\n",
    "        page_data = data[page_no]\n",
    "        page_width = page_data['page_width']; page_height = page_data['page_height']\n",
    "        image  = Image.open(image_path)\n",
    "        image  = image.resize((page_width, page_height))\n",
    "        draw   = ImageDraw.Draw(image)\n",
    "        draw  = draw_bbox_text(draw,page_data)\n",
    "        draw  = draw_bbox_image(draw,page_data)\n",
    "        draw  = draw_bbox_table(draw,page_data)\n",
    "        save_filepath = os.path.join(save_path,image_path.split('images/')[1])\n",
    "        image.save(save_filepath)\n",
    "            "
   ]
  },
  {
   "cell_type": "code",
   "execution_count": 71,
   "metadata": {},
   "outputs": [],
   "source": [
    "draw_bbox_pdf(response,pdf_image_paths,save_path)"
   ]
  },
  {
   "cell_type": "code",
   "execution_count": 10,
   "metadata": {},
   "outputs": [],
   "source": []
  },
  {
   "cell_type": "code",
   "execution_count": null,
   "metadata": {},
   "outputs": [],
   "source": []
  },
  {
   "cell_type": "code",
   "execution_count": null,
   "metadata": {},
   "outputs": [],
   "source": []
  }
 ],
 "metadata": {
  "kernelspec": {
   "display_name": "Python 3.5.6 64-bit ('cv3': conda)",
   "language": "python",
   "name": "python35664bitcv3conda56b31b492c17456d86703f6408b0e697"
  },
  "language_info": {
   "codemirror_mode": {
    "name": "ipython",
    "version": 3
   },
   "file_extension": ".py",
   "mimetype": "text/x-python",
   "name": "python",
   "nbconvert_exporter": "python",
   "pygments_lexer": "ipython3",
   "version": "3.5.6"
  }
 },
 "nbformat": 4,
 "nbformat_minor": 2
}
