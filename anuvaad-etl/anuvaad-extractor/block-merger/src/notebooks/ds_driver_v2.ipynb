{
 "cells": [
  {
   "cell_type": "code",
   "execution_count": 1,
   "metadata": {},
   "outputs": [],
   "source": [
    "import os\n",
    "import sys\n",
    "import time\n",
    "from pathlib import Path\n",
    "\n",
    "nb_dir = os.path.split(os.getcwd())[0]\n",
    "\n",
    "sys.path.append(nb_dir)\n",
    "sys.path.append(os.path.split(nb_dir)[0])"
   ]
  },
  {
   "cell_type": "code",
   "execution_count": 2,
   "metadata": {},
   "outputs": [],
   "source": [
    "import pandas as pd\n",
    "from PIL import Image, ImageDraw\n",
    "import copy"
   ]
  },
  {
   "cell_type": "code",
   "execution_count": 3,
   "metadata": {},
   "outputs": [],
   "source": [
    "from services.xml_document_info import (get_xml_info, get_xml_image_info)\n",
    "from services.get_xml import  create_pdf_processing_paths, extract_pdf_metadata, process_input_pdf\n",
    "from anuvaad_auditor.loghandler import log_info\n",
    "from anuvaad_auditor.loghandler import log_error\n",
    "from src.services import main\n",
    "from src.services.get_underline import get_underline\n",
    "from services import get_xml\n",
    "from src.services.child_text_unify_to_parent import ChildTextUnify\n",
    "from services.preprocess import prepocess_pdf_regions\n",
    "from services.get_tables import page_num_correction , get_text_table_line_df\n",
    "from src.services.ocr_text_utilities import  tesseract_ocr\n",
    "from src.services.get_response import process_image_df,  process_table_df, df_to_json, process_line_df, process_bg_image\n",
    "\n",
    "from utilities.filesystem import (create_directory)\n",
    "import config\n",
    "\n",
    "import src.utilities.app_context as app_context\n",
    "app_context.init()"
   ]
  },
  {
   "cell_type": "code",
   "execution_count": 4,
   "metadata": {},
   "outputs": [],
   "source": [
    "def draw_box(filepath, desired_width, desired_height, df, color=\"green\", save=False):\n",
    "    image  = Image.open(filepath)\n",
    "    image  = image.resize((desired_width, desired_height))\n",
    "    draw   = ImageDraw.Draw(image)\n",
    "    \n",
    "    for index, row in df.iterrows():\n",
    "        left   = int(row['text_left'])\n",
    "        right  = int(row['text_width'] + left)\n",
    "        top    = int(row['text_top'])\n",
    "        bottom = int(row[\"text_height\"] + top)\n",
    "        \n",
    "        draw.rectangle(((left, top), (right,bottom)), outline=color)\n",
    "    save_filepath = os.path.join(os.path.dirname(filepath), 'processed_' + os.path.basename(filepath))\n",
    "    if save:\n",
    "        image.save(save_filepath)\n",
    "    \n",
    "    return image\n",
    "\n",
    "def show_df(df):\n",
    "    return df.head(df.shape[0])"
   ]
  },
  {
   "cell_type": "markdown",
   "metadata": {},
   "source": [
    "## start of the program"
   ]
  },
  {
   "cell_type": "code",
   "execution_count": 5,
   "metadata": {},
   "outputs": [],
   "source": [
    "'''\n",
    "  folder structure of test data goes like this\n",
    "  - notebooks\n",
    "      - sample-data\n",
    "          - input\n",
    "          - output\n",
    "          \n",
    "  the pdfs are present in \"input\" directory and they are *.pdf is added into .gitignore\n",
    "  just to save repo size.\n",
    "'''\n",
    "\n",
    "base_dir   = os.getcwd()\n",
    "input_dir  = os.path.join(base_dir, 'sample-data','input')\n",
    "save_dir   = os.path.join(base_dir, 'sample-data', 'bbox_output')\n",
    "output_dir = os.path.join(base_dir, 'sample-data', 'output')\n",
    "\n",
    "#filename   = '6251_2016_3_1501_19387_Judgement_06-Jan-2020.pdf'\n",
    "filename  = 'KD_CV.pdf'\n"
   ]
  },
  {
   "cell_type": "code",
   "execution_count": 6,
   "metadata": {},
   "outputs": [
    {
     "data": {
      "text/plain": [
       "'/home/dhiraj/Documents/Anuwad/anuvaad/anuvaad-etl/anuvaad-extractor/block-merger/src/notebooks/sample-data/input'"
      ]
     },
     "execution_count": 6,
     "metadata": {},
     "output_type": "execute_result"
    }
   ],
   "source": [
    "input_dir"
   ]
  },
  {
   "cell_type": "code",
   "execution_count": 9,
   "metadata": {},
   "outputs": [],
   "source": [
    "\n",
    "def doc_structure_analysis(xml_dfs,img_dfs,working_dir,header_region , footer_region,lang, page_width, page_height, pdf_image_paths):\n",
    "    \n",
    "    '''\n",
    "        Document structure analysis to get:\n",
    "            - in_dfs\n",
    "            - table_dfs\n",
    "            - line_dfs\n",
    "            - h_dfs\n",
    "            - v_dfs\n",
    "            - p_dfs\n",
    "            - text_block_dfs\n",
    "\n",
    "    '''\n",
    "    log_info(\"document structure analysis started  ===>\", app_context.application_context )\n",
    "    \n",
    "    text_merger = ChildTextUnify()\n",
    "    \n",
    "    in_dfs, table_dfs, line_dfs,bg_dfs = get_text_table_line_df(xml_dfs, img_dfs, pdf_image_paths)\n",
    "    h_dfs                              = get_xml.get_hdfs(in_dfs,header_region,footer_region)\n",
    "    v_dfs                              = get_xml.get_vdfs(h_dfs)\n",
    "    p_dfs                              = get_xml.get_pdfs(v_dfs)\n",
    "    p_dfs , line_dfs                   = get_underline(p_dfs,line_dfs,app_context.application_context)\n",
    "    p_dfs                              = get_xml.update_font(p_dfs)\n",
    "    \n",
    "    if lang  != 'en':\n",
    "        text_block_dfs  = tesseract_ocr(pdf_image_paths, page_width, page_height, p_dfs, lang)\n",
    "    else:\n",
    "        text_block_dfs  = text_merger.unify_child_text_blocks(p_dfs)\n",
    "\n",
    "    log_info( \"document structure analysis successfully completed\", app_context.application_context )\n",
    "    return text_block_dfs, table_dfs, line_dfs , bg_dfs\n",
    "\n",
    "\n",
    "def doc_structure_response(pages,bg_dfs, text_block_dfs,table_dfs,line_dfs,page_width, page_height,jobid):\n",
    "\n",
    "    '''\n",
    "        To build required response in json format;\n",
    "            -  page level information:\n",
    "                    - page_no\n",
    "                    - page_width\n",
    "                    - page_height\n",
    "                    - images\n",
    "                    - tables\n",
    "                    - text_blocks\n",
    "            -  convert dataframe into proper json format:\n",
    "                    - img_df\n",
    "                    - text_df\n",
    "                    - tabel_df\n",
    "    '''\n",
    "    log_info(\"Service main\", \"document structure response started  ===>\", jobid)\n",
    "\n",
    "    response = { 'result' : [] }\n",
    "    for page_index, _ in enumerate(text_block_dfs):\n",
    "        #img_df     = img_dfs[page_index]\n",
    "        img_df     = bg_dfs[page_index]\n",
    "        text_df    = text_block_dfs[page_index]\n",
    "        table_df   = table_dfs[page_index]\n",
    "        line_df    = line_dfs[page_index]\n",
    "        page_json  = response_per_page(text_df, img_df, table_df,line_df, page_index, page_width, page_height)\n",
    "        response['result'].append(page_json)\n",
    "    \n",
    "    log_info(\"Service main\", \"document structure response successfully completed\", jobid)\n",
    "\n",
    "    return response\n",
    "\n",
    "def response_per_page(p_df, img_df, table_df,line_df,page_no,page_width,page_height):\n",
    "\n",
    "    p_df['block_id']     = range(len(p_df))\n",
    "    img_df['image_id']   = range(len(img_df))\n",
    "    table_df['table_id'] = range(len(table_df))\n",
    "    line_df['line_id']   = range(len(line_df))\n",
    "\n",
    "    res_dict           = {'page_no': page_no,'page_width': page_width,'page_height':page_height,'lines':[],'tables':[],'images':[],'text_blocks':[]}\n",
    "    image_data         = process_image_df(img_df)\n",
    "    table_data         = process_table_df(table_df)\n",
    "    line_data          = process_line_df(line_df)\n",
    "    text_data          = df_to_json(p_df)\n",
    "    res_dict['images'] = image_data\n",
    "    res_dict['tables'] = table_data\n",
    "    res_dict['lines']  = line_data\n",
    "    res_dict['text_blocks'] = text_data\n",
    "\n",
    "    return res_dict"
   ]
  },
  {
   "cell_type": "code",
   "execution_count": 11,
   "metadata": {},
   "outputs": [
    {
     "name": "stdout",
     "output_type": "stream",
     "text": [
      "[2020-09-08 17:02:40,187] {loghandler.py:20} MainThread INFO in loghandler: created processing directories successfully\n",
      "[2020-09-08 17:02:40,315] {loghandler.py:20} MainThread INFO in loghandler: Extracting xml of /home/dhiraj/Documents/Anuwad/anuvaad/anuvaad-etl/anuvaad-extractor/block-merger/src/notebooks/sample-data/input/KD_CV.pdf\n",
      "[2020-09-08 17:02:41,177] {loghandler.py:20} MainThread INFO in loghandler: Extracting background images of /home/dhiraj/Documents/Anuwad/anuvaad/anuvaad-etl/anuvaad-extractor/block-merger/src/notebooks/sample-data/input/KD_CV.pdf\n",
      "[2020-09-08 17:02:41,178] {loghandler.py:20} MainThread INFO in loghandler: Extraction of /home/dhiraj/Documents/Anuwad/anuvaad/anuvaad-etl/anuvaad-extractor/block-merger/src/notebooks/sample-data/input/KD_CV.pdf completed in 0.9885907173156738\n",
      "Total number of pages (5) in file (KD_CV.xml)\n",
      "Total number of pages (5) in file (KD_CV.xml)\n",
      "[2020-09-08 17:02:41,307] {loghandler.py:20} MainThread INFO in loghandler: process_input_pdf: created dataframes successfully\n",
      "[2020-09-08 17:02:41,774] {loghandler.py:20} MainThread INFO in loghandler: document structure analysis started  ===>\n",
      "[2020-09-08 17:02:41,775] {loghandler.py:20} MainThread INFO in loghandler: TableExtractor service started\n",
      "[2020-09-08 17:02:41,802] {loghandler.py:110} MainThread ERROR in loghandler: Service TableExtractor Error in finding tables\n"
     ]
    },
    {
     "ename": "TypeError",
     "evalue": "object of type 'NoneType' has no len()",
     "output_type": "error",
     "traceback": [
      "\u001b[0;31m---------------------------------------------------------------------------\u001b[0m",
      "\u001b[0;31mTypeError\u001b[0m                                 Traceback (most recent call last)",
      "\u001b[0;32m<timed exec>\u001b[0m in \u001b[0;36m<module>\u001b[0;34m\u001b[0m\n",
      "\u001b[0;32m<ipython-input-9-caa2af5450a4>\u001b[0m in \u001b[0;36mdoc_structure_analysis\u001b[0;34m(xml_dfs, img_dfs, working_dir, header_region, footer_region, lang, page_width, page_height, pdf_image_paths)\u001b[0m\n\u001b[1;32m     17\u001b[0m \u001b[0;34m\u001b[0m\u001b[0m\n\u001b[1;32m     18\u001b[0m     \u001b[0min_dfs\u001b[0m\u001b[0;34m,\u001b[0m \u001b[0mtable_dfs\u001b[0m\u001b[0;34m,\u001b[0m \u001b[0mline_dfs\u001b[0m\u001b[0;34m,\u001b[0m\u001b[0mbg_dfs\u001b[0m \u001b[0;34m=\u001b[0m \u001b[0mget_text_table_line_df\u001b[0m\u001b[0;34m(\u001b[0m\u001b[0mxml_dfs\u001b[0m\u001b[0;34m,\u001b[0m \u001b[0mimg_dfs\u001b[0m\u001b[0;34m,\u001b[0m \u001b[0mpdf_image_paths\u001b[0m\u001b[0;34m)\u001b[0m\u001b[0;34m\u001b[0m\u001b[0;34m\u001b[0m\u001b[0m\n\u001b[0;32m---> 19\u001b[0;31m     \u001b[0mh_dfs\u001b[0m                              \u001b[0;34m=\u001b[0m \u001b[0mget_xml\u001b[0m\u001b[0;34m.\u001b[0m\u001b[0mget_hdfs\u001b[0m\u001b[0;34m(\u001b[0m\u001b[0min_dfs\u001b[0m\u001b[0;34m,\u001b[0m\u001b[0mheader_region\u001b[0m\u001b[0;34m,\u001b[0m\u001b[0mfooter_region\u001b[0m\u001b[0;34m)\u001b[0m\u001b[0;34m\u001b[0m\u001b[0;34m\u001b[0m\u001b[0m\n\u001b[0m\u001b[1;32m     20\u001b[0m     \u001b[0mv_dfs\u001b[0m                              \u001b[0;34m=\u001b[0m \u001b[0mget_xml\u001b[0m\u001b[0;34m.\u001b[0m\u001b[0mget_vdfs\u001b[0m\u001b[0;34m(\u001b[0m\u001b[0mh_dfs\u001b[0m\u001b[0;34m)\u001b[0m\u001b[0;34m\u001b[0m\u001b[0;34m\u001b[0m\u001b[0m\n\u001b[1;32m     21\u001b[0m     \u001b[0mp_dfs\u001b[0m                              \u001b[0;34m=\u001b[0m \u001b[0mget_xml\u001b[0m\u001b[0;34m.\u001b[0m\u001b[0mget_pdfs\u001b[0m\u001b[0;34m(\u001b[0m\u001b[0mv_dfs\u001b[0m\u001b[0;34m)\u001b[0m\u001b[0;34m\u001b[0m\u001b[0;34m\u001b[0m\u001b[0m\n",
      "\u001b[0;32m~/Documents/Anuwad/anuvaad/anuvaad-etl/anuvaad-extractor/block-merger/src/services/get_xml.py\u001b[0m in \u001b[0;36mget_hdfs\u001b[0;34m(in_dfs, header_region, footer_region)\u001b[0m\n\u001b[1;32m    130\u001b[0m \u001b[0;34m\u001b[0m\u001b[0m\n\u001b[1;32m    131\u001b[0m     \u001b[0mstart_time\u001b[0m          \u001b[0;34m=\u001b[0m \u001b[0mtime\u001b[0m\u001b[0;34m.\u001b[0m\u001b[0mtime\u001b[0m\u001b[0;34m(\u001b[0m\u001b[0;34m)\u001b[0m\u001b[0;34m\u001b[0m\u001b[0;34m\u001b[0m\u001b[0m\n\u001b[0;32m--> 132\u001b[0;31m     \u001b[0mpages\u001b[0m \u001b[0;34m=\u001b[0m \u001b[0mlen\u001b[0m\u001b[0;34m(\u001b[0m\u001b[0min_dfs\u001b[0m\u001b[0;34m)\u001b[0m\u001b[0;34m\u001b[0m\u001b[0;34m\u001b[0m\u001b[0m\n\u001b[0m\u001b[1;32m    133\u001b[0m     \u001b[0mmultiple_pages\u001b[0m \u001b[0;34m=\u001b[0m \u001b[0;32mFalse\u001b[0m\u001b[0;34m\u001b[0m\u001b[0;34m\u001b[0m\u001b[0m\n\u001b[1;32m    134\u001b[0m     \u001b[0;32mif\u001b[0m \u001b[0mpages\u001b[0m \u001b[0;34m>\u001b[0m \u001b[0;36m1\u001b[0m\u001b[0;34m:\u001b[0m\u001b[0;34m\u001b[0m\u001b[0;34m\u001b[0m\u001b[0m\n",
      "\u001b[0;31mTypeError\u001b[0m: object of type 'NoneType' has no len()"
     ]
    }
   ],
   "source": [
    "%%time\n",
    "pdf_filepath      = os.path.join(input_dir, filename)\n",
    "jobid             = 'JOBID_1000'\n",
    "lang              = 'hi'\n",
    "\n",
    "img_dfs, xml_dfs, page_width, page_height, working_dir, pdf_bg_img_filepaths = get_xml.process_input_pdf(pdf_filepath, output_dir, lang)\n",
    "\n",
    "header_region, footer_region = prepocess_pdf_regions(xml_dfs, page_height,config.PREPROCESS_CONFIGS)\n",
    "pages          = len(xml_dfs)\n",
    "if pages > 1:\n",
    "    multiple_pages =True\n",
    "        \n",
    "text_block_dfs, table_dfs, line_dfs, bg_dfs = doc_structure_analysis(xml_dfs,img_dfs,working_dir,header_region , footer_region, lang, page_width, page_height, pdf_bg_img_filepaths)\n",
    "# response   =  doc_structure_response(pages, bg_dfs, text_block_dfs, table_dfs,line_dfs,page_width, page_height,jobid)\n"
   ]
  },
  {
   "cell_type": "code",
   "execution_count": 16,
   "metadata": {},
   "outputs": [
    {
     "data": {
      "text/plain": [
       "1188"
      ]
     },
     "execution_count": 16,
     "metadata": {},
     "output_type": "execute_result"
    }
   ],
   "source": [
    "page_height"
   ]
  },
  {
   "cell_type": "code",
   "execution_count": 12,
   "metadata": {},
   "outputs": [
    {
     "data": {
      "text/plain": [
       "0.15"
      ]
     },
     "execution_count": 12,
     "metadata": {},
     "output_type": "execute_result"
    }
   ],
   "source": [
    "config.PREPROCESS_CONFIGS['header_cut']"
   ]
  },
  {
   "cell_type": "code",
   "execution_count": 13,
   "metadata": {},
   "outputs": [
    {
     "ename": "NameError",
     "evalue": "name 'text_block_dfs' is not defined",
     "output_type": "error",
     "traceback": [
      "\u001b[0;31m---------------------------------------------------------------------------\u001b[0m",
      "\u001b[0;31mNameError\u001b[0m                                 Traceback (most recent call last)",
      "\u001b[0;32m<ipython-input-13-de011a851586>\u001b[0m in \u001b[0;36m<module>\u001b[0;34m\u001b[0m\n\u001b[0;32m----> 1\u001b[0;31m \u001b[0mtext_block_dfs\u001b[0m\u001b[0;34m[\u001b[0m\u001b[0;36m0\u001b[0m\u001b[0;34m]\u001b[0m\u001b[0;34m\u001b[0m\u001b[0;34m\u001b[0m\u001b[0m\n\u001b[0m",
      "\u001b[0;31mNameError\u001b[0m: name 'text_block_dfs' is not defined"
     ]
    }
   ],
   "source": [
    "text_block_dfs[0]"
   ]
  },
  {
   "cell_type": "code",
   "execution_count": null,
   "metadata": {},
   "outputs": [],
   "source": []
  },
  {
   "cell_type": "code",
   "execution_count": null,
   "metadata": {},
   "outputs": [],
   "source": []
  },
  {
   "cell_type": "code",
   "execution_count": null,
   "metadata": {},
   "outputs": [],
   "source": []
  },
  {
   "cell_type": "code",
   "execution_count": 9,
   "metadata": {},
   "outputs": [],
   "source": [
    "from src.services import main"
   ]
  },
  {
   "cell_type": "code",
   "execution_count": 10,
   "metadata": {},
   "outputs": [
    {
     "ename": "TypeError",
     "evalue": "join() argument must be str or bytes, not 'NoneType'",
     "output_type": "error",
     "traceback": [
      "\u001b[0;31m---------------------------------------------------------------------------\u001b[0m",
      "\u001b[0;31mTypeError\u001b[0m                                 Traceback (most recent call last)",
      "\u001b[0;32m<ipython-input-10-dceee23f98cf>\u001b[0m in \u001b[0;36m<module>\u001b[0;34m()\u001b[0m\n\u001b[1;32m      4\u001b[0m \u001b[0;32mif\u001b[0m \u001b[0;32mnot\u001b[0m \u001b[0mos\u001b[0m\u001b[0;34m.\u001b[0m\u001b[0mpath\u001b[0m\u001b[0;34m.\u001b[0m\u001b[0mexists\u001b[0m\u001b[0;34m(\u001b[0m\u001b[0msave_path\u001b[0m\u001b[0;34m)\u001b[0m\u001b[0;34m:\u001b[0m\u001b[0;34m\u001b[0m\u001b[0m\n\u001b[1;32m      5\u001b[0m     \u001b[0mos\u001b[0m\u001b[0;34m.\u001b[0m\u001b[0msystem\u001b[0m\u001b[0;34m(\u001b[0m\u001b[0;34m'mkdir -p {0}'\u001b[0m\u001b[0;34m.\u001b[0m\u001b[0mformat\u001b[0m\u001b[0;34m(\u001b[0m\u001b[0msave_path\u001b[0m\u001b[0;34m)\u001b[0m\u001b[0;34m)\u001b[0m\u001b[0;34m\u001b[0m\u001b[0m\n\u001b[0;32m----> 6\u001b[0;31m \u001b[0mdata\u001b[0m \u001b[0;34m=\u001b[0m \u001b[0mmain\u001b[0m\u001b[0;34m.\u001b[0m\u001b[0mDocumentStructure\u001b[0m\u001b[0;34m(\u001b[0m\u001b[0;36m100\u001b[0m\u001b[0;34m,\u001b[0m\u001b[0mfilename\u001b[0m\u001b[0;34m,\u001b[0m \u001b[0;34m\"hi\"\u001b[0m\u001b[0;34m,\u001b[0m\u001b[0minput_dir\u001b[0m\u001b[0;34m)\u001b[0m\u001b[0;34m\u001b[0m\u001b[0m\n\u001b[0m",
      "\u001b[0;32m~/Workspace/project/anuvaad/anuvaad-etl/anuvaad-extractor/block-merger/src/services/main.py\u001b[0m in \u001b[0;36mDocumentStructure\u001b[0;34m(jobid, file_name, lang, base_dir)\u001b[0m\n\u001b[1;32m    133\u001b[0m \u001b[0;34m\u001b[0m\u001b[0m\n\u001b[1;32m    134\u001b[0m \u001b[0;32mdef\u001b[0m \u001b[0mDocumentStructure\u001b[0m\u001b[0;34m(\u001b[0m\u001b[0mjobid\u001b[0m\u001b[0;34m,\u001b[0m \u001b[0mfile_name\u001b[0m\u001b[0;34m,\u001b[0m \u001b[0mlang\u001b[0m\u001b[0;34m=\u001b[0m\u001b[0;34m'en'\u001b[0m\u001b[0;34m,\u001b[0m\u001b[0mbase_dir\u001b[0m \u001b[0;34m=\u001b[0m \u001b[0mconfig\u001b[0m\u001b[0;34m.\u001b[0m\u001b[0mBASE_DIR\u001b[0m \u001b[0;34m)\u001b[0m\u001b[0;34m:\u001b[0m\u001b[0;34m\u001b[0m\u001b[0m\n\u001b[0;32m--> 135\u001b[0;31m     \u001b[0mimg_dfs\u001b[0m\u001b[0;34m,\u001b[0m \u001b[0mxml_dfs\u001b[0m\u001b[0;34m,\u001b[0m \u001b[0mpages\u001b[0m\u001b[0;34m,\u001b[0m \u001b[0mworking_dir\u001b[0m\u001b[0;34m,\u001b[0m \u001b[0mheader_region\u001b[0m \u001b[0;34m,\u001b[0m \u001b[0mfooter_region\u001b[0m\u001b[0;34m,\u001b[0m \u001b[0mmultiple_pages\u001b[0m\u001b[0;34m,\u001b[0m \u001b[0mpage_width\u001b[0m\u001b[0;34m,\u001b[0m \u001b[0mpage_height\u001b[0m\u001b[0;34m,\u001b[0m \u001b[0mpdf_image_paths\u001b[0m  \u001b[0;34m=\u001b[0m \u001b[0mdoc_pre_processing\u001b[0m\u001b[0;34m(\u001b[0m\u001b[0mfile_name\u001b[0m\u001b[0;34m,\u001b[0m\u001b[0mbase_dir\u001b[0m\u001b[0;34m,\u001b[0m\u001b[0mjobid\u001b[0m\u001b[0;34m)\u001b[0m\u001b[0;34m\u001b[0m\u001b[0m\n\u001b[0m\u001b[1;32m    136\u001b[0m \u001b[0;34m\u001b[0m\u001b[0m\n\u001b[1;32m    137\u001b[0m     \u001b[0mtext_blocks_count\u001b[0m \u001b[0;34m=\u001b[0m \u001b[0mcheck_text\u001b[0m\u001b[0;34m(\u001b[0m\u001b[0mxml_dfs\u001b[0m\u001b[0;34m)\u001b[0m\u001b[0;34m\u001b[0m\u001b[0m\n",
      "\u001b[0;32m~/Workspace/project/anuvaad/anuvaad-etl/anuvaad-extractor/block-merger/src/services/main.py\u001b[0m in \u001b[0;36mdoc_pre_processing\u001b[0;34m(filename, base_dir, jobid)\u001b[0m\n\u001b[1;32m     27\u001b[0m     \u001b[0mlog_info\u001b[0m\u001b[0;34m(\u001b[0m\u001b[0;34m\"Service main\"\u001b[0m\u001b[0;34m,\u001b[0m \u001b[0;34m\"document preprocessing started  ===>\"\u001b[0m\u001b[0;34m,\u001b[0m \u001b[0mjobid\u001b[0m\u001b[0;34m)\u001b[0m\u001b[0;34m\u001b[0m\u001b[0m\n\u001b[1;32m     28\u001b[0m \u001b[0;34m\u001b[0m\u001b[0m\n\u001b[0;32m---> 29\u001b[0;31m     \u001b[0mimg_dfs\u001b[0m\u001b[0;34m,\u001b[0m\u001b[0mxml_dfs\u001b[0m\u001b[0;34m,\u001b[0m \u001b[0mpage_width\u001b[0m\u001b[0;34m,\u001b[0m \u001b[0mpage_height\u001b[0m\u001b[0;34m,\u001b[0m\u001b[0mworking_dir\u001b[0m\u001b[0;34m,\u001b[0m \u001b[0mpdf_image_paths\u001b[0m  \u001b[0;34m=\u001b[0m \u001b[0mget_xml\u001b[0m\u001b[0;34m.\u001b[0m\u001b[0mprocess_input_pdf\u001b[0m\u001b[0;34m(\u001b[0m\u001b[0mfilename\u001b[0m\u001b[0;34m,\u001b[0m \u001b[0mbase_dir\u001b[0m\u001b[0;34m,\u001b[0m\u001b[0mjobid\u001b[0m\u001b[0;34m)\u001b[0m\u001b[0;34m\u001b[0m\u001b[0m\n\u001b[0m\u001b[1;32m     30\u001b[0m     \u001b[0mmultiple_pages\u001b[0m \u001b[0;34m=\u001b[0m \u001b[0;32mFalse\u001b[0m\u001b[0;34m\u001b[0m\u001b[0m\n\u001b[1;32m     31\u001b[0m     \u001b[0mpages\u001b[0m          \u001b[0;34m=\u001b[0m \u001b[0mlen\u001b[0m\u001b[0;34m(\u001b[0m\u001b[0mxml_dfs\u001b[0m\u001b[0;34m)\u001b[0m\u001b[0;34m\u001b[0m\u001b[0m\n",
      "\u001b[0;32m~/Workspace/project/anuvaad/anuvaad-etl/anuvaad-extractor/block-merger/src/services/get_xml.py\u001b[0m in \u001b[0;36mprocess_input_pdf\u001b[0;34m(filename, base_dir, jobid)\u001b[0m\n\u001b[1;32m     90\u001b[0m     \u001b[0;32mtry\u001b[0m \u001b[0;34m:\u001b[0m\u001b[0;34m\u001b[0m\u001b[0m\n\u001b[1;32m     91\u001b[0m         \u001b[0mxml_dfs\u001b[0m\u001b[0;34m,\u001b[0m \u001b[0mpage_width\u001b[0m\u001b[0;34m,\u001b[0m \u001b[0mpage_height\u001b[0m \u001b[0;34m=\u001b[0m \u001b[0mget_xml_info\u001b[0m\u001b[0;34m(\u001b[0m\u001b[0mpdf_xml_filepath\u001b[0m\u001b[0;34m)\u001b[0m\u001b[0;34m\u001b[0m\u001b[0m\n\u001b[0;32m---> 92\u001b[0;31m     \u001b[0;32mexcept\u001b[0m \u001b[0mException\u001b[0m \u001b[0;32mas\u001b[0m \u001b[0me\u001b[0m \u001b[0;34m:\u001b[0m\u001b[0;34m\u001b[0m\u001b[0m\n\u001b[0m\u001b[1;32m     93\u001b[0m         \u001b[0mlog_error\u001b[0m\u001b[0;34m(\u001b[0m\u001b[0;34m\"Service get_xml\"\u001b[0m\u001b[0;34m,\u001b[0m \u001b[0;34m\"Error in extracting text xml info\"\u001b[0m\u001b[0;34m,\u001b[0m \u001b[0mjobid\u001b[0m\u001b[0;34m,\u001b[0m \u001b[0me\u001b[0m\u001b[0;34m)\u001b[0m\u001b[0;34m\u001b[0m\u001b[0m\n\u001b[1;32m     94\u001b[0m         \u001b[0;32mreturn\u001b[0m \u001b[0;32mNone\u001b[0m\u001b[0;34m,\u001b[0m \u001b[0;32mNone\u001b[0m\u001b[0;34m,\u001b[0m \u001b[0;32mNone\u001b[0m\u001b[0;34m,\u001b[0m \u001b[0;32mNone\u001b[0m\u001b[0;34m,\u001b[0m \u001b[0;32mNone\u001b[0m\u001b[0;34m,\u001b[0m \u001b[0;32mNone\u001b[0m\u001b[0;34m\u001b[0m\u001b[0m\n",
      "\u001b[0;32m~/Workspace/project/anuvaad/anuvaad-etl/anuvaad-extractor/block-merger/src/services/get_xml.py\u001b[0m in \u001b[0;36mextract_pdf_metadata\u001b[0;34m(filename, working_dir, base_dir, jobid)\u001b[0m\n\u001b[1;32m     70\u001b[0m         \u001b[0;34m-\u001b[0m \u001b[0;32mfrom\u001b[0m \u001b[0mthe\u001b[0m \u001b[0minput\u001b[0m \u001b[0mextract\u001b[0m \u001b[0mfollowing\u001b[0m \u001b[0mdetails\u001b[0m\u001b[0;34m\u001b[0m\u001b[0m\n\u001b[1;32m     71\u001b[0m             \u001b[0;34m-\u001b[0m \u001b[0mxml\u001b[0m\u001b[0;34m\u001b[0m\u001b[0m\n\u001b[0;32m---> 72\u001b[0;31m             \u001b[0;34m-\u001b[0m \u001b[0mimages\u001b[0m \u001b[0mpresent\u001b[0m \u001b[0;32min\u001b[0m \u001b[0mxml\u001b[0m\u001b[0;34m\u001b[0m\u001b[0m\n\u001b[0m\u001b[1;32m     73\u001b[0m             \u001b[0;34m-\u001b[0m \u001b[0mbackground\u001b[0m \u001b[0mimage\u001b[0m \u001b[0mpresent\u001b[0m \u001b[0;32min\u001b[0m \u001b[0meach\u001b[0m \u001b[0mpage\u001b[0m\u001b[0;34m\u001b[0m\u001b[0m\n\u001b[1;32m     74\u001b[0m     '''\n",
      "\u001b[0;32m~/Workspace/project/anuvaad/anuvaad-etl/anuvaad-extractor/block-merger/src/utilities/xml_utils.py\u001b[0m in \u001b[0;36mread_directory_files\u001b[0;34m(path, pattern)\u001b[0m\n\u001b[1;32m     63\u001b[0m \u001b[0;32mdef\u001b[0m \u001b[0mget_specific_tags\u001b[0m\u001b[0;34m(\u001b[0m\u001b[0mnode\u001b[0m\u001b[0;34m,\u001b[0m \u001b[0mtype_char\u001b[0m\u001b[0;34m)\u001b[0m\u001b[0;34m:\u001b[0m\u001b[0;34m\u001b[0m\u001b[0m\n\u001b[1;32m     64\u001b[0m     \u001b[0mnodes\u001b[0m \u001b[0;34m=\u001b[0m \u001b[0;34m[\u001b[0m\u001b[0;34m]\u001b[0m\u001b[0;34m\u001b[0m\u001b[0m\n\u001b[0;32m---> 65\u001b[0;31m     \u001b[0;32mfor\u001b[0m \u001b[0melem\u001b[0m \u001b[0;32min\u001b[0m \u001b[0mnode\u001b[0m\u001b[0;34m.\u001b[0m\u001b[0miter\u001b[0m\u001b[0;34m(\u001b[0m\u001b[0;34m)\u001b[0m\u001b[0;34m:\u001b[0m\u001b[0;34m\u001b[0m\u001b[0m\n\u001b[0m\u001b[1;32m     66\u001b[0m         \u001b[0;32mif\u001b[0m \u001b[0mcheck_element_is\u001b[0m\u001b[0;34m(\u001b[0m\u001b[0melem\u001b[0m\u001b[0;34m,\u001b[0m \u001b[0mtype_char\u001b[0m\u001b[0;34m)\u001b[0m\u001b[0;34m:\u001b[0m\u001b[0;34m\u001b[0m\u001b[0m\n\u001b[1;32m     67\u001b[0m             \u001b[0mnodes\u001b[0m\u001b[0;34m.\u001b[0m\u001b[0mappend\u001b[0m\u001b[0;34m(\u001b[0m\u001b[0melem\u001b[0m\u001b[0;34m)\u001b[0m\u001b[0;34m\u001b[0m\u001b[0m\n",
      "\u001b[0;32m~/miniconda3/envs/cv3/lib/python3.5/posixpath.py\u001b[0m in \u001b[0;36mjoin\u001b[0;34m(a, *p)\u001b[0m\n\u001b[1;32m     87\u001b[0m                 \u001b[0mpath\u001b[0m \u001b[0;34m+=\u001b[0m \u001b[0msep\u001b[0m \u001b[0;34m+\u001b[0m \u001b[0mb\u001b[0m\u001b[0;34m\u001b[0m\u001b[0m\n\u001b[1;32m     88\u001b[0m     \u001b[0;32mexcept\u001b[0m \u001b[0;34m(\u001b[0m\u001b[0mTypeError\u001b[0m\u001b[0;34m,\u001b[0m \u001b[0mAttributeError\u001b[0m\u001b[0;34m,\u001b[0m \u001b[0mBytesWarning\u001b[0m\u001b[0;34m)\u001b[0m\u001b[0;34m:\u001b[0m\u001b[0;34m\u001b[0m\u001b[0m\n\u001b[0;32m---> 89\u001b[0;31m         \u001b[0mgenericpath\u001b[0m\u001b[0;34m.\u001b[0m\u001b[0m_check_arg_types\u001b[0m\u001b[0;34m(\u001b[0m\u001b[0;34m'join'\u001b[0m\u001b[0;34m,\u001b[0m \u001b[0ma\u001b[0m\u001b[0;34m,\u001b[0m \u001b[0;34m*\u001b[0m\u001b[0mp\u001b[0m\u001b[0;34m)\u001b[0m\u001b[0;34m\u001b[0m\u001b[0m\n\u001b[0m\u001b[1;32m     90\u001b[0m         \u001b[0;32mraise\u001b[0m\u001b[0;34m\u001b[0m\u001b[0m\n\u001b[1;32m     91\u001b[0m     \u001b[0;32mreturn\u001b[0m \u001b[0mpath\u001b[0m\u001b[0;34m\u001b[0m\u001b[0m\n",
      "\u001b[0;32m~/miniconda3/envs/cv3/lib/python3.5/genericpath.py\u001b[0m in \u001b[0;36m_check_arg_types\u001b[0;34m(funcname, *args)\u001b[0m\n\u001b[1;32m    141\u001b[0m         \u001b[0;32melse\u001b[0m\u001b[0;34m:\u001b[0m\u001b[0;34m\u001b[0m\u001b[0m\n\u001b[1;32m    142\u001b[0m             raise TypeError('%s() argument must be str or bytes, not %r' %\n\u001b[0;32m--> 143\u001b[0;31m                             (funcname, s.__class__.__name__)) from None\n\u001b[0m\u001b[1;32m    144\u001b[0m     \u001b[0;32mif\u001b[0m \u001b[0mhasstr\u001b[0m \u001b[0;32mand\u001b[0m \u001b[0mhasbytes\u001b[0m\u001b[0;34m:\u001b[0m\u001b[0;34m\u001b[0m\u001b[0m\n\u001b[1;32m    145\u001b[0m         \u001b[0;32mraise\u001b[0m \u001b[0mTypeError\u001b[0m\u001b[0;34m(\u001b[0m\u001b[0;34m\"Can't mix strings and bytes in path components\"\u001b[0m\u001b[0;34m)\u001b[0m \u001b[0;32mfrom\u001b[0m \u001b[0;32mNone\u001b[0m\u001b[0;34m\u001b[0m\u001b[0m\n",
      "\u001b[0;31mTypeError\u001b[0m: join() argument must be str or bytes, not 'NoneType'"
     ]
    }
   ],
   "source": [
    "pdf_path   = os.path.join(input_dir, filename)\n",
    "save_path  = os.path.join(save_dir, str(filename.split('.pdf')[0]))\n",
    "\n",
    "if not os.path.exists(save_path):\n",
    "    os.system('mkdir -p {0}'.format(save_path))\n",
    "data = main.DocumentStructure(100,filename, \"hi\",input_dir)"
   ]
  },
  {
   "cell_type": "code",
   "execution_count": 66,
   "metadata": {},
   "outputs": [],
   "source": [
    "response = data['result']"
   ]
  },
  {
   "cell_type": "code",
   "execution_count": 67,
   "metadata": {},
   "outputs": [],
   "source": [
    "def draw_bbox_image(draw,page_data):\n",
    "    \n",
    "    if page_data['images']:\n",
    "        try:\n",
    "            for image_block in page_data['images']:\n",
    "                    top     = image_block[\"text_top\"];         left   = image_block[\"text_left\"];  \n",
    "                    bottom  = top+image_block[\"text_height\"];  right  = left+image_block[\"text_width\"]\n",
    "                    draw.rectangle(((left, top), (right,bottom)), outline='green')\n",
    "            return draw\n",
    "        except:\n",
    "            pass"
   ]
  },
  {
   "cell_type": "code",
   "execution_count": 68,
   "metadata": {},
   "outputs": [],
   "source": [
    "def draw_bbox_table(draw,page_data):\n",
    "    \n",
    "    if page_data['tables']:\n",
    "        try:\n",
    "            for table_block in page_data['tables']:\n",
    "                    top     = table_block[\"text_top\"];         left   = table_block[\"text_left\"];  \n",
    "                    bottom  = top+table_block[\"text_height\"];  right  = left+table_block[\"text_width\"]\n",
    "                    draw.rectangle(((left, top), (right,bottom)), outline='blue')\n",
    "            return draw\n",
    "        except:\n",
    "            pass"
   ]
  },
  {
   "cell_type": "code",
   "execution_count": 69,
   "metadata": {},
   "outputs": [],
   "source": [
    "def draw_bbox_text(draw,page_data):\n",
    "    \n",
    "    if page_data['text_blocks']:\n",
    "        try:\n",
    "            for text_block in page_data['text_blocks']:\n",
    "                top     = text_block[\"text_top\"];         left   = text_block[\"text_left\"];  \n",
    "                bottom  = top+text_block[\"text_height\"];  right  = left+text_block[\"text_width\"]\n",
    "                draw.rectangle(((left, top), (right,bottom)), outline='red')\n",
    "            return draw\n",
    "        except:\n",
    "            pass"
   ]
  },
  {
   "cell_type": "code",
   "execution_count": 70,
   "metadata": {},
   "outputs": [],
   "source": [
    "def draw_bbox_pdf(data,image_files,save_path):\n",
    "    for page_no in range(len(data)):\n",
    "        image_path = sorted(image_files)[page_no]\n",
    "        page_data = data[page_no]\n",
    "        page_width = page_data['page_width']; page_height = page_data['page_height']\n",
    "        image  = Image.open(image_path)\n",
    "        image  = image.resize((page_width, page_height))\n",
    "        draw   = ImageDraw.Draw(image)\n",
    "        draw  = draw_bbox_text(draw,page_data)\n",
    "        draw  = draw_bbox_image(draw,page_data)\n",
    "        draw  = draw_bbox_table(draw,page_data)\n",
    "        save_filepath = os.path.join(save_path,image_path.split('images/')[1])\n",
    "        image.save(save_filepath)\n",
    "            "
   ]
  },
  {
   "cell_type": "code",
   "execution_count": 71,
   "metadata": {},
   "outputs": [],
   "source": [
    "draw_bbox_pdf(response,pdf_image_paths,save_path)"
   ]
  },
  {
   "cell_type": "code",
   "execution_count": 10,
   "metadata": {},
   "outputs": [],
   "source": []
  },
  {
   "cell_type": "code",
   "execution_count": 11,
   "metadata": {},
   "outputs": [],
   "source": [
    "attr = ''\n",
    "\n"
   ]
  },
  {
   "cell_type": "code",
   "execution_count": null,
   "metadata": {},
   "outputs": [],
   "source": []
  },
  {
   "cell_type": "code",
   "execution_count": null,
   "metadata": {},
   "outputs": [],
   "source": []
  }
 ],
 "metadata": {
  "kernelspec": {
   "display_name": "Anuvaad",
   "language": "python",
   "name": "anuvaad"
  },
  "language_info": {
   "codemirror_mode": {
    "name": "ipython",
    "version": 3
   },
   "file_extension": ".py",
   "mimetype": "text/x-python",
   "name": "python",
   "nbconvert_exporter": "python",
   "pygments_lexer": "ipython3",
   "version": "3.7.8"
  }
 },
 "nbformat": 4,
 "nbformat_minor": 2
}
