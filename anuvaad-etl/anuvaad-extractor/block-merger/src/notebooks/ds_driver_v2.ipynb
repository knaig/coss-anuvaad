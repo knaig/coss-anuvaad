{
 "cells": [
  {
   "cell_type": "code",
   "execution_count": 1,
   "metadata": {},
   "outputs": [],
   "source": [
    "import os\n",
    "import sys\n",
    "import time\n",
    "from pathlib import Path\n",
    "\n",
    "nb_dir = os.path.split(os.getcwd())[0]\n",
    "\n",
    "sys.path.append(nb_dir)\n",
    "sys.path.append(os.path.split(nb_dir)[0])"
   ]
  },
  {
   "cell_type": "code",
   "execution_count": 2,
   "metadata": {},
   "outputs": [],
   "source": [
    "import pandas as pd\n",
    "from PIL import Image, ImageDraw\n",
    "import copy"
   ]
  },
  {
   "cell_type": "code",
   "execution_count": 5,
   "metadata": {},
   "outputs": [],
   "source": [
    "from services.xml_document_info import (get_xml_info, get_xml_image_info)\n",
    "from services.get_xml import  create_pdf_processing_paths, extract_pdf_metadata, process_input_pdf\n",
    "from anuvaad_auditor.loghandler import log_info\n",
    "from anuvaad_auditor.loghandler import log_error\n",
    "from src.services import main\n",
    "from src.services.get_underline import get_underline\n",
    "from services import get_xml\n",
    "from src.services.child_text_unify_to_parent import ChildTextUnify\n",
    "from services.preprocess import prepocess_pdf_regions\n",
    "from services.get_tables import page_num_correction , get_text_table_line_df\n",
    "from src.services.ocr_text_utilities import  tesseract_ocr\n",
    "from src.services.get_response import process_image_df,  process_table_df, df_to_json, process_line_df, process_bg_image\n",
    "\n",
    "from utilities.filesystem import (create_directory)\n",
    "import config\n",
    "\n",
    "import src.utilities.app_context as app_context\n",
    "app_context.init()"
   ]
  },
  {
   "cell_type": "code",
   "execution_count": 6,
   "metadata": {},
   "outputs": [],
   "source": [
    "def draw_box(filepath, desired_width, desired_height, df, color=\"green\", save=False):\n",
    "    image  = Image.open(filepath)\n",
    "    image  = image.resize((desired_width, desired_height))\n",
    "    draw   = ImageDraw.Draw(image)\n",
    "    \n",
    "    for index, row in df.iterrows():\n",
    "        left   = int(row['text_left'])\n",
    "        right  = int(row['text_width'] + left)\n",
    "        top    = int(row['text_top'])\n",
    "        bottom = int(row[\"text_height\"] + top)\n",
    "        \n",
    "        draw.rectangle(((left, top), (right,bottom)), outline=color)\n",
    "    save_filepath = os.path.join(os.path.dirname(filepath), 'processed_' + os.path.basename(filepath))\n",
    "    if save:\n",
    "        image.save(save_filepath)\n",
    "    \n",
    "    return image\n",
    "\n",
    "def show_df(df):\n",
    "    return df.head(df.shape[0])"
   ]
  },
  {
   "cell_type": "markdown",
   "metadata": {},
   "source": [
    "## start of the program"
   ]
  },
  {
   "cell_type": "code",
   "execution_count": 7,
   "metadata": {},
   "outputs": [],
   "source": [
    "'''\n",
    "  folder structure of test data goes like this\n",
    "  - notebooks\n",
    "      - sample-data\n",
    "          - input\n",
    "          - output\n",
    "          \n",
    "  the pdfs are present in \"input\" directory and they are *.pdf is added into .gitignore\n",
    "  just to save repo size.\n",
    "'''\n",
    "\n",
    "base_dir   = os.getcwd()\n",
    "input_dir  = os.path.join(base_dir, 'sample-data','input')\n",
    "save_dir   = os.path.join(base_dir, 'sample-data', 'bbox_output')\n",
    "output_dir = os.path.join(base_dir, 'sample-data', 'output')\n",
    "\n",
    "#filename   = '6251_2016_3_1501_19387_Judgement_06-Jan-2020.pdf'\n",
    "filename  = 'Madras_HC_02.pdf'\n"
   ]
  },
  {
   "cell_type": "code",
   "execution_count": 8,
   "metadata": {},
   "outputs": [],
   "source": [
    "from src.services import main"
   ]
  },
  {
   "cell_type": "code",
   "execution_count": null,
   "metadata": {},
   "outputs": [
    {
     "name": "stdout",
     "output_type": "stream",
     "text": [
      "[2020-09-09 12:13:32,140] {loghandler.py:48} MainThread DEBUG in loghandler: Block merger starting processing <module 'src.utilities.app_context' from '/Users/kd/Workspace/project/anuvaad/anuvaad-etl/anuvaad-extractor/block-merger/src/utilities/app_context.py'>\n",
      "[2020-09-09 12:13:32,142] {loghandler.py:20} MainThread INFO in loghandler: document preprocessing started ===>\n",
      "[2020-09-09 12:13:32,153] {loghandler.py:20} MainThread INFO in loghandler: created processing directories successfully /Users/kd/Workspace/project/anuvaad/anuvaad-etl/anuvaad-extractor/block-merger/src/notebooks/sample-data/input/Madras_HC_02_c6f0ca48-f267-11ea-b166-acde48001122\n",
      "[2020-09-09 12:13:32,155] {loghandler.py:20} MainThread INFO in loghandler: filepath /Users/kd/Workspace/project/anuvaad/anuvaad-etl/anuvaad-extractor/block-merger/src/notebooks/sample-data/input/Madras_HC_02.pdf, working_dir /Users/kd/Workspace/project/anuvaad/anuvaad-etl/anuvaad-extractor/block-merger/src/notebooks/sample-data/input/Madras_HC_02_c6f0ca48-f267-11ea-b166-acde48001122\n",
      "[2020-09-09 12:13:33,969] {loghandler.py:20} MainThread INFO in loghandler: Extracting xml of /Users/kd/Workspace/project/anuvaad/anuvaad-etl/anuvaad-extractor/block-merger/src/notebooks/sample-data/input/Madras_HC_02.pdf\n",
      "[2020-09-09 12:13:34,628] {loghandler.py:20} MainThread INFO in loghandler: Extracting background images of /Users/kd/Workspace/project/anuvaad/anuvaad-etl/anuvaad-extractor/block-merger/src/notebooks/sample-data/input/Madras_HC_02.pdf\n",
      "[2020-09-09 12:13:34,629] {loghandler.py:20} MainThread INFO in loghandler: Extraction of /Users/kd/Workspace/project/anuvaad/anuvaad-etl/anuvaad-extractor/block-merger/src/notebooks/sample-data/input/Madras_HC_02.pdf completed in 2.473482131958008\n",
      "Total number of pages (4) in file (Madras_HC_02.xml)\n",
      "Total number of pages (4) in file (Madras_HC_02.xml)\n",
      "[2020-09-09 12:13:34,675] {loghandler.py:20} MainThread INFO in loghandler: process_input_pdf: created dataframes successfully\n",
      "[2020-09-09 12:13:34,676] {loghandler.py:20} MainThread INFO in loghandler: Processing of process_input_pdf completed in 2.5323550701141357/4, average per page 0.6330887675285339\n",
      "[2020-09-09 12:13:34,954] {loghandler.py:20} MainThread INFO in loghandler: document preprocessing successfully completed\n",
      "[2020-09-09 12:13:34,954] {loghandler.py:20} MainThread INFO in loghandler: document structure analysis started  ===>\n",
      "[2020-09-09 12:13:34,955] {loghandler.py:20} MainThread INFO in loghandler: TableExtractor service started\n"
     ]
    },
    {
     "name": "stderr",
     "output_type": "stream",
     "text": [
      "/Users/kd/miniconda3/envs/cv3/lib/python3.5/site-packages/pandas/core/indexing.py:205: SettingWithCopyWarning: \n",
      "A value is trying to be set on a copy of a slice from a DataFrame\n",
      "\n",
      "See the caveats in the documentation: http://pandas.pydata.org/pandas-docs/stable/user_guide/indexing.html#returning-a-view-versus-a-copy\n",
      "  self._setitem_with_indexer(indexer, value)\n"
     ]
    },
    {
     "name": "stdout",
     "output_type": "stream",
     "text": [
      "[2020-09-09 12:13:35,702] {loghandler.py:20} MainThread INFO in loghandler: Processing of get_hdfs completed in 0.5126080513000488/4, average per page 0.1281520128250122\n",
      "[2020-09-09 12:13:35,862] {loghandler.py:20} MainThread INFO in loghandler: Processing of get_vdfs completed in 0.15936803817749023/4, average per page 0.03984200954437256\n",
      "[2020-09-09 12:13:36,318] {loghandler.py:20} MainThread INFO in loghandler: Processing of get_hdfs completed in 0.45418715476989746/4, average per page 0.11354678869247437\n",
      "[2020-09-09 12:13:36,328] {loghandler.py:20} MainThread INFO in loghandler: UnderLineDetection successfully completed\n"
     ]
    },
    {
     "name": "stderr",
     "output_type": "stream",
     "text": [
      "/Users/kd/miniconda3/envs/cv3/lib/python3.5/site-packages/pandas/core/frame.py:7138: FutureWarning: Sorting because non-concatenation axis is not aligned. A future version\n",
      "of pandas will change to not sort by default.\n",
      "\n",
      "To accept the future behavior, pass 'sort=False'.\n",
      "\n",
      "To retain the current behavior and silence the warning, pass 'sort=True'.\n",
      "\n",
      "  sort=sort,\n"
     ]
    },
    {
     "name": "stdout",
     "output_type": "stream",
     "text": [
      "[2020-09-09 12:13:36,476] {loghandler.py:20} MainThread INFO in loghandler: Processing of unify_child_text_blocks completed in 0.1467418670654297/4, average per page 0.03668546676635742\n",
      "[2020-09-09 12:13:36,477] {loghandler.py:20} MainThread INFO in loghandler: tesseract ocr started  ===>\n",
      "/Users/kd/Workspace/project/anuvaad/anuvaad-etl/anuvaad-extractor/block-merger/src/notebooks/sample-data/input/Madras_HC_02_c6f0ca48-f267-11ea-b166-acde48001122/images/Madras_HC_020001-1.jpg\n",
      " ]\n",
      " BEFORE THE MADURAI BENCH OF MADRAS HIGH COURT\n",
      " Malaisamy,\n",
      " Inspector of Police,\n",
      " Thallakulam Police Station,\n",
      " Thallakulam, Madurai.\n",
      " : Respondent\n",
      " PRAYER: Contempt Petition filed under Section व4 of the Contempt of Court Act, to punish the contemnor / respondent herein for committing grave contempt and gross disobedience of the order passed by this Court in Crl.0.P.(MD)No0.l0790 of 20l9 dated 3.07.20709.\n",
      " For Petitioner\n",
      " : Mr.M.M.Manivel Pandian\n",
      " DATED: 26.02.2020\n",
      " For Respondent\n",
      " : Mr.S.Chandrasekar,\n",
      " Additional Public Prosecutor.\n",
      " CORAM:\n",
      " THE HONOURABLE MR.JUSTICE A.D.JAGADISH CHANDIRA\n",
      " Cont. P(MD)No.l23 of 2020\n",
      " in\n",
      " Crl.O0.P.(MD)No0.0790 of 20l9\n",
      " R.Jayaraj\n",
      " : Petitioner\n",
      " Vs.\n",
      " http://www. judis.nic.in\n",
      "/Users/kd/Workspace/project/anuvaad/anuvaad-etl/anuvaad-extractor/block-merger/src/notebooks/sample-data/input/Madras_HC_02_c6f0ca48-f267-11ea-b166-acde48001122/images/Madras_HC_020001-2.jpg\n",
      " 2.0\n",
      " ORDER\n",
      " and file a final report within a period of one month from the date of receipt of copy of the order. The order copy was received by the respondent police on 05.2.20l9 and immediately, steps were taken by respondent police and investigation has been completed and final report has been filed referring the case as mistake of fact. He would submit that RCS notice was also pasted on the house of the petitioner and that the order of this Court has been complied with. However, there was a delay on the part of the respondent police. He would submit that the delay is not willful and that the respondent police expressed his remorse for the delay in filing final\n",
      " This contempt petition has been filed to punish the contemnor\n",
      " report and he seeks apologies of this Court.\n",
      " / respondent herein for committing grave contempt and gross disobedience of the order passed by this Court in Crl.O.P.(MD) No0.0790 of 209 dated 3.07.209.\n",
      " 2.Contemnor is present before this Court, today. The learned Additional Public Prosecutor appearing for the respondent would submit that this Court by an order dated 3.07.20l9, had directed the police to complete the investigation in Crime No.223 of 209\n",
      " http://www. judis.nic.in\n",
      "/Users/kd/Workspace/project/anuvaad/anuvaad-etl/anuvaad-extractor/block-merger/src/notebooks/sample-data/input/Madras_HC_02_c6f0ca48-f267-11ea-b166-acde48001122/images/Madras_HC_020001-3.jpg\n",
      " 3.0\n",
      " 3.Apologies accepted. In view of the above, the alleged delay\n",
      " l.Malaisamy,\n",
      " Inspector of Police,\n"
     ]
    }
   ],
   "source": [
    "app_context.application_context = dict({'task_id': 'BM-DUMMY'})\n",
    "pdf_path   = os.path.join(input_dir, filename)\n",
    "\n",
    "data       = main.DocumentStructure(app_context, filename, \"hi\", base_dir=input_dir)"
   ]
  },
  {
   "cell_type": "code",
   "execution_count": 67,
   "metadata": {},
   "outputs": [],
   "source": [
    "def draw_bbox_image(draw,page_data):\n",
    "    \n",
    "    if page_data['images']:\n",
    "        try:\n",
    "            for image_block in page_data['images']:\n",
    "                    top     = image_block[\"text_top\"];         left   = image_block[\"text_left\"];  \n",
    "                    bottom  = top+image_block[\"text_height\"];  right  = left+image_block[\"text_width\"]\n",
    "                    draw.rectangle(((left, top), (right,bottom)), outline='green')\n",
    "            return draw\n",
    "        except:\n",
    "            pass"
   ]
  },
  {
   "cell_type": "code",
   "execution_count": 68,
   "metadata": {},
   "outputs": [],
   "source": [
    "def draw_bbox_table(draw,page_data):\n",
    "    \n",
    "    if page_data['tables']:\n",
    "        try:\n",
    "            for table_block in page_data['tables']:\n",
    "                    top     = table_block[\"text_top\"];         left   = table_block[\"text_left\"];  \n",
    "                    bottom  = top+table_block[\"text_height\"];  right  = left+table_block[\"text_width\"]\n",
    "                    draw.rectangle(((left, top), (right,bottom)), outline='blue')\n",
    "            return draw\n",
    "        except:\n",
    "            pass"
   ]
  },
  {
   "cell_type": "code",
   "execution_count": 69,
   "metadata": {},
   "outputs": [],
   "source": [
    "def draw_bbox_text(draw,page_data):\n",
    "    \n",
    "    if page_data['text_blocks']:\n",
    "        try:\n",
    "            for text_block in page_data['text_blocks']:\n",
    "                top     = text_block[\"text_top\"];         left   = text_block[\"text_left\"];  \n",
    "                bottom  = top+text_block[\"text_height\"];  right  = left+text_block[\"text_width\"]\n",
    "                draw.rectangle(((left, top), (right,bottom)), outline='red')\n",
    "            return draw\n",
    "        except:\n",
    "            pass"
   ]
  },
  {
   "cell_type": "code",
   "execution_count": 70,
   "metadata": {},
   "outputs": [],
   "source": [
    "def draw_bbox_pdf(data,image_files,save_path):\n",
    "    for page_no in range(len(data)):\n",
    "        image_path = sorted(image_files)[page_no]\n",
    "        page_data = data[page_no]\n",
    "        page_width = page_data['page_width']; page_height = page_data['page_height']\n",
    "        image  = Image.open(image_path)\n",
    "        image  = image.resize((page_width, page_height))\n",
    "        draw   = ImageDraw.Draw(image)\n",
    "        draw  = draw_bbox_text(draw,page_data)\n",
    "        draw  = draw_bbox_image(draw,page_data)\n",
    "        draw  = draw_bbox_table(draw,page_data)\n",
    "        save_filepath = os.path.join(save_path,image_path.split('images/')[1])\n",
    "        image.save(save_filepath)\n",
    "            "
   ]
  },
  {
   "cell_type": "code",
   "execution_count": 71,
   "metadata": {},
   "outputs": [],
   "source": [
    "draw_bbox_pdf(response,pdf_image_paths,save_path)"
   ]
  },
  {
   "cell_type": "code",
   "execution_count": 10,
   "metadata": {},
   "outputs": [],
   "source": []
  },
  {
   "cell_type": "code",
   "execution_count": 11,
   "metadata": {},
   "outputs": [],
   "source": [
    "attr = ''\n",
    "\n"
   ]
  },
  {
   "cell_type": "code",
   "execution_count": null,
   "metadata": {},
   "outputs": [],
   "source": []
  },
  {
   "cell_type": "code",
   "execution_count": null,
   "metadata": {},
   "outputs": [],
   "source": []
  }
 ],
 "metadata": {
  "kernelspec": {
   "display_name": "Python 3.5.6 64-bit ('cv3': conda)",
   "language": "python",
   "name": "python35664bitcv3conda56b31b492c17456d86703f6408b0e697"
  },
  "language_info": {
   "codemirror_mode": {
    "name": "ipython",
    "version": 3
   },
   "file_extension": ".py",
   "mimetype": "text/x-python",
   "name": "python",
   "nbconvert_exporter": "python",
   "pygments_lexer": "ipython3",
   "version": "3.5.6"
  }
 },
 "nbformat": 4,
 "nbformat_minor": 2
}
